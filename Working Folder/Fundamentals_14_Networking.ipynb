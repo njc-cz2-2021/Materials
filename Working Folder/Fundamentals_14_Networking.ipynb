{
 "cells": [
  {
   "source": [
    "# Learning Objectives\n",
    "\n",
    "- [ ] 1.2.5 Compare and describe the efficiencies of the sort and search algorithms using Big-$O$ notation for time complexity (worst case). Exclude: space complexity\n",
    "\n",
    "\n",
    "# References\n",
    "\n",
    "1. Leadbetter, C., Blackford, R., & Piper, T. (2012). Cambridge international AS and A level computing coursebook. Cambridge: Cambridge University Press.\n",
    "2. https://www.sparknotes.com/cs/sorting/bubble/section1/#:~:text=The%20total%20number%20of%20comparisons,since%20no%20swaps%20were%20made.\n",
    "3. https://visualgo.net/en\n",
    "4. https://www.youtube.com/watch?v=o9nW0uBqvEo"
   ],
   "cell_type": "markdown",
   "metadata": {}
  },
  {
   "source": [
    "Assume that these steps take constant time\n",
    "- mathematical operations\n",
    "- comparisons\n",
    "- assignments\n",
    "- accessing objects in memory\n",
    "then count the number of operations executed as function of size of input"
   ],
   "cell_type": "markdown",
   "metadata": {}
  },
  {
   "source": [
    "# 3 ops\n",
    "def c_to_f(c):\n",
    "    return c*9.0/5 +32\n",
    "\n",
    "# 1+3x ops\n",
    "def mysum(x):\n",
    "    total = 0\n",
    "    for i in range (x+1):\n",
    "        total += i\n",
    "    return total"
   ],
   "cell_type": "code",
   "metadata": {},
   "execution_count": null,
   "outputs": []
  },
  {
   "source": [
    "- best case : minimum running time over all possible inputs of a given size\n",
    "- average case : average running time over all possible inputs of a given size\n",
    "- worst case : maximum running time over all possible inputs of a given size"
   ],
   "cell_type": "markdown",
   "metadata": {}
  },
  {
   "source": [
    "- ignore additive constants\n",
    "- ignore multiplicative constants\n",
    "- focus on dominant terms"
   ],
   "cell_type": "markdown",
   "metadata": {}
  },
  {
   "source": [
    "- n^2+2n+2\n",
    "- n^2+10000n+3^10000\n",
    "- \\log(n)+n+4\n",
    "- 0.0001*n*\\log(n)+300n\n",
    "- 2n^30+3^n"
   ],
   "cell_type": "markdown",
   "metadata": {}
  },
  {
   "source": [
    "Law of addition for $O()$\n",
    "- used with *sequential* statements"
   ],
   "cell_type": "markdown",
   "metadata": {}
  },
  {
   "cell_type": "code",
   "execution_count": null,
   "metadata": {},
   "outputs": [],
   "source": [
    "#O(n^2)\n",
    "for i in range(n):\n",
    "    print('a')\n",
    "for j in range(n*n):\n",
    "    print('b')"
   ]
  },
  {
   "source": [
    "Law of multiplication for $O()$\n",
    "- used with *nested* statements/loops"
   ],
   "cell_type": "markdown",
   "metadata": {}
  },
  {
   "cell_type": "code",
   "execution_count": null,
   "metadata": {},
   "outputs": [],
   "source": [
    "#O(n^2)\n",
    "for i in range(n):\n",
    "    for j in range(n):\n",
    "        print('a')"
   ]
  },
  {
   "source": [
    "- O(1)\n",
    "- O(\\log n)\n",
    "- O(n)\n",
    "- O(n \\log n)\n",
    "- O(n^c)\n",
    "- O(c^n)"
   ],
   "cell_type": "markdown",
   "metadata": {}
  },
  {
   "source": [
    "# 10.1 Search Algorithm\n",
    "\n",
    "A search algorithm is an algorithm to retrieve information from some data structure. Some examples include:\n",
    "- Finding the maximum or minimum value in a list or array\n",
    "- Checking to see if a given value is present in a set of values\n",
    "- Retrieving a record from a database"
   ],
   "cell_type": "markdown",
   "metadata": {}
  },
  {
   "source": [
    "## 10.1.1 Linear Search\n",
    "\n",
    "A **linear search**, also called **serial** or **sequential** searches an item in a given array sequentially till the end of the collection. It does not require the data to be in any particular order. \n",
    "\n",
    "To find the position of a particular value involves looking at each value in turn – starting with the first – and comparing it with the value you are looking for. When the value is found, you need to note its position. You must also be able to report the special case that a value has not been found. This last part only becomes apparent when the search has reached the final data item without finding the required value.\n",
    "\n",
    "### Example\n",
    "\n",
    "In this example, you have the array `[10,14,19,26,27,31,33,35,42,44]` and you are looking for the value `33` in the array.\n",
    "\n",
    "<center>\n",
    "<img src=\"images/mario_2.jpg\" width=\"250\" align=\"center\"/>\n",
    "</center>\n",
    "\n",
    "The pseudocode for linear search function is given below. It returns the index of the searched value in the array if it exists. In the case that the value is not in the array, the function returns `-1`."
   ],
   "cell_type": "markdown",
   "metadata": {}
  },
  {
   "cell_type": "code",
   "execution_count": null,
   "metadata": {},
   "outputs": [],
   "source": [
    "FUNCTION LINEARSEARCH(A: ARRAY of INTEGER, t: INTEGER) RETURNS INTEGER\n",
    "    DECLARE index: INTEGER\n",
    "\tindex ← -1\n",
    "\tFOR i = 1 TO A.SIZE\n",
    "\t\tIF A[i] = t THEN\n",
    "\t\t\tindex ← i\n",
    "\t\t\tBREAK\n",
    "\t\tENDIF\n",
    "\tENDFOR\n",
    "\tRETURN index\n",
    "ENDFUNCTION"
   ]
  },
  {
   "source": [
    "### Exercise\n",
    "\n",
    "Implement a function `linear_search(array, val)` which searches the list `array` for a value `val` using the linear search algorithm.\n",
    "\n",
    "Test your function with the following list\n",
    "> `\n",
    "[39, 96, 51, 20, 42, 42, 74, 28, 66, 16, 10, 86, 6, 43, 67, 98, 32, 73, 99, 7, 80, 88, 57, 83, 1, 64, 33, 38, 38, 8, 68, 38, 42, 80, 71, 82, 25, 29, 2, 85, 2, 96, 34, 14, 9, 65, 50, 63, 99, 94, 5, 93, 84, 46, 64, 22, 59, 31, 74, 13, 93, 13, 98, 93]`\n",
    "\n",
    "with the values `9` and `2`. What do you observe for the latter value?"
   ],
   "cell_type": "markdown",
   "metadata": {}
  },
  {
   "cell_type": "code",
   "execution_count": null,
   "metadata": {},
   "outputs": [],
   "source": [
    "#YOUR_CODE_HERE"
   ]
  },
  {
   "source": [
    "In linear search, all items are searched one-by-one to find the required item.\n",
    "\n",
    "If the array has $n$ elements to be compared to,\n",
    "\n",
    "- The best-case lookup to find an item is $1$ comparison, i.e., the item is at the head of the array.\n",
    "- The worst-case lookup to find an item is $n$ comparisons, i.e. the item is at the end of the array.\n",
    "- The average lookup to find an item is approximately $\\frac{n}{2}$ comparisons. \n",
    "\n",
    "Clearly, if $n$ is large,  this can be a very large number of comparisons and the serial search algorithm can take a long time.\n",
    "\n",
    "Consequently, we have for serial search,\n",
    "- Advantage:\n",
    "    - algorithm is straightforward and easy to implement,\n",
    "    - data need not be in any particular order,\n",
    "    - works well if there is a small number of data item.\n",
    "- Disadvantage:\n",
    "    - search can take a long time if value of $n$ is large, i.e. inefficient if there is a large number of data items.\n",
    "\n",
    "o\tVariations:\n",
    "\tSearch target requires a different criteria (not just object existence).\n",
    "\tMust find all instances of target.\n",
    "\tMust find particular instance of target (first, last, etc.).\n",
    "\tMust find object just greater/smaller than target.\n"
   ],
   "cell_type": "markdown",
   "metadata": {}
  },
  {
   "source": [
    "## 10.1.2 Binary Search\n",
    "\n",
    "In the previous section, we looked at linear search where the data is not required to be stored in any particular order. On the other hand, if we know that the data is stored in an ascending order, we can utilize the another algorithm called the **binary search**. \n",
    "\n",
    "Workings of binary search algorithm:\n",
    "- First check the MIDDLE element in the list.\n",
    "- If it is the value we want, we can stop.\n",
    "- If it is HIGHER than the value we want, we repeat the search process with the portion of the list BEFORE the middle element.\n",
    "- If it is LOWER than the value we want, we repeat the search process with the portion of the list AFTER the middle element.\n",
    "\n",
    "Note that  if there is an even number of values in the array, dividing by two gives a whole number and we split the array there. However, if the array consists of an odd number of values we need to find the integer part of it, as an array index must be an integer. \n",
    "\n",
    "The pseudocode for binary search function is given below. It returns the index of the searched value in the array if it exists. In the case that the value is not in the array, the function returns `-1`."
   ],
   "cell_type": "markdown",
   "metadata": {}
  },
  {
   "cell_type": "code",
   "execution_count": null,
   "metadata": {},
   "outputs": [],
   "source": [
    "FUNCTION BinarySearch(A: ARRAY of INTEGER, t: INTEGER) RETURNS INTEGER\n",
    "\tDECLARE start, mid, end: INTEGER\n",
    "\tstart ← 1\n",
    "\tend ← A.SIZE\n",
    "\tWHILE start <= end DO\n",
    "\t\tmid ← (start + end) DIV 2\n",
    "\t\tIF t = A[mid] THEN\n",
    "\t\t\tRETURN mid\n",
    "\t\tENDIF\n",
    "\t\tIF t < A[mid] THEN\n",
    "\t\t\tend ← mid – 1\n",
    "\t\tELSE\n",
    "\t\t\tstart ← mid + 1\n",
    "\t\tENDIF\n",
    "\tENDWHILE\n",
    "\tRETURN -1\n",
    "ENDFUNCTION"
   ]
  },
  {
   "source": [
    "### Exercise\n",
    "\n",
    "Implement a function `binary_search(array, val)` which searches the list `array` for a value `val` using the binary search algorithm described above.\n",
    "\n",
    "Test your function with the following list\n",
    "> `\n",
    "[39, 96, 51, 20, 42, 42, 74, 28, 66, 16, 10, 86, 6, 43, 67, 98, 32, 73, 99, 7, 80, 88, 57, 83, 1, 64, 33, 38, 38, 8, 68, 38, 42, 80, 71, 82, 25, 29, 2, 85, 2, 96, 34, 14, 9, 65, 50, 63, 99, 94, 5, 93, 84, 46, 64, 22, 59, 31, 74, 13, 93, 13, 98, 93]`\n",
    "\n",
    "with the values `9` and `2`."
   ],
   "cell_type": "markdown",
   "metadata": {}
  },
  {
   "cell_type": "code",
   "execution_count": null,
   "metadata": {},
   "outputs": [],
   "source": [
    "#YOUR_CODE_HERE"
   ]
  },
  {
   "source": [
    "If the array has $n$ elements to be compared to,\n",
    "\n",
    "- The best-case lookup to find an item is $1$ comparison, i.e., the item is at the middle of the array.\n",
    "- The worst-case lookup to find an item is approximately $\\log_2{n}$ comparisons."
   ],
   "cell_type": "markdown",
   "metadata": {}
  },
  {
   "cell_type": "code",
   "execution_count": null,
   "metadata": {},
   "outputs": [],
   "source": [
    "#YOUR_CODE_HERE"
   ]
  },
  {
   "source": [
    "Jupyter Notebook provides a magic function `%timeit` and `%%timeit` to time a code execution.\n",
    "* `%timeit` is used to time a single line of statement\n",
    "* `%%timeit` is used to time all codes in a cell. `%%timeit` must be placed at first line of cell. \n",
    "\n",
    "### Exercise \n",
    "Use `%timeit` to time the code executions for both the functions:\n",
    "- `linear_search`,\n",
    "- `binary_search`\n",
    "\n",
    "that you have coded in the previous exercise, using the \n",
    "> `\n",
    "[39, 96, 51, 20, 42, 42, 74, 28, 66, 16, 10, 86, 6, 43, 67, 98, 32, 73, 99, 7, 80, 88, 57, 83, 1, 64, 33, 38, 38, 8, 68, 38, 42, 80, 71, 82, 25, 29, 2, 85, 2, 96, 34, 14, 9, 65, 50, 63, 99, 94, 5, 93, 84, 46, 64, 22, 59, 31, 74, 13, 93, 13, 98, 93]`\n",
    "\n",
    "with the search value `9`."
   ],
   "cell_type": "markdown",
   "metadata": {}
  },
  {
   "cell_type": "code",
   "execution_count": null,
   "metadata": {},
   "outputs": [],
   "source": [
    "#YOUR_CODE_HERE"
   ]
  },
  {
   "source": [
    "# 10.2 Sorting Algorithms\n",
    "\n",
    "Sorting refers to arranging a fixed set of data in a particular order. Sorting orders could be numerical (`1`,`2`, `3`, ...), lexicographical/dictionary (`AA`, `AB`, `AC`, ...) or custom ('Mon', 'Tue', 'Wed', ...).\n",
    "\n",
    "Sorting algorithms specify ways to arrange data in particular ways to put the data in order. In this section, it is assumed that the sorted data is in ascending order."
   ],
   "cell_type": "markdown",
   "metadata": {}
  },
  {
   "source": [
    "## 10.1 Insertion Sort\n",
    "\n",
    "In insertion sort algorithm, we compare each element, termed `key` element, in turn with the elements before it in the array. We then insert the `key` element into its correct position in the array.\n",
    "\n",
    "### Example\n",
    "\n",
    "In this example, the array `[6,5,3,1,8,7,2,4]` is sorted with insertion sort.\n",
    "\n",
    "<center>\n",
    "<img src=\"images/mario_2.jpg\" width=\"250\" align=\"center\"/>\n",
    "</center>\n",
    "\n",
    "The pseudocode for insertion sort function for an array containing integer elements is given below:"
   ],
   "cell_type": "markdown",
   "metadata": {}
  },
  {
   "cell_type": "code",
   "execution_count": null,
   "metadata": {},
   "outputs": [],
   "source": [
    "FUNCTION InsertionSort(A: ARRAY of INTEGER) RETURNS ARRAY of INTEGER\n",
    "\tDECLARE j, temp: INTEGER\n",
    "    FOR i = 2 to A.SIZE\n",
    "        j ← i\n",
    "        WHILE j > 1 AND A[j] < A[j – 1] DO\n",
    "            temp ← A[j]\n",
    "            A[j] ← A[j - 1]\n",
    "            A[j - 1] ← temp\n",
    "            j ← j - 1\n",
    "        ENDWHILE\n",
    "    ENDFOR\n",
    "    RETURN A\n",
    "ENDFUNCTION"
   ]
  },
  {
   "source": [
    "### Exercise\n",
    "\n",
    "Implement a function `insertion_sort(array)` which sorts the list `array` in the ascending order according to the insertion algorithm given above.\n",
    "\n",
    "Test your function with the following list\n",
    "> `\n",
    "[39, 96, 51, 20, 42, 42, 74, 28, 66, 16, 10, 86, 6, 43, 67, 98, 32, 73, 99, 7, 80, 88, 57, 83, 1, 64, 33, 38, 38, 8, 68, 38, 42, 80, 71, 82, 25, 29, 2, 85, 2, 96, 34, 14, 9, 65, 50, 63, 99, 94, 5, 93, 84, 46, 64, 22, 59, 31, 74, 13, 93, 13, 98, 93]`."
   ],
   "cell_type": "markdown",
   "metadata": {}
  },
  {
   "cell_type": "code",
   "execution_count": null,
   "metadata": {},
   "outputs": [],
   "source": [
    "#YOUR_CODE_HERE"
   ]
  },
  {
   "source": [
    "Note:\n",
    "- The outer for-loop in Insertion Sort function always iterates $n-1$ times.\n",
    "- The inner for-loop will make $1 + 2 + 3 ... + (n-1)=\\frac{n(n-1)}{2}$ comparisons in worst case."
   ],
   "cell_type": "markdown",
   "metadata": {}
  },
  {
   "source": [
    "# 10.2 Bubble Sort\n",
    "\n",
    "The next sorting algorithm iterates over an array multiple times. \n",
    "* In each iteration, it takes 2 consecutive elements and compare them. \n",
    "* It swaps the smaller value to the left and larger value to the right.\n",
    "* It repeats until the larger elements \"bubble up\" to the end of the list, and the smaller elements moves to the \"bottom\". This is the reason for the naming of the algorithm.\n",
    "* The right-hand side of the array are sorted. \n",
    "\n",
    "### Example\n",
    "\n",
    "In this example, the array `[6,5,3,1,8,7,2,4]` is sorted with bubble sort.\n",
    "\n",
    "<center>\n",
    "<img src=\"images/mario_2.jpg\" width=\"250\" align=\"center\"/>\n",
    "</center>\n",
    "\n",
    "We see that\n",
    "* For 1st iteration, we need to make $n-1$ comparisons. It will bring the largest value to the extreme right.\n",
    "* For 2nd iteration, we need to make $n-2$ comparisons. It will bring 2nd largest value to the 2nd extreme right.\n",
    "* And so on...\n",
    "\n",
    "Consequently, we need a nested loops to make multiple iterations. \n",
    "\n",
    "The pseudocode for bubble sort function for an array containing integer elements is given below:"
   ],
   "cell_type": "markdown",
   "metadata": {}
  },
  {
   "cell_type": "code",
   "execution_count": null,
   "metadata": {},
   "outputs": [],
   "source": [
    "FUNCTION BubbleSort(A: ARRAY of INTEGER) RETURNS ARRAY of INTEGER\n",
    "    DECLARE swap: BOOLEAN\n",
    "    DECLARE temp: INTEGER\n",
    "    FOR i = 1 to (A.SIZE – 1)\n",
    "        swap ← FALSE\n",
    "        FOR j = 1 to (A.SIZE – i)\n",
    "            IF A[j] > A[j + 1] THEN\n",
    "                temp ← A[j]\n",
    "                A[j] ← A[j + 1]\n",
    "                A[j + 1] ← temp\n",
    "                swap ← TRUE\n",
    "            ENDIF\n",
    "        ENDFOR\n",
    "        IF NOT swap THEN\n",
    "            BREAK\n",
    "        ENDIF\n",
    "    ENDFOR\n",
    "    RETURN A\n",
    "ENDFUNCTION\n"
   ]
  },
  {
   "source": [
    "### Exercise\n",
    "\n",
    "Implement a function `bubble_sort(array)` which sorts the list `array` in the ascending order according to the bubble algorithm given above.\n",
    "\n",
    "Test your function with the following list\n",
    "> `\n",
    "[39, 96, 51, 20, 42, 42, 74, 28, 66, 16, 10, 86, 6, 43, 67, 98, 32, 73, 99, 7, 80, 88, 57, 83, 1, 64, 33, 38, 38, 8, 68, 38, 42, 80, 71, 82, 25, 29, 2, 85, 2, 96, 34, 14, 9, 65, 50, 63, 99, 94, 5, 93, 84, 46, 64, 22, 59, 31, 74, 13, 93, 13, 98, 93]`."
   ],
   "cell_type": "markdown",
   "metadata": {}
  },
  {
   "cell_type": "code",
   "execution_count": null,
   "metadata": {},
   "outputs": [],
   "source": [
    "#YOUR_CODE_HERE"
   ]
  },
  {
   "source": [
    "Note:\n",
    "- The amount of comparisons in Bubble Sort algorithgm is $(n - 1) + (n - 2) + ... + 1=\\frac{n(n-1)}{2}$ comparisons,\n",
    "- Best case is when the array is already sorted and bubble sort will terminate after the first iterations. \n",
    "- Bubble sort is also efficient when one random element needs to be sorted into a sorted array, provided that new element is placed at the beginning and not at the end. \n",
    "- The absolute worst case for bubble sort is when the smallest element of the array is the last element in the end of the array. Because in each iteration only the largest unsorted element gets put in its proper location, when the smallest element is at the end, it will have to be swapped each time through the array, and it wont get to the front of the list until all $n$ iterations have occurred."
   ],
   "cell_type": "markdown",
   "metadata": {}
  },
  {
   "source": [
    "# 10.3 Quicksort\n",
    "\n",
    "Quicksort is a sorting technique based on divide and conquer technique. Quicksort first selects an element, termed the `pivot`, and partitions the array around the pivot, putting every smaller element into a low array and every larger element into a high array. \n",
    "\n",
    "* The `pivot` element can selected randomly, but one way to select the pivot is to use the element in the middle of the array as the pivot\n",
    "* The first pass partitions data into 3 sub-arrays, `lesser` (less than pivot), `equal` (equal to pivot) and `greater` (greater than pivot).\n",
    "* The process repeats for `lesser` array and `greater` array.\n",
    "\n",
    "<center>\n",
    "<img src=\"images/mario_2.jpg\" width=\"250\" align=\"center\"/>\n",
    "</center>\n",
    "\n",
    "The pseudocode for quicksort function for an array containing $N$ elements is given below:"
   ],
   "cell_type": "markdown",
   "metadata": {}
  },
  {
   "cell_type": "code",
   "execution_count": null,
   "metadata": {},
   "outputs": [],
   "source": [
    "Quicksort(A,p,r) {\n",
    "    if (p < r) {\n",
    "       q <- Partition(A,p,r)\n",
    "       Quicksort(A,p,q)\n",
    "       Quicksort(A,q+1,r)\n",
    "    }\n",
    "}\n",
    "\n",
    "\n",
    "\n",
    "Partition(A,p,r)\n",
    "    x <- A[p]\n",
    "    i <- p-1\n",
    "    j <- r+1\n",
    "    while (True) {\n",
    "        repeat\n",
    "            j <- j-1\n",
    "        until (A[j] <= x)\n",
    "        repeat\n",
    "            i <- i+1\n",
    "        until (A[i] >= x)\n",
    "        if (i A[j]\n",
    "        else \n",
    "            return(j)\n",
    "    "
   ]
  },
  {
   "cell_type": "code",
   "execution_count": null,
   "metadata": {},
   "outputs": [],
   "source": [
    "PROCEDURE QuickSort(MyList, LB, UB)\n",
    "    IF LB <> UB THEN\n",
    "    #there is more than one element in MyList\n",
    "        LeftP ← LB #Left pointer\n",
    "        RightP ← UB #Right pointer\n",
    "        REPEAT\n",
    "            WHILE LeftP <> RightP AND MyList[LeftP] < MyList[RightP] DO\n",
    "            #move right pointer left\n",
    "                RightP ← RightP — l\n",
    "            ENDWHILE\n",
    "            IF LeftP <> RightP THEN \n",
    "                swap MyList[LeftP] and MyList[J]\n",
    "            WHILE LeftP <> RightP AND MyList[LeftP] < MyList[RightP] DO\n",
    "            #move left pointer right\n",
    "                LeftP ← LeftP + 1\n",
    "            ENDWHILE\n",
    "            IF LeftP <> RightP THEN \n",
    "                swap MyList[LeftP] and MyList[RightP]\n",
    "        UNTIL LeftP = RightP\n",
    "        #value now in correct position so sort left sub-list\n",
    "        QuickSort(MyList, LB, LeftP — 1)\n",
    "        #now sort right sub-list\n",
    "        QuickSort(MyList, LeftP + l, UB)\n",
    "    ENDIF\n",
    "END PROCEDURE"
   ]
  },
  {
   "source": [
    "### Exercise\n",
    "\n",
    "Implement a function `quicksort(array)` which sorts the list `array` in the ascending order according to the quicksort algorithm given above.\n",
    "\n",
    "Test your function with the following list\n",
    "> `\n",
    "[39, 96, 51, 20, 42, 42, 74, 28, 66, 16, 10, 86, 6, 43, 67, 98, 32, 73, 99, 7, 80, 88, 57, 83, 1, 64, 33, 38, 38, 8, 68, 38, 42, 80, 71, 82, 25, 29, 2, 85, 2, 96, 34, 14, 9, 65, 50, 63, 99, 94, 5, 93, 84, 46, 64, 22, 59, 31, 74, 13, 93, 13, 98, 93]`."
   ],
   "cell_type": "markdown",
   "metadata": {}
  },
  {
   "cell_type": "code",
   "execution_count": null,
   "metadata": {},
   "outputs": [],
   "source": [
    "#YOUR_CODE_HERE"
   ]
  },
  {
   "source": [
    "Note: \n",
    "- The worst case scenario is when the smallest or largest element is always selected as the pivot. This would create partitions of size $n-1$, causing recursive calls $n-1$ times.\n",
    "- With a good pivot, the input list is partitioned in linear time, O(n), and this process repeats recursively an average of $\\log_2{n}$ times. \n",
    "- This leads to a final complexity of $O(n \\log_2n)$.\n",
    "- The above implementation of the quicksort algorithm does not sore “in place”, and has a high space complexity. In order to overcome this, you need to change the algorithm slightly – i.e., use a variant that does not create new linked lists to store elements greater/less than the pivot"
   ],
   "cell_type": "markdown",
   "metadata": {}
  },
  {
   "source": [
    "# 10.4 Merge Sort\n",
    "\n",
    "Similar to Quicksort, Merge sort is a sorting technique based on divide and conquer technique. It first divides the array into equal halves and then combines them in a sorted manner.\n",
    "- if it is only one element in the list it is already sorted, return.\n",
    "- divide the list recursively into two halves until it can no more be divided.\n",
    "- merge the smaller lists into new list in sorted order.\n",
    "\n",
    "The important subroutine `merge` : Given two sorted array, $A$ and $B$ of size $n_1$ and $n_2$, \n",
    "\n",
    "The pseudocode for merge sort function for an array containing $N$ elements is given below:"
   ],
   "cell_type": "markdown",
   "metadata": {}
  },
  {
   "cell_type": "code",
   "execution_count": null,
   "metadata": {},
   "outputs": [],
   "source": [
    "function merge_sort(list m) is\n",
    "    // Base case. A list of zero or one elements is sorted, by definition.\n",
    "    if length of m ≤ 1 then\n",
    "        return m\n",
    "\n",
    "    // Recursive case. First, divide the list into equal-sized sublists\n",
    "    // consisting of the first half and second half of the list.\n",
    "    // This assumes lists start at index 0.\n",
    "    var left := empty list\n",
    "    var right := empty list\n",
    "    for each x with index i in m do\n",
    "        if i < (length of m)/2 then\n",
    "            add x to left\n",
    "        else\n",
    "            add x to right\n",
    "\n",
    "    // Recursively sort both sublists.\n",
    "    left := merge_sort(left)\n",
    "    right := merge_sort(right)\n",
    "\n",
    "    // Then merge the now-sorted sublists.\n",
    "    return merge(left, right)"
   ]
  },
  {
   "source": [
    "Note: \n",
    "- In sorting $n$ objects, merge sort has an average and worst-case performance of O(n log n). If the running time of merge sort for a list of length n is T(n), then the recurrence relation T(n) = 2T(n/2) + n follows from the definition of the algorithm (apply the algorithm to two lists of half the size of the original list, and add the n steps taken to merge the resulting two lists). The closed form follows from the master theorem for divide-and-conquer recurrences.\n",
    "\n",
    "https://en.wikipedia.org/wiki/Master_theorem_(analysis_of_algorithms)"
   ],
   "cell_type": "markdown",
   "metadata": {}
  },
  {
   "source": [
    "### Exercise\n",
    "\n",
    "Implement a function `merge_sort(array)` which sorts the list `array` in the ascending order according to the merge sort algorithm given above.\n",
    "\n",
    "Test your function with the following list\n",
    "> `\n",
    "[39, 96, 51, 20, 42, 42, 74, 28, 66, 16, 10, 86, 6, 43, 67, 98, 32, 73, 99, 7, 80, 88, 57, 83, 1, 64, 33, 38, 38, 8, 68, 38, 42, 80, 71, 82, 25, 29, 2, 85, 2, 96, 34, 14, 9, 65, 50, 63, 99, 94, 5, 93, 84, 46, 64, 22, 59, 31, 74, 13, 93, 13, 98, 93]`."
   ],
   "cell_type": "markdown",
   "metadata": {}
  },
  {
   "cell_type": "code",
   "execution_count": null,
   "metadata": {},
   "outputs": [],
   "source": [
    "#YOUR_CODE_HERE"
   ]
  }
 ],
 "metadata": {
  "language_info": {
   "codemirror_mode": {
    "name": "ipython",
    "version": 3
   },
   "file_extension": ".py",
   "mimetype": "text/x-python",
   "name": "python",
   "nbconvert_exporter": "python",
   "pygments_lexer": "ipython3",
   "version": "3.8.3"
  },
  "orig_nbformat": 2,
  "kernelspec": {
   "name": "python383jvsc74a57bd01d8a5bbb0756dea561c5110081a5788c97ee82690e858540714922886ca24d79",
   "display_name": "Python 3.8.3 64-bit ('base': conda)"
  }
 },
 "nbformat": 4,
 "nbformat_minor": 2
}