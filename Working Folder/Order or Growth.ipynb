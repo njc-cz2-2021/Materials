{
 "cells": [
  {
   "cell_type": "markdown",
   "metadata": {
    "slideshow": {
     "slide_type": "slide"
    }
   },
   "source": [
    "# Order of Growth\n",
    "\n",
    "Objective: Understand order of growth in time and space"
   ]
  },
  {
   "cell_type": "markdown",
   "metadata": {
    "slideshow": {
     "slide_type": "slide"
    }
   },
   "source": [
    "## 1. Order or Growth in Time & Space\n",
    "\n",
    "In computer science, we need to analyze and describe the performance of different algorithms. By comparing their performance, we can choose suitable algorithm for the problem we want to solve. For example, there are different algorithms to sort a list, Merge Sort, Insertion Sort, Quick Sort, Bubble Sort etc, which algorithm performs better for a particular problem?\n",
    "\n",
    "How to quantify the performance of an algorithm? They are commonly measured by\n",
    "\n",
    "* **Time Cost:** how long does an algorithm take to complete the task? \n",
    "* **Space Cost:** how much memory does an algorithm need?\n",
    "\n",
    "\n",
    "### Order of Growth\n",
    "\n",
    "Instead of concerning **<s>how fast/slow</s>** an algorithm runs, we care about **how scalable** the algorithm is, i.e. how <u>time cost and space cost</u> of an algorithm **changes with respect to its input size**. \n",
    "\n",
    "This is called **order of growth** of an algorithm. Note:\n",
    "* It provides only a **rough estimate** of the behavior of a process.\n",
    "* It is only meaningful when input size become large."
   ]
  },
  {
   "cell_type": "markdown",
   "metadata": {},
   "source": [
    "### Asymtotic Analysis\n",
    "\n",
    "The process of analyzing order of grwoth is called **Asymptotic analysis**. \n",
    "\n",
    "There can be 3 types of measurement:\n",
    "* Best Case − Minimum time/memory required for execution.\n",
    "* Average Case − Average time/memory required for execution.\n",
    "* Worst Case − Maximum time/memory required for execution.\n",
    "\n",
    "### Asymtotic Notations\n",
    "\n",
    "It is common to use following 3 asymptotic notations to denote the time & space complexity of an algorithm.\n",
    "* **Ο(n) Notation**: express the upper bound (worst case).\n",
    "* **Ω(n) Notation**: express the lower bound (best case).\n",
    "* **θ(n) Notation**: express both the lower bound and the upper bound (best and worst cases).\n",
    "\n",
    "Ο(n) Notation | Ω(n) Notation | θ(n) Notation \n",
    "- | - | -\n",
    "<img src=\"./images/notation-o.jpg\" alt=\"Count Down\" style=\"width: 150px;\"/> | <img src=\"./images/notation-omega.jpg\" alt=\"Count Down\" style=\"width: 150px;\"/> | <img src=\"./images/notation-theta.jpg\" alt=\"Count Down\" style=\"width: 150px;\"/>"
   ]
  },
  {
   "cell_type": "markdown",
   "metadata": {
    "slideshow": {
     "slide_type": "slide"
    }
   },
   "source": [
    "## 2. Big O Notation: O(n)\n",
    "\n",
    "**Big-O** `O(n)` notation is used to classify the **worst-case** performance of an algorithm with respect to input `n`. \n",
    "\n"
   ]
  },
  {
   "cell_type": "code",
   "execution_count": 2,
   "metadata": {},
   "outputs": [
    {
     "data": {
      "image/jpeg": "[encoded data removed]",
      "text/html": [
       "\n",
       "        <iframe\n",
       "            width=\"893\"\n",
       "            height=\"502\"\n",
       "            src=\"https://www.youtube.com/embed/MyeV2_tGqvw\"\n",
       "            frameborder=\"0\"\n",
       "            allowfullscreen\n",
       "        ></iframe>\n",
       "        "
      ],
      "text/plain": [
       "<IPython.lib.display.YouTubeVideo at 0x200c64472b0>"
      ]
     },
     "execution_count": 2,
     "metadata": {},
     "output_type": "execute_result"
    }
   ],
   "source": [
    "from IPython.display import YouTubeVideo\n",
    "YouTubeVideo(id='MyeV2_tGqvw', width=893, height=502)"
   ]
  },
  {
   "cell_type": "markdown",
   "metadata": {},
   "source": [
    "### Growth Function\n",
    "\n",
    "**Growth Function** is an equation showing the time or space complexity relative to the problem size, input size.\n",
    "\n",
    "Considering following growth function, where `f(n)` denotes complexity and `n` is problem size.\n",
    "```\n",
    "f(n) = 2n^2 + 4n + 6\n",
    "```\n",
    "\n",
    "* There are 3 terms in the equation\n",
    "* As n increases, `2n^2` contribute most to the increment of `f(n)`\n",
    "* The `2n^2` is the **dominant term** which detemrines the `asyntotic complxity` of the algorithm\n",
    "* The above funcion has **order of growth** of `O(n^2)`\n",
    "\n",
    "\n",
    "### Common Steps of Analysis\n",
    "\n",
    "1. Get rid of constants and coefficients\n",
    "2. Combine exponents and find larger exponent term which scales faster"
   ]
  },
  {
   "cell_type": "markdown",
   "metadata": {},
   "source": [
    "### Common Notation Values\n",
    "\n",
    "Following table shows common notation values in increasing complexity.\n",
    "\n",
    "Name | Notation\n",
    "- | -\n",
    "Constant |\tΟ(1)\n",
    "Logarithmic\t|\tΟ(log n)\n",
    "Linear\t|\tΟ(n)\n",
    "Log Linear\t|\tΟ(n log n)\n",
    "Quadratic\t|\tΟ(n^2)\n",
    "Cubic\t|\tΟ(n^3)\n",
    "Exponential\t|\t2^Ο(n)\n",
    "\n",
    "<img src=\"./images/order-of-growth-2.png\" alt=\"Order of Growth\" style=\"width:700px;\"/>"
   ]
  },
  {
   "cell_type": "markdown",
   "metadata": {},
   "source": [
    "### <u>Practice</u>\n",
    "\n",
    "Find the big O notation of following equations:\n",
    "\n",
    "```\n",
    "g(n) = 1000*n^2\n",
    "g(n) = 5*n^2 + 25n + 5000\n",
    "g(n) = 5*n^2*25n + 5000\n",
    "```"
   ]
  },
  {
   "cell_type": "markdown",
   "metadata": {},
   "source": [
    "### Common Rules in Using Big O\n",
    "\n",
    "Some rules which you can apply during code analysis:\n",
    "\n",
    "* assignment statements and if statements that are only executed once regardless of the size of the problem are O(1)\n",
    "* a simple loop from 0 to n (with no internal loops), contributes O(n) (linear complexity)\n",
    "* a nested loop of the same type (or bounded by the first loop parameter), gives O(n^2) (quadratic complexity)\n",
    "* a loop in which the controlling parameter is divided by two at each step (and which terminates when it reaches 1), gives O(log n) (logarithmic complexity)\n",
    "* A loop with a not-O(1) execution inside, simply multiplies the complexity of the body of the loop, by the number of times the loop will execute\n",
    "* When dealing with multiple statements, add them up"
   ]
  },
  {
   "cell_type": "markdown",
   "metadata": {
    "slideshow": {
     "slide_type": "slide"
    }
   },
   "source": [
    "## 3. Code Examples of Time Complexity"
   ]
  },
  {
   "cell_type": "markdown",
   "metadata": {
    "slideshow": {
     "slide_type": "slide"
    }
   },
   "source": [
    "### Constant Complexity: O(1)\n",
    "\n",
    "Complexity of the program remains constant regardless of the number of inputs.\n",
    "\n",
    "**Try Code:**\n",
    "```python\n",
    "def get_first(items):\n",
    "    result = items[0]\n",
    "    return result\n",
    "\n",
    "get_first(range(100))  \n",
    "```"
   ]
  },
  {
   "cell_type": "code",
   "execution_count": null,
   "metadata": {
    "slideshow": {
     "slide_type": "slide"
    }
   },
   "outputs": [],
   "source": []
  },
  {
   "cell_type": "markdown",
   "metadata": {
    "slideshow": {
     "slide_type": "slide"
    }
   },
   "source": [
    "### Linear Complexity: O(n)\n",
    "\n",
    "O(N) describes an algorithm whose performance will grow linearly and in direct proportion to the size of the input data set.\n",
    "\n",
    "In following example, function may return earlier if a match is found early. But for big O notation, it always assumes the upper limit of the algorithm.\n",
    "\n",
    "**Try Code:**\n",
    "```python\n",
    "def linear_find(items, x):\n",
    "    count = 0\n",
    "    for idx,item in enumerate(items):\n",
    "        count = count + 1\n",
    "        if item == x:\n",
    "            return idx, count\n",
    "    return -1, count\n",
    "\n",
    "linear_find(range(100), 99)\n",
    "```"
   ]
  },
  {
   "cell_type": "code",
   "execution_count": null,
   "metadata": {},
   "outputs": [],
   "source": []
  },
  {
   "cell_type": "markdown",
   "metadata": {},
   "source": [
    "### Logarithmic Complexity: O(logn)\n",
    "\n",
    "In following binary search example, the data set is halfed in each iteration. \n",
    "\n",
    "**Try Code:**\n",
    "```python\n",
    "def binary_find(items, x):\n",
    "    lo, hi = 0, len(items) - 1\n",
    "    count = 0\n",
    "    while lo <= hi:\n",
    "        count = count + 1\n",
    "        mid = (lo + hi) // 2\n",
    "        if items[mid] < x:\n",
    "            lo = mid + 1\n",
    "        elif x < items[mid]:\n",
    "            hi = mid - 1\n",
    "        else:\n",
    "            return mid, count\n",
    "    return None, count\n",
    "\n",
    "binary_find(range(100), 99)\n",
    "```"
   ]
  },
  {
   "cell_type": "code",
   "execution_count": null,
   "metadata": {},
   "outputs": [],
   "source": []
  },
  {
   "cell_type": "markdown",
   "metadata": {},
   "source": [
    "### Quadratic Complexity O(n^2)\n",
    "\n",
    "Quadratic complexity indicates its performance is directly proportional to the square of the size of the input data. This is common with algorithms that involve **nested iterations** over the data set.\n",
    "\n",
    "**Try Code:**\n",
    "```python\n",
    "def mult_subtable(n):\n",
    "    count = 0\n",
    "    for i in range(1,n+1):\n",
    "        for j in range(1,n+1):\n",
    "            count = count + 1\n",
    "            print('{}'.format(i*j), end=' ')\n",
    "        print('\\n')\n",
    "    return count\n",
    "\n",
    "mult_subtable(3)\n",
    "```"
   ]
  },
  {
   "cell_type": "code",
   "execution_count": null,
   "metadata": {},
   "outputs": [],
   "source": []
  },
  {
   "cell_type": "markdown",
   "metadata": {
    "slideshow": {
     "slide_type": "slide"
    }
   },
   "source": [
    "## Reference\n",
    "\n",
    "* [Total n00b’s guide to Big O, Big Ω, & Big θ](https://medium.com/@.RT/total-n00bs-guide-to-big-o-big-%CF%89-big-%CE%B8-aa259ae8a1c2)\n",
    "* [Python - Algorithm Types](https://www.tutorialspoint.com/python/python_big_o_notation.htm)\n",
    "* [Big-O Notation](https://chrisalbon.com/computer_science/algorithms/big-o_notation/)\n",
    "* [A Beginner’s Guide to Big O notation](https://medium.com/@cindychen13.work/a-beginners-guide-to-big-o-notation-793d654973d)\n",
    "* [Everything you need to know about Big O notation](https://medium.com/@albertgao/everything-you-need-to-know-about-big-o-notation-5436d2702199)\n",
    "* [Youtube: Big Oh Notation (and Omega and Theta)](https://www.youtube.com/watch?v=ei-A_wy5Yxw)"
   ]
  }
 ],
 "metadata": {
  "kernelspec": {
   "display_name": "Python 3",
   "language": "python",
   "name": "python3"
  },
  "language_info": {
   "codemirror_mode": {
    "name": "ipython",
    "version": 3
   },
   "file_extension": ".py",
   "mimetype": "text/x-python",
   "name": "python",
   "nbconvert_exporter": "python",
   "pygments_lexer": "ipython3",
   "version": "3.7.3"
  }
 },
 "nbformat": 4,
 "nbformat_minor": 2
}
