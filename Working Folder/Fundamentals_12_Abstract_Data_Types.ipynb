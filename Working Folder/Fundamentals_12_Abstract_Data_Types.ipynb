{
 "cells": [
  {
   "source": [
    "# Learning Objectives\n",
    "\n",
    "- [ ] *1.2.3 Implement search programs.\n",
    "    - Hash Table Search\n",
    "- [ ] 1.3.1 Understand the concept of static allocation of memory.\n",
    "- [ ] 1.3.2 Understand the concept of dynamic allocation of memory.\n",
    "- [ ] 1.3.3 Create, insert, and delete operations for stack and queue (linear and circular).\n",
    "- [ ] 1.3.4 Understand the concept of free space list (which could be another linked list or an array).\n",
    "- [ ] 1.3.5 Create, update (edit, insert, delete) and search operations for a linear linked list. Exclude: doubly-linked list and circular linked list\n",
    "- [ ] 1.3.6 Create, update (edit, insert, delete) and search operations for a binary search tree. *Exclude: deletion of nodes from binary search tree\n",
    "- [ ] 1.3.7 Understand pre-order, in-order and post-order tree traversals; and application of in-order tree traversal for binary search tree.\n",
    "- [ ] 2.3.2 Implement search programs.\n",
    "    - Hash Table Search\n",
    "- [ ] 2.3.3 Write programs to implement operations for stacks, queues (linear and circular), linear linked lists and binary search trees. *Exclude: doubly-linked list and circular linked list*\n",
    "\n",
    "# References\n",
    "\n",
    "1. Leadbetter, C., Blackford, R., & Piper, T. (2012). Cambridge international AS and A level computing coursebook. Cambridge: Cambridge University Press.\n",
    "2. https://www.geeksforgeeks.org/tree-traversals-inorder-preorder-and-postorder/"
   ],
   "cell_type": "markdown",
   "metadata": {}
  },
  {
   "source": [
    "# 10.0 Abstract Data Type\n",
    "\n",
    "Abstract data type (ADT) is a mathematical model for data types. An abstract data type is defined by its behavior from the point of view of a user, of the data, specifically in terms of possible values, possible operations on data of this type, and the behavior of these operations.  This is analogous to an algebraic structure in mathematics. \n",
    "\n",
    "For example, integers are an ADT, defined as the values ..., −2, −1, 0, 1, 2, ..., and by the operations of addition, subtraction, multiplication, and division, together with greater than, less than, etc., which behave according to familiar mathematics (with care for integer division), independently of how the integers are represented by the computer. Explicitly, \"behavior\" includes obeying various axioms (associativity and commutativity of addition, etc.), and preconditions on operations (cannot divide by zero).\n",
    "\n",
    "This mathematical model contrasts with **data structures**, which are concrete representations of data, and are the point of view of an implementer, not a user.\n",
    "\n",
    "Typically integers are represented in a data structure as binary numbers, most often as two's complement, but might be binary-coded decimal or in ones' complement, but the user is abstracted from the concrete choice of representation, and can simply use the data as data types.\n",
    "\n",
    "In conclusion, **Abstract Data Type** (ADT): \n",
    "- specifies interactions/operations of the objects of the data type. \n",
    "- has no code. It is not the actual implementation.\n",
    "- often has more than one way to be implemented.\n",
    "\n",
    "While **Data Structure** (DS) is the actual representation of the data and the algorithms to manipulate the data elements. i.e concrete implementation of a ADT. Also, one allowable operation in ADT is one function implemented in the associated DS.\n",
    "\n",
    "As such, the **main advantage of ADT** is that users only need to understand the allowable operations of an ADT before using it. No knowledge of actual implementation is required.\n",
    "\n",
    "## 10.0.1 Static vs Dynamic Data Structures\n",
    "\n",
    "**Static data structures** do not change in size while the program is running. A typical static data structure is an array. Once you declare its size (or upper bound), it cannot be changed. Some programming languages do allow the size of arrays to be changed (like Python's `list`), in which case they are dynamic data structures. For the purposes of A-Level syllabus, <u>an array is considered a static data structure</u>.\n",
    "\n",
    "**Dynamic data structures** can increase and decrease in size while a program is running. A typical dynamic data structure is a linked list, which we will see later in this chapter.\n",
    "\n",
    "### Advantages and Disadvantages of Static Data Structures\n",
    "- Advantages\n",
    "    - Space allocated during compilation\n",
    "    - Easier to program\n",
    "    - Easy to check for overflow\n",
    "    - Random access, enables you to read or writeinformation anywhere in the file\n",
    "- Disadvantages\n",
    "    - Space allocation is fixed\n",
    "    - Wastes space when only partially used\n",
    "    \n",
    "### Advantages and Disadvantages of Dynamic Data Structures\n",
    "- Advantages\n",
    "    - Only uses space required\n",
    "    - Efficient use of memory\n",
    "    - Emptied storage can be returned to the system\n",
    "- Disadvantages\n",
    "    - Difficult to program\n",
    "    - Searches can be slow\n",
    "    - Serial access, i.e. you can only read and write information sequentially, starting from the beginning of the file."
   ],
   "cell_type": "markdown",
   "metadata": {}
  },
  {
   "source": [
    "# 10.1 Stack\n",
    "\n",
    "\n",
    "**Stack** is an ADT which stores items in order in which they are added and the **last item to join is the first item to leave**.\n",
    "* Items can only be <u>added to</u> and <u>removed from</u> the **top of the stack**.\n",
    "* The order is also called **Last-In-First-Out (LIFO)**.\n",
    "\n",
    "<center>\n",
    "<img src=\"images/mario_2.jpg\" width=\"250\" align=\"center\"/>\n",
    "</center>\n",
    "\n",
    "## 10.1.1 Stack Operations\n",
    "The basic operations of a stack is to add and remove item from its top. \n",
    "- `push()`: Add item to the stack\n",
    "- `pop()`: Remove item from the stack\n",
    "\n",
    "Other supporting functions that can be added are:\n",
    "- `is_empty()`: return `True` if the stack is empty, return `False` if it's not\n",
    "- `size()`: return the number of items in the stack\n",
    "- `peek()`: return the element on the top of the stack\n",
    "\n",
    "### Exercise 1\n",
    "\n",
    "Define a `Stack` class which implements the operations of a Stack:\n",
    "* Initialize an empty list `_items` in its initializer method.\n",
    "* Implement `push()` and `pop()` methods with basic operations of a stack. HINT: what list methods do you think is useful here?\n",
    "\n",
    "Test your code using the following code block.\n",
    ">```python\n",
    "> s = Stack()\n",
    "> s.push('apple')\n",
    "> s.push('banana')\n",
    "> print(s._items)\n",
    "> print(s.pop())\n",
    "> print(s.pop())\n",
    "> print(s.pop())\n",
    ">```"
   ],
   "cell_type": "markdown",
   "metadata": {}
  },
  {
   "cell_type": "code",
   "execution_count": null,
   "metadata": {},
   "outputs": [],
   "source": [
    "#YOUR_CODE_HERE"
   ]
  },
  {
   "source": [
    "### Exercise 2\n",
    "\n",
    "Define a `BetterStack` class which inherits from `Stack` class that includes the supplementary methods \n",
    "- `is_empty()`, \n",
    "- `size()`, \n",
    "- `peek()`."
   ],
   "cell_type": "markdown",
   "metadata": {}
  },
  {
   "cell_type": "code",
   "execution_count": null,
   "metadata": {},
   "outputs": [],
   "source": [
    "#YOUR_CODE_HERE"
   ]
  },
  {
   "source": [
    "## 10.1.2 Example Uses of Stack\n",
    "\n",
    "- Reverse a sequence.\n",
    "- Detect missing symbols, e.g. missing opening or closing bracket.\n"
   ],
   "cell_type": "markdown",
   "metadata": {}
  },
  {
   "source": [
    "# 10.2 Queue\n",
    "**Queue** is an ADT which stores items in order in which they are added and the **first item to join is the first item to leave**. This order is also called First-In-First-Out (FIFO).\n",
    "\n",
    "There are 2 types of queue:\n",
    "- **linear queue** arranges data in a sequential order one, Items are added to the rear and removed from the front.\n",
    "- **circular queue** arranges data similar to a circle by connecting the last element back to the first element. \n",
    "\n",
    "Imagine a Linear Queue which based an array where index $0$ is always the first item and index $n$ is always the last. In order to remove an item from the Linear Queue, then all items $1$ to $n$ must be shifted forward, what was in index 1 into index 0, those in index 2 to index 1, so on and so forth. This process would take a considerable amount of time for large queues and/or frequent operations on the queue. However, in a Circular Queue, pointing the head of the queue to the next item when one is removed becomes as simple as a single assignment and thus, there are less operations updating the queue.\n",
    "\n",
    "## 10.2.1 Linear Queue Operations\n",
    "The basic operations of a queue is to add and remove item from queue. \n",
    "- `enqueue()`: Add item to the queue\n",
    "- `dequeue()`: Remove item from the queue\n",
    "\n",
    "Other supporting functions that can be added are:\n",
    "- `is_empty()`: return `True` if the queue is empty, return `False` if it's not\n",
    "- `size()`: return the number of items in the queue\n",
    "- `peek()`: return the element on the front of the queue\n",
    "\n",
    "### Exercise 2\n",
    "\n",
    "Define a `LQueue` class which implements the operations of a linear queue:\n",
    "* Initialize an empty list `_items` in its initializer method.\n",
    "* Implement `enqueue()` and `dequeue()` methods with basic operations of a stack. HINT: what list methods do you think is useful here?\n",
    "* Also implement the supplementary methods \n",
    "    - `is_empty()`, \n",
    "    - `size()`, \n",
    "    - `peek()`.\n",
    "\n",
    "Test your code using the following code block.\n",
    ">```python\n",
    "> q = Queue()\n",
    "> q.enqueue('apple')\n",
    "> q.enqueue('banana')\n",
    "> print(q.size())\n",
    "> q.dequeue()\n",
    "> print(q.peek())\n",
    "> print(q.dequeue())\n",
    "> print(q.is_empty())\n",
    ">```"
   ],
   "cell_type": "markdown",
   "metadata": {}
  },
  {
   "source": [
    "#YOUR_CODE_HERE"
   ],
   "cell_type": "code",
   "metadata": {},
   "execution_count": null,
   "outputs": []
  },
  {
   "source": [
    "## 10.2.1 Circular Queue Operations\n",
    "The basic operations of a queue is to add and remove item from queue. \n",
    "- `enqueue()`: Add item to the queue\n",
    "- `dequeue()`: Remove item from the queue"
   ],
   "cell_type": "markdown",
   "metadata": {}
  },
  {
   "cell_type": "code",
   "execution_count": null,
   "metadata": {},
   "outputs": [],
   "source": [
    "#YOUR_CODE_HERE"
   ]
  },
  {
   "source": [
    "### Exercise 3\n",
    "\n",
    "Implement a **priority queue** where job with higher weight will be processed first. We need to code two classes `Job` and `PriorityQueue`.\n",
    "\n",
    "The `Job` class has only one instance attribute, `weight`. \n",
    "* Implement its `__str__()` method which returns its weight in string format.\n",
    "\n",
    "The `PriorityQueue` class inherits from `LQueue` class by overriding its `enqueue()` method. \n",
    "* The new `enqueue()` method inserts item at appropriate position so that items with higher weight will be dequeue first."
   ],
   "cell_type": "markdown",
   "metadata": {}
  },
  {
   "cell_type": "code",
   "execution_count": null,
   "metadata": {},
   "outputs": [],
   "source": [
    "#YOUR_CODE_HERE"
   ]
  },
  {
   "source": [
    "## 10.2.2 Example Uses of Queue\n",
    "\n",
    "- Printer Job Queue"
   ],
   "cell_type": "markdown",
   "metadata": {}
  },
  {
   "source": [
    "# 10.3 Linked List\n",
    "\n",
    "A **linear linked list** is a linear data structure which holds a collection of elements, called **Node**. Unlike the usual list, these nodes may not be <u>not stored at continuous memory locations</u>. Each node contains <u>a **data** and **pointer(s)**</u> pointing to other node(s).\n",
    "\n",
    "* Nodes can be accessed in a sequential way.\n",
    "* Linked list does not provide random access to a node.\n",
    "\n",
    "When the Nodes are connected with only the `next` pointer the list is called **Singly Linked List** and when it’s connected by the `next` and `previous` pointers, the list is called **Doubly Linked List**. Doubly Linked List is not in the scope of A-Level syllabus. As such for our purpose, Linked List refers to Linear Singly Linked List, unless otherwise stated.\n",
    "\n",
    "<center>\n",
    "<img src=\"images/mario_2.jpg\" width=\"250\" align=\"center\"/>\n",
    "</center>\n",
    "\n",
    "<img src=\"./images/adt-linked-list.png\" alt=\"Queue\" style=\"width: 350px;\"/>\n",
    "<center>https://medium.com/@lucasmagnum/sidenotes-linked-list-abstract-data-type-and-data-structure-fd2f8276ab53</center>\n",
    "\n",
    "## 10.2.1 Linked List Operations\n",
    "The basic operations of a queue is to add and remove item from queue. \n",
    "- `prepend()`: Add a node in the beginning\n",
    "- `pop_first()`: Remove a node from the beginning\n",
    "- `append()`: Add a node in the end\n",
    "- `pop()`: Remove a node from the end\n",
    "- `remove()`: Remove a node, which matches a value, from the list\n",
    "\n",
    "Other supporting functions that can be added are:\n",
    "- `is_empty()`: return `True` if the queue is empty, return `False` if it's not\n",
    "- `size()`: return the number of items in the queue\n",
    "- `peek()`: return the element on the top of the queue\n",
    "\n",
    "### Exercise 1: Node\n",
    "\n",
    "Implement a class `Node` for Linked List.\n",
    "* It has an instance attribute `data` which holds data of the node, and another instance attribute `next` pointing to next node. \n",
    "* Both instance attributes are initialized by input parameters in initializer method.\n",
    "* It implements `__repr__()` method which returns string `Node(data->next.data)`, e.g. `Node(A->B)` if the value for current and next nodes are `A` and `B` respectively."
   ],
   "cell_type": "markdown",
   "metadata": {}
  },
  {
   "cell_type": "code",
   "execution_count": null,
   "metadata": {},
   "outputs": [],
   "source": [
    "#YOUR_CODE_HERE"
   ]
  },
  {
   "source": [
    "### Excercise 2: Linked List\n",
    "\n",
    "A Linked List contains an attribute `head` which points first node of the linked list. \n",
    "\n",
    "Implement a `LinkedList` class with following methods:\n",
    "* Initializer method which initializes `head` to `None` since the initial linked list is empty.\n",
    "* `is_empty()` method which returns `True` if linked list is empty, `False` otherwise\n",
    "* `size()` method returns number of nodes in the list\n",
    "* `contains()` method which return `True` if an item is found in the linked list, `False` otherwise"
   ],
   "cell_type": "markdown",
   "metadata": {}
  },
  {
   "cell_type": "code",
   "execution_count": null,
   "metadata": {},
   "outputs": [],
   "source": [
    "#YOUR_CODE_HERE"
   ]
  },
  {
   "source": [
    "### Excercise 3: Linked List\n",
    "\n",
    "A Linked List typically contains following methods.\n",
    "* `prepend()`: Add a node in the beginning\n",
    "* `pop_front()`: Remove a node from the beginning\n",
    "* `remove()`: Remove Node, which matches a value, from the list\n",
    "\n",
    "The `remove()` method will return `True` if a matching value is found in the linked list, else it will `return` False. The implementation needs to take care 4 scenarios:\n",
    "* When the linked list is empty, i.e `head` is pointing to `None`\n",
    "* When the item to be removed is the head node\n",
    "* When the item to be removed is in any other node\n",
    "* When the item to be removed is not found\n",
    "\n",
    "Implement above methods in class `BetterLinkedList` which inherites from `LinkedList` class."
   ],
   "cell_type": "markdown",
   "metadata": {}
  },
  {
   "cell_type": "code",
   "execution_count": null,
   "metadata": {},
   "outputs": [],
   "source": [
    "#YOUR_CODE_HERE"
   ]
  },
  {
   "source": [
    "## 10.1.2 Example Uses of Linked List\n",
    "\n",
    "- **Free-space list** is the list which keeps track of free space in memory. When we create a file, the free-space list is searched for the required amount of space and space is allocated to accomodate the new file. This space is then removed from the free-space list. On the flipside, when a file is deleted, the freed up disk space is added to the free-space list. A linked list can be used keep track of the free blocks. Free space list could also be implemented with an array. "
   ],
   "cell_type": "markdown",
   "metadata": {}
  },
  {
   "source": [
    "# 10.4 Hash Table \n",
    "\n",
    "A **hash table (hash map)** is a data structure that implements an associative array abstract data type, a structure that can map **keys** to **values(data)**. A hash table must come with a **hash function** to compute an index value (also called a **hash code**) which points to into an array of **hash buckets**, the place where data is stored. This is similar to a dictionary. \n",
    "\n",
    "<center>\n",
    "<img src=\"images/mario_2.jpg\" width=\"250\" align=\"center\"/>\n",
    "</center>\n",
    "\n",
    "<u>For example</u>, to store a phone book, you uses a person's name as key, and his phone number is the value(data) to be looked up.\n",
    "- Key is passed into the hash function to generate an index value which points to a location where data is stored.\n",
    "- Potentially multiple data may be stored in the same bucket, i.e. multiple keys may point to same bucket.\n",
    "\n",
    "## 10.4.1 Hash Table Operations\n",
    "The basic operations of a hash table is to add, find and remove item from table. \n",
    "- `add(key,value)`: Add `value` data associated with key `key`\n",
    "- `find(key)`: return `value` data with provided `key`\n",
    "- `remove(key)`: remove `key` and its associated `value` data from the table\n",
    "\n",
    "### Exercise 1: \n",
    "Implement a hash table for a phone book. Each entry in the phone book is a pair of `Name` and `Phone`.\n",
    "* `Name` is used as the key.\n",
    "* `(Name, Phone)` tuple is saved as the data.\n",
    "\n",
    "We will define a class `HashTable` to store the data.\n",
    "* It has a list attribute `buckets` which keeps all data.\n",
    "* Initialize the list size, i.e. how many buckets, by input parameter `size`.\n",
    "* It has a <u>static</u> function `_hash()` which returns an `index` value based on input parameter `key`. The logic to be implemented in `_hash()` function is straight forward. We will simply return length of the `key` as the `index` value.\n",
    "* The `index` value specifies which bucket to put the data."
   ],
   "cell_type": "markdown",
   "metadata": {}
  },
  {
   "cell_type": "code",
   "execution_count": null,
   "metadata": {},
   "outputs": [],
   "source": [
    "#YOUR_CODE_HERE"
   ]
  },
  {
   "source": [
    "### Exercise 2\n",
    "Let's try to add following items into the Hash Table.\n",
    "* Create a hash table of 10 buckets.\n",
    "* For each element in the list `contacts` below, \n",
    "    >```python\n",
    "    contacts = [\n",
    "        ('Ben', '357-0394'),\n",
    "        ('Alan', '558-9171'),\n",
    "        ('Freddi', '760-2466'),\n",
    "        ('Stephanie', '299-5109')]\n",
    "    >```\n",
    "    \n",
    "    * Use `_hash()` function to find out which bucket it belongs to;\n",
    "    * Put the contact in the bucket.\n",
    "    * Print out the `buckets` to view how contacts are stored."
   ],
   "cell_type": "markdown",
   "metadata": {}
  },
  {
   "cell_type": "code",
   "execution_count": null,
   "metadata": {},
   "outputs": [],
   "source": [
    "#YOUR_CODE_HERE"
   ]
  },
  {
   "source": [
    "### Exercise 3\n",
    "\n",
    "With the populated hash table, how do you retrieve the data of for a name, e.g. `'Freddi'`?\n",
    "* Use `_hash()` function to find `index` value.\n",
    "* Locate the bucket by index.\n",
    "* Return the bucket."
   ],
   "cell_type": "markdown",
   "metadata": {}
  },
  {
   "cell_type": "code",
   "execution_count": null,
   "metadata": {},
   "outputs": [],
   "source": [
    "#YOUR_CODE_HERE"
   ]
  },
  {
   "source": [
    "### Exercise 4\n",
    "\n",
    "We may need to remove an item, e.g. `'Freddi'`, from the hash table.\n",
    "* Use `_hash()` function to find index value.\n",
    "* Locate the bucket by index and set it to `None`."
   ],
   "cell_type": "markdown",
   "metadata": {}
  },
  {
   "cell_type": "code",
   "execution_count": null,
   "metadata": {},
   "outputs": [],
   "source": [
    "#YOUR_CODE_HERE"
   ]
  },
  {
   "source": [
    "In this example, the hash function generates different index values for each of the entries and the data are stored in different buckets. As such, search and delete has $O(1)$ time complexity. "
   ],
   "cell_type": "markdown",
   "metadata": {}
  },
  {
   "source": [
    "## 10.4.2 Hash Table Collision\n",
    "\n",
    "Ideally, the hash function will assign each key to a unique bucket. But since a hash function returns a small number for a big key, there is possibility that two keys result in same value. That is **hash table collision**.\n",
    "\n",
    "### Example 5\n",
    "\n",
    "Consider the following list `contacts` where **the hash function generates same index value for all entries**, and thus, all data are stored in same bucket. \n",
    "\n",
    ">```python\n",
    "    contacts = [\n",
    "        ('Amanda', '357-0394'),\n",
    "        ('Christ', '558-9171'),\n",
    "        ('Freddi', '760-2466'),\n",
    "        ('Steven', '299-5109')]\n",
    ">```\n",
    "\n",
    "Since all contacts' name has length of 6 characters, their hashed indexes point to the same bucket. Thus 6th bucket needs to be able to hold multiple contacts.\n",
    "\n",
    "For simplicity, We will implement a bucket as a list.\n",
    "\n",
    "\n",
    "<center>\n",
    "<img src=\"images/mario_2.jpg\" width=\"250\" align=\"center\"/>\n",
    "</center>"
   ],
   "cell_type": "markdown",
   "metadata": {}
  },
  {
   "cell_type": "code",
   "execution_count": null,
   "metadata": {},
   "outputs": [],
   "source": [
    "#YOUR_CODE_HERE"
   ]
  },
  {
   "source": [
    "This is the worst case where a hash table acts a list and time spent in searching is $O(n)$. To improve efficiency, we need a better hash function.\n",
    "\n",
    "To achieve a good hashing mechanism, It is important to have a good hash function with the following basic requirements:\n",
    "* There should be **minimum collisions** as far as possible in the hash function that is used. \n",
    "* A hash function should have an **easy computation for the unique keys**.\n",
    "* Hash function should result in a **uniform distribution** of data across the hash table and thereby **prevent clustering**.\n",
    "\n",
    "As collisions are bound to occur, we have to use appropriate collision resolution techniques to take care of the collisions.\n",
    "- Linear Probing : When the hash function causes a collision by mapping a new key to a cell of the hash table that is already occupied by another key, linear probing searches the table for the closest following free location and inserts the new key there. Lookups are performed in the same way, by searching the table sequentially starting at the position given by the hash function, until finding a bucket with a matching key or an empty bucket.\n"
   ],
   "cell_type": "markdown",
   "metadata": {}
  },
  {
   "source": [
    "# 10.5 Binary Search Tree\n",
    "\n",
    "## 10.5.1 Tree and Binary Tree\n",
    "\n",
    "A **tree** is a data structure which – similar to a linked list – sets up link pointers between various data items. \n",
    "\n",
    "A tree with only two possible descendants from each value is called a **binary tree**.\n",
    "\n",
    "Tree terminology\n",
    "- Each data item in the tree is called a **node**.\n",
    "- The first item added to the tree is called the **root value**.\n",
    "- All items to the left of the root form the **left sub-tree**.\n",
    "- All items to the right of the root form the **right sub-tree**.\n",
    "- Any node may have its own sub-tree.\n",
    "- An item which has no descendants is called a **leaf node**.\n",
    "\n",
    "### Exercise 1: \n",
    "Implement a class `Node` for Binary Tree node.\n",
    "\n",
    "- It has an instance attribute `data` which holds data of the node, instance attribute `left` next pointing to the left node and instance attribute `right` pointing to the right node\n",
    "- It implements `__repr__()` method which returns string `data(left.data,right.data)`, e.g. \n",
    "    >```\n",
    "    n1 = Node(10, Node(5), Node(15))\n",
    "    print(n1)\n",
    "    >```\n",
    "    \n",
    "    outputs `10(5,15)`"
   ],
   "cell_type": "markdown",
   "metadata": {}
  },
  {
   "cell_type": "code",
   "execution_count": null,
   "metadata": {},
   "outputs": [],
   "source": [
    "#YOUR_CODE_HERE"
   ]
  },
  {
   "source": [
    "### Exercise 2: \n",
    "Implement a class `BinaryTree` for Binary Tree.\n",
    "- It has an instance attribute `root` which holds a specificed node. If no node is specified, default value of `root` is `None`\n"
   ],
   "cell_type": "markdown",
   "metadata": {}
  },
  {
   "cell_type": "code",
   "execution_count": null,
   "metadata": {},
   "outputs": [],
   "source": []
  },
  {
   "source": [
    "## 10.5.2 Binary Search Tree\n",
    "\n",
    "Binary Search Tree (BST) is a type of binary tree with following special properties:\n",
    "* The left subtree of a node contains only nodes with keys lesser than the node’s key.\n",
    "* The right subtree of a node contains only nodes with keys greater than the node’s key.\n",
    "* The left and right subtree each must also be a binary search tree.\n",
    "\n",
    "<img src=\"./images/binary_search_tree.jpg\" alt=\"Queue ADT\" style=\"width: 350px;\"/>\n",
    "\n",
    "<center>https://www.tutorialspoint.com/data_structures_algorithms/images/binary_search_tree.jpg</center>\n",
    "\n",
    "By most definitions, BST only allow distinct values, and <u>duplicates are not allowed</u>. \n",
    "\n",
    "This is because allowing duplicate values will bring much more complexity than convenience.\n",
    "\n",
    "## 10.5.3 Binary Search Tree Operations\n",
    "\n",
    "### 10.5.3.1 Insert a Node\n",
    "\n",
    "The operation to insert a value to is a **recursive process** at each node of the tree. \n",
    "\n",
    "Assume current node is not `None`,\n",
    "* if the incoming value `val` is less than current node's value, \n",
    "    * if left child is `None`, create a new node with the value and assign to it,\n",
    "    * else recurse into left subtree.\n",
    "* if the incoming value is greater than or equals to current node's value, \n",
    "    * if right child is `None`, create a new node with the value and assign to it,\n",
    "    * else recurse into right subtree.\n",
    "\n",
    "### 10.5.3.2 Find a Node\n",
    "\n",
    "To search a given node in Binary Search Tree, \n",
    "* If the value matches current node's data, return the node. \n",
    "* If the value is greater than current node, recur into the right subtree of root node.\n",
    "* Otherwise we recur into the left subtree.\n",
    "\n",
    "Following recursive function `_find(node, val)` find the `val` in the tree where `node` is the root."
   ],
   "cell_type": "markdown",
   "metadata": {}
  },
  {
   "source": [
    "## 10.5.4 Tree Traversals\n",
    "\n",
    "Tree traversal is defined to be a way to visit the nodes in some particular order. \n",
    "\n",
    "There are 3 such tree traversals:\n",
    "- in-order : We go as far to the left as we possibly can and read that node. Then we move to the root and finally we move right. We repeat the process, only returning when we run out of branches to follow. On the way back we read any nodes that we haven’t read yet. So, for in-order traversal, the nodes are visited in (Left, Root, Right) order. \n",
    "- pre-order : We first visit the root node. Then, we move to the left node and go as far as the root node before the last left leaf node, read it, read the most left leaf node and read the right node. We repeat the process, only returning when we run out of branches to follow. On the way back we read any nodes that we haven’t read yet. So, for pre-order traversal, the nodes are visited in (Root, Left, Right) order. \n",
    "- post-order :  We go as far to the left as we possibly can and read that node. Then we move to the right. We repeat the process, only returning when we run out of branches to follow.  inally we move to the node. On the way back we read any nodes that we haven’t read yet. So, for post-order traversal, the nodes are visited in (Left, Right, Node) order. "
   ],
   "cell_type": "markdown",
   "metadata": {}
  },
  {
   "cell_type": "code",
   "execution_count": null,
   "metadata": {},
   "outputs": [],
   "source": [
    "# Python program to for tree traversals\n",
    " \n",
    "# A class that represents an individual node in a\n",
    "# Binary Tree\n",
    " \n",
    " \n",
    "class Node:\n",
    "    def __init__(self, key):\n",
    "        self.left = None\n",
    "        self.right = None\n",
    "        self.val = key\n",
    " \n",
    " \n",
    "# A function to do inorder tree traversal\n",
    "def printInorder(root):\n",
    " \n",
    "    if root:\n",
    " \n",
    "        # First recur on left child\n",
    "        printInorder(root.left)\n",
    " \n",
    "        # then print the data of node\n",
    "        print(root.val),\n",
    " \n",
    "        # now recur on right child\n",
    "        printInorder(root.right)\n",
    " \n",
    " \n",
    "# A function to do postorder tree traversal\n",
    "def printPostorder(root):\n",
    " \n",
    "    if root:\n",
    " \n",
    "        # First recur on left child\n",
    "        printPostorder(root.left)\n",
    " \n",
    "        # the recur on right child\n",
    "        printPostorder(root.right)\n",
    " \n",
    "        # now print the data of node\n",
    "        print(root.val),\n",
    " \n",
    " \n",
    "# A function to do preorder tree traversal\n",
    "def printPreorder(root):\n",
    " \n",
    "    if root:\n",
    " \n",
    "        # First print the data of node\n",
    "        print(root.val),\n",
    " \n",
    "        # Then recur on left child\n",
    "        printPreorder(root.left)\n",
    " \n",
    "        # Finally recur on right child\n",
    "        printPreorder(root.right)\n",
    " \n",
    " \n",
    "# Driver code\n",
    "root = Node(1)\n",
    "root.left = Node(2)\n",
    "root.right = Node(3)\n",
    "root.left.left = Node(4)\n",
    "root.left.right = Node(5)\n",
    "print \"Preorder traversal of binary tree is\"\n",
    "printPreorder(root)\n",
    " \n",
    "print \"\\nInorder traversal of binary tree is\"\n",
    "printInorder(root)\n",
    " \n",
    "print \"\\nPostorder traversal of binary tree is\"\n",
    "printPostorder(root)"
   ]
  },
  {
   "source": [
    "## 10.5.5 Example Uses of Binary Search Tree\n",
    "\n",
    "- Sorting an unordered list via in-order traversal."
   ],
   "cell_type": "markdown",
   "metadata": {}
  },
  {
   "cell_type": "code",
   "execution_count": null,
   "metadata": {},
   "outputs": [],
   "source": []
  }
 ],
 "metadata": {
  "language_info": {
   "codemirror_mode": {
    "name": "ipython",
    "version": 3
   },
   "file_extension": ".py",
   "mimetype": "text/x-python",
   "name": "python",
   "nbconvert_exporter": "python",
   "pygments_lexer": "ipython3",
   "version": "3.8.3"
  },
  "orig_nbformat": 2,
  "kernelspec": {
   "name": "python383jvsc74a57bd01d8a5bbb0756dea561c5110081a5788c97ee82690e858540714922886ca24d79",
   "display_name": "Python 3.8.3 64-bit ('base': conda)"
  }
 },
 "nbformat": 4,
 "nbformat_minor": 2
}