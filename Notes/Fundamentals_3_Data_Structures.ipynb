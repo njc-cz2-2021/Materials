{
 "cells": [
  {
   "source": [
    "# 3 Basic Data Structures\n",
    "\n",
    "In computer science, a data structure is a data organization, management, and storage format that enables efficient access and modification. More precisely, a data structure is a collection of data values, the relationships among them, and the functions or operations that can be applied to the data.\n",
    "\n",
    "## 3.1 Array\n",
    "\n",
    "An array, is a data structure consisting of a collection of elements (values or variables), each identified by at least one array index or key. We will focus on two commonly used ones in Python.\n",
    "\n",
    "### 3.1.1 List\n",
    "\n",
    "**Lists** are the most commonly used data structure in Python. \n",
    "\n",
    "* It is a **mutable** collection, i.e. its items can be added and removed.\n",
    "* Each of these data can be accessed by calling its index value."
   ],
   "cell_type": "markdown",
   "metadata": {}
  },
  {
   "cell_type": "markdown",
   "metadata": {},
   "source": [
    "#### 3.1.1.1 Creating a list\n",
    "\n",
    "Lists are declared/created by just equating a variable to `[ ]` or list.\n",
    ">```\n",
    ">empty_list = []\n",
    ">print(type(empty_list))\n",
    ">```\n",
    "\n",
    "Items in the list are seperated by comma `,`.\n",
    ">```\n",
    ">nums = [1, 2, 3, 4]\n",
    ">nums\n",
    ">```"
   ]
  },
  {
   "cell_type": "code",
   "execution_count": null,
   "metadata": {},
   "outputs": [],
   "source": [
    "# YOUR CODE HERE"
   ]
  },
  {
   "cell_type": "markdown",
   "metadata": {},
   "source": [
    "List element can be of any data type.\n",
    "\n",
    ">```\n",
    ">fruits = ['apple', 'banana', 'cherry', 'durian']\n",
    ">fruits\n",
    ">```"
   ]
  },
  {
   "cell_type": "code",
   "execution_count": null,
   "metadata": {},
   "outputs": [],
   "source": [
    "# YOUR CODE HERE"
   ]
  },
  {
   "cell_type": "markdown",
   "metadata": {},
   "source": [
    "In fact, it is able to hold elements of *mixed data types*, although this is not commonly used.\n",
    "\n",
    ">```\n",
    ">mixed = ['apple', 3, 'banana', 5.0, True, None, (1,), [1,23]]\n",
    ">mixed\n",
    ">```"
   ]
  },
  {
   "cell_type": "code",
   "execution_count": null,
   "metadata": {},
   "outputs": [],
   "source": [
    "# YOUR CODE HERE"
   ]
  },
  {
   "cell_type": "markdown",
   "metadata": {},
   "source": [
    "List can also have **lists as its element**, which creates a `nested list`.\n",
    "\n",
    ">```\n",
    ">nested = [ [10, 11, 12, 13], \n",
    ">           [20, 21, 22, 23] ]\n",
    ">nested\n",
    ">```"
   ]
  },
  {
   "cell_type": "code",
   "execution_count": null,
   "metadata": {},
   "outputs": [],
   "source": [
    "# YOUR CODE HERE"
   ]
  },
  {
   "cell_type": "markdown",
   "metadata": {},
   "source": [
    "#### 3.1.1.2 Accessing Elements in a list via Indexing\n",
    "\n",
    "Items in collection can be accessed by their indexes. Python uses zero-based indexing, i.e. index starts from 0.\n",
    "\n",
    ">```\n",
    ">print(fruits)\n",
    ">print(fruits[0])\n",
    ">print(fruits[1])\n",
    ">```"
   ]
  },
  {
   "cell_type": "code",
   "execution_count": null,
   "metadata": {},
   "outputs": [],
   "source": [
    "# YOUR CODE HERE"
   ]
  },
  {
   "cell_type": "markdown",
   "metadata": {},
   "source": [
    "Indexing can also be done in reverse order by using a negative value as the index. That is the last element of the list has an index of -1, and second last element has index of -2 etc. This is called **negative indexing**.\n",
    "\n",
    "<center><img src=\"./images/list-indexing.png\" alt=\"Set Venn Diagram\" style=\"width: 400px;\"/></center>\n",
    "\n",
    ">```\n",
    ">fruits[-1]\n",
    ">fruits[-2]\n",
    ">```"
   ]
  },
  {
   "cell_type": "code",
   "execution_count": null,
   "metadata": {},
   "outputs": [],
   "source": [
    "# YOUR CODE HERE"
   ]
  },
  {
   "cell_type": "markdown",
   "metadata": {},
   "source": [
    "For nested list, we can access items by **multi-level indexing**. Each level of the index always starts from 0.\n",
    "\n",
    "For example, access 1st element in 1st list, and 2nd element in 2nd list \n",
    ">```python\n",
    ">print(nested)\n",
    ">print(nested[0][0])\n",
    ">print(nested[1][1])\n",
    ">```"
   ]
  },
  {
   "cell_type": "code",
   "execution_count": null,
   "metadata": {},
   "outputs": [],
   "source": []
  },
  {
   "cell_type": "markdown",
   "metadata": {},
   "source": [
    "#### Exercise 3.1\n",
    "\n",
    "How do you access element `Blackcurrant` in following list?\n",
    ">```\n",
    ">nested_fruits = [\n",
    ">    ['Apple', 'Apricots', 'Avocado'], \n",
    ">    ['Banana', 'Blackcurrant', 'Blueberries'],\n",
    ">    ['Cherries', 'Cranberries', 'Custard-Apple']]\n",
    ">\n",
    ">```"
   ]
  },
  {
   "cell_type": "code",
   "execution_count": null,
   "metadata": {
    "tags": [
     "hide-cell"
    ]
   },
   "outputs": [],
   "source": [
    "# YOUR CODE HERE"
   ]
  },
  {
   "cell_type": "markdown",
   "metadata": {},
   "source": [
    "#### 3.1.1.2 Accessing Subsets Elements in a list via Slicing\n",
    "\n",
    "**Indexing** was only limited to accessing a single element.\n",
    "**Slicing** on the other hand is accessing a sequence of data inside the list. \n",
    "\n",
    "**Slicing** is done by defining the index values of the `first element` and the `last element` from the parent list that is required in the sliced list. \n",
    "\n",
    ">```\n",
    ">sub = num[a : b]\n",
    ">sub = num[a : ]\n",
    ">sub = num[: b]\n",
    ">sub = num[:]\n",
    ">```\n",
    " \n",
    "* if both `a` and `b` are specified, `a` is the first index, `b` is the **last index + 1**.\n",
    "* if `b` is omitted, it will slice till last element.\n",
    "* if `a` is omitted, it will starts from first element.\n",
    "* if neither `a` or `b` is specified, it is effectively copy the whole list\n",
    "\n",
    "**Note: the upper bound index is NOT inclusive!**"
   ]
  },
  {
   "cell_type": "markdown",
   "metadata": {},
   "source": [
    "#### Exercise 3.2\n",
    "\n",
    "* Create a list contain number 0-9\n",
    "* Print 3rd to 5th items\n",
    "* Print all items after 6th position\n",
    ">```\n",
    ">num = [0,1,2,3,4,5,6,7,8,9]\n",
    "\n",
    ">```"
   ]
  },
  {
   "source": [
    "# YOUR CODE HERE"
   ],
   "cell_type": "code",
   "metadata": {},
   "execution_count": null,
   "outputs": []
  },
  {
   "cell_type": "markdown",
   "metadata": {},
   "source": [
    "#### Exercise 3.3\n",
    "The `num` is a list of integers from 0 to 9, split the list into 2 equal size sub list, `sub1` and `sub2`.\n",
    "\n",
    ">```\n",
    ">num = [0,1,2,3,4,5,6,7,8,9]\n",
    ">\n",
    ">```"
   ]
  },
  {
   "cell_type": "code",
   "execution_count": null,
   "metadata": {
    "tags": [
     "hide-cell"
    ]
   },
   "outputs": [],
   "source": [
    "# YOUR CODE HERE\n",
    "print(sub1)\n",
    "print(sub2)"
   ]
  },
  {
   "cell_type": "markdown",
   "metadata": {},
   "source": [
    "Remember list items can be accessed using `negative index`. Same technique can be applied for slicing too, i.e. we can **slice with negative index**.\n",
    "\n",
    "* Last item has index of -1\n",
    "\n",
    "#### Exercise 3.4\n",
    "\n",
    "For a list with integer 0-9, \n",
    "* How to get last 3 items from a list?\n",
    "* How to ignore last 3 items from a list?\n",
    "* How to strip first and last items from a list?\n",
    "\n",
    ">```\n",
    ">num = [0,1,2,3,4,5,6,7,8,9]\n",
    ">\n",
    ">\n",
    ">\n",
    ">\n",
    ">\n",
    ">```"
   ]
  },
  {
   "cell_type": "code",
   "execution_count": null,
   "metadata": {
    "tags": [
     "hide-cell"
    ]
   },
   "outputs": [],
   "source": [
    "# Get last 3 elements\n",
    "\n",
    "# Ignore last 3 items \n",
    "\n",
    "# Strip 1st and last element"
   ]
  },
  {
   "cell_type": "markdown",
   "metadata": {},
   "source": [
    "#### 3.1.1.3 Working with Lists"
   ]
  },
  {
   "cell_type": "markdown",
   "metadata": {},
   "source": [
    "##### 3.1.1.3.1 Length of lists `len()`\n",
    "To find the length of the list or the number of elements in a list, the function `len( )` is used. Syntax is \n",
    ">```\n",
    ">len(your_list)\n",
    ">```\n",
    "\n",
    "#### Exercise 3.5\n",
    "Find the length of list `num = [0,1,2,3,4,5,6,7,8,9]`"
   ]
  },
  {
   "cell_type": "code",
   "execution_count": null,
   "metadata": {},
   "outputs": [],
   "source": [
    "# YOUR CODE HERE"
   ]
  },
  {
   "cell_type": "markdown",
   "metadata": {},
   "source": [
    "##### 3.1.1.3.2 Maximum `max()`, minimum `min()` and sum `sum()` of all the values in the list\n",
    "\n",
    "If the list consists of all integer elements, the functions `min( )`, `max( )` and `sum()` gives the minimum item, maximum item and total sum value of the list. Syntax is \n",
    ">```\n",
    ">max(your_list)\n",
    ">min(your_list)\n",
    ">sum(your_list)\n",
    ">```\n",
    "\n",
    "#### Exercise 3.5\n",
    "Find the minimum value, max value and sum of all the values of list `num = [0,1,2,3,4,5,6,7,8,9]`"
   ]
  },
  {
   "cell_type": "code",
   "execution_count": null,
   "metadata": {},
   "outputs": [],
   "source": [
    "# YOUR CODE HERE"
   ]
  },
  {
   "cell_type": "markdown",
   "metadata": {},
   "source": [
    "#### Exercise 3.6\n",
    "Find the maximum, minimum and sum of all the values of list `num = [0,1,2,3,4,5,6,7,8,9]` and use `.format()` string method to print out the following message.\n",
    ">```\n",
    ">min = 0, max = 9, sum = 45\n",
    ">```"
   ]
  },
  {
   "cell_type": "code",
   "execution_count": null,
   "metadata": {
    "tags": [
     "hide-cell"
    ]
   },
   "outputs": [],
   "source": [
    "# YOUR CODE HERE"
   ]
  },
  {
   "cell_type": "markdown",
   "metadata": {},
   "source": [
    "For a list with elements as string, the **max( )** and **min( )** is still applicable. \n",
    "* **max( )** would return a string element whose ASCII value is the highest \n",
    "* **min( )** is used to return the lowest\n",
    "\n",
    "Note that only the first index of each element is considered each time and if they value is the same then second index considered so on and so forth."
   ]
  },
  {
   "cell_type": "markdown",
   "metadata": {},
   "source": [
    "#### Exercise 3.7\n",
    "\n",
    "What is the output of `min()` and `max()` on following list? What would happen if `sum()` is applied?\n",
    "\n",
    "```\n",
    "jc = ['tmjc','vjc','tjc','yijc''acjc','njc','hci','asrjc','jpjc','rjc','cjc','mi','dhs','ejc','sajc','nyjc']\n",
    "```"
   ]
  },
  {
   "cell_type": "code",
   "execution_count": null,
   "metadata": {},
   "outputs": [],
   "source": [
    "# YOUR CODE HERE"
   ]
  },
  {
   "cell_type": "markdown",
   "metadata": {},
   "source": [
    "##### 3.1.1.3.3 Reversing the values in a list with `reverse()` function\n",
    "\n",
    "The entire elements present in the list can be reversed by using the `reverse()` function.\n",
    "\n",
    "#### Exercise 3.8\n",
    "Modify following list by arranging items in reverse order.\n",
    "\n",
    "```\n",
    "jc = ['tmjc','vjc','tjc','yijc''acjc','njc','hci','asrjc','jpjc','rjc','cjc','mi','dhs','ejc','sajc','nyjc']\n",
    "```"
   ]
  },
  {
   "cell_type": "code",
   "execution_count": null,
   "metadata": {},
   "outputs": [],
   "source": [
    "# YOUR CODE HERE"
   ]
  },
  {
   "cell_type": "markdown",
   "metadata": {},
   "source": [
    "#### Exercise 3.9\n",
    "\n",
    "Can you print out the items in reverse order without modifying the list?\n",
    "* Hint: use indexing with step `-1`\n",
    "\n",
    "```\n",
    "jc = ['tmjc','vjc','tjc','yijc''acjc','njc','hci','asrjc','jpjc','rjc','cjc','mi','dhs','ejc','sajc','nyjc']\n",
    "```"
   ]
  },
  {
   "cell_type": "code",
   "execution_count": null,
   "metadata": {},
   "outputs": [],
   "source": [
    "# YOUR CODE HERE"
   ]
  },
  {
   "cell_type": "markdown",
   "metadata": {},
   "source": [
    "##### 3.1.1.3.3 Sorting elements in a list with `sort()` function\n",
    "\n",
    "Python offers built in operation `sort( )` to arrange the elements in **ascending** order. Syntax is \n",
    ">```\n",
    ">sort(your_list)\n",
    ">```\n",
    "\n",
    "For **descending** order, specify the named argument `reverse = True`. Syntax is \n",
    ">```\n",
    ">sort(your_list, reverse = True)\n",
    ">```\n",
    "\n",
    "By default the reverse condition will be `False` for reverse. Hence changing it to True would arrange the elements in descending order."
   ]
  },
  {
   "cell_type": "markdown",
   "metadata": {},
   "source": [
    "#### Exercise 3.10\n",
    "\n",
    "* Check out the documentation of `list.sort()` method\n",
    "* Sort following list in <u>ascending</u> order, and then in <u>descending</u> order \n",
    "```\n",
    "jc = ['tmjc','vjc','tjc','yijc''acjc','njc','hci','asrjc','jpjc','rjc','cjc','mi','dhs','ejc','sajc','nyjc']\n",
    "\n",
    "```"
   ]
  },
  {
   "cell_type": "code",
   "execution_count": null,
   "metadata": {},
   "outputs": [],
   "source": [
    "# YOUR CODE HERE"
   ]
  },
  {
   "cell_type": "markdown",
   "metadata": {},
   "source": [
    "#### Exercise 3.11\n",
    "\n",
    "* What's the difference between `list.sort()` method and `sort()` function?\n",
    "* Write code to illustrate the difference.\n"
   ]
  },
  {
   "cell_type": "code",
   "execution_count": null,
   "metadata": {},
   "outputs": [],
   "source": [
    "# YOUR CODE HERE"
   ]
  },
  {
   "cell_type": "markdown",
   "metadata": {},
   "source": [
    "The `sort()` function has another named argument `key`, which allows us to specify a callable function to adjust our sorting criteria. Syntax is\n",
    ">```\n",
    ">sort(your_list, key = your_function)\n",
    ">```\n",
    "\n",
    "The sorting will be done based on returned value from this callable function. \n"
   ]
  },
  {
   "cell_type": "markdown",
   "metadata": {},
   "source": [
    "#### Exercise 3.12\n",
    "\n",
    "For following list of items, sort them by number of characters in each item.\n",
    "* *Hint:* The `len()` function returns length of a string. To sort based on string length, `key = len` can be specified as shown.\n",
    "\n",
    "```\n",
    "names = ['duck', 'chicken', 'goose']\n",
    "```"
   ]
  },
  {
   "cell_type": "code",
   "execution_count": null,
   "metadata": {},
   "outputs": [],
   "source": [
    "# YOUR CODE HERE"
   ]
  },
  {
   "cell_type": "markdown",
   "metadata": {},
   "source": [
    "#### Exercise 3.13\n",
    "\n",
    "For a list `[-1, 5, -30, -10, 2, 20, -3]`, sort the list in descending order by their absolute value. \n",
    "* *Hint:* The `abs()` function returns absolute value of a number."
   ]
  },
  {
   "cell_type": "code",
   "execution_count": null,
   "metadata": {
    "tags": [
     "hide-cell"
    ]
   },
   "outputs": [],
   "source": [
    "# YOUR CODE HERE"
   ]
  },
  {
   "cell_type": "markdown",
   "metadata": {},
   "source": [
    "Two lists can also be join together simply using `+` operator. This is called the **concatenation of lists**.\n",
    "\n",
    "#### Exercise 3.14\n",
    "\n",
    "Concatenate the lists `[1,2,3,4,5]` and `[6,7,8,9]`"
   ]
  },
  {
   "cell_type": "code",
   "execution_count": null,
   "metadata": {},
   "outputs": [],
   "source": [
    "# YOUR CODE HERE"
   ]
  },
  {
   "cell_type": "markdown",
   "metadata": {},
   "source": [
    "Similar to String, we can repeat a list multiple times with `*` operator. \n",
    "\n",
    "#### Exercise 3.15  \n",
    "\n",
    "Create a list `[1,2,3,1,2,3,1,2,3,1,2,3]` from list `[1,2,3]`.\n"
   ]
  },
  {
   "cell_type": "code",
   "execution_count": null,
   "metadata": {},
   "outputs": [],
   "source": [
    "# YOUR CODE HERE"
   ]
  },
  {
   "cell_type": "markdown",
   "metadata": {},
   "source": [
    "Recap: String has many similar behaviors as list.\n",
    "\n",
    "#### Exercise 3.16\n",
    "\n",
    "* How to concatenate 2 strings?\n",
    "* How to repeat a string 2 times?"
   ]
  },
  {
   "cell_type": "code",
   "execution_count": null,
   "metadata": {},
   "outputs": [],
   "source": [
    "# YOUR CODE HERE"
   ]
  },
  {
   "cell_type": "markdown",
   "metadata": {},
   "source": [
    "#### 3.1.1.4 Membership and Searching elements in a list\n",
    "\n",
    "You might need to check if a particular item is in a list.\n",
    "\n",
    "Instead of using `for` loop to iterate over the list and use the if condition, Python provides a simple **`in`** statement to check membership of an item.\n",
    "\n",
    "#### Exercise 3.17\n",
    "\n",
    "Write code to find out whether `duck` and `dog` are in the list `['duck', 'chicken', 'goose']` respectively. "
   ]
  },
  {
   "cell_type": "code",
   "execution_count": null,
   "metadata": {},
   "outputs": [],
   "source": [
    "# YOUR CODE HERE"
   ]
  },
  {
   "cell_type": "markdown",
   "metadata": {},
   "source": [
    "To count the occurence of a particular item in a list, we can use the `.count()` method. Syntax is\n",
    ">```\n",
    ">your_list.count(item)\n",
    ">```\n",
    "\n",
    "#### Exercise 3.18\n",
    "* Create a list `['duck', 'chicken', 'goose', 'duck', 'chicken', 'goose', 'duck', 'chicken', 'goose']` from `['duck', 'chicken', 'goose']`\n",
    "* Count number of occurence of `'duck'`"
   ]
  },
  {
   "cell_type": "code",
   "execution_count": null,
   "metadata": {},
   "outputs": [],
   "source": [
    "# YOUR CODE HERE"
   ]
  },
  {
   "cell_type": "markdown",
   "metadata": {},
   "source": [
    "To find the index value of a particular item, we can use `.index()` method. Syntax is\n",
    ">```\n",
    ">your_list.index(item)\n",
    ">```\n",
    "\n",
    "* If there are multiple items of the same value, only the first index value of that item is returned.\n",
    "* You can add 2nd argument `x` to start searching from index `x` onwards.\n",
    "\n",
    "Note: the string functions `find()` and `rfind()` are <u>not available</u> for list.\n",
    "\n",
    "#### Exercise 3.19\n",
    "* Create a list `['duck', 'chicken', 'goose', 'duck', 'chicken', 'goose', 'duck', 'chicken', 'goose']` from `['duck', 'chicken', 'goose']`\n",
    "* Find the index of the first occurence of `'duck'` in the list.\n",
    "* Find ALL the indices of occurences of `'duck'` in the list."
   ]
  },
  {
   "cell_type": "code",
   "execution_count": null,
   "metadata": {},
   "outputs": [],
   "source": [
    "# YOUR CODE HERE\n",
    "#### Exercise 3.19"
   ]
  },
  {
   "cell_type": "markdown",
   "metadata": {},
   "source": [
    "#### 3.1.1.5 Iterating through List\n",
    "\n",
    "To iterate through a collection, e.g. list or tuple, you can use **for-loop**.\n",
    "\n",
    ">```\n",
    ">for item in my_list:\n",
    ">    # Process each item\n",
    ">```\n",
    "\n",
    "#### Exercise 3.20\n",
    "\n",
    "Print out each item in `names` list.\n",
    "```\n",
    "names = ['duck', 'chicken', 'goose']\n",
    "```"
   ]
  },
  {
   "source": [
    "# YOUR CODE HERE"
   ],
   "cell_type": "code",
   "metadata": {},
   "execution_count": null,
   "outputs": []
  },
  {
   "cell_type": "markdown",
   "metadata": {},
   "source": [
    "To find the index value of each item in the list, we can use `enumerate()` function. Syntax is\n",
    ">```\n",
    ">enumerate(your_list)\n",
    ">```\n",
    "\n",
    "#### Exercise 3.21\n",
    "* Print items in list `['duck', 'chicken', 'goose']` as following output.\n",
    "\n",
    ">```\n",
    ">0 duck\n",
    ">1 chicken\n",
    ">2 goose\n",
    ">```"
   ]
  },
  {
   "cell_type": "markdown",
   "metadata": {},
   "source": [
    "Python provides a very handy way to perform same operate on all items in a list, and return a new list, called *list comprehension*.\n",
    "\n",
    "#### Exercise 3.21\n",
    "\n",
    "Create a list which contains len() value of each item in `['duck', 'chicken', 'goose']`\n"
   ]
  },
  {
   "cell_type": "code",
   "execution_count": null,
   "metadata": {},
   "outputs": [],
   "source": [
    "# YOUR CODE HERE"
   ]
  },
  {
   "source": [
    "#### Exercise 3.22\n",
    "\n",
    "Create a list which contain the first 100 terms of an arithmetic sequence with first term 2 and common difference 3."
   ],
   "cell_type": "markdown",
   "metadata": {}
  },
  {
   "cell_type": "code",
   "execution_count": null,
   "metadata": {},
   "outputs": [],
   "source": [
    "# YOUR CODE HERE"
   ]
  },
  {
   "cell_type": "markdown",
   "metadata": {},
   "source": [
    "#### Exercise 3.23\n",
    "How to prefix all items with a string 'big', which resulted in `['big duck', 'big chicken', 'big goose']`?\n",
    "\n",
    "```\n",
    "names = ['duck', 'chicken', 'goose']\n",
    "```"
   ]
  },
  {
   "cell_type": "code",
   "execution_count": null,
   "metadata": {
    "tags": [
     "hide-cell"
    ]
   },
   "outputs": [],
   "source": [
    "# YOUR CODE HERE"
   ]
  },
  {
   "cell_type": "markdown",
   "metadata": {},
   "source": [
    "#### 3.1.1.4 Modifying a list\n",
    "\n",
    "List is a **mutable** collection, i.e. list can be modified and item value can be updated."
   ]
  },
  {
   "cell_type": "markdown",
   "metadata": {},
   "source": [
    "It is easy to update an item in the list by its index value.\n",
    "\n",
    "#### Exercise 3.24\n",
    "\n",
    "For a list `s = [0,1,2,3,4]`, update its 3rd item to `9`."
   ]
  },
  {
   "cell_type": "code",
   "execution_count": null,
   "metadata": {},
   "outputs": [],
   "source": [
    "# YOUR CODE HERE"
   ]
  },
  {
   "cell_type": "markdown",
   "metadata": {},
   "source": [
    "The `list.append( )` method is used to append (add) a element at the end of the list. Syntax is\n",
    ">```\n",
    ">your_list.append(element)\n",
    ">```\n",
    "\n",
    "#### Exercise 3.24\n",
    "\n",
    "For a list `s = [0,1,2,3,4,5]`, append a value `6` to it."
   ]
  },
  {
   "cell_type": "code",
   "execution_count": null,
   "metadata": {},
   "outputs": [],
   "source": [
    "# YOUR CODE HERE"
   ]
  },
  {
   "cell_type": "markdown",
   "metadata": {},
   "source": [
    "#### Exercise 3.24\n",
    "\n",
    "What happens if you append a list `[7,8,9]` to a list `[1,2,3,4,5]`?\n"
   ]
  },
  {
   "cell_type": "code",
   "execution_count": null,
   "metadata": {
    "tags": [
     "hide-cell"
    ]
   },
   "outputs": [],
   "source": [
    "# YOUR CODE HERE"
   ]
  },
  {
   "cell_type": "markdown",
   "metadata": {},
   "source": [
    "A list can also be **extended** with items from another list using `list.extend()` method. It will modify the first list. The resultant list will contain all the elements of the lists that were added, i.e. the resultant list is NOT a nested list. Syntax is\n",
    ">```\n",
    ">your_list.extend(another_list)\n",
    ">```\n",
    "\n",
    "**Note** the difference between `append()` and `extend()`."
   ]
  },
  {
   "cell_type": "markdown",
   "metadata": {},
   "source": [
    "\n",
    "#### Exercise 3.25\n",
    "\n",
    "Extend a list `[1,2,3,4,5,6]` with all items in another list `[7,8,9]`."
   ]
  },
  {
   "cell_type": "code",
   "execution_count": null,
   "metadata": {},
   "outputs": [],
   "source": [
    "# YOUR CODE HERE"
   ]
  },
  {
   "cell_type": "markdown",
   "metadata": {},
   "source": [
    "**Question:**\n",
    "\n",
    "* Can you re-write above code using `+` operator?\n",
    "* Can you insert `[7,8,9]` in the middle of `[1,2,3,4,5,6]` using `+` operator?"
   ]
  },
  {
   "cell_type": "code",
   "execution_count": null,
   "metadata": {
    "tags": [
     "hide-cell"
    ]
   },
   "outputs": [],
   "source": [
    "# YOUR CODE HERE"
   ]
  },
  {
   "cell_type": "markdown",
   "metadata": {},
   "source": [
    "The method `list.insert(position,new_value)` is used to insert a element `new_value` at a specified index value `position`. Syntax is\n",
    ">```\n",
    ">your_list.insert(position,new_value)\n",
    ">```\n",
    "\n",
    "* `list.insert()` method does not replace element at the index.\n",
    "* `list.append( )` method can only insert item at the end.\n",
    "\n",
    "#### Exercise 3.26\n",
    "\n",
    "Use `list.insert()` method to modify a string `'What a day'` to `'What a sunny day'`.\n",
    "* *Hint:* Use `str.split()` and `str.join()` methods."
   ]
  },
  {
   "cell_type": "code",
   "execution_count": null,
   "metadata": {},
   "outputs": [],
   "source": [
    "# YOUR CODE HERE"
   ]
  },
  {
   "cell_type": "markdown",
   "metadata": {},
   "source": [
    "`list.pop( )` method can be used to remove the last element in the list. This is similar to the operation of a stack (which we will cover later in the course.) Syntax is\n",
    ">```\n",
    ">your_list.pop()\n",
    ">```\n",
    "\n",
    "#### Exercise 3.27\n",
    "\n",
    "Use `list.pop()` function to remove items in list `[0,1,2,3,4]` in reverse order."
   ]
  },
  {
   "cell_type": "code",
   "execution_count": null,
   "metadata": {},
   "outputs": [],
   "source": [
    "# YOUR CODE HERE"
   ]
  },
  {
   "cell_type": "markdown",
   "metadata": {},
   "source": [
    "Index value can be specified to `list.pop()` method to remove a certain element corresponding to that index value. Syntax is\n",
    ">```\n",
    ">your_list.pop(index)\n",
    ">```\n",
    "\n",
    "#### Exercise 3.28\n",
    "\n",
    "Use `list.pop()` method to remove `'c'` from list `['a','b','c','d','e']`."
   ]
  },
  {
   "cell_type": "markdown",
   "metadata": {},
   "source": [
    "`list.remove( )` method is used to remove an item based on its value. Syntax is\n",
    ">```\n",
    ">your_list.remove(value)\n",
    ">```\n",
    "\n",
    "* If there are multiple items of same value, it will only remove 1st item.\n",
    "* It will throw an **exception** if the value is not found in the list. You may need to enclose it with `try-except` block. (We will come back to this)\n",
    "\n",
    "#### Exercise 3.29\n",
    "\n",
    "Use `list.remove()` function to remove value `3` three times.\n",
    "\n",
    "```\n",
    "lst = [0,1,2,3,4] * 2\n",
    "```"
   ]
  },
  {
   "cell_type": "code",
   "execution_count": null,
   "metadata": {},
   "outputs": [],
   "source": [
    "# YOUR CODE HERE"
   ]
  },
  {
   "cell_type": "markdown",
   "metadata": {},
   "source": [
    "#### Exercise 3.30\n",
    "\n",
    "How to remove all valus `3` in the list `[1,2,3,4,1,2,3,4,1,2,3,4]`?\n",
    "* *Hint:* Use `while`, `try-except`, and `break`"
   ]
  },
  {
   "cell_type": "code",
   "execution_count": null,
   "metadata": {
    "tags": [
     "hide-cell"
    ]
   },
   "outputs": [],
   "source": [
    "# YOUR CODE HERE"
   ]
  },
  {
   "cell_type": "markdown",
   "metadata": {},
   "source": [
    "To clear all elements in a list, use its `list.clear()` method.\n",
    "\n",
    "#### Exercise 3.31\n",
    "\n",
    "Clear all items in `s = [1,2,3]`."
   ]
  },
  {
   "cell_type": "code",
   "execution_count": null,
   "metadata": {},
   "outputs": [],
   "source": [
    "# YOUR CODE HERE"
   ]
  },
  {
   "cell_type": "markdown",
   "metadata": {},
   "source": [
    "## Recap\n",
    "\n",
    "* How to create a new list?\n",
    "* Can a list hold elements of different data type?\n",
    "* Why do you need multiple level indexing?\n",
    "* Name 3 functions or operators which works with list.\n",
    "* What is the keyword used to check membership in a list?\n",
    "* How to add an item to a list? \n",
    "* How to remove an item from a list?\n",
    "* How to merge 2 lists?"
   ]
  }
 ],
 "metadata": {
  "kernelspec": {
   "display_name": "Python 3",
   "language": "python",
   "name": "python3"
  },
  "language_info": {
   "codemirror_mode": {
    "name": "ipython",
    "version": 3
   },
   "file_extension": ".py",
   "mimetype": "text/x-python",
   "name": "python",
   "nbconvert_exporter": "python",
   "pygments_lexer": "ipython3",
   "version": "3.8.3-final"
  }
 },
 "nbformat": 4,
 "nbformat_minor": 1
}