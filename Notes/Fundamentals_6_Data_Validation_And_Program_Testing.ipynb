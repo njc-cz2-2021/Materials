{
 "cells": [
  {
   "cell_type": "markdown",
   "metadata": {},
   "source": [
    "# Learning Objectives\n",
    "\n",
    "- [ ]  2.4.1 Explain the difference between data validation and data verification.\n",
    "- [ ]  2.4.2 Understand data validation techniques such as:\n",
    "    - range check\n",
    "    - format check\n",
    "    - length check\n",
    "    - presence check\n",
    "    - check digit\n",
    "- [ ]  2.4.3 Identify, explain and correct syntax, logic and runtime errors.\n",
    "- [ ]  2.4.4 Design appropriate test cases using normal, abnormal and extreme data for testing and debugging programs.\n"
   ]
  },
  {
   "cell_type": "markdown",
   "metadata": {},
   "source": [
    "# 6 Program Testing and Data Validation\n"
   ]
  },
  {
   "cell_type": "markdown",
   "metadata": {},
   "source": [
    "# 6.1 Errors\n",
    "\n",
    "When writing programs, it can be common to encounter various errors and bugs. In order to ensure that these are eradicated, programmers typically follow various debugging and testing mechanisms, as well as various commonly accepted good programming practices.\n",
    "\n",
    "Programs may not perform as expected for a number of reasons. In general, errors made while writing a program may include \n",
    "\n",
    "- Syntax errors\n",
    "- Static semantic errors\n",
    "- Logic errors\n",
    "- Arithmetic errors\n",
    "\n",
    "Some of the errors above also falls under the category of **runtime error**, an error that occurs during the execution of a program."
   ]
  },
  {
   "cell_type": "markdown",
   "metadata": {},
   "source": [
    "## 6.1.1 Syntax Error\n",
    "\n",
    "A syntax error corresponds to a structural error of a program such that the code violates the grammar, or rules, of the programming language. In general these are easy to debug since a diagnostic message (that identifies where and what the error) will typically be output by the interpreter or compiler that is translating your code. Typically, only code that is free of any syntax errors will be made executable.\n",
    "\n",
    "Consider the following examples of a syntax error (in Python):\n"
   ]
  },
  {
   "cell_type": "code",
   "execution_count": 1,
   "metadata": {},
   "outputs": [
    {
     "ename": "SyntaxError",
     "evalue": "invalid syntax (<ipython-input-1-7111fb4bb4b0>, line 1)",
     "output_type": "error",
     "traceback": [
      "\u001b[1;36m  File \u001b[1;32m\"<ipython-input-1-7111fb4bb4b0>\"\u001b[1;36m, line \u001b[1;32m1\u001b[0m\n\u001b[1;33m    if A >>> B:\u001b[0m\n\u001b[1;37m           ^\u001b[0m\n\u001b[1;31mSyntaxError\u001b[0m\u001b[1;31m:\u001b[0m invalid syntax\n"
     ]
    }
   ],
   "source": [
    "if A >>> B:\n",
    "    return(\"A is greater than B\")"
   ]
  },
  {
   "cell_type": "markdown",
   "metadata": {},
   "source": [
    "Note that in this case, the syntax error corresponds to the use of the operator `>>>`, which does not exist in Python, and thus constitutes a syntax error (note: `>` should have been used in place of `>>>`)."
   ]
  },
  {
   "cell_type": "code",
   "execution_count": null,
   "metadata": {},
   "outputs": [],
   "source": [
    "x = int('123'"
   ]
  },
  {
   "cell_type": "markdown",
   "metadata": {},
   "source": [
    "## 6.1.2 Static Semantic Errors\n",
    "\n",
    "Loosely speaking, a static semantic error corresponds to an error that, while syntactically correct, results in an error because of improper use of program statements.\n",
    "\n",
    "Typically, we rely on testing to determine if such errors exist, and may also rely on exception handling if any form of external input is required (e.g., data to be specified by a user or read from a file).\n",
    "\n",
    "Consider the following example of static semantic error (in Python):"
   ]
  },
  {
   "cell_type": "code",
   "execution_count": null,
   "metadata": {},
   "outputs": [],
   "source": [
    "#Example 6.1.2.1\n",
    "#The `TypeError` occurs when a function is called on a value of an inappropriate type.\n",
    "s = 'my string'\n",
    "s = s - 2"
   ]
  },
  {
   "cell_type": "markdown",
   "metadata": {},
   "source": [
    "While the above code is syntactically correct, it will cause a runtime error (i.e., an error causes your program to stop unexpectedly - i.e., to crash or freeze - when run) as the code contains a static semantic error: we may not use the `-` operation on a string (first operand) and an integer (second operand); the subtraction operator must only be used with numeric (e.g., `int` and/or `float`) operands."
   ]
  },
  {
   "cell_type": "code",
   "execution_count": null,
   "metadata": {},
   "outputs": [],
   "source": [
    "#Example 6.1.2.2\n",
    "#The `NameError` will occur if an unknown variable/object is used, i.e. using an object before creating it.\n",
    "print(my_invisible_var)"
   ]
  },
  {
   "cell_type": "markdown",
   "metadata": {},
   "source": []
  },
  {
   "cell_type": "code",
   "execution_count": null,
   "metadata": {},
   "outputs": [],
   "source": [
    "#Example 6.1.2.3\n",
    "#The `IndexError` occurs if you try to access an item by index which is outside the range of the list.\n",
    "arr = [1,2,3]\n",
    "arr[3]"
   ]
  },
  {
   "cell_type": "code",
   "execution_count": null,
   "metadata": {},
   "outputs": [],
   "source": [
    "#Example 6.1.2.4\n",
    "#The `ValueError` occurs when a function is called on a value of the correct type, but with an inappropriate value.\n",
    "#For example, `int()` function is expecting its input to be a string of numerical type.\n",
    "x = int('a')"
   ]
  },
  {
   "cell_type": "code",
   "execution_count": null,
   "metadata": {},
   "outputs": [],
   "source": [
    "#Example 6.1.2.5\n",
    "#Functions and variables of an object are collectly called `attributes`. When you try to access a non-existent attribute, e.g. due to typo mistake, an AttributeError will occur.\n",
    "s = list(range(9))\n",
    "s.sort1()"
   ]
  },
  {
   "cell_type": "markdown",
   "metadata": {},
   "source": [
    "You can view the full list of Error classes in Python, by using `*Error?`"
   ]
  },
  {
   "cell_type": "code",
   "execution_count": null,
   "metadata": {},
   "outputs": [],
   "source": [
    "*Error?"
   ]
  },
  {
   "cell_type": "markdown",
   "metadata": {},
   "source": [
    "## 6.1.3 Logical Errors\n",
    "\n",
    "Perhaps the most difficult kinds of errors to resolve are the logic errors. These errors correspond to those that allow a program to run, but produce an unintended or undesired result. These are generally difficult to debug because no error messages are output by the compiler/interpreter. In order to find and correct such errors, we must typically manually trace the code (note that this will be explained in greater detail later in Section 6.3).\n",
    "\n",
    "Consider the following example of a semantic/logic error (in Python):\n"
   ]
  },
  {
   "cell_type": "code",
   "execution_count": null,
   "metadata": {},
   "outputs": [],
   "source": [
    "from math import pi\n",
    "area = pi * (radius**3)"
   ]
  },
  {
   "cell_type": "markdown",
   "metadata": {},
   "source": [
    "Obviously, the incorrect formula for calculating the area of a circle has been utilised. However, this cannot be determined by the compiler/interpreter."
   ]
  },
  {
   "cell_type": "markdown",
   "metadata": {},
   "source": [
    "## 6.1.4 Arithmetic Errors\n",
    "\n",
    "Finally, we may also encounter arithmetic errors, which arise from illegal mathematical expressions. As this type of error will not be flagged by the compiler/interpreter, a runtime error  will occur.\n",
    " \n",
    "Some examples of such errors include:\n",
    "\n",
    "- A division by 0 error.\n",
    "- An overflow error; i.e., a result of an arithmetic expression may result in a value that is too large to fit into the finite number of bits, which in turn may lead to wrong/negative values being stored.\n",
    "- An underflow error; i.e., a result of an arithmetic expression may result in a value that is too small to fit into the finite number of bits, which in turn may lead to zero being stored.\n",
    "- Approximation errors; i.e., the precise value of an arithmetic expression by not be stored due to the limitations of the floating point representation of decimal values. "
   ]
  },
  {
   "cell_type": "code",
   "execution_count": null,
   "metadata": {},
   "outputs": [],
   "source": [
    "a = 10**0.5\n",
    "print(a**2)"
   ]
  },
  {
   "cell_type": "markdown",
   "metadata": {},
   "source": [
    "# 6.2 Error Handling\n",
    "\n",
    "Handling of exception in important and common in Python code. This is because python believes in `\"Ask for forgiveness not permission\"`.\n",
    "\n",
    "To handle exceptions, use a `try/except` statement.\n",
    "* The `try` block contains code that might throw an exception. \n",
    "* If that exception occurs, the remaining code in the `try` block will be **skipped**, and the code in the `except` block is run. \n",
    "* If no error occurs, the code in the `except` block doesn't run.\n",
    "\n",
    "Syntax is:\n",
    "\n",
    ">```python\n",
    ">try:\n",
    ">   <some_code>\n",
    ">except:\n",
    ">   <some_code>\n",
    ">```"
   ]
  },
  {
   "cell_type": "markdown",
   "metadata": {},
   "source": [
    "**Exercise:**\n",
    "\n",
    "Use `try-except` to make sure `result = 100/0` statement doesn't cause program to fail. \n",
    "* Print out `No division by zero` when exception occurs."
   ]
  },
  {
   "cell_type": "code",
   "execution_count": null,
   "metadata": {},
   "outputs": [],
   "source": [
    "#YOUR_CODE_HERE"
   ]
  },
  {
   "cell_type": "markdown",
   "metadata": {},
   "source": [
    "**Exercise:**\n",
    "\n",
    "1. Run code below\n",
    "2. Change `x = int('a')` to `x = int('999')` and try again."
   ]
  },
  {
   "cell_type": "code",
   "execution_count": null,
   "metadata": {},
   "outputs": [],
   "source": [
    "try:\n",
    "    print('point 1')\n",
    "    x = int('a')\n",
    "#    x = int('999')\n",
    "    print(\"point 2\")\n",
    "except ValueError:\n",
    "    print(\"point 3\")"
   ]
  },
  {
   "cell_type": "markdown",
   "metadata": {},
   "source": [
    "An `except` statement without any exception specified will catch all errors. This is a bad practice as it may catch unexpected errors and hide programming mistakes. Thus, you should specify the error you're expecting in your code.\n",
    "\n",
    "**Example:**"
   ]
  },
  {
   "cell_type": "code",
   "execution_count": null,
   "metadata": {},
   "outputs": [],
   "source": [
    "try:\n",
    "    x = 10/ 0\n",
    "except:\n",
    "    print('An error occurred')"
   ]
  },
  {
   "cell_type": "markdown",
   "metadata": {},
   "source": [
    "A `try` statement can have multiple different `except` blocks to handle different exceptions.\n",
    "\n",
    "Multiple exceptions can also be put into a single except block using parentheses, to have the except block handle all of them."
   ]
  },
  {
   "cell_type": "markdown",
   "metadata": {},
   "source": [
    "**Exercise:**\n",
    "\n",
    "1. Run code below\n",
    "2. Comment/uncomment `y` assignment statement(s) and try again to see different exceptions."
   ]
  },
  {
   "cell_type": "code",
   "execution_count": null,
   "metadata": {},
   "outputs": [],
   "source": [
    "try:\n",
    "    x = 10\n",
    "#   y = int('abc')\n",
    "#   y = x / 0\n",
    "    y = x + \"hello\"\n",
    "    print('No exception')\n",
    "except ZeroDivisionError:\n",
    "    print(\"Divided by zero\")\n",
    "except (ValueError, TypeError):\n",
    "    print(\"ValueError or TypeError occurred\")"
   ]
  },
  {
   "cell_type": "markdown",
   "metadata": {},
   "source": [
    "You can print out the exception object, e.g. in log file, to find out more information about the error.\n",
    "\n",
    "**Exercise:**\n",
    "\n",
    "1. Run code below\n",
    "2. Comment/uncomment `y` assignment statement(s) and try again to see different exceptions."
   ]
  },
  {
   "cell_type": "code",
   "execution_count": null,
   "metadata": {},
   "outputs": [],
   "source": [
    "try:\n",
    "    x = 10\n",
    "#   y = int('abc')\n",
    "#   y = x / 0\n",
    "    y = x + \"hello\"\n",
    "    print('No exception')\n",
    "except Exception as e:\n",
    "    # by default, the print function will convert the object passed into a string object\n",
    "    print(str(e))\n",
    "    print(repr(e))"
   ]
  },
  {
   "cell_type": "markdown",
   "metadata": {},
   "source": [
    "The `traceback` module provides methods for formatting and printing exceptions and their calling stacks, which is helpful in identifying the cause of error.\n",
    "\n",
    "**Example**"
   ]
  },
  {
   "cell_type": "code",
   "execution_count": null,
   "metadata": {},
   "outputs": [],
   "source": [
    "import traceback\n",
    "\n",
    "try:\n",
    "    x = 10\n",
    "#   y = int('abc')\n",
    "#   y = x / 0\n",
    "    y = x + \"hello\"\n",
    "    print('No exception')\n",
    "except Exception:\n",
    "    traceback.print_exc()"
   ]
  },
  {
   "cell_type": "markdown",
   "metadata": {},
   "source": [
    "The `except` code block is placed after `try/except` statements.\n",
    "\n",
    "If error does not occur, i.e. `except` code block is not executed, `else` code block will run.\n",
    "\n",
    "The `finally` code block is placed at the bottom of a `try/except/else` statement. \n",
    "\n",
    "Code within a `finally` statement always runs regardless whether an exception happens. \n",
    "\n",
    "This is good place to put some code which always need to run, e.g. clean up or release resource.\n",
    "\n",
    "**Exercise**\n",
    "\n",
    "Comment/uncomment the statement `print(1 / 0)` and examine the printouts."
   ]
  },
  {
   "cell_type": "code",
   "execution_count": null,
   "metadata": {},
   "outputs": [],
   "source": [
    "try:\n",
    "    #print(\"try\")\n",
    "    print(1 / 0)\n",
    "except ZeroDivisionError:    # execute if exeption\n",
    "    print(\"except\")\n",
    "else:     # execute if no exception\n",
    "    print(\"else\")\n",
    "finally:  # always execute\n",
    "    print(\"finally\")"
   ]
  },
  {
   "cell_type": "markdown",
   "metadata": {},
   "source": [
    "#### Example\n",
    "Close file regardless whether file operation is successful or not. "
   ]
  },
  {
   "cell_type": "code",
   "execution_count": null,
   "metadata": {},
   "outputs": [],
   "source": [
    "try:\n",
    "    f = open('abc', 'wb')\n",
    "    f.write('abc')    # Error occurs\n",
    "except Exception as e:\n",
    "    print(repr(e))\n",
    "finally:\n",
    "    print('Close file')\n",
    "    f.close()"
   ]
  },
  {
   "cell_type": "markdown",
   "metadata": {},
   "source": [
    "# 6.3 Program Testing\n",
    "\n",
    "In order to ensure that any code we write will function correctly under all possible circumstances, we must employ testing. This is especially pertinent to logic and arithmetic errors, but is also applicable to static semantic errors (though it typically has no bearing on syntax errors since testing for that is handled by the interpreter/compiler).\n",
    "\n",
    "In order to ensure that the program under scrutiny functions as intended, appropriate test cases must be specified. Test cases fall into 3 categories:\n",
    "\n",
    "- Normal (valid) cases\n",
    "- Boundary (extreme) cases\n",
    "- Abnormal (erroneous) cases\n",
    "\n",
    "It should be noted that testing encompasses a more complex framework for larger projects that involve many programmers. For the purposes of these notes, we will restrict testing to individual algorithms and smaller snippets of code.\n"
   ]
  },
  {
   "cell_type": "markdown",
   "metadata": {},
   "source": [
    "## 6.3.1 Normal Test Cases\n",
    "Normal data values correspond to data that would normally be input into the program. With such test cases, the program should accept the test case, process it, and output a result that is checked to ensure that it is the same as the expected result.\n"
   ]
  },
  {
   "cell_type": "markdown",
   "metadata": {},
   "source": [
    "## 6.3.2 Boundary Test Cases\n",
    "Boundary data values correspond to values that are chosen to be the absolute limits of the normal range. Extreme values are used in testing to make sure that all normal values will be accepted and processed correctly."
   ]
  },
  {
   "cell_type": "markdown",
   "metadata": {},
   "source": [
    "## 6.3.3 Abnormal Test Cases\n",
    "Abnormal data values correspond to values that should not normally be accepted by the system - the values are invalid. The program should reject any abnormal values. Abnormal values are used in testing to ensure that invalid data does not cause a runtime error."
   ]
  },
  {
   "cell_type": "markdown",
   "metadata": {},
   "source": [
    "# 6.4 Data Validation\n",
    "\n",
    "**Data validation** is the process to confirm if input data conforms to required specifications in presence, existence, accuracy, length, range, format, etc, typically validated by computerized means (program testing), and performed at time of data entry. \n",
    "\n",
    "Validation corresponds to automated checking to ensures that input data is acceptable/reasonable - i.e., it ensure that the data has the correct type and format; it does not, however, guarantee that the data is accurate. \n",
    "\n",
    "An example of validation would be to check data strings corresponding to NRIC or car registration plate numbers.\n",
    "\n",
    "Data validation techniques include:\n",
    "- range check : check if the input data is within the acceptable range/region.\n",
    "- format check : check if characters in each position of an input matches the correct layout; this applies to code numbers which may have a complex format.\n",
    "- length check : check if the input data has a specified number/range of characters.\n",
    "- presence check : check for empty fields.\n",
    "- check digit : check for simple errors in the input of a series of digits such as a single mistyped digit or some permutations of two successive digits.\n",
    "\n",
    "Data Validation differs from **data verification**, which is the process of ensuring transferred data matches source data.  It typically involves automated or manual inspection (by human) and is performed after data is inputted to the system. \n",
    "\n",
    "An example of verification takes place during a typical account registration process, whereby the inputs of email and password are typically asked twice to ensure accuracy."
   ]
  },
  {
   "cell_type": "markdown",
   "metadata": {},
   "source": [
    "## Example\n",
    "\n",
    "Write a Python code to check the validity of a password (input from users).\n",
    "\n",
    "Validation :\n",
    "\n",
    "- Password cannot be an empty string.\n",
    "- At least 1 lowercase letter between `[a-z]` and 1 uppercase letter between `[A-Z]`.\n",
    "- At least 1 number between `[0-9]`.\n",
    "- At least 1 character from `[$#@]`.\n",
    "- Minimum length 6 characters.\n",
    "- Maximum length 16 characters."
   ]
  },
  {
   "cell_type": "code",
   "execution_count": null,
   "metadata": {},
   "outputs": [],
   "source": []
  }
 ],
 "metadata": {
  "kernelspec": {
   "display_name": "Python 3",
   "language": "python",
   "name": "python3"
  },
  "language_info": {
   "codemirror_mode": {
    "name": "ipython",
    "version": 3
   },
   "file_extension": ".py",
   "mimetype": "text/x-python",
   "name": "python",
   "nbconvert_exporter": "python",
   "pygments_lexer": "ipython3",
   "version": "3.7.6"
  },
  "metadata": {
   "interpreter": {
    "hash": "dcacb0086e9a4f4eabd41c33bf4faac5ea0a3337ed3f5eff0680afa930572c04"
   }
  }
 },
 "nbformat": 4,
 "nbformat_minor": 2
}
