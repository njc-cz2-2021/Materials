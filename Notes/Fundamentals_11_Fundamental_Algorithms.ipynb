{
 "cells": [
  {
   "cell_type": "markdown",
   "source": [
    "# Learning Objectives\n",
    "\n",
    "- [ ] 1.2.1 Implement sort algorithms.\n",
    "    - Insertion sort\n",
    "    - Bubble sort\n",
    "    - Quicksort\n",
    "    - Merge sort\n",
    "- [ ] 1.2.2 Use examples to explain sort algorithms.\n",
    "- [ ] 1.2.3 Implement search algorithms.\n",
    "    - Linear search\n",
    "    - Binary search\n",
    "    - Hash table search (after Abstract Data Type)\n",
    "- [ ] 1.2.4 Use Examples to explain search algorithms.\n",
    "- [ ] 1.2.5 Compare and describe the efficiencies of the sort and search algorithms using Big-$O$ notation for time complexity (worst case). Exclude: space complexity\n",
    "- [ ] 2.3.1 Implement sort programs.\n",
    "    - Insertion sort\n",
    "    - Bubble sort\n",
    "    - Quicksort\n",
    "    - Merge sort\n",
    "- [ ] 2.3.2 Implement search programs.\n",
    "    - Linear search\n",
    "    - Binary search\n",
    "    - Hash table search (after Abstract Data Type)\n",
    "\n",
    "# References\n",
    "\n",
    "1. Leadbetter, C., Blackford, R., & Piper, T. (2012). Cambridge international AS and A level computing coursebook. Cambridge: Cambridge University Press.\n",
    "2. https://www.sparknotes.com/cs/sorting/bubble/section1/#:~:text=The%20total%20number%20of%20comparisons,since%20no%20swaps%20were%20made.\n",
    "3. https://visualgo.net/en"
   ],
   "metadata": {}
  },
  {
   "cell_type": "markdown",
   "source": [
    "# 10.1 Search Algorithm\n",
    "\n",
    "A search algorithm is an algorithm to retrieve information from some data structure. Some examples include:\n",
    "- Finding the maximum or minimum value in a list or array\n",
    "- Checking to see if a given value is present in a set of values\n",
    "- Retrieving a record from a database"
   ],
   "metadata": {}
  },
  {
   "cell_type": "markdown",
   "source": [
    "## 10.1.1 Linear Search\r\n",
    "\r\n",
    "A **linear search**, also called **serial** or **sequential** searches an item in a given array sequentially till the end of the collection. It does not require the data to be in any particular order. \r\n",
    "\r\n",
    "To find the position of a particular value involves looking at each value in turn – starting with the first – and comparing it with the value you are looking for. When the value is found, you need to note its position. You must also be able to report the special case that a value has not been found. This last part only becomes apparent when the search has reached the final data item without finding the required value.\r\n",
    "\r\n",
    "### Example\r\n",
    "\r\n",
    "In this example, you have the array `[10,14,19,26,27,31,33,35,42,44]` and you are looking for the value `33` in the array.\r\n",
    "\r\n",
    "<center>\r\n",
    "<img src=\"images/algorithm_linear_search.gif\" width=\"400\" align=\"center\"/>\r\n",
    "</center>\r\n",
    "\r\n",
    "The pseudocode for linear search function is given below. It returns the index of the searched value in the array if it exists. In the case that the value is not in the array, the function returns `-1`."
   ],
   "metadata": {}
  },
  {
   "cell_type": "code",
   "execution_count": null,
   "source": [
    "FUNCTION LINEARSEARCH(A: ARRAY of INTEGER, t: INTEGER) RETURNS INTEGER\r\n",
    "    DECLARE index: INTEGER\r\n",
    "\tindex ← -1\r\n",
    "\tFOR i = 1 TO A.SIZE\r\n",
    "\t\tIF A[i] = t THEN\r\n",
    "\t\t\tindex ← i\r\n",
    "\t\t\tBREAK\r\n",
    "\t\tENDIF\r\n",
    "\tENDFOR\r\n",
    "\tRETURN index\r\n",
    "ENDFUNCTION"
   ],
   "outputs": [],
   "metadata": {}
  },
  {
   "cell_type": "markdown",
   "source": [
    "### Exercise\r\n",
    "\r\n",
    "Implement a function `linear_search(array, val)` which searches the list `array` for a value `val` using the linear search algorithm.\r\n",
    "\r\n",
    "Test your function with the following list\r\n",
    "> `\r\n",
    "[39, 96, 51, 20, 42, 42, 74, 28, 66, 16, 10, 86, 6, 43, 67, 98, 32, 73, 99, 7, 80, 88, 57, 83, 1, 64, 33, 38, 38, 8, 68, 38, 42, 80, 71, 82, 25, 29, 2, 85, 2, 96, 34, 14, 9, 65, 50, 63, 99, 94, 5, 93, 84, 46, 64, 22, 59, 31, 74, 13, 93, 13, 98, 93]`\r\n",
    "\r\n",
    "with the values `9` and `2`. What do you observe for the latter value?"
   ],
   "metadata": {}
  },
  {
   "cell_type": "code",
   "execution_count": 6,
   "source": [
    "#YOUR_CODE_HERE\r\n",
    "def linear_search(array,val):\r\n",
    "    index = -1\r\n",
    "    for i in range(0,len(array)):\r\n",
    "        if array[i] == val:\r\n",
    "            index = i\r\n",
    "            break\r\n",
    "    return index\r\n",
    "\r\n",
    "array = [39, 96, 51, 20, 42, 42, 74, 28, 66, 16, 10, 86, 6, 43, 67, 98, 32, 73, 99, 7, 80, 88, 57, 83, 1, 64, 33, 38, 38, 8, 68, 38, 42, 80, 71, 82, 25, 29, 2, 85, 2, 96, 34, 14, 9, 65, 50, 63, 99, 94, 5, 93, 84, 46, 64, 22, 59, 31, 74, 13, 93, 13, 98, 93]\r\n",
    "\r\n",
    "print(linear_search(array,9))\r\n",
    "print(linear_search(array,2))"
   ],
   "outputs": [
    {
     "output_type": "stream",
     "name": "stdout",
     "text": [
      "44\n",
      "38\n"
     ]
    }
   ],
   "metadata": {}
  },
  {
   "cell_type": "markdown",
   "source": [
    "In linear search, all items are searched one-by-one to find the required item.\r\n",
    "\r\n",
    "If the array has $n$ elements to be compared to,\r\n",
    "\r\n",
    "- The best-case lookup to find an item is $1$ comparison, i.e., the item is at the head of the array.\r\n",
    "- The worst-case lookup to find an item is $n$ comparisons, i.e. the item is at the end of the array.\r\n",
    "- The average lookup to find an item is approximately $\\frac{n}{2}$ comparisons. \r\n",
    "\r\n",
    "Clearly, if $n$ is large,  this can be a very large number of comparisons and the serial search algorithm can take a long time.\r\n",
    "\r\n",
    "Consequently, we have for serial search,\r\n",
    "- Advantage:\r\n",
    "    - algorithm is straightforward and easy to implement,\r\n",
    "    - data need not be in any particular order,\r\n",
    "    - works well if there is a small number of data item.\r\n",
    "- Disadvantage:\r\n",
    "    - search can take a long time if value of $n$ is large, i.e. inefficient if there is a large number of data items.\r\n",
    "\r\n",
    "-\tVariations:\r\n",
    "    -\tSearch target requires a different criteria (not just object existence).\r\n",
    "    -\tMust find all instances of target.\r\n",
    "    -\tMust find particular instance of target (first, last, etc.).\r\n",
    "    -\tMust find object just greater/smaller than target.\r\n"
   ],
   "metadata": {}
  },
  {
   "cell_type": "markdown",
   "source": [
    "## 10.1.2 Binary Search\r\n",
    "\r\n",
    "In the previous section, we looked at linear search where the data is not required to be stored in any particular order. On the other hand, if we know that the data is stored in an ascending order, we can utilize the another algorithm called the **binary search**. \r\n",
    "\r\n",
    "Workings of binary search algorithm:\r\n",
    "- First check the MIDDLE element in the list.\r\n",
    "- If it is the value we want, we can stop.\r\n",
    "- If it is HIGHER than the value we want, we repeat the search process with the portion of the list BEFORE the middle element.\r\n",
    "- If it is LOWER than the value we want, we repeat the search process with the portion of the list AFTER the middle element.\r\n",
    "\r\n",
    "The following example illustrates the case where we're looking for the value `19` in the following sorted array.\r\n",
    "\r\n",
    "<center>\r\n",
    "<img src=\"images/algorithm_binary_search.jpg\" height=\"400\" align=\"center\"/>\r\n",
    "</center>\r\n",
    "\r\n",
    "Note that  if there is an even number of values in the array, dividing by two gives a whole number and we split the array there. However, if the array consists of an odd number of values we need to find the integer part of it, as an array index must be an integer. \r\n",
    "\r\n",
    "The pseudocode for binary search function is given below. It returns the index of the searched value in the array if it exists. In the case that the value is not in the array, the function returns `-1`.\r\n",
    "\r\n",
    "### Example\r\n",
    "\r\n",
    "In this example, you have the array `[3,4,5,7,8,9,10,12,15,19,20,21,22,24,25]` and you are looking for the value `22` in the array.\r\n",
    "\r\n",
    "<center>\r\n",
    "<img src=\"images/algorithm_binary_search.gif\" height=\"150\" align=\"center\"/>\r\n",
    "</center>"
   ],
   "metadata": {}
  },
  {
   "cell_type": "code",
   "execution_count": null,
   "source": [
    "FUNCTION BinarySearch(A: ARRAY of INTEGER, t: INTEGER) RETURNS INTEGER\r\n",
    "\tDECLARE start, mid, end: INTEGER\r\n",
    "\tstart ← 1\r\n",
    "\tend ← A.SIZE\r\n",
    "\tWHILE start <= end DO\r\n",
    "\t\tmid ← (start + end) DIV 2\r\n",
    "\t\tIF t = A[mid] THEN\r\n",
    "\t\t\tRETURN mid\r\n",
    "\t\tENDIF\r\n",
    "\t\tIF t < A[mid] THEN\r\n",
    "\t\t\tend ← mid – 1\r\n",
    "\t\tELSE\r\n",
    "\t\t\tstart ← mid + 1\r\n",
    "\t\tENDIF\r\n",
    "\tENDWHILE\r\n",
    "\tRETURN -1\r\n",
    "ENDFUNCTION"
   ],
   "outputs": [],
   "metadata": {}
  },
  {
   "cell_type": "markdown",
   "source": [
    "### Exercise\r\n",
    "\r\n",
    "Implement a function `binary_search(array, val)` which searches the list `array` for a value `val` using the binary search algorithm described above.\r\n",
    "\r\n",
    "Test your function with the following list\r\n",
    "> `\r\n",
    "[39, 96, 51, 20, 42, 42, 74, 28, 66, 16, 10, 86, 6, 43, 67, 98, 32, 73, 99, 7, 80, 88, 57, 83, 1, 64, 33, 38, 38, 8, 68, 38, 42, 80, 71, 82, 25, 29, 2, 85, 2, 96, 34, 14, 9, 65, 50, 63, 99, 94, 5, 93, 84, 46, 64, 22, 59, 31, 74, 13, 93, 13, 98, 93]`\r\n",
    "\r\n",
    "with the values `9` and `2`."
   ],
   "metadata": {}
  },
  {
   "cell_type": "code",
   "execution_count": 4,
   "source": [
    "#YOUR_CODE_HERE\r\n",
    "\r\n",
    "def binary_search(array,val):\r\n",
    "    start = 0\r\n",
    "    end = len(array)\r\n",
    "    while start <end :\r\n",
    "        mid = (start + end ) //2\r\n",
    "        if val == array[mid]:\r\n",
    "            return mid\r\n",
    "        if val < array[mid]:\r\n",
    "            end = mid - 1\r\n",
    "        else:\r\n",
    "            start = mid + 1\r\n",
    "    return -1\r\n",
    "\r\n",
    "array = [39, 96, 51, 20, 42, 42, 74, 28, 66, 16, 10, 86, 6, 43, 67, 98, 32, 73, 99, 7, 80, 88, 57, 83, 1, 64, 33, 38, 38, 8, 68, 38, 42, 80, 71, 82, 25, 29, 2, 85, 2, 96, 34, 14, 9, 65, 50, 63, 99, 94, 5, 93, 84, 46, 64, 22, 59, 31, 74, 13, 93, 13, 98, 93]\r\n",
    "sorted_array = sorted(array)\r\n",
    "print(sorted_array)\r\n",
    "print(binary_search(sorted_array,9))\r\n",
    "print(binary_search(sorted_array,2))"
   ],
   "outputs": [
    {
     "output_type": "stream",
     "name": "stdout",
     "text": [
      "[1, 2, 2, 5, 6, 7, 8, 9, 10, 13, 13, 14, 16, 20, 22, 25, 28, 29, 31, 32, 33, 34, 38, 38, 38, 39, 42, 42, 42, 43, 46, 50, 51, 57, 59, 63, 64, 64, 65, 66, 67, 68, 71, 73, 74, 74, 80, 80, 82, 83, 84, 85, 86, 88, 93, 93, 93, 94, 96, 96, 98, 98, 99, 99]\n",
      "7\n",
      "1\n"
     ]
    }
   ],
   "metadata": {}
  },
  {
   "cell_type": "code",
   "execution_count": 10,
   "source": [
    "def binary_search_rec(array, low, high,val):\r\n",
    "    if high >= low:\r\n",
    "        mid = (low+high)//2\r\n",
    "        if array[mid]==val:\r\n",
    "            return mid\r\n",
    "        elif array[mid]<val:\r\n",
    "            return binary_search_rec(array,mid+1,high,val)\r\n",
    "        elif val<array[mid]:\r\n",
    "            return binary_search_rec(array,low,mid-1,val)\r\n",
    "    else:\r\n",
    "        return -1"
   ],
   "outputs": [],
   "metadata": {}
  },
  {
   "cell_type": "markdown",
   "source": [
    "If the array has $n$ elements to be compared to,\n",
    "\n",
    "- The best-case lookup to find an item is $1$ comparison, i.e., the item is at the middle of the array.\n",
    "- The worst-case lookup to find an item is approximately $\\log_2{n}$ comparisons."
   ],
   "metadata": {}
  },
  {
   "cell_type": "code",
   "execution_count": null,
   "source": [
    "#YOUR_CODE_HERE"
   ],
   "outputs": [],
   "metadata": {}
  },
  {
   "cell_type": "markdown",
   "source": [
    "Jupyter Notebook provides a magic function `%timeit` and `%%timeit` to time a code execution.\n",
    "* `%timeit` is used to time a single line of statement\n",
    "* `%%timeit` is used to time all codes in a cell. `%%timeit` must be placed at first line of cell. \n",
    "\n",
    "### Exercise \n",
    "Use `%timeit` to time the code executions for both the functions:\n",
    "- `linear_search`,\n",
    "- `binary_search`\n",
    "\n",
    "that you have coded in the previous exercise, using the \n",
    "> `\n",
    "[39, 96, 51, 20, 42, 42, 74, 28, 66, 16, 10, 86, 6, 43, 67, 98, 32, 73, 99, 7, 80, 88, 57, 83, 1, 64, 33, 38, 38, 8, 68, 38, 42, 80, 71, 82, 25, 29, 2, 85, 2, 96, 34, 14, 9, 65, 50, 63, 99, 94, 5, 93, 84, 46, 64, 22, 59, 31, 74, 13, 93, 13, 98, 93]`\n",
    "\n",
    "with the search value `9`."
   ],
   "metadata": {}
  },
  {
   "cell_type": "code",
   "execution_count": 7,
   "source": [
    "%%timeit\r\n",
    "#YOUR_CODE_HERE\r\n",
    "array = [39, 96, 51, 20, 42, 42, 74, 28, 66, 16, 10, 86, 6, 43, 67, 98, 32, 73, 99, 7, 80, 88, 57, 83, 1, 64, 33, 38, 38, 8, 68, 38, 42, 80, 71, 82, 25, 29, 2, 85, 2, 96, 34, 14, 9, 65, 50, 63, 99, 94, 5, 93, 84, 46, 64, 22, 59, 31, 74, 13, 93, 13, 98, 93]\r\n",
    "linear_search(array,98)"
   ],
   "outputs": [
    {
     "output_type": "stream",
     "name": "stdout",
     "text": [
      "1.37 µs ± 25.7 ns per loop (mean ± std. dev. of 7 runs, 1000000 loops each)\n"
     ]
    }
   ],
   "metadata": {}
  },
  {
   "cell_type": "code",
   "execution_count": 8,
   "source": [
    "%%timeit\r\n",
    "#YOUR_CODE_HERE\r\n",
    "array = [39, 96, 51, 20, 42, 42, 74, 28, 66, 16, 10, 86, 6, 43, 67, 98, 32, 73, 99, 7, 80, 88, 57, 83, 1, 64, 33, 38, 38, 8, 68, 38, 42, 80, 71, 82, 25, 29, 2, 85, 2, 96, 34, 14, 9, 65, 50, 63, 99, 94, 5, 93, 84, 46, 64, 22, 59, 31, 74, 13, 93, 13, 98, 93]\r\n",
    "binary_search(sorted(array),98)"
   ],
   "outputs": [
    {
     "output_type": "stream",
     "name": "stdout",
     "text": [
      "4.14 µs ± 242 ns per loop (mean ± std. dev. of 7 runs, 100000 loops each)\n"
     ]
    }
   ],
   "metadata": {}
  },
  {
   "cell_type": "code",
   "execution_count": 11,
   "source": [
    "%%timeit\r\n",
    "#YOUR_CODE_HERE\r\n",
    "array = [39, 96, 51, 20, 42, 42, 74, 28, 66, 16, 10, 86, 6, 43, 67, 98, 32, 73, 99, 7, 80, 88, 57, 83, 1, 64, 33, 38, 38, 8, 68, 38, 42, 80, 71, 82, 25, 29, 2, 85, 2, 96, 34, 14, 9, 65, 50, 63, 99, 94, 5, 93, 84, 46, 64, 22, 59, 31, 74, 13, 93, 13, 98, 93]\r\n",
    "binary_search_rec(sorted(array),0,len(98)"
   ],
   "outputs": [
    {
     "output_type": "error",
     "ename": "TypeError",
     "evalue": "binary_search_rec() missing 2 required positional arguments: 'high' and 'val'",
     "traceback": [
      "\u001b[1;31m---------------------------------------------------------------------------\u001b[0m",
      "\u001b[1;31mTypeError\u001b[0m                                 Traceback (most recent call last)",
      "\u001b[1;32m<ipython-input-11-4a3f6cf564ac>\u001b[0m in \u001b[0;36m<module>\u001b[1;34m\u001b[0m\n\u001b[1;32m----> 1\u001b[1;33m \u001b[0mget_ipython\u001b[0m\u001b[1;33m(\u001b[0m\u001b[1;33m)\u001b[0m\u001b[1;33m.\u001b[0m\u001b[0mrun_cell_magic\u001b[0m\u001b[1;33m(\u001b[0m\u001b[1;34m'timeit'\u001b[0m\u001b[1;33m,\u001b[0m \u001b[1;34m''\u001b[0m\u001b[1;33m,\u001b[0m \u001b[1;34m'#YOUR_CODE_HERE\\r\\narray = [39, 96, 51, 20, 42, 42, 74, 28, 66, 16, 10, 86, 6, 43, 67, 98, 32, 73, 99, 7, 80, 88, 57, 83, 1, 64, 33, 38, 38, 8, 68, 38, 42, 80, 71, 82, 25, 29, 2, 85, 2, 96, 34, 14, 9, 65, 50, 63, 99, 94, 5, 93, 84, 46, 64, 22, 59, 31, 74, 13, 93, 13, 98, 93]\\r\\nbinary_search_rec(sorted(array),98)\\n'\u001b[0m\u001b[1;33m)\u001b[0m\u001b[1;33m\u001b[0m\u001b[1;33m\u001b[0m\u001b[0m\n\u001b[0m",
      "\u001b[1;32m~\\Anaconda3\\lib\\site-packages\\IPython\\core\\interactiveshell.py\u001b[0m in \u001b[0;36mrun_cell_magic\u001b[1;34m(self, magic_name, line, cell)\u001b[0m\n\u001b[0;32m   2379\u001b[0m             \u001b[1;32mwith\u001b[0m \u001b[0mself\u001b[0m\u001b[1;33m.\u001b[0m\u001b[0mbuiltin_trap\u001b[0m\u001b[1;33m:\u001b[0m\u001b[1;33m\u001b[0m\u001b[1;33m\u001b[0m\u001b[0m\n\u001b[0;32m   2380\u001b[0m                 \u001b[0margs\u001b[0m \u001b[1;33m=\u001b[0m \u001b[1;33m(\u001b[0m\u001b[0mmagic_arg_s\u001b[0m\u001b[1;33m,\u001b[0m \u001b[0mcell\u001b[0m\u001b[1;33m)\u001b[0m\u001b[1;33m\u001b[0m\u001b[1;33m\u001b[0m\u001b[0m\n\u001b[1;32m-> 2381\u001b[1;33m                 \u001b[0mresult\u001b[0m \u001b[1;33m=\u001b[0m \u001b[0mfn\u001b[0m\u001b[1;33m(\u001b[0m\u001b[1;33m*\u001b[0m\u001b[0margs\u001b[0m\u001b[1;33m,\u001b[0m \u001b[1;33m**\u001b[0m\u001b[0mkwargs\u001b[0m\u001b[1;33m)\u001b[0m\u001b[1;33m\u001b[0m\u001b[1;33m\u001b[0m\u001b[0m\n\u001b[0m\u001b[0;32m   2382\u001b[0m             \u001b[1;32mreturn\u001b[0m \u001b[0mresult\u001b[0m\u001b[1;33m\u001b[0m\u001b[1;33m\u001b[0m\u001b[0m\n\u001b[0;32m   2383\u001b[0m \u001b[1;33m\u001b[0m\u001b[0m\n",
      "\u001b[1;32m<decorator-gen-61>\u001b[0m in \u001b[0;36mtimeit\u001b[1;34m(self, line, cell, local_ns)\u001b[0m\n",
      "\u001b[1;32m~\\Anaconda3\\lib\\site-packages\\IPython\\core\\magic.py\u001b[0m in \u001b[0;36m<lambda>\u001b[1;34m(f, *a, **k)\u001b[0m\n\u001b[0;32m    185\u001b[0m     \u001b[1;31m# but it's overkill for just that one bit of state.\u001b[0m\u001b[1;33m\u001b[0m\u001b[1;33m\u001b[0m\u001b[1;33m\u001b[0m\u001b[0m\n\u001b[0;32m    186\u001b[0m     \u001b[1;32mdef\u001b[0m \u001b[0mmagic_deco\u001b[0m\u001b[1;33m(\u001b[0m\u001b[0marg\u001b[0m\u001b[1;33m)\u001b[0m\u001b[1;33m:\u001b[0m\u001b[1;33m\u001b[0m\u001b[1;33m\u001b[0m\u001b[0m\n\u001b[1;32m--> 187\u001b[1;33m         \u001b[0mcall\u001b[0m \u001b[1;33m=\u001b[0m \u001b[1;32mlambda\u001b[0m \u001b[0mf\u001b[0m\u001b[1;33m,\u001b[0m \u001b[1;33m*\u001b[0m\u001b[0ma\u001b[0m\u001b[1;33m,\u001b[0m \u001b[1;33m**\u001b[0m\u001b[0mk\u001b[0m\u001b[1;33m:\u001b[0m \u001b[0mf\u001b[0m\u001b[1;33m(\u001b[0m\u001b[1;33m*\u001b[0m\u001b[0ma\u001b[0m\u001b[1;33m,\u001b[0m \u001b[1;33m**\u001b[0m\u001b[0mk\u001b[0m\u001b[1;33m)\u001b[0m\u001b[1;33m\u001b[0m\u001b[1;33m\u001b[0m\u001b[0m\n\u001b[0m\u001b[0;32m    188\u001b[0m \u001b[1;33m\u001b[0m\u001b[0m\n\u001b[0;32m    189\u001b[0m         \u001b[1;32mif\u001b[0m \u001b[0mcallable\u001b[0m\u001b[1;33m(\u001b[0m\u001b[0marg\u001b[0m\u001b[1;33m)\u001b[0m\u001b[1;33m:\u001b[0m\u001b[1;33m\u001b[0m\u001b[1;33m\u001b[0m\u001b[0m\n",
      "\u001b[1;32m~\\Anaconda3\\lib\\site-packages\\IPython\\core\\magics\\execution.py\u001b[0m in \u001b[0;36mtimeit\u001b[1;34m(self, line, cell, local_ns)\u001b[0m\n\u001b[0;32m   1167\u001b[0m             \u001b[1;32mfor\u001b[0m \u001b[0mindex\u001b[0m \u001b[1;32min\u001b[0m \u001b[0mrange\u001b[0m\u001b[1;33m(\u001b[0m\u001b[1;36m0\u001b[0m\u001b[1;33m,\u001b[0m \u001b[1;36m10\u001b[0m\u001b[1;33m)\u001b[0m\u001b[1;33m:\u001b[0m\u001b[1;33m\u001b[0m\u001b[1;33m\u001b[0m\u001b[0m\n\u001b[0;32m   1168\u001b[0m                 \u001b[0mnumber\u001b[0m \u001b[1;33m=\u001b[0m \u001b[1;36m10\u001b[0m \u001b[1;33m**\u001b[0m \u001b[0mindex\u001b[0m\u001b[1;33m\u001b[0m\u001b[1;33m\u001b[0m\u001b[0m\n\u001b[1;32m-> 1169\u001b[1;33m                 \u001b[0mtime_number\u001b[0m \u001b[1;33m=\u001b[0m \u001b[0mtimer\u001b[0m\u001b[1;33m.\u001b[0m\u001b[0mtimeit\u001b[0m\u001b[1;33m(\u001b[0m\u001b[0mnumber\u001b[0m\u001b[1;33m)\u001b[0m\u001b[1;33m\u001b[0m\u001b[1;33m\u001b[0m\u001b[0m\n\u001b[0m\u001b[0;32m   1170\u001b[0m                 \u001b[1;32mif\u001b[0m \u001b[0mtime_number\u001b[0m \u001b[1;33m>=\u001b[0m \u001b[1;36m0.2\u001b[0m\u001b[1;33m:\u001b[0m\u001b[1;33m\u001b[0m\u001b[1;33m\u001b[0m\u001b[0m\n\u001b[0;32m   1171\u001b[0m                     \u001b[1;32mbreak\u001b[0m\u001b[1;33m\u001b[0m\u001b[1;33m\u001b[0m\u001b[0m\n",
      "\u001b[1;32m~\\Anaconda3\\lib\\site-packages\\IPython\\core\\magics\\execution.py\u001b[0m in \u001b[0;36mtimeit\u001b[1;34m(self, number)\u001b[0m\n\u001b[0;32m    167\u001b[0m         \u001b[0mgc\u001b[0m\u001b[1;33m.\u001b[0m\u001b[0mdisable\u001b[0m\u001b[1;33m(\u001b[0m\u001b[1;33m)\u001b[0m\u001b[1;33m\u001b[0m\u001b[1;33m\u001b[0m\u001b[0m\n\u001b[0;32m    168\u001b[0m         \u001b[1;32mtry\u001b[0m\u001b[1;33m:\u001b[0m\u001b[1;33m\u001b[0m\u001b[1;33m\u001b[0m\u001b[0m\n\u001b[1;32m--> 169\u001b[1;33m             \u001b[0mtiming\u001b[0m \u001b[1;33m=\u001b[0m \u001b[0mself\u001b[0m\u001b[1;33m.\u001b[0m\u001b[0minner\u001b[0m\u001b[1;33m(\u001b[0m\u001b[0mit\u001b[0m\u001b[1;33m,\u001b[0m \u001b[0mself\u001b[0m\u001b[1;33m.\u001b[0m\u001b[0mtimer\u001b[0m\u001b[1;33m)\u001b[0m\u001b[1;33m\u001b[0m\u001b[1;33m\u001b[0m\u001b[0m\n\u001b[0m\u001b[0;32m    170\u001b[0m         \u001b[1;32mfinally\u001b[0m\u001b[1;33m:\u001b[0m\u001b[1;33m\u001b[0m\u001b[1;33m\u001b[0m\u001b[0m\n\u001b[0;32m    171\u001b[0m             \u001b[1;32mif\u001b[0m \u001b[0mgcold\u001b[0m\u001b[1;33m:\u001b[0m\u001b[1;33m\u001b[0m\u001b[1;33m\u001b[0m\u001b[0m\n",
      "\u001b[1;32m<magic-timeit>\u001b[0m in \u001b[0;36minner\u001b[1;34m(_it, _timer)\u001b[0m\n",
      "\u001b[1;31mTypeError\u001b[0m: binary_search_rec() missing 2 required positional arguments: 'high' and 'val'"
     ]
    }
   ],
   "metadata": {}
  },
  {
   "cell_type": "markdown",
   "source": [
    "# 10.2 Sorting Algorithms\n",
    "\n",
    "Sorting refers to arranging a fixed set of data in a particular order. Sorting orders could be numerical (`1`,`2`, `3`, ...), lexicographical/dictionary (`AA`, `AB`, `AC`, ...) or custom ('Mon', 'Tue', 'Wed', ...).\n",
    "\n",
    "Sorting algorithms specify ways to arrange data in particular ways to put the data in order. In this section, it is assumed that the sorted data is in ascending order."
   ],
   "metadata": {}
  },
  {
   "cell_type": "markdown",
   "source": [
    "## 10.1 Insertion Sort\r\n",
    "\r\n",
    "In insertion sort algorithm, we compare each element, termed `key` element, in turn with the elements before it in the array. We then insert the `key` element into its correct position in the array.\r\n",
    "\r\n",
    "### Example\r\n",
    "\r\n",
    "In this example, the array `[6,5,3,1,8,7,2,4]` is sorted with insertion sort.\r\n",
    "\r\n",
    "<center>\r\n",
    "<img src=\"images/algorithm_insertion_sort.gif\" height=\"250\" align=\"center\"/>\r\n",
    "</center>\r\n",
    "\r\n",
    "The pseudocode for insertion sort function for an array containing integer elements is given below:"
   ],
   "metadata": {}
  },
  {
   "cell_type": "code",
   "execution_count": null,
   "source": [
    "FUNCTION InsertionSort(A: ARRAY of INTEGER) RETURNS ARRAY of INTEGER\r\n",
    "\tDECLARE j, temp: INTEGER\r\n",
    "    FOR i = 2 to A.SIZE\r\n",
    "        j ← i\r\n",
    "        WHILE j > 1 AND A[j] < A[j – 1] DO\r\n",
    "            temp ← A[j]\r\n",
    "            A[j] ← A[j - 1]\r\n",
    "            A[j - 1] ← temp\r\n",
    "            j ← j - 1\r\n",
    "        ENDWHILE\r\n",
    "    ENDFOR\r\n",
    "    RETURN A\r\n",
    "ENDFUNCTION"
   ],
   "outputs": [],
   "metadata": {}
  },
  {
   "cell_type": "markdown",
   "source": [
    "### Exercise\r\n",
    "\r\n",
    "Implement a function `insertion_sort(array)` which sorts the list `array` in the ascending order according to the insertion algorithm given above.\r\n",
    "\r\n",
    "Test your function with the following list\r\n",
    "> `\r\n",
    "[39, 96, 51, 20, 42, 42, 74, 28, 66, 16, 10, 86, 6, 43, 67, 98, 32, 73, 99, 7, 80, 88, 57, 83, 1, 64, 33, 38, 38, 8, 68, 38, 42, 80, 71, 82, 25, 29, 2, 85, 2, 96, 34, 14, 9, 65, 50, 63, 99, 94, 5, 93, 84, 46, 64, 22, 59, 31, 74, 13, 93, 13, 98, 93]`."
   ],
   "metadata": {}
  },
  {
   "cell_type": "code",
   "execution_count": 18,
   "source": [
    "#YOUR_CODE_HERE\r\n",
    "arr = [6,5,3,1,8,7,2,4]\r\n",
    "print(insertion_sort(arr))"
   ],
   "outputs": [
    {
     "output_type": "stream",
     "name": "stdout",
     "text": [
      "[6, 5, 3, 1, 8, 7, 2, 4]\n",
      "key is at position 1\n",
      "[6, 6, 3, 1, 8, 7, 2, 4]\n",
      "[5, 6, 3, 1, 8, 7, 2, 4]\n",
      "---------------\n",
      "[5, 6, 3, 1, 8, 7, 2, 4]\n",
      "key is at position 2\n",
      "[5, 6, 6, 1, 8, 7, 2, 4]\n",
      "[5, 5, 6, 1, 8, 7, 2, 4]\n",
      "[3, 5, 6, 1, 8, 7, 2, 4]\n",
      "---------------\n",
      "[3, 5, 6, 1, 8, 7, 2, 4]\n",
      "key is at position 3\n",
      "[3, 5, 6, 6, 8, 7, 2, 4]\n",
      "[3, 5, 5, 6, 8, 7, 2, 4]\n",
      "[3, 3, 5, 6, 8, 7, 2, 4]\n",
      "[1, 3, 5, 6, 8, 7, 2, 4]\n",
      "---------------\n",
      "[1, 3, 5, 6, 8, 7, 2, 4]\n",
      "key is at position 4\n",
      "[1, 3, 5, 6, 8, 7, 2, 4]\n",
      "---------------\n",
      "[1, 3, 5, 6, 8, 7, 2, 4]\n",
      "key is at position 5\n",
      "[1, 3, 5, 6, 8, 8, 2, 4]\n",
      "[1, 3, 5, 6, 7, 8, 2, 4]\n",
      "---------------\n",
      "[1, 3, 5, 6, 7, 8, 2, 4]\n",
      "key is at position 6\n",
      "[1, 3, 5, 6, 7, 8, 8, 4]\n",
      "[1, 3, 5, 6, 7, 7, 8, 4]\n",
      "[1, 3, 5, 6, 6, 7, 8, 4]\n",
      "[1, 3, 5, 5, 6, 7, 8, 4]\n",
      "[1, 3, 3, 5, 6, 7, 8, 4]\n",
      "[1, 2, 3, 5, 6, 7, 8, 4]\n",
      "---------------\n",
      "[1, 2, 3, 5, 6, 7, 8, 4]\n",
      "key is at position 7\n",
      "[1, 2, 3, 5, 6, 7, 8, 8]\n",
      "[1, 2, 3, 5, 6, 7, 7, 8]\n",
      "[1, 2, 3, 5, 6, 6, 7, 8]\n",
      "[1, 2, 3, 5, 5, 6, 7, 8]\n",
      "[1, 2, 3, 4, 5, 6, 7, 8]\n",
      "---------------\n",
      "[1, 2, 3, 4, 5, 6, 7, 8]\n"
     ]
    }
   ],
   "metadata": {}
  },
  {
   "cell_type": "code",
   "execution_count": 25,
   "source": [
    "arr = [6,5,3,1,8,7,2,4]\r\n",
    "print(insertion_sort_ori(arr))"
   ],
   "outputs": [
    {
     "output_type": "stream",
     "name": "stdout",
     "text": [
      "[6, 5, 3, 1, 8, 7, 2, 4]\n",
      "key is at position 1\n",
      "[5, 6, 3, 1, 8, 7, 2, 4]\n",
      "---------------\n",
      "[5, 6, 3, 1, 8, 7, 2, 4]\n",
      "key is at position 2\n",
      "[5, 3, 6, 1, 8, 7, 2, 4]\n",
      "[3, 5, 6, 1, 8, 7, 2, 4]\n",
      "---------------\n",
      "[3, 5, 6, 1, 8, 7, 2, 4]\n",
      "key is at position 3\n",
      "[3, 5, 1, 6, 8, 7, 2, 4]\n",
      "[3, 1, 5, 6, 8, 7, 2, 4]\n",
      "[1, 3, 5, 6, 8, 7, 2, 4]\n",
      "---------------\n",
      "[1, 3, 5, 6, 8, 7, 2, 4]\n",
      "key is at position 4\n",
      "---------------\n",
      "[1, 3, 5, 6, 8, 7, 2, 4]\n",
      "key is at position 5\n",
      "[1, 3, 5, 6, 7, 8, 2, 4]\n",
      "---------------\n",
      "[1, 3, 5, 6, 7, 8, 2, 4]\n",
      "key is at position 6\n",
      "[1, 3, 5, 6, 7, 2, 8, 4]\n",
      "[1, 3, 5, 6, 2, 7, 8, 4]\n",
      "[1, 3, 5, 2, 6, 7, 8, 4]\n",
      "[1, 3, 2, 5, 6, 7, 8, 4]\n",
      "[1, 2, 3, 5, 6, 7, 8, 4]\n",
      "---------------\n",
      "[1, 2, 3, 5, 6, 7, 8, 4]\n",
      "key is at position 7\n",
      "[1, 2, 3, 5, 6, 7, 4, 8]\n",
      "[1, 2, 3, 5, 6, 4, 7, 8]\n",
      "[1, 2, 3, 5, 4, 6, 7, 8]\n",
      "[1, 2, 3, 4, 5, 6, 7, 8]\n",
      "---------------\n",
      "[1, 2, 3, 4, 5, 6, 7, 8]\n"
     ]
    }
   ],
   "metadata": {}
  },
  {
   "cell_type": "markdown",
   "source": [
    "Note:\r\n",
    "- The outer for-loop in Insertion Sort function always iterates $n-1$ times.\r\n",
    "- The inner while-loop will make $1 + 2 + 3 ... + (n-1)=\\frac{n(n-1)}{2}$ comparisons in worst case."
   ],
   "metadata": {}
  },
  {
   "cell_type": "markdown",
   "source": [
    "# 10.2 Bubble Sort\r\n",
    "\r\n",
    "The next sorting algorithm iterates over an array multiple times. \r\n",
    "* In each iteration, it takes 2 consecutive elements and compare them. \r\n",
    "* It swaps the smaller value to the left and larger value to the right.\r\n",
    "* It repeats until the larger elements \"bubble up\" to the end of the list, and the smaller elements moves to the \"bottom\". This is the reason for the naming of the algorithm.\r\n",
    "* The right-hand side of the array are sorted. \r\n",
    "\r\n",
    "### Example\r\n",
    "\r\n",
    "In this example, the array `[6,5,3,1,8,7,2,4]` is sorted with bubble sort.\r\n",
    "\r\n",
    "<center>\r\n",
    "<img src=\"images/algorithm_bubble_sort.gif\" height=\"250\" align=\"center\"/>\r\n",
    "</center>\r\n",
    "\r\n",
    "We see that\r\n",
    "* For 1st iteration, we need to make $n-1$ comparisons. It will bring the largest value to the extreme right.\r\n",
    "* For 2nd iteration, we need to make $n-2$ comparisons. It will bring 2nd largest value to the 2nd extreme right.\r\n",
    "* And so on...\r\n",
    "\r\n",
    "Consequently, we need a nested loops to make multiple iterations. \r\n",
    "\r\n",
    "The pseudocode for bubble sort function for an array containing integer elements is given below:"
   ],
   "metadata": {}
  },
  {
   "cell_type": "code",
   "execution_count": null,
   "source": [
    "FUNCTION BubbleSort(A: ARRAY of INTEGER) RETURNS ARRAY of INTEGER\r\n",
    "    DECLARE swap: BOOLEAN\r\n",
    "    DECLARE temp: INTEGER\r\n",
    "    FOR i = 1 to (A.SIZE – 1)\r\n",
    "        swap ← FALSE\r\n",
    "        FOR j = 1 to (A.SIZE – i)\r\n",
    "            IF A[j] > A[j + 1] THEN\r\n",
    "                temp ← A[j]\r\n",
    "                A[j] ← A[j + 1]\r\n",
    "                A[j + 1] ← temp\r\n",
    "                swap ← TRUE\r\n",
    "            ENDIF\r\n",
    "        ENDFOR\r\n",
    "        IF NOT swap THEN\r\n",
    "            BREAK\r\n",
    "        ENDIF\r\n",
    "    ENDFOR\r\n",
    "    RETURN A\r\n",
    "ENDFUNCTION\r\n"
   ],
   "outputs": [],
   "metadata": {}
  },
  {
   "cell_type": "code",
   "execution_count": 28,
   "source": [
    "a = [6,5,3,1,8,7,2,4]\r\n",
    "def BubbleSort(a):\r\n",
    "    for i in range(0,len(a)-1):\r\n",
    "        swap = False\r\n",
    "        \r\n",
    "        for j in range(0,len(a)-i-1):\r\n",
    "            \r\n",
    "            if a[j] > a[j+1]:\r\n",
    "                temp = a[j]\r\n",
    "                a[j] = a[j+1]\r\n",
    "                a[j+1] = temp\r\n",
    "                swap = True\r\n",
    "\r\n",
    "        if swap == False:\r\n",
    "            break\r\n",
    "\r\n",
    "    return a    \r\n",
    "\r\n",
    "BubbleSort(a)"
   ],
   "outputs": [
    {
     "output_type": "execute_result",
     "data": {
      "text/plain": [
       "[1, 2, 3, 4, 5, 6, 7, 8]"
      ]
     },
     "metadata": {},
     "execution_count": 28
    }
   ],
   "metadata": {}
  },
  {
   "cell_type": "markdown",
   "source": [
    "### Exercise\n",
    "\n",
    "Implement a function `bubble_sort(array)` which sorts the list `array` in the ascending order according to the bubble algorithm given above.\n",
    "\n",
    "Test your function with the following list\n",
    "> `\n",
    "[39, 96, 51, 20, 42, 42, 74, 28, 66, 16, 10, 86, 6, 43, 67, 98, 32, 73, 99, 7, 80, 88, 57, 83, 1, 64, 33, 38, 38, 8, 68, 38, 42, 80, 71, 82, 25, 29, 2, 85, 2, 96, 34, 14, 9, 65, 50, 63, 99, 94, 5, 93, 84, 46, 64, 22, 59, 31, 74, 13, 93, 13, 98, 93]`."
   ],
   "metadata": {}
  },
  {
   "cell_type": "code",
   "execution_count": null,
   "source": [
    "#YOUR_CODE_HERE"
   ],
   "outputs": [],
   "metadata": {}
  },
  {
   "cell_type": "markdown",
   "source": [
    "Note:\r\n",
    "- The amount of comparisons in Bubble Sort algorithm is $(n - 1) + (n - 2) + ... + 1=\\frac{n(n-1)}{2}$ comparisons,\r\n",
    "- Best case is when the array is already sorted and bubble sort will terminate after the first iterations. \r\n",
    "- Bubble sort is also efficient when one random element needs to be sorted into a sorted array, provided that new element is placed at the beginning and not at the end. \r\n",
    "- The absolute worst case for bubble sort is when the smallest element of the array is the last element in the end of the array. Because in each iteration only the largest unsorted element gets put in its proper location, when the smallest element is at the end, it will have to be swapped each time through the array, and it wont get to the front of the list until all $n$ iterations have occurred."
   ],
   "metadata": {}
  },
  {
   "cell_type": "markdown",
   "source": [
    "# 10.3 Quicksort\r\n",
    "\r\n",
    "Quicksort is a sorting technique based on divide and conquer technique. Quicksort first selects an element, termed the `pivot`, and partitions the array around the pivot, putting every smaller element into a low array and every larger element into a high array. \r\n",
    "\r\n",
    "* The `pivot` element can selected randomly, but one way to select the pivot is to use the element in the middle of the array as the pivot\r\n",
    "* The first pass partitions data into 3 sub-arrays, `lesser` (less than pivot), `equal` (equal to pivot) and `greater` (greater than pivot).\r\n",
    "* The process repeats for `lesser` array and `greater` array.\r\n",
    "\r\n",
    "<center>\r\n",
    "<img src=\"images/algorithm_quick_sort.gif\" height=\"250\" align=\"center\"/>\r\n",
    "</center>\r\n",
    "\r\n",
    "The pseudocode for quicksort function for an array containing $N$ elements is given below:"
   ],
   "metadata": {}
  },
  {
   "cell_type": "code",
   "execution_count": null,
   "source": [
    "PROCEDURE QuickSort(Arr : ARRAY OF INTEGERS):\r\n",
    "    IF Arr.Size = 0:\r\n",
    "        RETURN []\r\n",
    "    ENDIF\r\n",
    "\r\n",
    "    Mid ← (1+Arr.Size) //2 \r\n",
    "    \r\n",
    "    Pivot ← Arr[Mid]\r\n",
    "\r\n",
    "    DECLARE Equal : Integer\r\n",
    "    DECLARE Lesser : Integer\r\n",
    "    DECLARE More : Integer\r\n",
    "\r\n",
    "    Equal = 0\r\n",
    "    Lesser = 0\r\n",
    "    More = 0\r\n",
    "\r\n",
    "    For i = 1 to Arr.Size\r\n",
    "        IF Arr[i] = Pivot THEN\r\n",
    "            Equal = Equal + 1\r\n",
    "        ENDIF\r\n",
    "        IF Arr[i] < Pivot THEN\r\n",
    "            Lesser = Lesser + 1\r\n",
    "        ENDIF\r\n",
    "        IF Arr[i] > Pivot THEN\r\n",
    "            More = More + 1\r\n",
    "        ENDIF    \r\n",
    "    ENDFOR\r\n",
    "\r\n",
    "    DECLARE EqualArray[1:Equal] : ARRAY OF INTEGER\r\n",
    "    DECLARE LesserArray[1:Lesser] : ARRAY OF INTEGER\r\n",
    "    DECLARE MoreArray[1:More] : ARRAY OF INTEGER    \r\n",
    "\r\n",
    "    DECLARE EqualIndex : Integer\r\n",
    "    DECLARE LesserIndex : Integer\r\n",
    "    DECLARE MoreIndex : Integer\r\n",
    "\r\n",
    "    EqualIndex = 1\r\n",
    "    LesserIndex = 1\r\n",
    "    MoreIndex = 1\r\n",
    "\r\n",
    "    For i = 1 to Arr.Size\r\n",
    "\r\n",
    "        IF Arr[i] = Pivot THEN\r\n",
    "            EqualArray[EqualIndex] ← Arr[i]\r\n",
    "            EqualIndex ← EqualIndex + 1            \r\n",
    "        ENDIF\r\n",
    "        IF Arr[i] < Pivot THEN\r\n",
    "            LesserArray[LesserIndex] ← Arr[i]\r\n",
    "            LesserIndex ← LesserIndex + 1            \r\n",
    "        ENDIF\r\n",
    "        IF Arr[i] > Pivot THEN\r\n",
    "            MoreArray[MoreIndex] ← Arr[i]\r\n",
    "            MoreIndex ← MoreIndex + 1            \r\n",
    "        ENDIF\r\n",
    "    ENDFOR\r\n",
    "\r\n",
    "    RETURN QuickSort(LesserArray) + EqualArray + QuickSort(MoreArray) //Assuming `+` is array concatenation\r\n",
    "\r\n",
    "END PROCEDURE"
   ],
   "outputs": [],
   "metadata": {}
  },
  {
   "cell_type": "code",
   "execution_count": null,
   "source": [
    "TYPE List\r\n",
    "    Buffer: ARRAY[1:N] OF OBJECT\r\n",
    "    Size: N\r\n",
    "ENDTYPE\r\n",
    "\r\n",
    "CREATE_LIST(N) RETURN List\r\n",
    "\r\n",
    "APPEND(List, d: OBJECT) RETURNS List // appends d to end of List\r\n",
    "\r\n",
    "SUB_LIST(LIST, start:INTEGER, end:INTEGER) RETURNS List //return sub-list from start to end\r\n",
    "\r\n",
    "CONCATENATE(A:List, B:List) RETURNS List //concatenates A and B into a new List\r\n",
    "\r\n",
    "LEN(L) RETURNS INTEGER //size of List\r\n",
    "\r\n",
    "FUNCTION QS(L: List )\r\n",
    "DECLARE\r\n",
    "    Lesser : List\r\n",
    "    Greater : List\r\n",
    "    Pivot: OBJECT\r\n",
    "    \r\n",
    "    Lesser ← CREATE_LIST(0)\r\n",
    "    Greater ← CREATE_LIST(0)\r\n",
    "\r\n",
    "    Pivot ← L[1]\r\n",
    "\r\n",
    "    IF L.Size = 0 THEN\r\n",
    "        RETURN CREATE_LIST(0)\r\n",
    "    ENDIF\r\n",
    "    \r\n",
    "    FOR i = 2 TO LEN(L)\r\n",
    "        IF L[i] <= Pivot THEN\r\n",
    "            APPEND(Lesser, L[i])\r\n",
    "        ELSE:\r\n",
    "            APPEND(Greater, L[i])\r\n",
    "        ENDIF\r\n",
    "    ENDFOR\r\n",
    "    RETURN CONCATENATE( APPEND(QS(Lesser),Pivot),QS(Greater))\r\n",
    "ENDFUNCTION"
   ],
   "outputs": [],
   "metadata": {}
  },
  {
   "cell_type": "code",
   "execution_count": 1,
   "source": [
    "def quicksort(arr):\r\n",
    "    if arr==[]:\r\n",
    "        return []\r\n",
    "\r\n",
    "    pivot = arr[len(arr)//2]\r\n",
    "    \r\n",
    "    equal=[x for x in arr if x == pivot ]   \r\n",
    "    lesser=[x for x in arr if x < pivot ]\r\n",
    "    more=[x for x in arr if x > pivot ]\r\n",
    "\r\n",
    "    return quicksort(lesser)+equal+quicksort(more)\r\n",
    "\r\n",
    "arr = [6]\r\n",
    "quicksort(arr)"
   ],
   "outputs": [
    {
     "output_type": "execute_result",
     "data": {
      "text/plain": [
       "[6]"
      ]
     },
     "metadata": {},
     "execution_count": 1
    }
   ],
   "metadata": {}
  },
  {
   "cell_type": "markdown",
   "source": [
    "### Exercise\n",
    "\n",
    "Implement a function `quicksort(array)` which sorts the list `array` in the ascending order according to the quicksort algorithm given above.\n",
    "\n",
    "Test your function with the following list\n",
    "> `\n",
    "[39, 96, 51, 20, 42, 42, 74, 28, 66, 16, 10, 86, 6, 43, 67, 98, 32, 73, 99, 7, 80, 88, 57, 83, 1, 64, 33, 38, 38, 8, 68, 38, 42, 80, 71, 82, 25, 29, 2, 85, 2, 96, 34, 14, 9, 65, 50, 63, 99, 94, 5, 93, 84, 46, 64, 22, 59, 31, 74, 13, 93, 13, 98, 93]`."
   ],
   "metadata": {}
  },
  {
   "cell_type": "code",
   "execution_count": null,
   "source": [
    "#YOUR_CODE_HERE"
   ],
   "outputs": [],
   "metadata": {}
  },
  {
   "cell_type": "markdown",
   "source": [
    "Note: \r\n",
    "- The worst case scenario is when the smallest or largest element is always selected as the pivot. This would create partitions of size $n-1$, causing recursive calls $n-1$ times. And such, if the first element of partition is always chosen to be the first element and the array is already sorted. \r\n",
    "- With a good pivot, the input list is partitioned in linear time, $O(n)$, and this process repeats recursively an average of $\\log_2{n}$ times. \r\n",
    "- This leads to a final complexity of $O(n \\log_2n)$.\r\n",
    "- The above implementation of the quicksort algorithm does not sort “in place”, and has a high space complexity. In order to overcome this, you need to change the algorithm slightly – i.e., use a variant that does not create new linked lists to store elements greater/less than the pivot. The in-place version of the pseudocode is given below."
   ],
   "metadata": {}
  },
  {
   "cell_type": "code",
   "execution_count": null,
   "source": [
    "PROCEDURE QuickSort(MyList, LB, UB)\r\n",
    "    IF LB <> UB THEN\r\n",
    "    #there is more than one element in MyList\r\n",
    "        LeftP ← LB #Left pointer\r\n",
    "        RightP ← UB #Right pointer\r\n",
    "        REPEAT\r\n",
    "            WHILE LeftP <> RightP AND MyList[LeftP] < MyList[RightP] DO\r\n",
    "            #move right pointer left\r\n",
    "                RightP ← RightP — l\r\n",
    "            ENDWHILE\r\n",
    "            IF LeftP <> RightP THEN \r\n",
    "                swap MyList[LeftP] and MyList[J]\r\n",
    "            WHILE LeftP <> RightP AND MyList[LeftP] < MyList[RightP] DO\r\n",
    "            #move left pointer right\r\n",
    "                LeftP ← LeftP + 1\r\n",
    "            ENDWHILE\r\n",
    "            IF LeftP <> RightP THEN \r\n",
    "                swap MyList[LeftP] and MyList[RightP]\r\n",
    "        UNTIL LeftP = RightP\r\n",
    "        #value now in correct position so sort left sub-list\r\n",
    "        QuickSort(MyList, LB, LeftP — 1)\r\n",
    "        #now sort right sub-list\r\n",
    "        QuickSort(MyList, LeftP + l, UB)\r\n",
    "    ENDIF\r\n",
    "END PROCEDURE"
   ],
   "outputs": [],
   "metadata": {}
  },
  {
   "cell_type": "markdown",
   "source": [
    "# 10.4 Merge Sort\r\n",
    "\r\n",
    "Similar to Quicksort, Merge sort is a sorting technique based on divide and conquer technique. It first divides the array into equal halves and then combines them in a sorted manner.\r\n",
    "- if it is only one element in the list, it is already sorted. Return the list.\r\n",
    "- divide the list recursively into two halves until it can no more be divided.\r\n",
    "- merge the smaller lists into new list in sorted order.\r\n",
    "\r\n",
    "<center>\r\n",
    "<img src=\"images/algorithm_merge_sort.gif\" height=\"250\" align=\"center\"/>\r\n",
    "</center>\r\n",
    "\r\n",
    "The important subroutine `merge` : Given two sorted array, $A$ and $B$ of size $n_1$ and $n_2$, `merge(A,B)` returns a sorted array of size $n_1+n_2$ whose elements come from $A$ and $B$.\r\n",
    "\r\n",
    "The pseudocode for merge sort function for an array containing $N$ elements is given below:"
   ],
   "metadata": {}
  },
  {
   "cell_type": "code",
   "execution_count": null,
   "source": [
    "FUNCTION Merge(A:ARRAY of INTEGER, B: ARRAY of Integer) RETURNS ARRAY of INTEGER\r\n",
    "    DECLARE C: ARRAY [1: A.SIZE + B.SIZE] of INTEGER\r\n",
    "    DECLARE J: INTEGER\r\n",
    "\r\n",
    "    J = 1\r\n",
    "\r\n",
    "    WHILE ( A.SIZE >= 1 AND B.SIZE >= 1)\r\n",
    "        IF ( A[1] > B[1] ) \r\n",
    "            THEN\r\n",
    "            C[J] ← B[1]\r\n",
    "            J ← J + 1\r\n",
    "            B ← B [2 : B.SIZE]\r\n",
    "        ELSE\r\n",
    "            C[J] ← A[1]\r\n",
    "            J ← J + 1\r\n",
    "            A ← A [2 : A.SIZE]\r\n",
    "        ENDIF\r\n",
    "    ENDWHILE\r\n",
    "\r\n",
    "    WHILE ( A.SIZE >= 1 )\r\n",
    "        C[J] ← A[1]\r\n",
    "        J ← J + 1\r\n",
    "        A ← A [2 : A.SIZE]\r\n",
    "    ENDWHILE\r\n",
    "\r\n",
    "    WHILE ( B.SIZE >= 1 )\r\n",
    "        C[J] ← B[1]\r\n",
    "        J ← J + 1\r\n",
    "        B ← B [2 : B.SIZE]\r\n",
    "    ENDWHILE\r\n",
    "\r\n",
    "    RETURN C\r\n",
    "    \r\n",
    "ENDFUNCTION\r\n",
    "\r\n",
    "\r\n",
    "FUNCTION MergeSort(A: ARRAY of INTEGER) RETURNS ARRAY of INTEGER\r\n",
    "    // Base case. A list of zero or one elements is sorted, by definition.\r\n",
    "    IF A.SIZE <= 1 \r\n",
    "        THEN\r\n",
    "        RETURN A\r\n",
    "    ENDIF\r\n",
    "\r\n",
    "    // Recursive case. First, divide the list into roughly equal-sized subarrays\r\n",
    "    // consisting of the first half and second half of the array A.\r\n",
    "    DECLARE Left: ARRAY [1: A.SIZE/2] of INTEGER\r\n",
    "    DECLARE Right: ARRAY [1: A.SIZE/2] of INTEGER\r\n",
    "\r\n",
    "    FOR i = 1 to A.SIZE\r\n",
    "        IF i <= A.SIZE/2\r\n",
    "            THEN\r\n",
    "            Left[i] ← A[i]\r\n",
    "        ELSE\r\n",
    "            Right[i - A.SIZE/2] ← A[i]\r\n",
    "\r\n",
    "    // Recursively sort both subarray.\r\n",
    "    Left ← MergeSort(Left)\r\n",
    "    Right ← MergeSort(Right)\r\n",
    "\r\n",
    "    // Then merge the now-sorted sublists.\r\n",
    "    RETURN Merge(Left, Right)\r\n",
    "\r\n",
    "ENDFUNCTION"
   ],
   "outputs": [],
   "metadata": {}
  },
  {
   "cell_type": "markdown",
   "source": [
    "Note: \r\n",
    "- In sorting $n$ objects, merge sort has an average and worst-case performance of $O(n \\log n)$. If the running time of merge sort for a list of length $n$ is $T(n)$, then the recurrence relation $T(n) = 2T(\\frac{n}{2}) + n$ follows from the definition of the algorithm (apply the algorithm to two lists of half the size of the original list, and add the $n$ steps taken to merge the resulting two lists). The closed form follows from the master theorem for divide-and-conquer recurrences.\r\n",
    "\r\n",
    "https://en.wikipedia.org/wiki/Master_theorem_(analysis_of_algorithms)"
   ],
   "metadata": {}
  },
  {
   "cell_type": "markdown",
   "source": [
    "### Exercise\n",
    "\n",
    "Implement a function `merge_sort(array)` which sorts the list `array` in the ascending order according to the merge sort algorithm given above.\n",
    "\n",
    "Test your function with the following list\n",
    "> `\n",
    "[39, 96, 51, 20, 42, 42, 74, 28, 66, 16, 10, 86, 6, 43, 67, 98, 32, 73, 99, 7, 80, 88, 57, 83, 1, 64, 33, 38, 38, 8, 68, 38, 42, 80, 71, 82, 25, 29, 2, 85, 2, 96, 34, 14, 9, 65, 50, 63, 99, 94, 5, 93, 84, 46, 64, 22, 59, 31, 74, 13, 93, 13, 98, 93]`."
   ],
   "metadata": {}
  },
  {
   "cell_type": "code",
   "execution_count": null,
   "source": [
    "#YOUR_CODE_HERE"
   ],
   "outputs": [],
   "metadata": {}
  }
 ],
 "metadata": {
  "language_info": {
   "codemirror_mode": {
    "name": "ipython",
    "version": 3
   },
   "file_extension": ".py",
   "mimetype": "text/x-python",
   "name": "python",
   "nbconvert_exporter": "python",
   "pygments_lexer": "ipython3",
   "version": "3.7.6"
  },
  "orig_nbformat": 2,
  "kernelspec": {
   "name": "python3",
   "display_name": "Python 3.7.6 64-bit ('base': conda)"
  },
  "interpreter": {
   "hash": "9855bcb2db2fc1adb021fa4ac9c7dfbb81452ef889b3ef5659154f2722c9fc88"
  }
 },
 "nbformat": 4,
 "nbformat_minor": 2
}