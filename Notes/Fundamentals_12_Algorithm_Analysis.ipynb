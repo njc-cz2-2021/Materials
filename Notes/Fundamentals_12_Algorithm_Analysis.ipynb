{
 "cells": [
  {
   "cell_type": "markdown",
   "source": [
    "# Learning Objectives\n",
    "\n",
    "- [ ] 1.2.5 Compare and describe the efficiencies of the sort and search algorithms using Big-$O$ notation for time complexity (worst case). Exclude: space complexity\n",
    "\n",
    "\n",
    "# References\n",
    "\n",
    "1. Leadbetter, C., Blackford, R., & Piper, T. (2012). Cambridge international AS and A level computing coursebook. Cambridge: Cambridge University Press.\n",
    "2. https://www.sparknotes.com/cs/sorting/bubble/section1/#:~:text=The%20total%20number%20of%20comparisons,since%20no%20swaps%20were%20made.\n",
    "3. https://visualgo.net/en\n",
    "4. https://www.youtube.com/watch?v=o9nW0uBqvEo\n",
    "5. https://www.youtube.com/watch?v=7lQXYl_L28w"
   ],
   "metadata": {}
  },
  {
   "cell_type": "markdown",
   "source": [
    "# 11.1 Running Time\n",
    "\n",
    "Let $A$ be an algorithm, we say that the **actual running time** of $A$ to be time taken for algorithm $A$ to execute from start to finish.\n",
    "\n",
    "Instead of using actual running time to compare algorithms, we will use the number of **basic** operations (mathematical, comparisons, assignments, return etc.) executed by the algorithms as a currency to compare them. We will call this the **running time** of the algorithm (Bad naming I know, but everyone's doing this :shrugs:)\n",
    "\n",
    "## Example\n",
    "\n",
    "Consider the problem of finding the sum of the first $n$ natural numbers. "
   ],
   "metadata": {}
  },
  {
   "cell_type": "code",
   "execution_count": 2,
   "source": [
    "# 4 operations\r\n",
    "def one_to_n_formula(n):\r\n",
    "    return n*(n+1)/2\r\n",
    "\r\n",
    "# 1+2(n+1)+1 operations\r\n",
    "def one_to_n_iter(n):\r\n",
    "    total = 0\r\n",
    "    op_count=1\r\n",
    "    for i in range (n+1):\r\n",
    "        total = total+i\r\n",
    "        op_count=op_count+2\r\n",
    "    print(op_count)\r\n",
    "    return total\r\n",
    "\r\n",
    "one_to_n_iter(100)"
   ],
   "outputs": [
    {
     "output_type": "stream",
     "name": "stdout",
     "text": [
      "203\n"
     ]
    },
    {
     "output_type": "execute_result",
     "data": {
      "text/plain": [
       "5050"
      ]
     },
     "metadata": {},
     "execution_count": 2
    }
   ],
   "metadata": {}
  },
  {
   "cell_type": "markdown",
   "source": [
    "Note that the regardless of $n$, `one_to_n_formula` will always have 4 operations only. On the other hand, `one_to_n_iter` depends on what $n$ is and will have $2n+4$ number of operations.\r\n",
    "\r\n",
    "This brings us to a notion that the running time of algorithms is a function $T$ of the size of its input $n$, we denote this as $T(n)$, where obviously $n$ is a nonnegative integer and $T(n)>0$ for all values of $n$."
   ],
   "metadata": {}
  },
  {
   "cell_type": "markdown",
   "source": [
    "## 11.1.1 Counting Running Time\n",
    "\n",
    "To count running time of a block of code written *sequentially*, naturally, we add up the number of operations.\n",
    "\n",
    "### Example\n",
    "\n",
    "What is the running time of the following block of code?"
   ],
   "metadata": {}
  },
  {
   "cell_type": "code",
   "execution_count": null,
   "source": [
    "for i in range(n):\r\n",
    "    print('a')\r\n",
    "for j in range(n*n):\r\n",
    "    print('b')"
   ],
   "outputs": [],
   "metadata": {}
  },
  {
   "cell_type": "markdown",
   "source": [
    "On the other hand, if we have nested statement or loops, we **multiply** the number of operations.\n",
    "\n",
    "### Example\n",
    "\n",
    "What is the running time of the following block of code?"
   ],
   "metadata": {}
  },
  {
   "cell_type": "code",
   "execution_count": null,
   "source": [
    "for i in range(n):\r\n",
    "    for j in range(n):\r\n",
    "        print('a')"
   ],
   "outputs": [],
   "metadata": {}
  },
  {
   "cell_type": "markdown",
   "source": [
    "# 11.2 Big-Oh $O$ Notation\r\n",
    "\r\n",
    "Let $T(n)$ be the running time of algorithm $A$ and $f\\left(n\\right)$ be some function defined on the nonnegative integers $n$. We will use the following statements interchangeably:\r\n",
    "\r\n",
    "- $T\\left(n\\right)$ has order of growth of $f\\left(n\\right)$,\r\n",
    "- $T\\left(n\\right)$ is $O\\left(f\\left(n\\right)\\right)$,\r\n",
    "\r\n",
    "if and only if there exists an integer $n_0$ and a constant $c>0$ such that for all integers $n\\geq n_0$, we have $T\\left(n\\right)\\leq cf\\left(n\\right)$. In other words, we can bound the value of $T(n)$ by some constant multiple of the value of $f(n)$ when $n$ is big enough.\r\n",
    "\r\n",
    "Based on the definition, obviously we have $T(n)$ is $O(T(n))$. \r\n",
    "\r\n",
    "Two further very important principles in working with the Big-Oh notation:\r\n",
    "- Constant factors doesn't matter. In other words, if $T\\left(n\\right)$ is $O\\left(df\\left(n\\right)\\right)$ for some constant $d>0$, then $T\\left(n\\right)$ is $O\\left(f\\left(n\\right)\\right)$, i.e. we ignore the multiplicative constants.\r\n",
    "- The low-order terms don't matter. For example, if $T\\left(n\\right)$ is $O\\left(n^3+n\\right)$, then $T\\left(n\\right)$ is $O\\left(n^3\\right)$. In particular, we can ignore the additive constants as well.\r\n",
    "\r\n",
    "In our previous example,\r\n",
    "- `one_to_n_formula` is $O(4)$, and therefore, is $O(1)$.\r\n",
    "- `one_to_n_iter` is $O(2n+2)$, and therefore, is $O(n)$.\r\n",
    "\r\n",
    "The following table lists the common running times for algorithms and their names.\r\n",
    "\r\n",
    "<center>\r\n",
    "\r\n",
    "| Big-Oh | Name |\r\n",
    "|-|-|\r\n",
    "| $O\\left(1\\right)$ | constant |\r\n",
    "| $O\\left(\\log n \\right)$ | logarithmic |\r\n",
    "| $O\\left(n\\right)$ | linear |\r\n",
    "| $O\\left(n\\log n\\right)$ | log-linear |\r\n",
    "| $O\\left(n^2\\right)$ | quadratic |\r\n",
    "| $O\\left(n^k\\right)$ | polynomial, $k\\in \\mathbb{Z^+}$ |\r\n",
    "| $O\\left(k^n\\right)$ | exponential, $k\\in \\mathbb{Z^+}$ |\r\n",
    "\r\n",
    "</center>\r\n",
    "\r\n",
    "The entries in the table above are arranged in the order of ascending <b>efficiency</b> ~~running time~~, i.e. the lower its position is in the table, the slower the running time is.\r\n",
    "\r\n",
    "For most cases, the following holds for algorithms:\r\n",
    "- $O(1)$ - algorithm doesn't depend on input size \r\n",
    "- $O(\\log n)$ - problem gets reduced in half each time through the process\r\n",
    "- $O(n)$ - simple iterative or recursive programs\r\n",
    "- $O(n^k)$ - nested loops or recursive calls\r\n",
    "- $O(k^n)$ - multiple recursive calls at each level"
   ],
   "metadata": {}
  },
  {
   "cell_type": "markdown",
   "source": [
    "## Example\n",
    "\n",
    "Determine the orders of growth of the algorithms with the following running time:\n",
    "- $n^2+2n+2$,\n",
    "- $n^2+10000n+3^{10000}$,\n",
    "- $\\log(n)+n+4$,\n",
    "- $0.0001n\\log(n)+300n$,\n",
    "- $2n^{30}+3^n$."
   ],
   "metadata": {}
  },
  {
   "cell_type": "code",
   "execution_count": null,
   "source": [
    "#YOUR_ANSWER_HERE"
   ],
   "outputs": [],
   "metadata": {}
  },
  {
   "cell_type": "markdown",
   "source": [
    "### Exercise\n",
    "\n",
    "Determine the orders of growth of the search and sort algorithms from the previous chapter. Assume that the input is an array of size $n$.\n",
    "- linear search \n",
    "- binary search\n",
    "- bubble sort\n",
    "- insertion sort\n",
    "- quicksort\n",
    "- mergesort"
   ],
   "metadata": {}
  },
  {
   "cell_type": "code",
   "execution_count": null,
   "source": [
    "#YOUR_ANSWER_HERE"
   ],
   "outputs": [],
   "metadata": {}
  }
 ],
 "metadata": {
  "language_info": {
   "codemirror_mode": {
    "name": "ipython",
    "version": 3
   },
   "file_extension": ".py",
   "mimetype": "text/x-python",
   "name": "python",
   "nbconvert_exporter": "python",
   "pygments_lexer": "ipython3",
   "version": "3.7.6"
  },
  "orig_nbformat": 2,
  "kernelspec": {
   "name": "python3",
   "display_name": "Python 3.7.6 64-bit ('base': conda)"
  },
  "interpreter": {
   "hash": "9855bcb2db2fc1adb021fa4ac9c7dfbb81452ef889b3ef5659154f2722c9fc88"
  }
 },
 "nbformat": 4,
 "nbformat_minor": 2
}