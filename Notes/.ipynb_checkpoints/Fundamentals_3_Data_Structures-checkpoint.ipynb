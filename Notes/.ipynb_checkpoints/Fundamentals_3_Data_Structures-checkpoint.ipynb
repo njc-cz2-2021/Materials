{
 "cells": [
  {
   "cell_type": "markdown",
   "metadata": {},
   "source": [
    "# Learning Objectives\n",
    "\n",
    "- [ ]  2.2.1 Understand the different types: integer `int`, real `float`, char `chr`, string `str` and Boolean `Boolean` and initialise arrays `list`, `tuple` (1-dimensional and 2-dimensional). "
   ]
  },
  {
   "cell_type": "markdown",
   "metadata": {},
   "source": [
    "# 3 Basic Data Structures\n",
    "\n",
    "In computer science, a data structure is a data organization, management, and storage format that enables efficient access and modification. More precisely, a data structure is a collection of data values, the relationships among them, and the functions or operations that can be applied to the data.\n",
    "\n",
    "## 3.1 Array\n",
    "\n",
    "An array, is a data structure consisting of a collection of elements (values or variables), each identified by at least one array index or key. We will focus on two commonly used ones in Python.\n",
    "\n",
    "### 3.1.1 List\n",
    "\n",
    "**Lists** are the most commonly used data structure in Python. \n",
    "\n",
    "* It is a **mutable** collection, i.e. its items can be added and removed.\n",
    "* Each of these data can be accessed by calling its index value."
   ]
  },
  {
   "cell_type": "markdown",
   "metadata": {},
   "source": [
    "#### 3.1.1.1 Creating a list\n",
    "\n",
    "Lists are declared/created by just equating a variable to `[ ]` or list.\n",
    ">```\n",
    ">empty_list = []\n",
    ">print(type(empty_list))\n",
    ">```\n",
    "\n",
    "Items in the list are seperated by comma `,`.\n",
    ">```\n",
    ">nums = [1, 2, 3, 4]\n",
    ">nums\n",
    ">```"
   ]
  },
  {
   "cell_type": "code",
   "execution_count": null,
   "metadata": {},
   "outputs": [],
   "source": [
    "# YOUR CODE HERE"
   ]
  },
  {
   "cell_type": "markdown",
   "metadata": {},
   "source": [
    "List element can be of any data type.\n",
    "\n",
    ">```\n",
    ">fruits = ['apple', 'banana', 'cherry', 'durian']\n",
    ">fruits\n",
    ">```"
   ]
  },
  {
   "cell_type": "code",
   "execution_count": null,
   "metadata": {},
   "outputs": [],
   "source": [
    "# YOUR CODE HERE"
   ]
  },
  {
   "cell_type": "markdown",
   "metadata": {},
   "source": [
    "In fact, it is able to hold elements of *mixed data types*, although this is not commonly used.\n",
    "\n",
    ">```\n",
    ">mixed = ['apple', 3, 'banana', 5.0, True, None, (1,), [1,23]]\n",
    ">mixed\n",
    ">```"
   ]
  },
  {
   "cell_type": "code",
   "execution_count": null,
   "metadata": {},
   "outputs": [],
   "source": [
    "# YOUR CODE HERE"
   ]
  },
  {
   "cell_type": "markdown",
   "metadata": {},
   "source": [
    "List can also have **lists as its element**, which creates a `nested list`.\n",
    "\n",
    ">```\n",
    ">nested = [ [10, 11, 12, 13], \n",
    ">           [20, 21, 22, 23] ]\n",
    ">nested\n",
    ">```"
   ]
  },
  {
   "cell_type": "code",
   "execution_count": null,
   "metadata": {},
   "outputs": [],
   "source": [
    "# YOUR CODE HERE"
   ]
  },
  {
   "cell_type": "markdown",
   "metadata": {},
   "source": [
    "#### 3.1.1.2 Accessing Elements in a list via Indexing\n",
    "\n",
    "Items in collection can be accessed by their indexes. Python uses zero-based indexing, i.e. index starts from 0.\n",
    "\n",
    ">```\n",
    ">print(fruits)\n",
    ">print(fruits[0])\n",
    ">print(fruits[1])\n",
    ">```"
   ]
  },
  {
   "cell_type": "code",
   "execution_count": null,
   "metadata": {},
   "outputs": [],
   "source": [
    "# YOUR CODE HERE"
   ]
  },
  {
   "cell_type": "markdown",
   "metadata": {},
   "source": [
    "Indexing can also be done in reverse order by using a negative value as the index. That is the last element of the list has an index of -1, and second last element has index of -2 etc. This is called **negative indexing**.\n",
    "\n",
    "<center><img src=\"./images/list-indexing.png\" alt=\"Set Venn Diagram\" style=\"width: 400px;\"/></center>\n",
    "\n",
    ">```\n",
    ">fruits[-1]\n",
    ">fruits[-2]\n",
    ">```"
   ]
  },
  {
   "cell_type": "code",
   "execution_count": null,
   "metadata": {},
   "outputs": [],
   "source": [
    "# YOUR CODE HERE"
   ]
  },
  {
   "cell_type": "markdown",
   "metadata": {},
   "source": [
    "For nested list, we can access items by **multi-level indexing**. Each level of the index always starts from 0.\n",
    "\n",
    "For example, access 1st element in 1st list, and 2nd element in 2nd list \n",
    ">```python\n",
    ">print(nested)\n",
    ">print(nested[0][0])\n",
    ">print(nested[1][1])\n",
    ">```"
   ]
  },
  {
   "cell_type": "code",
   "execution_count": null,
   "metadata": {},
   "outputs": [],
   "source": []
  },
  {
   "cell_type": "markdown",
   "metadata": {},
   "source": [
    "#### Exercise 3.1\n",
    "\n",
    "How do you access element `Blackcurrant` in following list?\n",
    ">```\n",
    ">nested_fruits = [\n",
    ">    ['Apple', 'Apricots', 'Avocado'], \n",
    ">    ['Banana', 'Blackcurrant', 'Blueberries'],\n",
    ">    ['Cherries', 'Cranberries', 'Custard-Apple']]\n",
    ">\n",
    ">```"
   ]
  },
  {
   "cell_type": "code",
   "execution_count": null,
   "metadata": {
    "tags": [
     "hide-cell"
    ]
   },
   "outputs": [],
   "source": [
    "# YOUR CODE HERE"
   ]
  },
  {
   "cell_type": "markdown",
   "metadata": {},
   "source": [
    "#### 3.1.1.2 Accessing Subsets Elements in a list via Slicing\n",
    "\n",
    "**Indexing** was only limited to accessing a single element.\n",
    "**Slicing** on the other hand is accessing a sequence of data inside the list. \n",
    "\n",
    "**Slicing** is done by defining the index values of the `first element` and the `last element` from the parent list that is required in the sliced list. \n",
    "\n",
    ">```\n",
    ">sub = num[a : b]\n",
    ">sub = num[a : ]\n",
    ">sub = num[: b]\n",
    ">sub = num[:]\n",
    ">```\n",
    " \n",
    "* if both `a` and `b` are specified, `a` is the first index, `b` is the **last index + 1**.\n",
    "* if `b` is omitted, it will slice till last element.\n",
    "* if `a` is omitted, it will starts from first element.\n",
    "* if neither `a` or `b` is specified, it is effectively copy the whole list\n",
    "\n",
    "**Note: the upper bound index is NOT inclusive!**"
   ]
  },
  {
   "cell_type": "markdown",
   "metadata": {},
   "source": [
    "#### Exercise 3.2\n",
    "\n",
    "* Create a list contain number 0-9\n",
    "* Print 3rd to 5th items\n",
    "* Print all items after 6th position\n",
    ">```\n",
    ">num = [0,1,2,3,4,5,6,7,8,9]\n",
    "\n",
    ">```"
   ]
  },
  {
   "cell_type": "code",
   "execution_count": null,
   "metadata": {},
   "outputs": [],
   "source": [
    "# YOUR CODE HERE"
   ]
  },
  {
   "cell_type": "markdown",
   "metadata": {},
   "source": [
    "#### Exercise 3.3\n",
    "The `num` is a list of integers from 0 to 9, split the list into 2 equal size sub list, `sub1` and `sub2`.\n",
    "\n",
    ">```\n",
    ">num = [0,1,2,3,4,5,6,7,8,9]\n",
    ">\n",
    ">```"
   ]
  },
  {
   "cell_type": "code",
   "execution_count": null,
   "metadata": {
    "tags": [
     "hide-cell"
    ]
   },
   "outputs": [],
   "source": [
    "# YOUR CODE HERE\n",
    "print(sub1)\n",
    "print(sub2)"
   ]
  },
  {
   "cell_type": "markdown",
   "metadata": {},
   "source": [
    "Remember list items can be accessed using `negative index`. Same technique can be applied for slicing too, i.e. we can **slice with negative index**.\n",
    "\n",
    "* Last item has index of -1\n",
    "\n",
    "#### Exercise 3.4\n",
    "\n",
    "For a list with integer 0-9, \n",
    "* How to get last 3 items from a list?\n",
    "* How to ignore last 3 items from a list?\n",
    "* How to strip first and last items from a list?\n",
    "\n",
    ">```\n",
    ">num = [0,1,2,3,4,5,6,7,8,9]\n",
    ">\n",
    ">\n",
    ">\n",
    ">\n",
    ">\n",
    ">```"
   ]
  },
  {
   "cell_type": "code",
   "execution_count": null,
   "metadata": {
    "tags": [
     "hide-cell"
    ]
   },
   "outputs": [],
   "source": [
    "# YOUR CODE HERE"
   ]
  },
  {
   "cell_type": "markdown",
   "metadata": {},
   "source": [
    "#### 3.1.1.3 Working with Lists"
   ]
  },
  {
   "cell_type": "markdown",
   "metadata": {},
   "source": [
    "##### 3.1.1.3.1 Length of lists `len()`\n",
    "To find the length of the list or the number of elements in a list, the function `len( )` is used. Syntax is \n",
    ">```\n",
    ">len(your_list)\n",
    ">```\n",
    "\n",
    "#### Exercise 3.5\n",
    "Find the length of list `num = [0,1,2,3,4,5,6,7,8,9]`"
   ]
  },
  {
   "cell_type": "code",
   "execution_count": null,
   "metadata": {},
   "outputs": [],
   "source": [
    "# YOUR CODE HERE"
   ]
  },
  {
   "cell_type": "markdown",
   "metadata": {},
   "source": [
    "##### 3.1.1.3.2 Maximum `max()`, minimum `min()` and sum `sum()` of all the values in the list\n",
    "\n",
    "If the list consists of all integer elements, the functions `min( )`, `max( )` and `sum()` gives the minimum item, maximum item and total sum value of the list. Syntax is \n",
    ">```\n",
    ">max(your_list)\n",
    ">min(your_list)\n",
    ">sum(your_list)\n",
    ">```\n",
    "\n",
    "#### Exercise 3.5\n",
    "Find the minimum value, max value and sum of all the values of list `num = [0,1,2,3,4,5,6,7,8,9]`"
   ]
  },
  {
   "cell_type": "code",
   "execution_count": null,
   "metadata": {},
   "outputs": [],
   "source": [
    "# YOUR CODE HERE"
   ]
  },
  {
   "cell_type": "markdown",
   "metadata": {},
   "source": [
    "#### Exercise 3.6\n",
    "Find the maximum, minimum and sum of all the values of list `num = [0,1,2,3,4,5,6,7,8,9]` and use `.format()` string method to print out the following message.\n",
    ">```\n",
    ">min = 0, max = 9, sum = 45\n",
    ">```"
   ]
  },
  {
   "cell_type": "code",
   "execution_count": null,
   "metadata": {
    "tags": [
     "hide-cell"
    ]
   },
   "outputs": [],
   "source": [
    "# YOUR CODE HERE"
   ]
  },
  {
   "cell_type": "markdown",
   "metadata": {},
   "source": [
    "For a list with elements as string, the `max( )` and `min( )` is still applicable. \n",
    "* `max( )` would return a string element whose ASCII value is the highest \n",
    "* `min( )` is used to return the lowest\n",
    "\n",
    "Note that only the first index of each element is considered each time and if they value is the same then second index considered so on and so forth."
   ]
  },
  {
   "cell_type": "markdown",
   "metadata": {},
   "source": [
    "#### Exercise 3.7\n",
    "\n",
    "What is the output of `min()` and `max()` on following list? What would happen if `sum()` is applied?\n",
    "\n",
    "```\n",
    "jc = ['tmjc','vjc','tjc','yijc','acjc','njc','hci','asrjc','jpjc','rjc','cjc','mi','dhs','ejc','sajc','nyjc']\n",
    "```"
   ]
  },
  {
   "cell_type": "code",
   "execution_count": null,
   "metadata": {},
   "outputs": [],
   "source": [
    "# YOUR CODE HERE"
   ]
  },
  {
   "cell_type": "markdown",
   "metadata": {},
   "source": [
    "##### 3.1.1.3.3 Reversing the values in a list with `reversed()` function\n",
    "\n",
    "The entire elements present in the list can be reversed by using the `reversed()` function.\n",
    "\n",
    "#### Exercise 3.8\n",
    "Modify following list by arranging items in reverse order.\n",
    "\n",
    "```\n",
    "jc = ['tmjc','vjc','tjc','yijc''acjc','njc','hci','asrjc','jpjc','rjc','cjc','mi','dhs','ejc','sajc','nyjc']\n",
    "```"
   ]
  },
  {
   "cell_type": "code",
   "execution_count": null,
   "metadata": {},
   "outputs": [],
   "source": [
    "# YOUR CODE HERE"
   ]
  },
  {
   "cell_type": "markdown",
   "metadata": {},
   "source": [
    "#### Exercise 3.9\n",
    "\n",
    "Can you print out the items in reverse order without modifying the list?\n",
    "* Hint: use indexing with step `-1`\n",
    "\n",
    "```\n",
    "jc = ['tmjc','vjc','tjc','yijc''acjc','njc','hci','asrjc','jpjc','rjc','cjc','mi','dhs','ejc','sajc','nyjc']\n",
    "```"
   ]
  },
  {
   "cell_type": "code",
   "execution_count": null,
   "metadata": {},
   "outputs": [],
   "source": [
    "# YOUR CODE HERE"
   ]
  },
  {
   "cell_type": "markdown",
   "metadata": {},
   "source": [
    "##### 3.1.1.3.3 Sorting elements in a list with `sorted()` function\n",
    "\n",
    "Python offers built in operation `sorted( )` to arrange the elements in **ascending** order. Syntax is \n",
    ">```\n",
    ">sorted(your_list)\n",
    ">```\n",
    "\n",
    "For **descending** order, specify the named argument `reverse = True`. Syntax is \n",
    ">```\n",
    ">sorted(your_list, reverse = True)\n",
    ">```\n",
    "\n",
    "By default the reverse condition will be `False` for reverse. Hence changing it to `True` would arrange the elements in descending order."
   ]
  },
  {
   "cell_type": "markdown",
   "metadata": {},
   "source": [
    "#### Exercise 3.10\n",
    "\n",
    "* Check out the documentation of `list.sort()` method\n",
    "* Sort following list in <u>ascending</u> order, and then in <u>descending</u> order \n",
    "```\n",
    "jc = ['tmjc','vjc','tjc','yijc''acjc','njc','hci','asrjc','jpjc','rjc','cjc','mi','dhs','ejc','sajc','nyjc']\n",
    "\n",
    "```"
   ]
  },
  {
   "cell_type": "code",
   "execution_count": null,
   "metadata": {},
   "outputs": [],
   "source": [
    "# YOUR CODE HERE"
   ]
  },
  {
   "cell_type": "markdown",
   "metadata": {},
   "source": [
    "#### Exercise 3.11\n",
    "\n",
    "* What's the difference between `list.sort()` method and `sorted()` function?\n",
    "* Write code to illustrate the difference.\n"
   ]
  },
  {
   "cell_type": "code",
   "execution_count": null,
   "metadata": {},
   "outputs": [],
   "source": [
    "# YOUR CODE HERE"
   ]
  },
  {
   "cell_type": "markdown",
   "metadata": {},
   "source": [
    "The `sorted()` function has another named argument `key`, which allows us to specify a callable function to adjust our sorting criteria. Syntax is\n",
    ">```\n",
    ">sorted(your_list, key = your_function)\n",
    ">```\n",
    "\n",
    "The sorting will be done based on returned value from this callable function. \n"
   ]
  },
  {
   "cell_type": "markdown",
   "metadata": {},
   "source": [
    "#### Exercise 3.12\n",
    "\n",
    "For following list of items, sort them by number of characters in each item.\n",
    "* *Hint:* The `len()` function returns length of a string. To sort based on string length, `key = len` can be specified as shown.\n",
    "\n",
    "```\n",
    "names = ['duck', 'chicken', 'goose']\n",
    "```"
   ]
  },
  {
   "cell_type": "code",
   "execution_count": null,
   "metadata": {},
   "outputs": [],
   "source": [
    "# YOUR CODE HERE"
   ]
  },
  {
   "cell_type": "markdown",
   "metadata": {},
   "source": [
    "#### Exercise 3.13\n",
    "\n",
    "For a list `[-1, 5, -30, -10, 2, 20, -3]`, sort the list in descending order by their absolute value. \n",
    "* *Hint:* The `abs()` function returns absolute value of a number."
   ]
  },
  {
   "cell_type": "code",
   "execution_count": null,
   "metadata": {
    "tags": [
     "hide-cell"
    ]
   },
   "outputs": [],
   "source": [
    "# YOUR CODE HERE"
   ]
  },
  {
   "cell_type": "markdown",
   "metadata": {},
   "source": [
    "Two lists can also be join together simply using `+` operator. This is called the **concatenation of lists**.\n",
    "\n",
    "#### Exercise 3.14\n",
    "\n",
    "Concatenate the lists `[1,2,3,4,5]` and `[6,7,8,9]`"
   ]
  },
  {
   "cell_type": "code",
   "execution_count": null,
   "metadata": {},
   "outputs": [],
   "source": [
    "# YOUR CODE HERE"
   ]
  },
  {
   "cell_type": "markdown",
   "metadata": {},
   "source": [
    "Similar to String, we can repeat a list multiple times with `*` operator. \n",
    "\n",
    "#### Exercise 3.15  \n",
    "\n",
    "Create a list `[1,2,3,1,2,3,1,2,3,1,2,3]` from list `[1,2,3]`.\n"
   ]
  },
  {
   "cell_type": "code",
   "execution_count": null,
   "metadata": {},
   "outputs": [],
   "source": [
    "# YOUR CODE HERE"
   ]
  },
  {
   "cell_type": "markdown",
   "metadata": {},
   "source": [
    "Recap: String has many similar behaviors as list.\n",
    "\n",
    "#### Exercise 3.16\n",
    "\n",
    "* How to concatenate 2 strings?\n",
    "* How to repeat a string 2 times?"
   ]
  },
  {
   "cell_type": "code",
   "execution_count": null,
   "metadata": {},
   "outputs": [],
   "source": [
    "# YOUR CODE HERE"
   ]
  },
  {
   "cell_type": "markdown",
   "metadata": {},
   "source": [
    "#### 3.1.1.4 Membership and Searching elements in a list\n",
    "\n",
    "You might need to check if a particular item is in a list.\n",
    "\n",
    "Instead of using `for` loop to iterate over the list and use the if condition, Python provides a simple **`in`** statement to check membership of an item.\n",
    "\n",
    "#### Exercise 3.17\n",
    "\n",
    "Write code to find out whether `'duck'` and `'dog'` are in the list `['duck', 'chicken', 'goose']` respectively. "
   ]
  },
  {
   "cell_type": "code",
   "execution_count": null,
   "metadata": {},
   "outputs": [],
   "source": [
    "# YOUR CODE HERE"
   ]
  },
  {
   "cell_type": "markdown",
   "metadata": {},
   "source": [
    "To count the occurence of a particular item in a list, we can use the `.count()` method. Syntax is\n",
    ">```\n",
    ">your_list.count(item)\n",
    ">```\n",
    "\n",
    "#### Exercise 3.18\n",
    "* Create a list `['duck', 'chicken', 'goose', 'duck', 'chicken', 'goose', 'duck', 'chicken', 'goose']` from `['duck', 'chicken', 'goose']`\n",
    "* Count number of occurence of `'duck'`"
   ]
  },
  {
   "cell_type": "code",
   "execution_count": null,
   "metadata": {},
   "outputs": [],
   "source": [
    "# YOUR CODE HERE"
   ]
  },
  {
   "cell_type": "markdown",
   "metadata": {},
   "source": [
    "To find the index value of a particular item, we can use `.index()` method. Syntax is\n",
    ">```\n",
    ">your_list.index(item)\n",
    ">```\n",
    "\n",
    "* If there are multiple items of the same value, only the first index value of that item is returned.\n",
    "* You can add 2nd argument `x` to start searching from index `x` onwards.\n",
    "\n",
    "Note: the string functions `find()` and `rfind()` are <u>not available</u> for list.\n",
    "\n",
    "#### Exercise 3.19\n",
    "* Create a list `['duck', 'chicken', 'goose', 'duck', 'chicken', 'goose', 'duck', 'chicken', 'goose']` from `['duck', 'chicken', 'goose']`\n",
    "* Find the index of the first occurence of `'duck'` in the list.\n",
    "* Find ALL the indices of occurences of `'duck'` in the list."
   ]
  },
  {
   "cell_type": "code",
   "execution_count": null,
   "metadata": {},
   "outputs": [],
   "source": [
    "# YOUR CODE HERE\n",
    "l=['duck', 'chicken', 'goose', 'duck', 'chicken', 'goose', 'duck', 'chicken', 'goose']\n",
    "l_copy=['duck', 'chicken', 'goose','goose','duck', 'chicken', 'goose', 'duck', 'chicken', 'goose']\n",
    "\n",
    "elem='goose'\n",
    "index=l_copy.index(elem)\n",
    "print(index)\n",
    "try:\n",
    "    while l_copy.index(elem)+1:\n",
    "        l_copy=l_copy[l_copy.index(elem)+1:]\n",
    "        index=index+l_copy.index(elem)+1\n",
    "        print(index)\n",
    "except:\n",
    "    print(f\"That's all the indices of {elem} in the list.\")"
   ]
  },
  {
   "cell_type": "markdown",
   "metadata": {},
   "source": [
    "#### 3.1.1.5 Iterating through List\n",
    "\n",
    "To iterate through a collection, e.g. list or tuple, you can use **for-loop**.\n",
    "\n",
    ">```\n",
    ">for item in my_list:\n",
    ">    # Process each item\n",
    ">```\n",
    "\n",
    "#### Exercise 3.20\n",
    "\n",
    "Print out each item in `names` list.\n",
    "```\n",
    "names = ['duck', 'chicken', 'goose']\n",
    "```"
   ]
  },
  {
   "cell_type": "code",
   "execution_count": null,
   "metadata": {},
   "outputs": [],
   "source": [
    "# YOUR CODE HERE"
   ]
  },
  {
   "cell_type": "markdown",
   "metadata": {},
   "source": [
    "To find the index value of each item in the list, we can use `enumerate()` function. Syntax is\n",
    ">```\n",
    ">enumerate(your_list)\n",
    ">```\n",
    "\n",
    "#### Exercise 3.21\n",
    "* Print items in list `['duck', 'chicken', 'goose']` as following output.\n",
    "\n",
    ">```\n",
    ">0 duck\n",
    ">1 chicken\n",
    ">2 goose\n",
    ">```"
   ]
  },
  {
   "cell_type": "markdown",
   "metadata": {},
   "source": [
    "Python provides a very handy way to perform same operate on all items in a list, and return a new list, called *list comprehension*.\n",
    "\n",
    "#### Exercise 3.21\n",
    "\n",
    "Create a list which contains len() value of each item in `['duck', 'chicken', 'goose']`\n"
   ]
  },
  {
   "cell_type": "code",
   "execution_count": null,
   "metadata": {},
   "outputs": [],
   "source": [
    "# YOUR CODE HERE"
   ]
  },
  {
   "cell_type": "markdown",
   "metadata": {},
   "source": [
    "#### Exercise 3.22\n",
    "\n",
    "Create a list which contain the first 100 terms of an arithmetic sequence with first term 2 and common difference 3."
   ]
  },
  {
   "cell_type": "code",
   "execution_count": null,
   "metadata": {},
   "outputs": [],
   "source": [
    "# YOUR CODE HERE"
   ]
  },
  {
   "cell_type": "markdown",
   "metadata": {},
   "source": [
    "#### Exercise 3.23\n",
    "How to prefix all items with a string 'big', which resulted in `['big duck', 'big chicken', 'big goose']`?\n",
    "\n",
    "```\n",
    "names = ['duck', 'chicken', 'goose']\n",
    "```"
   ]
  },
  {
   "cell_type": "code",
   "execution_count": null,
   "metadata": {
    "tags": [
     "hide-cell"
    ]
   },
   "outputs": [],
   "source": [
    "# YOUR CODE HERE"
   ]
  },
  {
   "cell_type": "markdown",
   "metadata": {},
   "source": [
    "#### 3.1.1.4 Modifying a list\n",
    "\n",
    "List is a **mutable** collection, i.e. list can be modified and item value can be updated."
   ]
  },
  {
   "cell_type": "markdown",
   "metadata": {},
   "source": [
    "It is easy to update an item in the list by its index value.\n",
    "\n",
    "#### Exercise 3.24\n",
    "\n",
    "For a list `s = [0,1,2,3,4]`, update its 3rd item to `9`."
   ]
  },
  {
   "cell_type": "code",
   "execution_count": null,
   "metadata": {},
   "outputs": [],
   "source": [
    "# YOUR CODE HERE"
   ]
  },
  {
   "cell_type": "markdown",
   "metadata": {},
   "source": [
    "The `list.append( )` method is used to append (add) a element at the end of the list. Syntax is\n",
    ">```\n",
    ">your_list.append(element)\n",
    ">```\n",
    "\n",
    "#### Exercise 3.24\n",
    "\n",
    "For a list `s = [0,1,2,3,4,5]`, append a value `6` to it."
   ]
  },
  {
   "cell_type": "code",
   "execution_count": null,
   "metadata": {},
   "outputs": [],
   "source": [
    "# YOUR CODE HERE"
   ]
  },
  {
   "cell_type": "markdown",
   "metadata": {},
   "source": [
    "#### Exercise 3.24\n",
    "\n",
    "What happens if you append a list `[7,8,9]` to a list `[1,2,3,4,5]`?\n"
   ]
  },
  {
   "cell_type": "code",
   "execution_count": null,
   "metadata": {
    "tags": [
     "hide-cell"
    ]
   },
   "outputs": [],
   "source": [
    "# YOUR CODE HERE"
   ]
  },
  {
   "cell_type": "markdown",
   "metadata": {},
   "source": [
    "A list can also be **extended** with items from another list using `list.extend()` method. It will modify the first list. The resultant list will contain all the elements of the lists that were added, i.e. the resultant list is NOT a nested list. Syntax is\n",
    ">```\n",
    ">your_list.extend(another_list)\n",
    ">```\n",
    "\n",
    "**Note** the difference between `append()` and `extend()`."
   ]
  },
  {
   "cell_type": "markdown",
   "metadata": {},
   "source": [
    "\n",
    "#### Exercise 3.25\n",
    "\n",
    "Extend a list `[1,2,3,4,5,6]` with all items in another list `[7,8,9]`."
   ]
  },
  {
   "cell_type": "code",
   "execution_count": null,
   "metadata": {},
   "outputs": [],
   "source": [
    "# YOUR CODE HERE"
   ]
  },
  {
   "cell_type": "markdown",
   "metadata": {},
   "source": [
    "**Question:**\n",
    "\n",
    "* Can you re-write above code using `+` operator?\n",
    "* Can you insert `[7,8,9]` in the middle of `[1,2,3,4,5,6]` using `+` operator?"
   ]
  },
  {
   "cell_type": "code",
   "execution_count": null,
   "metadata": {
    "tags": [
     "hide-cell"
    ]
   },
   "outputs": [],
   "source": [
    "# YOUR CODE HERE"
   ]
  },
  {
   "cell_type": "markdown",
   "metadata": {},
   "source": [
    "The method `list.insert(position,new_value)` is used to insert a element `new_value` at a specified index value `position`. Syntax is\n",
    ">```\n",
    ">your_list.insert(position,new_value)\n",
    ">```\n",
    "\n",
    "* `list.insert()` method does not replace element at the index.\n",
    "* `list.append( )` method can only insert item at the end.\n",
    "\n",
    "#### Exercise 3.26\n",
    "\n",
    "Use `list.insert()` method to modify a string `'What a day'` to `'What a sunny day'`.\n",
    "* *Hint:* Use `str.split()` and `str.join()` methods."
   ]
  },
  {
   "cell_type": "code",
   "execution_count": null,
   "metadata": {},
   "outputs": [],
   "source": [
    "# YOUR CODE HERE"
   ]
  },
  {
   "cell_type": "markdown",
   "metadata": {},
   "source": [
    "`list.pop( )` method can be used to remove the last element in the list. This is similar to the operation of a stack (which we will cover later in the course.) Syntax is\n",
    ">```\n",
    ">your_list.pop()\n",
    ">```\n",
    "\n",
    "#### Exercise 3.27\n",
    "\n",
    "Use `list.pop()` function to remove items in list `[0,1,2,3,4]` in reverse order."
   ]
  },
  {
   "cell_type": "code",
   "execution_count": null,
   "metadata": {},
   "outputs": [],
   "source": [
    "# YOUR CODE HERE"
   ]
  },
  {
   "cell_type": "markdown",
   "metadata": {},
   "source": [
    "Index value can be specified to `list.pop()` method to remove a certain element corresponding to that index value. Syntax is\n",
    ">```\n",
    ">your_list.pop(index)\n",
    ">```\n",
    "\n",
    "#### Exercise 3.28\n",
    "\n",
    "Use `list.pop()` method to remove `'c'` from list `['a','b','c','d','e']`."
   ]
  },
  {
   "cell_type": "markdown",
   "metadata": {},
   "source": [
    "`list.remove( )` method is used to remove an item based on its value. Syntax is\n",
    ">```\n",
    ">your_list.remove(value)\n",
    ">```\n",
    "\n",
    "* If there are multiple items of same value, it will only remove 1st item.\n",
    "* It will throw an **exception** if the value is not found in the list. You may need to enclose it with `try-except` block. (We will come back to this)\n",
    "\n",
    "#### Exercise 3.29\n",
    "\n",
    "Use `list.remove()` function to remove value `3` three times.\n",
    "\n",
    "```\n",
    "lst = [0,1,2,3,4] * 2\n",
    "```"
   ]
  },
  {
   "cell_type": "code",
   "execution_count": null,
   "metadata": {},
   "outputs": [],
   "source": [
    "# YOUR CODE HERE"
   ]
  },
  {
   "cell_type": "markdown",
   "metadata": {},
   "source": [
    "#### Exercise 3.30\n",
    "\n",
    "How to remove all values `3` in the list `[1,2,3,4,1,2,3,4,1,2,3,4]`?\n",
    "* *Hint:* Use `while`, `try-except`, and `break`"
   ]
  },
  {
   "cell_type": "code",
   "execution_count": null,
   "metadata": {
    "tags": [
     "hide-cell"
    ]
   },
   "outputs": [],
   "source": [
    "# YOUR CODE HERE"
   ]
  },
  {
   "cell_type": "markdown",
   "metadata": {},
   "source": [
    "To clear all elements in a list, use its `list.clear()` method.\n",
    "\n",
    "#### Exercise 3.31\n",
    "\n",
    "Clear all items in `s = [1,2,3]`."
   ]
  },
  {
   "cell_type": "code",
   "execution_count": null,
   "metadata": {},
   "outputs": [],
   "source": [
    "# YOUR CODE HERE"
   ]
  },
  {
   "cell_type": "markdown",
   "metadata": {},
   "source": [
    "## Recap\n",
    "\n",
    "* How to create a new list?\n",
    "* Can a list hold elements of different data type?\n",
    "* Why do you need multiple level indexing?\n",
    "* Name 3 functions or operators which works with list.\n",
    "* What is the keyword used to check membership in a list?\n",
    "* How to add an item to a list? \n",
    "* How to remove an item from a list?\n",
    "* How to merge 2 lists?"
   ]
  },
  {
   "cell_type": "markdown",
   "metadata": {},
   "source": [
    "### 3.1.2 Tuples\n",
    "\n",
    "A Tuple is a collection of Python objects which is **immutable**, i.e. not modifiable after creation.\n",
    "\n",
    "#### 3.1.2.1 Creating a Tuple\n",
    "\n",
    "Tuple is created with listed of items surrounded by parentheses **\"( )\"**, and seperated by comma **\",\"**.\n",
    "\n",
    "* To create an empty tuple, simple use `()`\n",
    "* To create a single-item tuple, need to add **common `,`** behind the element. E.g. `tup = (3,)`\n",
    "\n",
    "#### Exercise 3.32\n",
    "\n",
    "* Create a tuple `t` with values `1, 2, 3, 4`\n",
    "* Print it and its type"
   ]
  },
  {
   "cell_type": "code",
   "execution_count": null,
   "metadata": {},
   "outputs": [],
   "source": [
    "# YOUR CODE HERE\n",
    "t=(1,2,3,4)\n",
    "print(type(t))"
   ]
  },
  {
   "cell_type": "markdown",
   "metadata": {},
   "source": [
    "In fact, parentheses is optional unless it is to create an empty tuple."
   ]
  },
  {
   "cell_type": "code",
   "execution_count": null,
   "metadata": {},
   "outputs": [],
   "source": [
    "# YOUR CODE HERE"
   ]
  },
  {
   "cell_type": "markdown",
   "metadata": {},
   "source": [
    "Tuple can also be created using by typecasting a list using `tuple()` constructor function.\n",
    "* when string is passed in as argument, it turns string into collection of characters.\n",
    "\n",
    "\n",
    "#### Exercise 3.33\n",
    "* Create a tuple from list `[1,2,3]`.\n",
    "* What happen if you apply `tuple()` constructor function on a string `Good day!`?"
   ]
  },
  {
   "cell_type": "code",
   "execution_count": null,
   "metadata": {},
   "outputs": [],
   "source": [
    "# YOUR CODE HERE\n",
    "a=tuple([1,2,3])\n",
    "type(a)\n",
    "tuple('Good day!')"
   ]
  },
  {
   "cell_type": "markdown",
   "metadata": {},
   "source": [
    "\n",
    "Python collections allows mix data types in the same collection. We can also create tuple with items of different data type, although this is not commonly used.\n",
    "\n",
    "#### Exercise 3.34\n",
    "\n",
    "* Create a tuple with items `'apple', 3.0, 'banana', 4`."
   ]
  },
  {
   "cell_type": "code",
   "execution_count": null,
   "metadata": {},
   "outputs": [],
   "source": [
    "# YOUR CODE HERE"
   ]
  },
  {
   "cell_type": "markdown",
   "metadata": {},
   "source": [
    "Tuple can contain other tuples as its elements. Such tuples are called **nested tuples**.\n",
    "\n",
    "#### Exercise 3.35\n",
    "* Create a tuple `nested` with items `0, 1, (2, 3, 4), (5, 6)`\n",
    "* What's the length of above tuple?"
   ]
  },
  {
   "cell_type": "code",
   "execution_count": null,
   "metadata": {},
   "outputs": [],
   "source": [
    "# YOUR CODE HERE\n",
    "b=(0, 1, (2, 3, 4), (5, 6))\n",
    "len(b)"
   ]
  },
  {
   "cell_type": "markdown",
   "metadata": {},
   "source": [
    "#### 3.1.2.2 Accessing an Element in tuple via indexing.\n",
    "\n",
    "Items in collection can be accessed by their indexes. Python uses zero-based indexing, i.e. index starts from 0.\n",
    "\n",
    "#### Exercise 3.36\n",
    "* Create a tuple `('apple', 'banana', 'cherry', 'durian')` and assign it to the variable `fruits`.\n",
    "* Print out 2nd and 4th item in the tuple."
   ]
  },
  {
   "cell_type": "code",
   "execution_count": null,
   "metadata": {},
   "outputs": [],
   "source": [
    "# YOUR CODE HERE\n",
    "fruits=('apple', 'banana', 'cherry', 'durian')\n",
    "print(fruits[1])\n",
    "print(fruits[3])\n"
   ]
  },
  {
   "cell_type": "markdown",
   "metadata": {},
   "source": [
    "Indexing can also be done in reverse order. That is the last element has an index of -1, and second last element has index of -2.\n",
    "\n",
    "<center>\n",
    "<img src=\"./images/list-indexing.png\" alt=\"Set Venn Diagram\" style=\"width: 400px;\"/>\n",
    "</center>"
   ]
  },
  {
   "cell_type": "markdown",
   "metadata": {},
   "source": [
    "#### Exercise 3.37\n",
    "* Use <u>negative indexing</u> to print out <u>last</u> and <u>2nd last</u> item in `fruits`."
   ]
  },
  {
   "cell_type": "code",
   "execution_count": null,
   "metadata": {},
   "outputs": [],
   "source": [
    "# YOUR CODE HERE"
   ]
  },
  {
   "cell_type": "markdown",
   "metadata": {},
   "source": [
    "For nested tuples, we can access items by multi-level indexing as well. Each level of the index always starts from 0.\n",
    "\n",
    "#### Exercise 3.38\n",
    "* Create a tuple `nested` with items `0, 1, (2, 3, 4), (5, 6)`.\n",
    "* How do you access value `4` and `5`?"
   ]
  },
  {
   "cell_type": "code",
   "execution_count": null,
   "metadata": {},
   "outputs": [],
   "source": [
    "# YOUR CODE HERE"
   ]
  },
  {
   "cell_type": "markdown",
   "metadata": {},
   "source": [
    "#### 3.1.2.3 Accessing a Subset of Tuple via Slicing.\n",
    "\n",
    "**Indexing** was only limited to accessing a single element.\n",
    "**Slicing** on the other hand is accessing a sequence of data inside the tuple. \n",
    "\n",
    "**Slicing** is done by defining the index values of the `first element` and the `last element` from the parent list that is required in the sliced tuple. \n",
    "\n",
    ">```\n",
    ">sub = num[a : b]\n",
    ">sub = num[a : ]\n",
    ">sub = num[: b]\n",
    ">sub = num[:]\n",
    ">```\n",
    " \n",
    "* if both `a` and `b` are specified, `a` is the first index, `b` is the **last index + 1**.\n",
    "* if `b` is omitted, it will slice till last element.\n",
    "* if `a` is omitted, it will starts from first element.\n",
    "* if neither `a` or `b` is specified, it is effectively copy the whole tuple.\n",
    "\n",
    "**Note: the upper bound index is NOT inclusive!**\n",
    "\n",
    "Try out following code.\n",
    "\n",
    ">```\n",
    ">num = tuple(range(10))\n",
    ">\n",
    "># Get item with index 2 to 4\n",
    ">print(num[2:5])\n",
    ">\n",
    "># Get first 5 items\n",
    ">print(num[:5])\n",
    ">\n",
    "># Get from item with index = 5 onwards\n",
    ">print(num[5:])\n",
    ">```"
   ]
  },
  {
   "cell_type": "code",
   "execution_count": null,
   "metadata": {},
   "outputs": [],
   "source": [
    "# YOUR CODE HERE"
   ]
  },
  {
   "cell_type": "markdown",
   "metadata": {},
   "source": [
    "Remember tuple items can be accessed using `negative index`. Same technique can be applied for slicing too. \n",
    "\n",
    "* Last item has index of -1\n",
    "\n",
    "#### Exercise 3.39\n",
    "Consider the tuple `num = (0,1,2,3,4,5,6,7,8,9)`.\n",
    "\n",
    "* How to get last 3 items from a tuple?\n",
    "* How to ignore last 3 items from a tuple?\n",
    "* How to strip first and last items from a tuple?\n",
    "\n"
   ]
  },
  {
   "cell_type": "code",
   "execution_count": null,
   "metadata": {},
   "outputs": [],
   "source": [
    "# YOUR CODE HERE"
   ]
  },
  {
   "cell_type": "markdown",
   "metadata": {},
   "source": [
    "#### 3.1.2.4 Working with Tuple"
   ]
  },
  {
   "cell_type": "markdown",
   "metadata": {},
   "source": [
    "##### 3.1.2.4.1 Length of tuples `len()`\n",
    "To find the length of the tuple or the number of elements in a tuple, the function `len( )` is used. Syntax is \n",
    ">```\n",
    ">len(tuples)\n",
    ">```"
   ]
  },
  {
   "cell_type": "markdown",
   "metadata": {},
   "source": [
    "##### 3.1.2.4.2 Maximum `max()`, minimum `min()` and sum `sum()` of all the values in the tuple\n",
    "\n",
    "If the tuple consists of all integer elements, the functions `min( )`, `max( )` and `sum()` gives the minimum item, maximum item and total sum value of the tuple. Syntax is \n",
    ">```\n",
    ">max(your_tuple)\n",
    ">min(your_tuple)\n",
    ">sum(your_tuple)\n",
    ">```\n",
    "\n",
    "#### Exercise 3.40\n",
    "Print out min value, max value and sum of tuple with items 0-9.\n",
    "\n"
   ]
  },
  {
   "cell_type": "code",
   "execution_count": null,
   "metadata": {},
   "outputs": [],
   "source": [
    "# YOUR CODE HERE"
   ]
  },
  {
   "cell_type": "markdown",
   "metadata": {},
   "source": [
    "#### Exercise 3.41\n",
    "How do you create a tuple by reversing another tuple? "
   ]
  },
  {
   "cell_type": "code",
   "execution_count": null,
   "metadata": {},
   "outputs": [],
   "source": [
    "# YOUR CODE HERE"
   ]
  },
  {
   "cell_type": "markdown",
   "metadata": {},
   "source": [
    "If elements are string type, `max()` and `min()` is still applicable. `max()` would return a string element whose ASCII value is the highest and the lowest when `min()` is used. Note that only the first index of each element is considered each time and if they value is the same then second index considered so on and so forth."
   ]
  },
  {
   "cell_type": "markdown",
   "metadata": {},
   "source": [
    "#### Exercise 3.42\n",
    "What's the minimum and the maximum value of tuple `poly = ('np','sp','tp','rp','nyp')`?"
   ]
  },
  {
   "cell_type": "code",
   "execution_count": null,
   "metadata": {},
   "outputs": [],
   "source": [
    "# YOUR CODE HERE"
   ]
  },
  {
   "cell_type": "markdown",
   "metadata": {},
   "source": [
    "##### 3.1.2.4.3 Checking Values in the tuple with `any()` and `all()` function\n",
    "\n",
    "`any()` function returns `True` if any item in tuple (collection) is evaluated `True`.\n",
    "\n",
    "`all()` function returns `True` if all items in tuple (collection) is evaluated `True`.\n",
    "\n",
    "Python evaluates following values as `False`\n",
    "* `False`, `None`, numeric zero of all types\n",
    "* Empty strings and containers (including strings, tuples, lists, dictionaries, sets and frozensets)\n",
    "\n",
    "#### Exercise 3.43\n",
    "\n",
    "For each list of `[2, 4, 0, 9]`, `['', 'hello', 'world']`.\n",
    "* use `any()` to check if the list contains any non-zero item.\n",
    "* use `all()` to check if all items in the list are non-zero  . "
   ]
  },
  {
   "cell_type": "code",
   "execution_count": null,
   "metadata": {},
   "outputs": [],
   "source": [
    "# YOUR CODE HERE"
   ]
  },
  {
   "cell_type": "markdown",
   "metadata": {},
   "source": [
    "##### 3.1.2.4.4 Reversing the values in a tuple with `reversed()` function\n",
    "\n",
    "Unlike list, tuple is immutable. Thus `.reverse()` method is **NOT** applicable to tuple. \n",
    "\n",
    "The `reversed()` function returns a reversed object which can be converted to be a tuple or list. Syntax is\n",
    "\n",
    ">```\n",
    ">reversed(my_tuple)\n",
    ">```\n",
    "\n",
    "```\n",
    "poly = ('np','sp','tp','rp','nyp')\n",
    "r = reversed(poly)\n",
    "print(type(r), tuple(r))\n",
    "```"
   ]
  },
  {
   "cell_type": "code",
   "execution_count": null,
   "metadata": {},
   "outputs": [],
   "source": [
    "# YOUR CODE HERE\n",
    "# poly=('np','sp','tp','rp','nyp')\n",
    "# poly.reverse()\n",
    "# print(poly)\n",
    "\n",
    "poly = ('np','sp','tp','rp','nyp')\n",
    "r = reversed(poly)\n",
    "print(tuple(r))\n",
    "print(type(r), tuple(r))"
   ]
  },
  {
   "cell_type": "markdown",
   "metadata": {},
   "source": [
    "##### 3.1.2.4.5 Arranging the values in a tuple with `reversed()` function\n",
    "\n",
    "Similarly, `.sort()` method cannot be applied directly to tuple itself. \n",
    "\n",
    "`sorted()` function to arrange the elements in **ascending** order. Syntax is\n",
    "\n",
    ">```\n",
    ">sorted(my_tuple)\n",
    ">```\n",
    "\n",
    "```\n",
    "poly = ('np','sp','tp','rp','nyp')\n",
    "s = sorted(poly)\n",
    "print(poly)\n",
    "print(s)\n",
    "```"
   ]
  },
  {
   "cell_type": "code",
   "execution_count": null,
   "metadata": {},
   "outputs": [],
   "source": [
    "# YOUR CODE HERE"
   ]
  },
  {
   "cell_type": "markdown",
   "metadata": {},
   "source": [
    "For **descending** order, specify the named argument `reverse = True`.\n",
    "\n",
    "By default the reverse condition will be `False` for `reverse`. Hence changing it to `True` would arrange the elements in descending order."
   ]
  },
  {
   "cell_type": "markdown",
   "metadata": {},
   "source": [
    "The `sort()` function has another named argument `key`, which allows us to specify a callable function. The sorting will be done based on returned value from this callable function. \n",
    "\n",
    "For example, `len()` function returns length of a string. \n",
    "\n",
    "To sort based on string length, `key = len` can be specified as shown."
   ]
  },
  {
   "cell_type": "code",
   "execution_count": null,
   "metadata": {},
   "outputs": [],
   "source": [
    "names = ('duck', 'chicken', 'goose')\n",
    "s1 = sorted(names, key=len)\n",
    "print(s1)\n",
    "# YOUR CODE HERE where s2 is in reverse order\n",
    "print(s2)"
   ]
  },
  {
   "cell_type": "markdown",
   "metadata": {},
   "source": [
    "Two tuples can also be join together simply using `+` operator."
   ]
  },
  {
   "cell_type": "markdown",
   "metadata": {},
   "source": [
    "Besides tuples, `str` objects are also immutable. New string will be created when a string is modified."
   ]
  },
  {
   "cell_type": "code",
   "execution_count": null,
   "metadata": {},
   "outputs": [],
   "source": [
    "(1,2,3)+(4,5)"
   ]
  },
  {
   "cell_type": "code",
   "execution_count": null,
   "metadata": {},
   "outputs": [],
   "source": [
    "s = \"hello world.\"\n",
    "t = s\n",
    "print(t == s, t is s)\n",
    "s = s + \"abc\"\n",
    "print(t == s, t is s)"
   ]
  },
  {
   "cell_type": "markdown",
   "metadata": {},
   "source": [
    "Similarly, tuple is immutable. Modification to tuple will return a new tuple object."
   ]
  },
  {
   "cell_type": "markdown",
   "metadata": {},
   "source": [
    "Similar to list, we can repeat a tuple multiple times with `*` operator."
   ]
  },
  {
   "cell_type": "code",
   "execution_count": null,
   "metadata": {},
   "outputs": [],
   "source": [
    "t1 = (1,2,3,4,5,6)\n",
    "t2 = t1 * 2\n",
    "print(t1, t2)"
   ]
  },
  {
   "cell_type": "markdown",
   "metadata": {},
   "source": [
    "#### 3.1.2.5 Membership and Searching elements in a tuple\n",
    "\n",
    "You might need to check if a particular item is in a tuple.\n",
    "\n",
    "Instead of using `for` loop to iterate over the tuple and use the `if` condition, Python provides a simple `in` statement to check membership of an item. \n",
    "\n",
    ">```\n",
    ">names = ('duck', 'chicken', 'goose')\n",
    ">found1 = 'duck' in names\n",
    ">found2 = 'dog' in names\n",
    ">print(found1, found2)\n",
    ">```"
   ]
  },
  {
   "cell_type": "markdown",
   "metadata": {},
   "source": [
    "`count( )` is used to count the occurence of a particular item in a list."
   ]
  },
  {
   "cell_type": "code",
   "execution_count": null,
   "metadata": {},
   "outputs": [],
   "source": [
    "names = ('duck', 'chicken', 'goose') * 2\n",
    "print(names)\n",
    "names.count('duck')"
   ]
  },
  {
   "cell_type": "markdown",
   "metadata": {},
   "source": [
    "`index( )` is used to find the index value of a particular item. \n",
    "* Note that if there are multiple items of the same value, the first index value of that item is returned.\n",
    "* You can add 2nd argument `x` to start searching from index `x` onwards."
   ]
  },
  {
   "cell_type": "code",
   "execution_count": null,
   "metadata": {},
   "outputs": [],
   "source": [
    "names2 = ('duck', 'chicken', 'goose') * 2\n",
    "idx = names2.index('goose')\n",
    "idx2 = names2.index('goose', 4)\n",
    "print('Gooses at index {} and {}'.format(idx, idx2))"
   ]
  },
  {
   "cell_type": "markdown",
   "metadata": {},
   "source": [
    "#### 3.1.2.6 Membership and Searching elements in a tuple\n",
    "\n",
    "To iterate through a tuple (collection), you can use `for` loop."
   ]
  },
  {
   "cell_type": "code",
   "execution_count": null,
   "metadata": {},
   "outputs": [],
   "source": [
    "names = ('duck', 'chicken', 'goose')\n",
    "for name in names:\n",
    "    print(name)"
   ]
  },
  {
   "cell_type": "markdown",
   "metadata": {},
   "source": [
    "\n",
    "If you need the index value, you can use `enumerate()` function."
   ]
  },
  {
   "cell_type": "code",
   "execution_count": null,
   "metadata": {},
   "outputs": [],
   "source": [
    "for idx, name in enumerate(names):\n",
    "    print(idx, name)"
   ]
  },
  {
   "cell_type": "markdown",
   "metadata": {},
   "source": [
    "#### 3.1.2.7 Function with Multiple Returning Values\n",
    "\n",
    "In most programming languages, function/method can only return a single value. It is the same practice in Python.\n",
    "\n",
    "But in Python, you can return a tuple which can easily pack multiple values together.\n",
    "\n",
    "## Exercise 3.44\n",
    "\n",
    "Define a function `minmax()` which fulfils following conditions. Test the function with list `\\[1,2,3,4,5\\]'.\n",
    "\n",
    "- accept a list as input\n",
    "- return both min and max values of the list"
   ]
  },
  {
   "cell_type": "markdown",
   "metadata": {},
   "source": [
    "Tuple can be easily unpacked into multiple values.\n",
    "\n",
    "During unpacking, number of variable needs to match number of items in tuple"
   ]
  },
  {
   "cell_type": "code",
   "execution_count": null,
   "metadata": {},
   "outputs": [],
   "source": [
    "x, y, z = 1, 2, 3\n",
    "print(x, y, z)"
   ]
  },
  {
   "cell_type": "markdown",
   "metadata": {},
   "source": [
    "It is common to use underscore `_` for items to be ignored."
   ]
  },
  {
   "cell_type": "code",
   "execution_count": null,
   "metadata": {},
   "outputs": [],
   "source": [
    "times = '9am to 5pm to 6pm to 8pm'.split('to')\n",
    "print(times)\n",
    "start, _, end, _ = tuple(times)\n",
    "print(start, end)"
   ]
  },
  {
   "cell_type": "markdown",
   "metadata": {},
   "source": [
    "#### Exercise 3.45\n",
    "\n",
    "How to swap two values `x` and `y` in a single statement?"
   ]
  },
  {
   "cell_type": "code",
   "execution_count": null,
   "metadata": {},
   "outputs": [],
   "source": [
    "x = 10\n",
    "y = 20\n",
    "# YOUR CODE HERE\n",
    "print('x = {}, y = {}'.format(x, y))\n",
    "x,y =y,x\n",
    "print('x = {}, y = {}'.format(x, y))"
   ]
  },
  {
   "cell_type": "markdown",
   "metadata": {},
   "source": [
    "You can use `*` to hold any number of unpacked values.\n",
    "\n",
    "For example, from a tuple, you would like to get its last item, and put all other items in a list."
   ]
  },
  {
   "cell_type": "code",
   "execution_count": null,
   "metadata": {},
   "outputs": [],
   "source": [
    "t = (1,2,3,4,5)\n",
    "#a,b =t\n",
    "*a, b = t\n",
    "print(a, b)"
   ]
  },
  {
   "cell_type": "markdown",
   "metadata": {},
   "source": [
    "#### Exercise 3.46\n",
    "\n",
    "How to extract only first and last items from a tuple `(1,2,3,4,5)`."
   ]
  },
  {
   "cell_type": "code",
   "execution_count": null,
   "metadata": {},
   "outputs": [],
   "source": [
    "t = (1,2,3,4,5)\n",
    "# YOUR CODE HERE\n",
    "a,*b,c=t\n",
    "print(a, b, c)"
   ]
  },
  {
   "cell_type": "markdown",
   "metadata": {},
   "source": [
    "## Recap\n",
    "\n",
    "### Difference between Tuple and List\n",
    "\n",
    "A tuple is **immutable** whereas a list is **mutable**.\n",
    "\n",
    "* You can't add elements to a tuple. Tuples have no append or extend method.\n",
    "* You can't remove elements from a tuple. Tuples have no remove or pop method.\n",
    "\n",
    "### When to use Tuple?\n",
    "\n",
    "* Tuples are used in function to return multiple values together.\n",
    "* Tuples are lighter-weight and are more memory efficient and often faster if used in appropriate places.\n",
    "* When using a tuple you protect against accidental modification when passing it between functions.\n",
    "* Tuples, being immutable, can be used as a key in a dictionary, which we’re about to learn about."
   ]
  },
  {
   "cell_type": "markdown",
   "metadata": {},
   "source": [
    "#"
   ]
  },
  {
   "cell_type": "markdown",
   "metadata": {},
   "source": [
    "## 3.2 Hash Table\n",
    "\n",
    "A **hash table** (hash map) is a data structure that stores data in an associative manner. Roughly speaking, it is an unordered collection of key-value pairs, which are just a pair of values where by knowing the `key` value, you can retrieve `value` value. \n",
    "\n",
    "Hash table uses a fixed size array as a storage medium and uses **hash function** to generate an index where an element is to be inserted or is to be located from. Hash table allows us to do a key-value lookup.\n",
    "\n",
    "#### Example\n",
    "\n",
    "#### Linear Probing\n",
    "\n",
    "\n",
    "Reference: https://www.youtube.com/watch?v=sfWyugl4JWA\n",
    "\n",
    "Hashing\n",
    "\n",
    "### 3.2.1 Dictionary\n",
    "\n",
    "Dictionaries are a common feature of modern languages (often known as maps, associative arrays, or hashmaps) which let you associate pairs of values together.\n",
    "\n",
    "In Python, dictionaries are defined in **dict** data type.\n",
    "* It stores keys and their corresponding values.\n",
    "* Keys must be **unique** and **immutable**.\n",
    "* It is **mutable**, i.e. you can add and remove items from a dictionary.\n",
    "* It is **unordered**, i.e. items in a dictionary are not ordered.\n",
    "* Elements in a dictionary is of the form `key_1:value_1, key_2:value_2,....`\n",
    "\n",
    "#### 3.2.1.1 Creating a dictionary\n",
    "\n",
    "Dictionary is created with listed of items surrounded by curly brackets `{}`, and seperated by comma `,`.\n",
    "\n",
    "* To create an empty dictionary, simple use `{}`\n",
    "* Key and value are separated by colon `:`\n",
    "* Key needs to be **immutable** type, e.g. data type like scalar, string or tuple\n",
    "\n",
    "#### Example"
   ]
  },
  {
   "cell_type": "code",
   "execution_count": 1,
   "metadata": {},
   "outputs": [
    {
     "name": "stdout",
     "output_type": "stream",
     "text": [
      "{'name': 'John', 1: [2, 4, 3]}\n"
     ]
    }
   ],
   "source": [
    "# empty dictionary\n",
    "d0 = {}\n",
    "\n",
    "# dictionary with mixed data type\n",
    "d1 = {'name': 'John', 1: [2, 4, 3]}\n",
    "print(d1)\n",
    "d1['beer']='woe'\n"
   ]
  },
  {
   "cell_type": "markdown",
   "metadata": {},
   "source": [
    "#### Example \n",
    "\n",
    "Create a dictionary `fruits` which has following keys and values.\n",
    "\n",
    "| key | value    |\n",
    "|-----|----------|\n",
    "| a   | Apple    |\n",
    "| b   | Banana   |\n",
    "| c   | Cherries |\n",
    "| d   | Durian   |"
   ]
  },
  {
   "cell_type": "code",
   "execution_count": null,
   "metadata": {},
   "outputs": [],
   "source": [
    "# YOUR CODE HERE"
   ]
  },
  {
   "cell_type": "markdown",
   "metadata": {},
   "source": [
    "New dictionary can be created from a list of tuples too using the `dict()` constructor function, where each tuple contains a key and a value. Syntax is \n",
    ">`dict(my_list_of_tuples)`\n",
    "\n",
    "**Example**\n",
    "\n",
    "Construct a dictionary `f3` using list `[('a','Apple'), ('b','Banana'), ('c','Cherries'), ('d','Durian')]`. "
   ]
  },
  {
   "cell_type": "code",
   "execution_count": null,
   "metadata": {},
   "outputs": [],
   "source": [
    "# YOUR CODE HERE"
   ]
  },
  {
   "cell_type": "markdown",
   "metadata": {},
   "source": [
    "#### 3.2.1.2 Accessing an Element in dictionary by its respective key.\n",
    "\n",
    "Items in dictionary can be accessed by their respective keys. \n",
    "* Key can be used either inside square brackets or with the `get()` method.\n",
    "* The difference while using `get()` is that it returns `None` instead of `KeyError` Exception, if the key is not found.\n",
    "* `get()` method can take in a default value argument, which will be returned if the key is not found. Syntax is\n",
    ">`your_dict.get(key,message_if_unavailable)`\n",
    "\n",
    "#### Example \n",
    "\n",
    "What happens when you try to use a non-existing key?"
   ]
  },
  {
   "cell_type": "code",
   "execution_count": null,
   "metadata": {},
   "outputs": [],
   "source": [
    "print(fruits)\n",
    "print(fruits['a'])\n",
    "print(fruits['b'])\n",
    "print(fruits['z'])"
   ]
  },
  {
   "cell_type": "markdown",
   "metadata": {},
   "source": [
    "#### Example\n",
    "What happens when you use `.get()` and try to use a non-existing key?"
   ]
  },
  {
   "cell_type": "code",
   "execution_count": null,
   "metadata": {},
   "outputs": [],
   "source": [
    "print(fruits)\n",
    "print(fruits.get('a', 'Not available'))\n",
    "print(fruits.get('z', 'Not available'))"
   ]
  },
  {
   "cell_type": "markdown",
   "metadata": {},
   "source": [
    "3.2.1.3 Finding number of elements in a dictionary with `len()` function\n",
    "\n",
    "To find the number of elements in a dictionary, `len()` function is used. Syntax is\n",
    ">```\n",
    ">len(my_dictionary)\n",
    ">```\n",
    "\n",
    "#### Example:\n",
    "\n",
    "Find the length of `fruits` dictionary."
   ]
  },
  {
   "cell_type": "code",
   "execution_count": null,
   "metadata": {},
   "outputs": [],
   "source": [
    "# YOUR CODE HERE"
   ]
  },
  {
   "cell_type": "markdown",
   "metadata": {},
   "source": [
    "#### 3.2.1.4 `dict.keys()`, `dict.values()`, `dict.items()` methods\n",
    "\n",
    "* `keys()` method return the dictionary's keys as `dict_keys` object.\n",
    "* `values()` method return the dictionary's values as `dict_values` object.\n",
    "* `items()` return  the dictionary's key-value pairs as `dict_items` object. \n",
    "\n",
    "If you want the various collections as a list typecast the objects using the `list` constructor function.\n",
    "\n",
    "#### Example \n",
    "\n",
    "Print out the keys, values and key-value pairs of the dictionary `fruits`."
   ]
  },
  {
   "cell_type": "code",
   "execution_count": null,
   "metadata": {},
   "outputs": [],
   "source": [
    "print(fruits.keys())\n",
    "print(fruits.values())\n",
    "print(fruits.items())"
   ]
  },
  {
   "cell_type": "markdown",
   "metadata": {},
   "source": [
    "#### 3.2.1.5 Modifying and Updating a dictionary\n",
    "\n",
    "Similar to list, dictionary is a **mutable** collection, i.e. dictionary can be modified and the values of existing items can be updated. Syntax is\n",
    ">```\n",
    ">your_dictionary[your_key]=your_value\n",
    ">```\n",
    "\n",
    "* If the key exists in the dictionary, existing value will be updated. \n",
    "* If the key doesn't exists in the dictionary, new key:value pair is added to dictionary.\n",
    "\n",
    "#### Example \n",
    "\n",
    "Using the `fruits` dictionary defined earlier.\n",
    "- Update its key `a` value to `['Apple', 'Apricots', 'Avocado']`\n",
    "- Add another key-value pair `{'f':'Fig'}` to `fruits` dictionary."
   ]
  },
  {
   "cell_type": "code",
   "execution_count": null,
   "metadata": {},
   "outputs": [],
   "source": [
    "# YOUR CODE HERE"
   ]
  },
  {
   "cell_type": "markdown",
   "metadata": {},
   "source": [
    "#### 3.2.1.6 Merging Dictionaries with `.update()`\n",
    "\n",
    "`.update()` method is used to merge items from another dictionary.\n",
    "* Adds element(s) to the dictionary if the key is not in the dictionary.\n",
    "* If the key is in the dictionary, it updates the key with the new value.\n",
    "\n",
    "#### Example\n",
    "\n",
    "* Create another dictionary `fruits_too` with items `{'d':'Dates', 'e':'Eldercherry', 'f':'Fig', 'g':'Grape'}`.\n",
    "* Add/update items from `fruits_too` to `fruits`."
   ]
  },
  {
   "cell_type": "code",
   "execution_count": null,
   "metadata": {},
   "outputs": [],
   "source": [
    "# YOUR CODE HERE"
   ]
  },
  {
   "cell_type": "markdown",
   "metadata": {},
   "source": [
    "#### 3.2.1.7 Removing Items with `.pop()`, `.popitem()`, `.clear()`\n",
    "\n",
    "`.pop()` method is used to remove an item by key and returns the value. Syntax is\n",
    ">```\n",
    ">my_dictionary.pop(my_item)\n",
    ">```\n",
    "\n",
    "It throws exception if key is not found.\n",
    "\n",
    "#### Example"
   ]
  },
  {
   "cell_type": "code",
   "execution_count": null,
   "metadata": {},
   "outputs": [],
   "source": [
    "fruits = {'a': 'captain', 'b': 'Banana', 'c': 'Cherry', 'd': 'Durian', 'f': 'Fig'}\n",
    "print(fruits)\n",
    "\n",
    "p = fruits.pop('b')\n",
    "print(fruits)\n",
    "print(p)\n",
    "\n",
    "b = fruits.popitem()\n",
    "print(fruits)\n",
    "print(b)\n",
    "\n",
    "fruits.clear()\n",
    "print(fruits)"
   ]
  },
  {
   "cell_type": "markdown",
   "metadata": {},
   "source": [
    "`.popitem()` removes any arbitrary item.\n",
    "\n",
    "`.clear()` clears all items in a dictionary."
   ]
  },
  {
   "cell_type": "code",
   "execution_count": null,
   "metadata": {},
   "outputs": [],
   "source": [
    "mixed = dict(fruits)\n",
    "print(mixed.popitem())\n",
    "mixed.clear()\n",
    "print(mixed)"
   ]
  },
  {
   "cell_type": "markdown",
   "metadata": {},
   "source": [
    "#### 3.2.1.8 Iterating Through Dictionary\n",
    "\n",
    "To iterate through a dictionary, you can use for-loop. By default, the iteration is done ONLY on **keys** of the dictionary.\n",
    "\n",
    "#### Example"
   ]
  },
  {
   "cell_type": "code",
   "execution_count": null,
   "metadata": {},
   "outputs": [],
   "source": [
    "fruits = {'a': 'captain', 'b': 'Banana', 'c': 'Cherry', 'd': 'Durian', 'f': 'Fig'}\n",
    "\n",
    "for key in fruits:\n",
    "    print(key)"
   ]
  },
  {
   "cell_type": "markdown",
   "metadata": {},
   "source": [
    "#### Exercise\n",
    "\n",
    "Write a code to:\n",
    "\n",
    "1. iterate through the values in the `fruits` dictionary, and\n",
    "2. iterate through the keys and values in the `fruits` dictionary at the same time."
   ]
  },
  {
   "cell_type": "markdown",
   "metadata": {},
   "source": [
    "#### 3.2.1.9 Dictionary Comprehension\n",
    "\n",
    "Similiar to list, we can also use dictionary comprehension to easily generate a dictionary.\n",
    "\n",
    "#### Example"
   ]
  },
  {
   "cell_type": "code",
   "execution_count": null,
   "metadata": {},
   "outputs": [],
   "source": [
    "s = [x*2 for x in range(10)]\n",
    "print(s)\n",
    "\n",
    "d = {x: x*x for x in range(1,10)}\n",
    "print(d)"
   ]
  },
  {
   "cell_type": "markdown",
   "metadata": {},
   "source": [
    "#### 3.2.1.10 Membership Test\n",
    "\n",
    "We can use `in` operator to check membership of a key in a dictionary.\n",
    "\n",
    "#### Example\n",
    "\n",
    "Check whether key `a` and `z` are in the `fruits` dictionary. By default, membership testing is again done on keys."
   ]
  },
  {
   "cell_type": "code",
   "execution_count": null,
   "metadata": {},
   "outputs": [],
   "source": [
    "print(fruits)\n",
    "\n",
    "# by default, membership testing is done on keys\n",
    "print('a' in fruits)\n",
    "print('z' in fruits)"
   ]
  },
  {
   "cell_type": "markdown",
   "metadata": {},
   "source": [
    "#### Exercise\n",
    "\n",
    "* How to test if a value `Apple` is in a dictionary?\n",
    "* How to test if a key-value pair `{'a':'Apple'}` is in the dictionary?\n",
    "* Let `d1 = {'a':'Apple', 'c':'Cherries'}`. How to check if all key-value pairs in one dictionary `d1` are in the dictionary `fruits`?"
   ]
  },
  {
   "cell_type": "code",
   "execution_count": null,
   "metadata": {},
   "outputs": [],
   "source": [
    "#YOUR CODE HERE"
   ]
  },
  {
   "cell_type": "markdown",
   "metadata": {},
   "source": [
    "In a dictionary, to find key by matching its value, we can either use:\n",
    "* Option 1: for-loop\n",
    "* Option 2: `.index()` method\n",
    "\n",
    "#### Example"
   ]
  },
  {
   "cell_type": "code",
   "execution_count": null,
   "metadata": {},
   "outputs": [],
   "source": [
    "x = 'Cherry'\n",
    "s = list(fruits.values())\n",
    "print(s)\n",
    "\n",
    "i = s.index(x)\n",
    "print(i)\n",
    "\n",
    "k = list(fruits.keys())\n",
    "print(k[i])"
   ]
  },
  {
   "cell_type": "markdown",
   "metadata": {},
   "source": [
    "## Recap\n",
    "\n",
    "* How to create a dictionary?\n",
    "* How to copy a dictionary?\n",
    "* How to retrieve an item by key? by `[]` & by `.get()`\n",
    "* How to update an item?\n",
    "* How to add an item?\n",
    "* How to remove an item?\n",
    "* How to merge an dictionary to another?\n",
    "* What's the differences among `dict.keys()`, `dict.values()` and `dict.items()`"
   ]
  },
  {
   "cell_type": "markdown",
   "metadata": {},
   "source": [
    "## 3.3 Set\n",
    "\n",
    "A set is an **unordered** collection of **unique** values. In Python, `set` is the data type for Sets.\n",
    "\n",
    "* Every element in set is unique (no duplicates) and must be **immutable** (which cannot be changed).\n",
    "* `set` itself is mutable. We can add or remove items from it.\n",
    "* `set` is often used to eliminate repeated numbers in a sequence/list.\n",
    "\n",
    "### 3.3.1. How to create a set?\n",
    "\n",
    "A set is created by either of following methods:\n",
    "* Placing all the items (elements) inside curly braces `{}`, separated by comma `,`\n",
    "* Using the built-in constructor function `set()`, which takes in a collection (list or tuple)\n",
    "\n",
    "**Note:** \n",
    "* Set can contain mixed data type.\n",
    "* All duplicate value will be discarded.\n",
    "\n",
    "#### Example"
   ]
  },
  {
   "cell_type": "code",
   "execution_count": null,
   "metadata": {},
   "outputs": [],
   "source": [
    "s = [1,2,3,4]*3\n",
    "print(s)\n",
    "set3 = set(s)\n",
    "print(set3)"
   ]
  },
  {
   "cell_type": "markdown",
   "metadata": {},
   "source": [
    "**Question**\n",
    "* Why we can't use `{}` to create an empty set?\n",
    "\n",
    "#### Example"
   ]
  },
  {
   "cell_type": "code",
   "execution_count": null,
   "metadata": {},
   "outputs": [],
   "source": [
    "s = {}\n",
    "print(type(s))\n",
    "# empty set\n",
    "set0 = set()\n",
    "print(type(set0))"
   ]
  },
  {
   "cell_type": "markdown",
   "metadata": {},
   "source": [
    "#### 3.3.2 How to modify a set?\n",
    "\n",
    "Set is mutable. Thus you can perform following actions on a set.\n",
    "* Add a single item\n",
    "* Updae/add multiple items\n",
    "* remove items"
   ]
  },
  {
   "cell_type": "markdown",
   "metadata": {},
   "source": [
    "##### 3.3.2.1 Add a Single Item with `add()`\n",
    "\n",
    "`add()` function is used to add a single item to the list.\n",
    "\n",
    "If the item is already exists in the set, it will be ignored.\n",
    "\n",
    "#### Example\n"
   ]
  },
  {
   "cell_type": "code",
   "execution_count": null,
   "metadata": {},
   "outputs": [],
   "source": [
    "set1 = {1,2,3,4}\n",
    "set1.add(5)\n",
    "set1.add(5)\n",
    "print(set1)"
   ]
  },
  {
   "cell_type": "markdown",
   "metadata": {},
   "source": [
    "##### 3.3.2.2 Add Multiple Items with `update()`\n",
    "\n",
    "`update()` function is used to add multiple items to a set. It can take in one or more collections, e.g. list, tuple or another set.\n",
    "\n",
    "* If the item already exists, it will be discarded.\n",
    "* If the item does not exist, it will be added.\n",
    "\n",
    "#### Example"
   ]
  },
  {
   "cell_type": "code",
   "execution_count": null,
   "metadata": {},
   "outputs": [],
   "source": [
    "set1 = {1,2,3,4}\n",
    "print(set1)\n",
    "set1.update([2,3,4,5])\n",
    "print(set1)\n",
    "set1.update([(5,6)], {7,8}, (9,10))\n",
    "print(set1)"
   ]
  },
  {
   "cell_type": "markdown",
   "metadata": {},
   "source": [
    "##### 3.3.2.3 Remove Item by Value\n",
    "\n",
    "An item can be removed from set using `discard()` and `remove()` methods.\n",
    "* `discard()` method does not throw exception if the item is not found in the set.\n",
    "* `remove()` method will raise an `Exception` in such condition."
   ]
  },
  {
   "cell_type": "code",
   "execution_count": null,
   "metadata": {},
   "outputs": [],
   "source": [
    "set1 = {1,2,3,4}\n",
    "\n",
    "set1.discard(4)\n",
    "set1.discard(44)\n",
    "print(set1)\n",
    "\n",
    "set1.remove(33)\n",
    "print(set1)"
   ]
  },
  {
   "cell_type": "markdown",
   "metadata": {},
   "source": [
    "##### 3.3.2.4 Remove an Arbitrary Item\n",
    "\n",
    "`pop()` function can be used to remove an **arbitrary** item from set. This is because set is unordered.\n",
    "* The popped value may seem following a sequence. But that is due to the internal hashmap implementation. It is not reliable and depends on values."
   ]
  },
  {
   "cell_type": "markdown",
   "metadata": {},
   "source": [
    "set1 = {1,2,3,4}\n",
    "print(set1.pop())\n",
    "print(set1.pop())\n",
    "print(set1)"
   ]
  },
  {
   "cell_type": "markdown",
   "metadata": {},
   "source": [
    "##### 3.3.2.5 Remove an Arbitrary Item\n",
    "\n",
    "Sets can be used to carry out mathematical set operations\n",
    "* intersection\n",
    "* union\n",
    "* symmetric difference\n",
    "* difference (subtracting)\n",
    "\n",
    "<img src=\".images/set-venn.png\" alt=\"Set Venn Diagram\" style=\"width: 500px;\"/>\n",
    "\n",
    "##### Example\n",
    "Create 2 sets using `set()` constructor."
   ]
  },
  {
   "cell_type": "code",
   "execution_count": 1,
   "metadata": {},
   "outputs": [
    {
     "name": "stdout",
     "output_type": "stream",
     "text": [
      "{0, 1, 2, 3, 4, 5, 6, 7}\n",
      "{5, 6, 7, 8, 9, 10, 11, 12}\n"
     ]
    }
   ],
   "source": [
    "set1 = set(range(0,8))\n",
    "set2 = set(range(5,13))\n",
    "print(set1)\n",
    "print(set2)"
   ]
  },
  {
   "cell_type": "markdown",
   "metadata": {},
   "source": [
    "##### 3.3.2.6 Intersection\n",
    "\n",
    "`intersection()` function outputs a set which contains all the elements that are in both sets.\n",
    "* Operator `&` can be used for Intersection operation."
   ]
  },
  {
   "cell_type": "code",
   "execution_count": null,
   "metadata": {},
   "outputs": [],
   "source": [
    "print(set1.intersection(set2))\n",
    "print(set1 & set2)"
   ]
  },
  {
   "cell_type": "markdown",
   "metadata": {},
   "source": [
    "##### 3.3.2.7 Union\n",
    "\n",
    "`union( )` function returns a set which contains all the elements of both the sets without repition.\n",
    "* Operator `|` can be used for Union operation."
   ]
  },
  {
   "cell_type": "code",
   "execution_count": null,
   "metadata": {},
   "outputs": [],
   "source": [
    "print(set1.union(set2))\n",
    "print(set1 | set2)"
   ]
  },
  {
   "cell_type": "markdown",
   "metadata": {},
   "source": [
    "##### 3.3.2.8 Difference (Subtracting)\n",
    "\n",
    "`difference()` function ouptuts a set which contains elements that are in set1 and not in set2.\n",
    "* Operator `-` can be use for Subtracting operation."
   ]
  },
  {
   "cell_type": "code",
   "execution_count": null,
   "metadata": {},
   "outputs": [],
   "source": [
    "print(set1.difference(set2))\n",
    "print(set1 - set2)"
   ]
  },
  {
   "cell_type": "markdown",
   "metadata": {},
   "source": [
    "#### 3.3.2.9 Symetric Difference\n",
    "\n",
    "`symmetric_difference()` function ouputs a function which contains elements that are in one of the sets."
   ]
  },
  {
   "cell_type": "code",
   "execution_count": null,
   "metadata": {},
   "outputs": [],
   "source": [
    "s7 = set1.symmetric_difference(set2)\n",
    "print(s7) "
   ]
  },
  {
   "cell_type": "markdown",
   "metadata": {},
   "source": [
    "#### 3.3.2.10 Subset, Superset\n",
    "\n",
    "`issubset()`, `issuperset()` is used to check if the set1/set2 is a subset, superset of set2/set1 respectively."
   ]
  },
  {
   "cell_type": "code",
   "execution_count": null,
   "metadata": {},
   "outputs": [],
   "source": [
    "set3 = set(range(0,15))\n",
    "set4 = set(range(5,10))\n",
    "print(set3)\n",
    "print(set4)\n",
    "\n",
    "r1 = set3.issubset(set4)\n",
    "r2 = set3.issuperset(set4)\n",
    "print(r1, r2)"
   ]
  },
  {
   "cell_type": "code",
   "execution_count": null,
   "metadata": {},
   "outputs": [],
   "source": [
    "set3 = set(range(0,15))\n",
    "set4 = set(range(5,10))\n",
    "\n",
    "r1 = set4.issubset(set3)\n",
    "r2 = set3.issuperset(set4)\n",
    "print(r1, r2)"
   ]
  },
  {
   "cell_type": "markdown",
   "metadata": {},
   "source": [
    "#### 3.3.2.11 Disjoint\n",
    "\n",
    "`isdisjoint()` is used to check if the set1/set2 is disjoint."
   ]
  },
  {
   "cell_type": "code",
   "execution_count": null,
   "metadata": {},
   "outputs": [],
   "source": [
    "r3 = set3.isdisjoint(set4)\n",
    "print(r3)\n",
    "\n",
    "set5 = set(range(5))\n",
    "set6 = set(range(6,10))\n",
    "r4 = set5.isdisjoint(set6)\n",
    "print(r4)"
   ]
  }
 ],
 "metadata": {
  "kernelspec": {
   "display_name": "Python 3",
   "language": "python",
   "name": "python3"
  },
  "language_info": {
   "codemirror_mode": {
    "name": "ipython",
    "version": 3
   },
   "file_extension": ".py",
   "mimetype": "text/x-python",
   "name": "python",
   "nbconvert_exporter": "python",
   "pygments_lexer": "ipython3",
   "version": "3.7.6"
  }
 },
 "nbformat": 4,
 "nbformat_minor": 1
}
