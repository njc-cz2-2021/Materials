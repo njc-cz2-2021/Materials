{
 "cells": [
  {
   "cell_type": "markdown",
   "metadata": {},
   "source": [
    "# Learning Objectives\n",
    "\n",
    "- [ ]  2.2.2 Use common library functions for input/output, strings and mathematical operations."
   ]
  },
  {
   "cell_type": "markdown",
   "metadata": {},
   "source": [
    "# 5 File IO\n",
    "\n",
    "File is a named location on disk to store related information. It uses non-volatile memory, e.g. hard disk, to store data permanently.\n",
    "\n",
    "A file operation takes place in following order:\n",
    "* Open a file\n",
    "* Read or Write (perform operations)\n",
    "* Close the file\n",
    "\n",
    "A file can be **text** or **binary** format.\n"
   ]
  },
  {
   "cell_type": "markdown",
   "metadata": {},
   "source": [
    "# 5.1 Opening and Writing Files\n",
    "Python has a built-in function `open(file_path)` to open a file. The `open()` function returns a `file` *object*, also called a file handler, as it is used to read or modify the file accordingly.\n",
    "\n",
    "The parameter `file_path` in `open()` can be a relative or absolute path. \n",
    "* If only file name is specified, Python assume the file is in the same folder as current Python kernel\n",
    "* When specifying full path, use `/` instead of `\\`, which is used as escape character in string\n",
    "\n",
    "To prevent further read and write on the opened file, we need to close a file object using the `close()` method.\n",
    "\n",
    "**Question:** \n",
    "\n",
    "What if we foget to close the file?  \n",
    "\n",
    "## 5.1.1 `open()` Operation Mode\n",
    "\n",
    "You can specify the mode used to open a file by applying a second argument to the open function.\n",
    "* `r`/`w`/`a`: Are you reading, writing or appending a file?\n",
    "* `t`/`b`: Is it a text or binary file?\n",
    "\n",
    "Syntax is\n",
    ">```python\n",
    ">f = open(filepath, mode)\n",
    ">```\n",
    "\n",
    "The `mode` specifies how you want to work with the file.\n",
    "* `r`: read mode, which is the default. \n",
    "* `w`: write mode, for overwriting the contents of a file. Existing file content will be lost.\n",
    "* `a`: append mode, for appending new content to the end of the file. Existing content in the file will not be lost.\n",
    "\n",
    "## 5.1.2 Read By Characters\n",
    "\n",
    "The `read()` method reads the characters from the file and returns all the characters read as a string. It also accepts an argument `no_of_char` which specifies the number of character to read. If the read hits EOF (End of File) before obtaining `no_of_char` characters, then it reads only available ones. Without this argument, it will read till EOF. Syntax is\n",
    ">```python\n",
    ">your_file.read(no_of_char)\n",
    ">```\n",
    "\n",
    "The `seek()` method change the position from where the file is to be read from or written to to a given specific position. \n",
    "\n",
    "#### Example\n",
    "\n",
    "- Read and print out all the content in file `mad_joke.txt`, which is found in `/resources/`.\n",
    "- Read and print out the first 10 characters in the file.\n",
    "- Read and print out the 11th until the 20th character in the file. "
   ]
  },
  {
   "cell_type": "code",
   "execution_count": 3,
   "metadata": {},
   "outputs": [
    {
     "data": {
      "text/plain": [
       "'I saw my math teacher with a piece of graph paper yesterday. I think he must be plotting    something.\\nI had   an argument with a 90Â° angle. It turns out it was right.\\nA statistician got  soaking wet trying to cross a river. He thought he could cross, because it was one-foot deep on average.\\nWhy is statistics never anyoneâ€™s favorite   subject? Itâ€™s just average.'"
      ]
     },
     "execution_count": 3,
     "metadata": {},
     "output_type": "execute_result"
    }
   ],
   "source": [
    "f = open('./resources/mad_joke.txt') \n",
    "s = f.read()\n",
    "f.seek(10) #skips the first 10 characters\n",
    "# print(s)\n",
    "s\n",
    "# s = f.read()\n",
    "# print(s)\n",
    "# f.close()"
   ]
  },
  {
   "cell_type": "markdown",
   "metadata": {},
   "source": [
    "A better way to open a file is by using `with` code block. As it will automatically close the file when the code block exits.\n",
    "\n",
    "Syntax is\n",
    ">```python\n",
    ">with open(file_name) as f:\n",
    ">    print(f.read())\n",
    ">```\n",
    "\n",
    "#### Example\n",
    "\n",
    "Use the `with` code block and try the previous example. \n",
    "\n",
    "- Read and print out all the content in file `mad_joke.txt`, which is found in `/resources/`.\n",
    "- Read and print out the first 10 characters in the file.\n",
    "- Read and print out the 11th until the 20th character in the file. "
   ]
  },
  {
   "cell_type": "code",
   "execution_count": null,
   "metadata": {},
   "outputs": [],
   "source": [
    "#YOUR_CODE_HERE"
   ]
  },
  {
   "cell_type": "markdown",
   "metadata": {},
   "source": [
    "You would have noticed some weird characters when you print out the contents of the file, e.g.\n",
    "- `\\t` tab character\n",
    "- `\\n` newline character. It is used to indicate the end of a line of text\n",
    "\n",
    "If you are only concerned out the output, you can use `repr()` function which will represent special characters as symbols in a string. It helps to print string unambigously.\n",
    "\n",
    "#### Example"
   ]
  },
  {
   "cell_type": "code",
   "execution_count": null,
   "metadata": {},
   "outputs": [],
   "source": [
    "with open('./resources/mad_joke.txt', 'r') as f:\n",
    "    print(repr(f.read(10)))\n",
    "    print(repr(f.read(10)))\n",
    "    print(repr(f.read()))"
   ]
  },
  {
   "cell_type": "markdown",
   "metadata": {},
   "source": [
    "## 5.1.2 Write a String\n",
    "\n",
    "Python file method `write()` writes a string `str` to the file."
   ]
  },
  {
   "cell_type": "code",
   "execution_count": null,
   "metadata": {},
   "outputs": [],
   "source": [
    "s = \"Alexa\\tGood morning!\\nWhat time is it?\"\n",
    "print(len(s))\n",
    "with open(\"test.txt\", \"w\") as f:\n",
    "    x = f.write(s)\n",
    "    print(x)"
   ]
  },
  {
   "cell_type": "markdown",
   "metadata": {},
   "source": [
    "### Exercise\n",
    "\n",
    "Create a file called `test.txt` in the same directory as your Jupyter Notebook and write a line in the `.txt` file. Complete following operations using `with` code block:\n",
    "\n",
    "- Write `\"Alexa, \"` to the file `test.txt` . This operator will overwrite any content in the file.\n",
    "- Append `\"Good morning!\\n\"` to the file `test.txt` .\n",
    "- Append `\"What time is it?\"` to the file `test.txt` .\n",
    "- Read and print out content from the file `test.txt` ."
   ]
  },
  {
   "cell_type": "markdown",
   "metadata": {},
   "source": [
    "## 5.1.3 Read by Lines\n",
    "\n",
    "Compared to `read()` function, which return all content in a single string, the `readlines()` function returns a list, where each item contains a line.\n",
    "\n",
    "**NOTE:** No character is removed, e.g. new line character `\\n` at the end of a line.\n",
    "\n",
    "#### Example"
   ]
  },
  {
   "cell_type": "code",
   "execution_count": null,
   "metadata": {},
   "outputs": [],
   "source": [
    "with open('test.txt') as f:\n",
    "    s = f.read()\n",
    "    print(repr(s))\n",
    "\n",
    "with open('test.txt', 'r') as f:\n",
    "    s = f.readlines()\n",
    "    print(s)"
   ]
  },
  {
   "cell_type": "markdown",
   "metadata": {},
   "source": [
    "## 5.1.4 Write Multiple Lines\n",
    "\n",
    "To write a list of strings to a file, method `writelines()` can be used.\n",
    "\n",
    "**NOTE:** No character, e.g. `\\n`, will be added or removed.\n",
    "\n",
    "#### Example"
   ]
  },
  {
   "cell_type": "code",
   "execution_count": null,
   "metadata": {},
   "outputs": [],
   "source": [
    "s = ['Hello', 'World', '\\nfrom', '\\nSingapore']\n",
    "with open('test.txt', 'a') as f:\n",
    "    f.writelines(s)"
   ]
  },
  {
   "cell_type": "markdown",
   "metadata": {},
   "source": [
    "# 5.2 Basic CSV Processing\n",
    "\n",
    "CSV files are plain text files which use specific format to store tabular data. CSV stands for \"Comma Separated Values\".\n",
    "\n",
    "* Each line of the file is a data record. \n",
    "* Each record consists of one or more fields, separated by commas.\n",
    "* Normally first line of the file gives table header.\n",
    "\n",
    "```\n",
    "year,sex,type_of_course,no_of_graduates\n",
    "1993,Males,Humanities & Social Sciences,481\n",
    "1993,Males,Mass Communication,na\n",
    "1993,Males,Accountancy,295\n",
    "1993,Males,Business & Administration,282\n",
    "```\n",
    "\n",
    "## 5.2.1 Why Use CSV?\n",
    "\n",
    "* CSV is a common format for data exchange because it is simple and compact.\n",
    "* Most relational databases provides tools to import and export CSV files.\n",
    "* CSV files can be easily opened in Excel.\n",
    "\n",
    "## 5.2.2 Read File into List\n",
    "\n",
    "* Read the csv file using `readlines()` method, which returns data in a list.\n",
    "* Use list slicing to remove header row\n",
    "* Use string `strip()` method to remove any surrounding white spaces (space, tab, new line characters)\n",
    "\n",
    "\n",
    "**Exercise:**\n",
    "* Read `sample-sales-data.csv` file into a list.\n",
    "* Discard header row.\n",
    "* Strip any leading & trailing white space from each line. You might want to use the string `.strip()` method for this.\n",
    "* Print out first 3 items of the list."
   ]
  },
  {
   "cell_type": "code",
   "execution_count": null,
   "metadata": {},
   "outputs": [],
   "source": [
    "with open('./resources/sample-sales-data.csv') as f:\n",
    "    x=f.readlines()\n",
    "    x=x[1:]\n",
    "    \n",
    "x = [i.strip() for i in x]\n",
    "x"
   ]
  },
  {
   "cell_type": "markdown",
   "metadata": {},
   "source": [
    "Each a row in csv file is a record. The record is delimited by comma `,` .\n",
    "- Use string `split(delimiter)` method to split the record into a list or a tuple.\n",
    "- Use multi-level indexing to get a cell value\n",
    "\n",
    "### Exercise \n",
    "\n",
    "- Read the file into a list such that each record is represented as a tuple\n",
    "- Print out first 2 records in the list\n",
    "- Print out company name of 1st record"
   ]
  },
  {
   "cell_type": "code",
   "execution_count": null,
   "metadata": {},
   "outputs": [],
   "source": [
    "#YOUR_CODE_HERE"
   ]
  },
  {
   "cell_type": "markdown",
   "metadata": {},
   "source": [
    "## 5.2.3 Python `csv` Module\n",
    "\n",
    "While we could use the built-in `open()` function to work with CSV files in Python, there is a dedicated `csv` module that makes working with CSV files much easier. It contains following built-in convenient functions:\n",
    "\n",
    "* `csv.reader`\n",
    "* `csv.writer`\n",
    "* `csv.writer.writerow()`\n",
    "\n",
    "### 5.2.3.1 Read CSV Files using `csv.reader`\n",
    "\n",
    "After opening a CSV file, create a `csv.reader` object which returns a iterable object to process CSV data. Syntax is\n",
    "\n",
    ">```Python\n",
    ">csv.reader(your_file_here)\n",
    ">```\n",
    "\n",
    "* Each record is represented as a list.\n",
    "* All fields are `str` type.\n",
    "\n",
    "**Exercise:**\n",
    "\n",
    "* Use `csv.reader` to read and print out all rows in `'olympics-medals-sample.csv'`.\n",
    "* Instead of printing out, save all rows in `'olympics-medals-sample.csv'` into a list `data`."
   ]
  },
  {
   "cell_type": "code",
   "execution_count": 28,
   "metadata": {},
   "outputs": [
    {
     "name": "stdout",
     "output_type": "stream",
     "text": [
      "[['NOC', 'Country', 'Total', 'Medal'], ['USA', 'United States', '2088', 'Gold'], ['URS', 'Soviet Union', '838', 'Gold'], ['GBR', 'United Kingdom', '498', 'Gold'], ['FRA', 'France', '378', 'Gold'], ['GER', 'Germany', '407', 'Gold'], ['AUS', 'Australia', '293', 'Gold']]\n"
     ]
    }
   ],
   "source": [
    "import csv\n",
    "\n",
    "with open ('./resources/olympics-medals-sample.csv') as f:\n",
    "    reader = csv.reader(f)\n",
    "    data = [row for row in reader]\n",
    "\n",
    "print(data)"
   ]
  },
  {
   "cell_type": "markdown",
   "metadata": {},
   "source": [
    "The character used to separate values is called a **delimiter**. Apart from comma (`,`), other delimiters include the tab (`\\t`), colon (`:`) and semi-colon (`;`) characters.\n",
    "\n",
    "For tab separated values, it is common to save it with extension `*.tsv`.\n",
    "\n",
    "**Exercise:**\n",
    "* Use `csv.reader` to read file `'olympics-medals-sample.tsv'`; save both header and data in list."
   ]
  },
  {
   "cell_type": "code",
   "execution_count": 30,
   "metadata": {},
   "outputs": [
    {
     "name": "stdout",
     "output_type": "stream",
     "text": [
      "<_csv.reader object at 0x000001B9965CC9A0>\n",
      "['NOC', 'Country', 'Total', 'Medal']\n",
      "[['USA', 'United States', '2088', 'Gold'], ['URS', 'Soviet Union', '838', 'Gold'], ['GBR', 'United Kingdom', '498', 'Gold'], ['FRA', 'France', '378', 'Gold'], ['GER', 'Germany', '407', 'Gold'], ['AUS', 'Australia', '293', 'Gold']]\n"
     ]
    }
   ],
   "source": [
    "#YOUR_CODE_HERE\n",
    "\n",
    "with open ('./resources/olympics-medals-sample.tsv') as f:\n",
    "    reader = csv.reader(f, delimiter='\\t')\n",
    "    print(reader)\n",
    "    data = [row for row in reader]\n",
    "    header = data[0]\n",
    "    data = data[1:]\n",
    "\n",
    "print(header)\n",
    "print(data)"
   ]
  },
  {
   "cell_type": "markdown",
   "metadata": {},
   "source": [
    "The `csv.reader()` function only has one required argument, which is the file object, but it has a couple of other optional arguments:\n",
    "\n",
    "* `delimiter`: This argument specifies which delimiter the writer will use. It defaults to `','`, but you can set it to any other character.\n",
    "* `quotechar`: This specifies which character will be used for quoting. It defaults to `'\"'`\n",
    "* `escapechar`: This specifies the character that will be used to escape the delimiter if quoting is not being used. It defaults to nothing."
   ]
  },
  {
   "cell_type": "markdown",
   "metadata": {},
   "source": [
    "### 5.2.3.1 Write CSV Files using `csv.writer`\n",
    "\n",
    "A `csv.writer` can be used to write a CSV file. The `csv.writer()` function returns a `writer` object that converts the user's data into a delimited string and write to file using its `writerow()` function.\n",
    "\n",
    "The `newline` argument is set to '' when opening a file which the `csv.writer` will write each row in a line.\n",
    "\n",
    "**Exercise:**\n",
    "* Use `csv.writer` to save following data into a csv file `'sample.csv'`.\n",
    "\n",
    ">```\n",
    ">[\"Symbol\", \"Name\", \"Price (Intraday)\"]\n",
    ">[\"TMVWY\", \"TeamViewer AG\", 21.05]\n",
    ">[\"AXSM\", \"Axsome Therapeutics, Inc.\", 88.87]\n",
    ">[\"SAGE\", \"Sage Therapeutics, Inc.\",\t53.36]\n",
    ">```"
   ]
  },
  {
   "cell_type": "code",
   "execution_count": 32,
   "metadata": {},
   "outputs": [],
   "source": [
    "#YOUR_CODE_HERE\n",
    "\n",
    "data=[[\"Symbol\", \"Name\", \"Price (Intraday)\"],\n",
    "[\"TMVWY\", \"TeamViewer AG\", 21.05],\n",
    "[\"AXSM\", \"Axsome Therapeutics, Inc.\", 88.87],\n",
    "[\"SAGE\", \"Sage Therapeutics, Inc.\",\t53.36]]\n",
    "\n",
    "with open('sample.csv','w',newline='') as f:\n",
    "    writer=csv.writer(f)\n",
    "    for row in data:\n",
    "        writer.writerow(row)"
   ]
  },
  {
   "cell_type": "markdown",
   "metadata": {},
   "source": [
    "The `csv.writer()` function has only 1 required parameter, the file object. You can also add following optional keyword arguments:\n",
    "\n",
    "* `delimiter`: This argument specifies which delimiter the writer will use. It defaults to ',', but you can set it to any other character.\n",
    "* `quotechar`: This specifies which character will be used for quoting. It defaults to '\"'\n",
    "* `escapechar`: This specifies the character that will be used to escape the delimiter if quoting is not being used. It defaults to nothing.\n",
    "\n",
    "The `quoting` argument: this specifies which fields should be quoted, there are a few options:\n",
    "* `csv.QUOTE_ALL`: All fields will be quoted\n",
    "* `csv.QUOTE_MINIMAL`: Only fields containing the delimiter or quotechar will be quoted.\n",
    "* `csv.QUOTE_NONNUMERIC`: The writer will quote all fields containing text and it converts all numbers to float values\n",
    "* `csv.QUOTE_NONE`: No fields will be quoted, the writer instead escapes delimiters. If you use this value, you also need to provide the escapechar argument.\n",
    "\n",
    "### Example"
   ]
  },
  {
   "cell_type": "code",
   "execution_count": null,
   "metadata": {},
   "outputs": [],
   "source": [
    "import csv\n",
    "with open('stock_sample.tsv', 'w', newline='') as file:\n",
    "    writer = csv.writer(\n",
    "        file,\n",
    "        delimiter='\\t',\n",
    "        quotechar='|',\n",
    "        quoting=csv.QUOTE_ALL\n",
    "    )\n",
    "    writer.writerow(['stock', 'price', 'cost', 'profit'])\n",
    "    writer.writerow(['21', '121.34', '45.34', '76'])"
   ]
  },
  {
   "cell_type": "markdown",
   "metadata": {},
   "source": [
    "The `writerows()` method of `csv.writer` allow you to write 2-dimensional list to a CSV file.\n",
    "\n",
    "**Exercise:**\n",
    "\n",
    "Save following data to a csv file `stock_sample.csv` using `csv.writer`.\n",
    "\n",
    "```\n",
    "[['stock', 'price', 'cost', 'profit'], ['21', '121.34', '45.34', '76']]\n",
    "```"
   ]
  },
  {
   "cell_type": "code",
   "execution_count": null,
   "metadata": {},
   "outputs": [],
   "source": [
    "#YOUR_CODE_HERE"
   ]
  },
  {
   "cell_type": "markdown",
   "metadata": {},
   "source": [
    "# 5.3 Common Things to do with CSV\n",
    "\n",
    "## 5.3.1 Load Data into List\n",
    "\n",
    "### Exercise\n",
    "\n",
    "Read `sample-sales-data.csv` file; save its header into variable `header` and its data into variable `data`."
   ]
  },
  {
   "cell_type": "code",
   "execution_count": null,
   "metadata": {},
   "outputs": [],
   "source": [
    "#YOUR_CODE_HERE"
   ]
  },
  {
   "cell_type": "markdown",
   "metadata": {},
   "source": [
    "## 5.3.2 Find Distinct Values\n",
    "\n",
    "You can use `set()` constructor function to find distinct value of a column.\n",
    "\n",
    "**Exercise:**\n",
    "\n",
    "* List all the companies contained in the file `sample-sales-data.csv`."
   ]
  },
  {
   "cell_type": "code",
   "execution_count": null,
   "metadata": {},
   "outputs": [],
   "source": [
    "#YOUR_CODE_HERE"
   ]
  },
  {
   "cell_type": "markdown",
   "metadata": {},
   "source": [
    "## 5.3.3 Filter Data\n",
    "\n",
    "The list can be filtered based on condition(s) by using: \n",
    "* `for` loop, or\n",
    "* list comprehension.\n",
    "\n",
    "**Exercise:**\n",
    "* Find all sales records by company `Initech` and print out first 3 records.\n",
    "* Find all sales done on date '2015-01-06'."
   ]
  },
  {
   "cell_type": "code",
   "execution_count": null,
   "metadata": {},
   "outputs": [],
   "source": [
    "#YOUR_CODE_HERE"
   ]
  },
  {
   "cell_type": "markdown",
   "metadata": {},
   "source": [
    "## 5.3.4 Filter Data\n",
    "\n",
    "Both `isdigit()` and `isnumeric()` can be used to check a string which can be converted to **a positive integer**, e.g. `'1234'`.\n",
    "* But it will return `False` for either `'-1234'` or `'12.34'`\n",
    "\n",
    "#### Example"
   ]
  },
  {
   "cell_type": "code",
   "execution_count": null,
   "metadata": {},
   "outputs": [],
   "source": [
    "print('1234'.isdigit())\n",
    "print('-1234'.isdigit())\n",
    "print('12.34'.isdigit())"
   ]
  },
  {
   "cell_type": "markdown",
   "metadata": {},
   "source": [
    "## 5.3.5 Compute on Records\n",
    "\n",
    "You can perform simple data analysis on the data:\n",
    "* `sum()`, `count()`, `min()`, `max()` etc.\n",
    "* Remember to convert data to numerical value for computation or comparison.\n",
    "\n",
    "#### Exercise:\n",
    "* Remove records with invalid Units value.\n",
    "* Find total units of sales on \"Hardware\"."
   ]
  },
  {
   "cell_type": "code",
   "execution_count": null,
   "metadata": {},
   "outputs": [],
   "source": []
  }
 ],
 "metadata": {
  "kernelspec": {
   "display_name": "Python 3",
   "language": "python",
   "name": "python3"
  },
  "language_info": {
   "codemirror_mode": {
    "name": "ipython",
    "version": 3
   },
   "file_extension": ".py",
   "mimetype": "text/x-python",
   "name": "python",
   "nbconvert_exporter": "python",
   "pygments_lexer": "ipython3",
   "version": "3.7.6"
  }
 },
 "nbformat": 4,
 "nbformat_minor": 2
}
