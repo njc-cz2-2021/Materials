{
 "cells": [
  {
   "cell_type": "markdown",
   "metadata": {},
   "source": [
    "# Learning Objectives\n",
    "\n",
    "- [] Placeholder 1"
   ]
  },
  {
   "cell_type": "markdown",
   "metadata": {},
   "source": [
    "# 3.5 Mutability \n",
    "\n",
    "## 3.5.1 Variable Assignment in Python\n",
    "\n",
    "In Python, a variable is a symbolic name that is a reference or pointer to an object, it is not the object itself. For example, consider the following code.\n",
    "\n",
    ">```\n",
    ">x=10\n",
    ">```\n",
    "\n",
    "First the integer object `10` is created in the memory and then, the variable `x` is assigned to point to that object. \n",
    "\n",
    "### 3.5.1.1 `id` function\n",
    "\n",
    "The built-in Python function `id` returns an object’s integer identifier, i.e. the object's location in the memory. Syntax is\n",
    "\n",
    ">```\n",
    ">id(your_object)\n",
    ">```\n",
    "\n",
    "#### Example 1\n",
    "\n",
    "Assign the values `0` and `1` to the variables `x` and `y` respectively. Afterwards, using the `id` built-in function, print out their integer identifiers."
   ]
  },
  {
   "cell_type": "code",
   "execution_count": 1,
   "metadata": {},
   "outputs": [
    {
     "name": "stdout",
     "output_type": "stream",
     "text": [
      "2189037666512\n",
      "2189037666544\n"
     ]
    }
   ],
   "source": [
    "x=0\n",
    "y=1\n",
    "print(id(x))\n",
    "print(id(y))"
   ]
  },
  {
   "cell_type": "markdown",
   "metadata": {},
   "source": [
    "## 3.5.2 Mutable Objects\n",
    "\n",
    "A **mutable** object means that an object of this type can be modified in the memory after it is created. On the other hand, **immutable** object can't.\n",
    "\n",
    "#### Example 2\n",
    "\n",
    "Consider the following codes:"
   ]
  },
  {
   "cell_type": "code",
   "execution_count": null,
   "metadata": {},
   "outputs": [],
   "source": [
    "a = [\"apples\", \"bananas\", \"oranges\"]\n",
    "print(id(a))\n",
    "a[0]='berries'\n",
    "print(a)\n",
    "print(id(a))"
   ]
  },
  {
   "cell_type": "code",
   "execution_count": null,
   "metadata": {},
   "outputs": [],
   "source": [
    "a = (\"apples\", \"bananas\", \"oranges\")\n",
    "print(id(a))\n",
    "a = (\"berries\", \"bananas\", \"oranges\")\n",
    "print(a)\n",
    "print(id(a))"
   ]
  },
  {
   "cell_type": "markdown",
   "metadata": {},
   "source": [
    "## 3.5.3 Pass by Object Reference"
   ]
  },
  {
   "cell_type": "markdown",
   "metadata": {},
   "source": [
    "Consider the following code. What is the expected values of `x` and `y` at the end?"
   ]
  },
  {
   "cell_type": "code",
   "execution_count": null,
   "metadata": {},
   "outputs": [],
   "source": [
    "x = 1\n",
    "y = x\n",
    "y = 2\n",
    "print(f\"x is {x}, y is {y}\")"
   ]
  },
  {
   "cell_type": "markdown",
   "metadata": {},
   "source": [
    "In the above code, we assign the value of `x` (which is 1) to the variable `y`. When we re-assign the value of the variable `y` to 2, only the value of `y` changes. This code seems to suggest that Python follows a \"Pass by Value\" construct, whereby during the assignment of variable `x` to variable `y`, the value of variable `x` is copied over into variable `y`.\n",
    "\n",
    "Now consider the following code. What is the expected values of `list_x` and `list_y` at the end?"
   ]
  },
  {
   "cell_type": "code",
   "execution_count": null,
   "metadata": {},
   "outputs": [],
   "source": [
    "list_x = [1,2,3]\n",
    "list_y = list_x\n",
    "list_y.append(4)\n",
    "print(f\"list_x is {list_x}, list_y is {list_y}\")"
   ]
  },
  {
   "cell_type": "markdown",
   "metadata": {},
   "source": [
    "What a shock! If we followed the \"Pass by Value\" construct, then the change in variable `list_y` should not have affected the value in variable `list_x`.  \n",
    "The above code seems to suggest that Python passes objects by assigning the same reference/pointer to the new variable. Therefore, when the value of `list_y` is updated, the value of `list_x` is updated too as they are both pointing at the same object. This method is known as \"Pass by Reference\"  \n",
    "\n",
    "So is the Python a language that uses \"Pass by Value\" or \"Pass by Reference\"?\n",
    "\n",
    "The answer is that Python uses a \"Pass by Object Reference\", which is like \"Pass by Reference\" but with a slightly different nuance.\n",
    "\n",
    "In the above code, `x` and `y`, as well as `list_x` and `list_y` are both pointing at the same object in memory. We can confirm this by running the below code:"
   ]
  },
  {
   "cell_type": "code",
   "execution_count": null,
   "metadata": {},
   "outputs": [],
   "source": [
    "x = 1\n",
    "y = x\n",
    "print(id(x) == id(y))\n",
    "\n",
    "list_x = [1,2,3]\n",
    "list_y = list_x\n",
    "print(id(list_x) == id(list_y))"
   ]
  },
  {
   "cell_type": "markdown",
   "metadata": {},
   "source": [
    "So we can see that Python is not a \"Pass by Value\" language. \n",
    "\n",
    "Despite both pairs of variables having the same references, the difference lies in the fact that the data type for `x` is immutable while `list_x` is mutable, and that the operation used to change the value for variable `y` is done \"in-place\", which changes the value in the object itself.\n",
    "\n",
    "We have learnt that data types like strings, integer and tuples are immutable. Therefore, when we modified the variable `y`, which is referencing an integer, we cannot change the value that it pointing at. We can only change the variable `y` to point at another object (in this case, an integer of value 2). After the re-assignment, we can see that variables `x` and `y` have different ids, as they are now both pointing at different objects."
   ]
  },
  {
   "cell_type": "code",
   "execution_count": null,
   "metadata": {},
   "outputs": [],
   "source": [
    "x = 1\n",
    "y = 2\n",
    "print(id(x) == id(y))"
   ]
  },
  {
   "cell_type": "markdown",
   "metadata": {},
   "source": [
    "In contrast, lists, dictionaries and any other user defined classes are mutable. The `.append()` function used is also an \"in-place\" operation, which changes the value that the variable is pointing at, instead of modifying a copy of the same variable. Therefore, when we appended the number 4 to the variable `list_y`, the object reference of `list_y` did not change. What changed was the value that the variable `list_y` is pointing at. Since the variable `list_x` is pointing at the same object, this results in a change in the value of the variable `list_x` as well."
   ]
  },
  {
   "cell_type": "markdown",
   "metadata": {},
   "source": [
    "To test your understanding, what will be the expected values of x and y at the end?"
   ]
  },
  {
   "cell_type": "code",
   "execution_count": null,
   "metadata": {},
   "outputs": [],
   "source": [
    "list_x = [1,2,3]\n",
    "list_y = list_x\n",
    "list_y = list_y + [4]\n",
    "print(f\"list_x is {list_x}, list_y is {list_y}\")"
   ]
  },
  {
   "cell_type": "markdown",
   "metadata": {},
   "source": [
    "Although lists are mutable, we had changed the object that `list_y` was referencing in the third line. Although `list_y` initially had the same object reference as `list_x`, once it was replaced then the connection is lost as well. \n",
    "\n",
    "As you can see, modifying mutable objects that have multiple references pointing to it can be difficult to keep track, as it depends on whether the method applied on the object modified the value or the object reference. To make it clear, you can use the copy.deepcopy() to copy the value of a variable into another, as shown below:"
   ]
  },
  {
   "cell_type": "code",
   "execution_count": null,
   "metadata": {},
   "outputs": [],
   "source": [
    "from copy import deepcopy\n",
    "list_x = [1,2,3]\n",
    "list_y = deepcopy(list_x)\n",
    "print(id(list_x) == id(list_y))\n",
    "\n",
    "list_y.append(4)\n",
    "print(f\"list_x is {list_x}, list_y is {list_y}\")"
   ]
  },
  {
   "cell_type": "markdown",
   "metadata": {},
   "source": [
    "### 3.5.3.1 Good Coding Practice: Avoid default function parameters that are **mutable**!"
   ]
  },
  {
   "cell_type": "markdown",
   "metadata": {},
   "source": [
    "A cardinal sin in Python is to include default function arguments that are mutable. Here's an example why:"
   ]
  },
  {
   "cell_type": "code",
   "execution_count": null,
   "metadata": {},
   "outputs": [],
   "source": [
    "def pls_dont(x = []):\n",
    "    x.append(1)\n",
    "    return x\n",
    "\n",
    "print(pls_dont()) # [1], as expected\n",
    "print(pls_dont()) # [1,1], nani? Same exact function, but different outcome?"
   ]
  },
  {
   "cell_type": "markdown",
   "metadata": {},
   "source": [
    "What happened here was that during the initial call of `pls_dont()`, the list `x` was created for the first time. Therefore, it had a value of `[]`. However, during the second call of `pls_dont()`, the list `x` within the function has already been created AND mutated to now be `[1]`. Congratualtions, you now have a seemingly non-determininstic computer.\n",
    "\n",
    "The solution would be to set the argument default value to `None`, and do an if-else check within the function to set the desired mutable to the argument if it was not given."
   ]
  }
 ],
 "metadata": {
  "kernelspec": {
   "display_name": "base",
   "language": "python",
   "name": "python3"
  },
  "language_info": {
   "codemirror_mode": {
    "name": "ipython",
    "version": 3
   },
   "file_extension": ".py",
   "mimetype": "text/x-python",
   "name": "python",
   "nbconvert_exporter": "python",
   "pygments_lexer": "ipython3",
   "version": "3.7.7"
  },
  "orig_nbformat": 2,
  "vscode": {
   "interpreter": {
    "hash": "d4abd50234137fb60a8e52bcd12c63c8cbc1f26b32bc51c54dab6a2ee6deb43f"
   }
  }
 },
 "nbformat": 4,
 "nbformat_minor": 2
}
