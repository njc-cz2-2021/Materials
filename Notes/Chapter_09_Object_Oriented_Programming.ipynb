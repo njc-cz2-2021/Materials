{
 "cells": [
  {
   "cell_type": "markdown",
   "metadata": {},
   "source": [
    "# Learning Objectives\n",
    "\n",
    "- [ ] 2.5.1 Define and understand classes and objects.\n",
    "- [ ] 2.5.2 Understand encapsulation and how classes support information hiding and implementation independence.\n",
    "- [ ] 2.5.3 Understand inheritance and how it promotes software reuse. \n",
    "- [ ] 2.5.4 Understand polymorphism and how it enables code generalisation. *Exclude: method overloading and multiple inheritance*\n",
    "\n",
    "# References\n",
    "\n",
    "1. Garavaglia, Emilio. “What was the motivation of object oriented programming?” Quora, 30 Mar 2018. Quora, https://www.quora.com/What-was-the-motivation-of-object-oriented-programming. Accessed 8 May 2020.\n",
    "2. 9. Classes¶. (n.d.). Retrieved May 9, 2020, from https://docs.python.org/2/tutorial/classes.html\n",
    "3. Encapsulation in Python - GeeksforGeeks. (2019, October 15). Retrieved May 9, 2020, from GeeksforGeeks website: https://www.geeksforgeeks.org/encapsulation-in-python/\n",
    "4. Polymorphism in Python(with Examples). (2020). Retrieved May 9, 2020, from Programiz.com website: https://www.programiz.com/python-programming/polymorphism\n",
    "5. Lecture 8: Object Oriented Programming | Lecture Videos | Introduction to Computer Science and Programming in Python | Electrical Engineering and Computer Science | MIT OpenCourseWare. (2016). Retrieved May 9, 2020, from Mit.edu website: https://ocw.mit.edu/courses/electrical-engineering-and-computer-science/6-0001-introduction-to-computer-science-and-programming-in-python-fall-2016/lecture-videos/lecture-8-object-oriented-programming/\n",
    "6. ProgrammingKnowledge. (2020). Python Tutorial for Beginners 27 - Python Encapsulation [YouTube Video]. Retrieved from https://www.youtube.com/watch?v=TFLo9m0jFEg\n",
    "7. Zhang, Qinjie. (2020) Computing Teacher Upgrading Course.\n",
    "8. UML Class Diagram. https://www.visual-paradigm.com/guide/uml-unified-modeling-language/uml-class-diagram-tutorial/\n",
    "9. The @property Decorator in Python: Its Use Cases, Advantages, and Syntax. https://www.freecodecamp.org/news/python-property-decorator/#:~:text=The%20%40property%20is%20a%20built,of%20the%20use%20of%20%40property!"
   ]
  },
  {
   "cell_type": "markdown",
   "metadata": {},
   "source": [
    "## 9.0. Motivation"
   ]
  },
  {
   "cell_type": "markdown",
   "metadata": {},
   "source": [
    "Imagine that you have a game idea that you want to implement. For example, a platformer. You would have started with a world for this game. However, at the start, this world be empty,\n",
    "<center> \n",
    "<img src=\"images/mario_0.jpg\" width=\"250\" align=\"center\"/>\n",
    "</center>\n",
    "and your code probably look something as such:\n",
    "\n",
    ">```python\n",
    ">def CreateWorld():\n",
    ">   ##Some code here.\n",
    ">```\n",
    "\n",
    "To make the 'game' into something playable, you would want to have a player character and an enemy. \n",
    "\n",
    "<center>\n",
    "<img src=\"images/mario_1.jpg\" width=\"250\" align=\"center\"/>\n",
    "</center>\n",
    "\n",
    "and your code would be a little bit longer but definitely still looks neat and readable. \n",
    "\n",
    ">```python\n",
    ">def CreateWorld():\n",
    ">   ##Some code here.\n",
    ">\n",
    ">def PlayerChar():\n",
    ">   ##Some code here.\n",
    ">    \n",
    ">def EnemyChar():\n",
    ">   \"##Some code here. "
   ]
  },
  {
   "cell_type": "markdown",
   "metadata": {},
   "source": [
    "As you would want your player to **play the game**, you need to define some controls allowed for the player. Also, you would also code in some behaviour of the enemy, probably moving left and right. At this juncture, your code would have bloat a little bit, definitely still managable. \n",
    "\n",
    ">```python\n",
    ">def CreateWorld():\n",
    ">   ##Some code here.\n",
    ">\n",
    ">def PlayerChar():\n",
    ">   ##Some code here.\n",
    ">   def Jump():\n",
    ">      ##Some code here.\n",
    ">    \n",
    ">def EnemyChar():\n",
    ">   ##Some code here.\n",
    ">   def Move():\n",
    ">       ##Some code here. \n",
    "\n",
    "Now you start to get creative and probably want to have more enemies on screen, different types of enemies, other interactable elements etc, as shown in the figure below. \n",
    "\n",
    "<center>\n",
    "<img src=\"images/mario_2.jpg\" width=\"250\" align=\"center\"/>\n",
    "</center>\n",
    "\n",
    ">```python\n",
    ">def CreateWorld():\n",
    ">   ##Some code here.\n",
    ">\n",
    ">def PlayerChar():\n",
    ">   ##Some code here.\n",
    ">    \n",
    ">def EnemyChar1():\n",
    ">   ##Some code here.\n",
    ">\n",
    ">def EnemyChar2():\n",
    ">   ##Some code here.\n",
    ">\n",
    ">def EnemyChar3():\n",
    ">   ##Some code here.\n",
    ">    \n",
    ">def EnemyChar4():\n",
    ">   ##Some code here.\n",
    ">```"
   ]
  },
  {
   "cell_type": "markdown",
   "metadata": {},
   "source": [
    "You persevered through and as your imagination goes even wilder.\n",
    "\n",
    "<center>\n",
    "<img src=\"images/mario_3.jpg\" width=\"500\" align=\"center\"/>\n",
    "</center>\n",
    "\n",
    "As your code gets longer and your environment gets more and more complex, you realize that it's getting harder and harder to keep track of what's going on and your code will look like a complete mess. While you can still work on it, everytime you need something, you have to always search it in the middle of that “everything”. This will soon become inefficient and prone to errors.\n",
    "\n",
    "Here’s where you start to think that some organization is needed:\n",
    "- Enemy characters can be grouped by their type. (e.g. Koopas and Goombas)\n",
    "- Interactable elements by their ability to generate coins, \n",
    "- Background elements by colors \n",
    "- etc. \n",
    "\n",
    "After organizing, you can start to probably add more types of elements, like timer and score counter, into the game. Also, add more behaviour to the enemies etc., without disrupting the other groups.\n",
    "\n",
    "When you stop thinking about your objects as merely individual parts and start thinking about them in terms of the relation that exist between them and organize them based on those relation, you are moving from the simple procedural to object oriented programming.\n",
    "\n",
    "From this analogy, we see that when the complexity of the software increases, and thus, cannot be anymore be efficiently remembered as a whole. It is natural to start to modularize and to think in term of relations among different things you can group based on their affinity. The immediate next step is defining objects and methods."
   ]
  },
  {
   "cell_type": "markdown",
   "metadata": {},
   "source": [
    "## 9.1. Introduction to Object Oriented Programming (OOP)\n",
    "\n",
    "### 9.1.1 Procedural Programming\n",
    "\n",
    "We used to group blocks of statements together into ``functions``. We call these functions in sequential order. Such way of structuring a program is called Procedural Programming.\n",
    "\n",
    "Generally states of the program is defined outside of the function as variables.\n",
    "\n",
    "Such programming paradigm works well for small programs, which is easy to understand and maintain.\n",
    "\n",
    "Consider the following code on how to find an area of a rectangle. \n",
    "\n",
    "We pass the **dimensions of the rectangle** straight into the ``rectangle_area`` function."
   ]
  },
  {
   "cell_type": "code",
   "execution_count": 5,
   "metadata": {},
   "outputs": [
    {
     "name": "stdout",
     "output_type": "stream",
     "text": [
      "200\n"
     ]
    }
   ],
   "source": [
    "# Example 1.1.1 Procedural Programming\n",
    "\n",
    "# width=input('input_width')\n",
    "# length=input('input_length')\n",
    "\n",
    "# print(width*length)\n",
    "\n",
    "def rectangle_area(width,height):\n",
    "    return width*height\n",
    "\n",
    "w=10\n",
    "l=20\n",
    "area=rectangle_area(w,l)\n",
    "print(area)"
   ]
  },
  {
   "cell_type": "markdown",
   "metadata": {},
   "source": [
    "### 9.1.2 Object Oriented Programming (OOP)\n",
    "\n",
    "**Object Oriented Programming** is another paradigm which bundles properties and behaviors(methods/functions) together into an ``object`` before making use of them, i.e. An object is a self-contained component which consists of methods and properties to make a particular type of data useful.\n",
    "\n",
    "Consider the following code on how to find an area of a rectangle and compare it with the previous code. Don't worry too much on the details first but rather, note that in OOP, things of interest are organized into an object first before being used.\n",
    "\n",
    "1. We first create ``Rectangle`` class,\n",
    "2. define ``get_area()`` function, which returns area a property of a rectangle,\n",
    "3. Create a ``Rectangle`` object ``r`` with dimensions 10 and 20\n",
    "4. Get the area from ``r`` by ``get_area`` function"
   ]
  },
  {
   "cell_type": "code",
   "execution_count": 45,
   "metadata": {},
   "outputs": [
    {
     "name": "stdout",
     "output_type": "stream",
     "text": [
      "['__class__', '__delattr__', '__dict__', '__dir__', '__doc__', '__eq__', '__format__', '__ge__', '__getattribute__', '__gt__', '__hash__', '__init__', '__init_subclass__', '__le__', '__lt__', '__module__', '__ne__', '__new__', '__reduce__', '__reduce_ex__', '__repr__', '__setattr__', '__sizeof__', '__str__', '__subclasshook__', '__weakref__', 'get_area', 'height', 'width']\n",
      "10\n",
      "20\n"
     ]
    }
   ],
   "source": [
    "# Example 1.2.1 Object Oriented Programming\n",
    "class Rectangle:                                    #Create Rectangle class,\n",
    "    \n",
    "    def __init__(self,width,height):                #initializer method\n",
    "        self.width=width\n",
    "        self.height=height\n",
    "\n",
    "    def get_area(self):                             #function that returns a property of a rectangle\n",
    "        return self.width*self.height               \n",
    "\n",
    "    def __str__(self):\n",
    "        return f'Rectangle of width {self.width} and length {self.height}'\n",
    "\n",
    "r=Rectangle(10,20)                                  #Create a Rectangle object with dimensions 10 and 20\n",
    "area=r.get_area()                                   #Get the area from the Rectangle object r\n",
    "print(dir(r))\n",
    "print(r.width)\n",
    "print(r.height)"
   ]
  },
  {
   "cell_type": "markdown",
   "metadata": {},
   "source": [
    "In general, when we are doing OOP, we take the following steps:\n",
    "\n",
    "1. Implement a new object type with a class\n",
    "    - **define** the class (line 2)\n",
    "    - define **attributes** (WHAT IS the object) (line 4-6)\n",
    "    - define **functions/methods** (HOW TO use the object) (line 4 and 8)\n",
    "2. Use the new object type in code\n",
    "    - creating **instances** of the object type (line 11 in example above)\n",
    "    - do **operations** with them (line 12)"
   ]
  },
  {
   "cell_type": "code",
   "execution_count": 6,
   "metadata": {},
   "outputs": [
    {
     "name": "stdout",
     "output_type": "stream",
     "text": [
      "['a']\n"
     ]
    }
   ],
   "source": [
    "x=[] #instance of a class List\n",
    "x.append('a') #List method\n",
    "print(x)"
   ]
  },
  {
   "cell_type": "code",
   "execution_count": 20,
   "metadata": {},
   "outputs": [
    {
     "name": "stdout",
     "output_type": "stream",
     "text": [
      "3.141592653589793\n",
      "1.4142135623730951\n"
     ]
    },
    {
     "data": {
      "text/plain": [
       "['__abs__',\n",
       " '__add__',\n",
       " '__bool__',\n",
       " '__class__',\n",
       " '__delattr__',\n",
       " '__dir__',\n",
       " '__divmod__',\n",
       " '__doc__',\n",
       " '__eq__',\n",
       " '__float__',\n",
       " '__floordiv__',\n",
       " '__format__',\n",
       " '__ge__',\n",
       " '__getattribute__',\n",
       " '__getformat__',\n",
       " '__getnewargs__',\n",
       " '__gt__',\n",
       " '__hash__',\n",
       " '__init__',\n",
       " '__init_subclass__',\n",
       " '__int__',\n",
       " '__le__',\n",
       " '__lt__',\n",
       " '__mod__',\n",
       " '__mul__',\n",
       " '__ne__',\n",
       " '__neg__',\n",
       " '__new__',\n",
       " '__pos__',\n",
       " '__pow__',\n",
       " '__radd__',\n",
       " '__rdivmod__',\n",
       " '__reduce__',\n",
       " '__reduce_ex__',\n",
       " '__repr__',\n",
       " '__rfloordiv__',\n",
       " '__rmod__',\n",
       " '__rmul__',\n",
       " '__round__',\n",
       " '__rpow__',\n",
       " '__rsub__',\n",
       " '__rtruediv__',\n",
       " '__set_format__',\n",
       " '__setattr__',\n",
       " '__sizeof__',\n",
       " '__str__',\n",
       " '__sub__',\n",
       " '__subclasshook__',\n",
       " '__truediv__',\n",
       " '__trunc__',\n",
       " 'as_integer_ratio',\n",
       " 'conjugate',\n",
       " 'fromhex',\n",
       " 'hex',\n",
       " 'imag',\n",
       " 'is_integer',\n",
       " 'real']"
      ]
     },
     "execution_count": 20,
     "metadata": {},
     "output_type": "execute_result"
    }
   ],
   "source": [
    "import math\n",
    "\n",
    "x=math.pi\n",
    "y=math.sqrt(2)\n",
    "print(x)\n",
    "print(y)\n",
    "dir(x)"
   ]
  },
  {
   "cell_type": "markdown",
   "metadata": {},
   "source": [
    "## 9.2. Classes and Instances"
   ]
  },
  {
   "cell_type": "markdown",
   "metadata": {},
   "source": [
    "### 9.2.1 Classes\n",
    "\n",
    "A class is a blueprint for the objects of interest. \n",
    "* It contains all the details about such a object, e.g. properties and behaviors.\n",
    "* To define a class, `class` keyword is used.\n",
    "* Using our platformer example, one possible class is the class of enemies.\n",
    "* Some examples of class is Python in-built classes `List`, `Integer` etc, which you would have encountered before.\n",
    "* A function that is available to the class to define the behaviour of its objects is called a *method*, e.g.\n",
    "    * `append()` method `List` objects,\n",
    "    * `join()` method for `str` objects,\n",
    "    * et cetera."
   ]
  },
  {
   "cell_type": "markdown",
   "metadata": {},
   "source": [
    "#### 9.2.1.1 Constructing a Class  \n",
    "\n",
    "- the ``__init__`` method\n",
    "    - this is a special method in Python, called a **initializer** method\n",
    "    - its function is to **initiliaze attributes of the objects in the class**,\n",
    "- The ``self`` parameter is a variable refers to the object itself. By convention, it is always given the name ``self``.\n",
    "    - Parameter `self` must be the 1st parameter for any method in the class. The `__init__` method takes in a `self` parameter too.\n",
    "    - Using `self`, you can access other attributes in the object. \n",
    "    - To access other attribute, the syntax is `self.insert_attribute_name_of_the_object_here`\n",
    "\n",
    "In Python, the minimum template to make a class is:\n",
    "\n",
    ">```Python\n",
    ">class <CLASS_NAME>:\n",
    ">\n",
    ">   def __init__(self,<ATTRIBUTE_1>):\n",
    ">       self.<ATTRIBUTE_1>=<ATTRIBUTE_1>\n",
    ">\n",
    ">```\n",
    "\n",
    "In the following example, we will create a class called `Enemy` where each of the objects in the class has 2 attributes, `name` and `hp`, which stands for hit points."
   ]
  },
  {
   "cell_type": "code",
   "execution_count": 28,
   "metadata": {},
   "outputs": [],
   "source": [
    "# Example 2.1.1 Constructing a Class\n",
    "class Enemy:\n",
    "    def __init__(self,name,hit_points): #__init__.() Note that self is passed first\n",
    "        self.name=name                  \n",
    "        self.hp=hit_points              #Note that we're using hp instead of hit_points as the latter is too long"
   ]
  },
  {
   "cell_type": "code",
   "execution_count": 30,
   "metadata": {},
   "outputs": [],
   "source": [
    "# Example 2.1.1 Constructing a Class\n",
    "class Frenemy:\n",
    "    def __init__(notconvention,name,hit_points): #__init__.() Note that self is passed first\n",
    "        notconvention.name=name                  \n",
    "        notconvention.hp=hit_points              #Note that we're using hp instead of hit_points as the latter is too long"
   ]
  },
  {
   "cell_type": "code",
   "execution_count": 32,
   "metadata": {},
   "outputs": [
    {
     "name": "stdout",
     "output_type": "stream",
     "text": [
      "<__main__.Frenemy object at 0x0000027827EF8A30>\n"
     ]
    }
   ],
   "source": [
    "y=Frenemy('Bowser',2000)\n",
    "print(y)"
   ]
  },
  {
   "cell_type": "markdown",
   "metadata": {},
   "source": [
    "#### 9.2.1.2 Creating Instance of a Class\n",
    "After defining a class, we can then create objects of the class (also called **instance** of the class). This process is called *class instantiation* and uses function notation.  \n",
    "\n",
    "Continuing with our example of a platformer. Let us instantiate an enemy named Goomba and 1 hit point."
   ]
  },
  {
   "cell_type": "code",
   "execution_count": 29,
   "metadata": {},
   "outputs": [
    {
     "name": "stdout",
     "output_type": "stream",
     "text": [
      "<__main__.Enemy object at 0x0000027828107520>\n"
     ]
    }
   ],
   "source": [
    "# Example 2.1.2 Constructing a Class\n",
    "x=Enemy('Goomba',1)     #An instance/object of class Enemy named Goomba and 1 hit point is assigned to x\n",
    "print(x)"
   ]
  },
  {
   "cell_type": "markdown",
   "metadata": {},
   "source": [
    "#### 9.2.1.3 Using `__str__` Method to Describe Class Instances\n",
    "Note that when we try to print the object `x` that we created above, the printout is not very useful other as we can't see what are the attributes of this instance.\n",
    "\n",
    "- the ``__str__`` method\n",
    "    - this is another special method in Python, \n",
    "    - its function is to **return the string that will be produced when** `print` is called on the instance of the class\n",
    "\n",
    "Thus, to improve our existing class definition, we add the `__str__` method into the class definition."
   ]
  },
  {
   "cell_type": "code",
   "execution_count": 22,
   "metadata": {},
   "outputs": [
    {
     "name": "stdout",
     "output_type": "stream",
     "text": [
      "Enemy(Goomba,1)\n",
      "Enemy(Covid,5)\n"
     ]
    }
   ],
   "source": [
    "# Example 2.1.3 Describing a Class Instance\n",
    "class Enemy:\n",
    "\n",
    "    def __init__(self,name,hit_points): \n",
    "        self.name=name                  \n",
    "        self.hp=hit_points              \n",
    "\n",
    "    def __str__(self):                                                      #Note that self is again passed as an argument into the method\n",
    "        return f'Enemy({self.name},{self.hp})'                     #To access the name and hp of the instance, we need to use self.name and self.hp\n",
    "        #return 'The enemy is a {} with {} hp'.format(self.name,self.hp)    #This one gives a description in prose form 'The enemy is a Goomba with 1 hp'\n",
    "\n",
    "    def __repr__(self):\n",
    "\n",
    "x=Enemy('Goomba',1)\n",
    "y=Enemy('Covid',5)     \n",
    "print(x)\n",
    "print(y)"
   ]
  },
  {
   "cell_type": "markdown",
   "metadata": {},
   "source": [
    "### 9.2.2 Instance and Class Attributes \n",
    "\n",
    "Instance and Class Attributes are also called Instance and Class variables respectively.   \n",
    "\n",
    "#### 9.2.2.1 Instance Attributes \n",
    "\n",
    "Instance attributes are owned by each individual object/instance of the class. In this case, each object has its own copy of the attributes.\n",
    "Instance variables are not shared among instances although they have same name.\n",
    "\n",
    "In Example 9.2.1.3, the `name` and `hp` variables contains different value in `x` and `y`.\n",
    "\n",
    "To access the instance attribute, we use the syntax \n",
    "\n",
    ">```python\n",
    "> <object>.<insert_attribute_name_of_the_object_here>\n",
    ">```"
   ]
  },
  {
   "cell_type": "code",
   "execution_count": 38,
   "metadata": {},
   "outputs": [
    {
     "name": "stdout",
     "output_type": "stream",
     "text": [
      "Goomba   1\n",
      "Covid   5\n"
     ]
    }
   ],
   "source": [
    "# Example 2.2.1 Instance Attributes\n",
    "print(x.name,' ',x.hp) \n",
    "print(y.name,' ',y.hp)"
   ]
  },
  {
   "cell_type": "markdown",
   "metadata": {},
   "source": [
    "#### 9.2.2.2 Class Attributes\n",
    "\n",
    "Class attributes are shared by all instances of that class.\n",
    "* There is only one copy of the class variable\n",
    "* When any one object makes a change to a class variable, all the other instances all see the change\n",
    "* Class variables are declared before the initiliazer `__init__`\n",
    "\n",
    "Suppose we want each instance of enemy kill to reward an item, we make the following changes to our class definition."
   ]
  },
  {
   "cell_type": "code",
   "execution_count": 39,
   "metadata": {},
   "outputs": [
    {
     "name": "stdout",
     "output_type": "stream",
     "text": [
      "potato\n",
      "potato\n",
      "potato\n"
     ]
    },
    {
     "ename": "AttributeError",
     "evalue": "type object 'Enemy' has no attribute 'hp'",
     "output_type": "error",
     "traceback": [
      "\u001b[1;31m---------------------------------------------------------------------------\u001b[0m",
      "\u001b[1;31mAttributeError\u001b[0m                            Traceback (most recent call last)",
      "\u001b[1;32m<ipython-input-39-bb5650628ed1>\u001b[0m in \u001b[0;36m<module>\u001b[1;34m\u001b[0m\n\u001b[0;32m     17\u001b[0m \u001b[0mprint\u001b[0m\u001b[1;33m(\u001b[0m\u001b[0mx\u001b[0m\u001b[1;33m.\u001b[0m\u001b[0mloot\u001b[0m\u001b[1;33m)\u001b[0m       \u001b[1;31m#You can access the class attribute at the instance level\u001b[0m\u001b[1;33m\u001b[0m\u001b[1;33m\u001b[0m\u001b[0m\n\u001b[0;32m     18\u001b[0m \u001b[0mprint\u001b[0m\u001b[1;33m(\u001b[0m\u001b[0my\u001b[0m\u001b[1;33m.\u001b[0m\u001b[0mloot\u001b[0m\u001b[1;33m)\u001b[0m\u001b[1;33m\u001b[0m\u001b[1;33m\u001b[0m\u001b[0m\n\u001b[1;32m---> 19\u001b[1;33m \u001b[0mprint\u001b[0m\u001b[1;33m(\u001b[0m\u001b[0mEnemy\u001b[0m\u001b[1;33m.\u001b[0m\u001b[0mhp\u001b[0m\u001b[1;33m)\u001b[0m     \u001b[1;31m#You cannot access the instance attribute at the class level\u001b[0m\u001b[1;33m\u001b[0m\u001b[1;33m\u001b[0m\u001b[0m\n\u001b[0m",
      "\u001b[1;31mAttributeError\u001b[0m: type object 'Enemy' has no attribute 'hp'"
     ]
    }
   ],
   "source": [
    "# Example 2.2.2 Describing a Class Instance\n",
    "class Enemy:\n",
    "\n",
    "    loot='potato'                          #Class Attribute declared before __init__\n",
    "\n",
    "    def __init__(self,name,hit_points): \n",
    "        self.name=name                  \n",
    "        self.hp=hit_points              \n",
    "\n",
    "    def __str__(self):                                                     \n",
    "        return 'Enemy({},{})'.format(self.name,self.hp)                     \n",
    "\n",
    "x=Enemy('Goomba',1)\n",
    "y=Enemy('Goomba',5)\n",
    "\n",
    "print(Enemy.loot)   \n",
    "print(x.loot)       #You can access the class attribute at the instance level\n",
    "print(y.loot)\n",
    "print(Enemy.hp)     #You cannot access the instance attribute at the class level"
   ]
  },
  {
   "cell_type": "markdown",
   "metadata": {},
   "source": [
    "### 9.2.3 Methods\n",
    "\n",
    "As mentioned earlier, methods are functions which are added to a class to define the behaviors of the instances of the class. \n",
    "\n",
    "There are 3 types of methods that you can include inside a class\n",
    "\n",
    "* Instance Methods,\n",
    "* Class Methods, and\n",
    "* Static Methods."
   ]
  },
  {
   "cell_type": "markdown",
   "metadata": {},
   "source": [
    "### 9.2.3.1. Instance Methods\n",
    "\n",
    "- Instance methods can freely access attributes and other methods on the same object.\n",
    "- It needs to take in `self` as a parameter to access the attributes of the instance.\n",
    "\n",
    "In our example, besides having a name and hit point, we would also want the enemy to behave in a certain way. For example, \n",
    "\n",
    "1. When the enemy is hit, its hit point get reduced by 1, \n",
    "2. When its hit point is equal to 0, it says a final message before it dies,\n",
    "3. After it dies, it drops an item from its loot table, which is shared across all enemy of the same class.\n",
    "\n",
    "We will continue our example code and incorporate `get_hit` method  inside the class definition."
   ]
  },
  {
   "cell_type": "code",
   "execution_count": 40,
   "metadata": {},
   "outputs": [
    {
     "name": "stdout",
     "output_type": "stream",
     "text": [
      "Still strong with 2 HP left!\n",
      "Still strong with 1 HP left!\n",
      "Oh nuuuuuu.....Farewell, cruel world! (T.T)\n",
      "Congratulations. You get potato.\n"
     ]
    }
   ],
   "source": [
    "# Example 2.3.1 Instance Method\n",
    "class Enemy:\n",
    "\n",
    "    loot='potato'                                                       #Class Attribute\n",
    "\n",
    "    def __init__(self,name,hit_points): \n",
    "        self.name=name                  \n",
    "        self.hp=hit_points              \n",
    "\n",
    "    def __str__(self):                                                      \n",
    "        return 'Enemy({},{})'.format(self.name,self.hp)                     \n",
    "     \n",
    "    def get_hit(self):                                                  #get_hit is an INSTANCE METHOD as you need to keep track of the hp of the enemy\n",
    "        self.hp=self.hp-1                                               #1 HP decrease after each hit         \n",
    "        if self.hp==0:\n",
    "            print('Oh nuuuuuu.....Farewell, cruel world! (T.T)')        #The dying message\n",
    "            print('Congratulations. You get {}.'.format(self.loot))     #Loot dropped\n",
    "            return \n",
    "        print('Still strong with {} HP left!'.format(self.hp))          #Taunt yells\n",
    "        return\n",
    "    \n",
    "x=Enemy('Goomba',3)\n",
    "x.get_hit()\n",
    "x.get_hit()\n",
    "x.get_hit()"
   ]
  },
  {
   "cell_type": "markdown",
   "metadata": {},
   "source": [
    "### 9.2.3.2 Class Methods\n",
    "\n",
    "- Takes in `cls` as a parameter,\n",
    "- Class methods cannot freely access the attributes of the instantiated objects\n",
    "- Class methods can only access class attributes\n",
    "- Before declaring a class method, put `@classmethod` decorator on the line above it \n",
    "- Similar to instance method, instead of `self`, class methods have `cls` as the first argument\n",
    "\n",
    "Suppose that we want to change the loot droppable in the game after the first enemy death, we can change the class variable `loot` by using a class method.\n",
    "Let us call this class method `drop_loot`."
   ]
  },
  {
   "cell_type": "code",
   "execution_count": 43,
   "metadata": {},
   "outputs": [
    {
     "name": "stdout",
     "output_type": "stream",
     "text": [
      "Still strong with 2 HP left!\n",
      "potato\n",
      "Still strong with 1 HP left!\n",
      "potato\n",
      "Oh nuuuuuu.....Farewell, cruel world! (T.T)\n",
      "Congratulations. You get potato.\n",
      "banana\n",
      "Still strong with 1 HP left!\n",
      "banana\n",
      "Oh nuuuuuu.....Farewell, cruel world! (T.T)\n",
      "Congratulations. You get banana.\n",
      "Oh nuuuuuu.....Farewell, cruel world! (T.T)\n",
      "Congratulations. You get banana.\n"
     ]
    }
   ],
   "source": [
    "# Example 2.3.2 Class Method \n",
    "class Enemy:\n",
    "\n",
    "    loot='potato'\n",
    "\n",
    "    def __init__(self,name,hit_points): \n",
    "        self.name=name                  \n",
    "        self.hp=hit_points              \n",
    "\n",
    "    def __str__(self):                                                      \n",
    "        return 'Enemy({},{})'.format(self.name,self.hp)                     \n",
    "    \n",
    "    @classmethod                                                        #Class method decorator\n",
    "    def drop_loot(cls):                                                 #First parameter is cls\n",
    "        print('Congratulations. You get {}.'.format(cls.loot))\n",
    "        cls.loot='banana'                                               #After the first potato drop, the loot becomes a banana instead   \n",
    "  \n",
    "    def get_hit(self):                                              \n",
    "        self.hp=self.hp-1                                                   \n",
    "        if self.hp==0:\n",
    "            print('Oh nuuuuuu.....Farewell, cruel world! (T.T)')\n",
    "            self.drop_loot()                                            #Note that the instance still can access class method\n",
    "            return \n",
    "        print('Still strong with {} HP left!'.format(self.hp))         \n",
    "        return\n",
    "    \n",
    "x=Enemy('Goomba',3)\n",
    "x.get_hit()\n",
    "print(x.loot)\n",
    "x.get_hit()\n",
    "print(x.loot)\n",
    "x.get_hit()\n",
    "print(x.loot)\n",
    "\n",
    "y=Enemy('Goomba',2)\n",
    "y.get_hit()\n",
    "print(y.loot)\n",
    "y.get_hit()\n",
    "\n",
    "z=Enemy('Goomba',1)\n",
    "z.get_hit()"
   ]
  },
  {
   "cell_type": "markdown",
   "metadata": {},
   "source": [
    "### 9.2.3.3 Static Methods\n",
    "    \n",
    "- Takes neither a `self` or `cls` as parameter,\n",
    "- Cannot modify attributes of class nor instances.\n",
    "- Before declaring a static method, put `@staticmethod` decorator on the line above it\n",
    "- Can be used when the method doesn't depend on the class nor instance attributes.\n",
    "\n",
    "In our example, we see that we could code to print the dying message doesn't rely on any attributes of the instance nor the class. Let's name the static method `death_cry`."
   ]
  },
  {
   "cell_type": "markdown",
   "metadata": {},
   "source": [
    "<center>\n",
    "\n",
    "| Enemy             |\n",
    "|------------------------|\n",
    "|------------------------|\n",
    "| loot: STRING        |\n",
    "| name: STRING        |\n",
    "| hp: INTEGER        |\n",
    "|------------------------|\n",
    "| constructor(n:name,h:hit_points): |\n",
    "| death_cry(): |\n",
    "| drop_loot(c:Enemy): |\n",
    "| get_hit():|\n",
    "\n",
    "</center>"
   ]
  },
  {
   "cell_type": "code",
   "execution_count": 44,
   "metadata": {},
   "outputs": [
    {
     "name": "stdout",
     "output_type": "stream",
     "text": [
      "Still strong with 2 HP left!\n",
      "Still strong with 1 HP left!\n",
      "Congratulations. You get potato.\n",
      "Oh nuuuuuu.....Farewell, cruel world! (T.T)\n",
      "Still strong with 1 HP left!\n",
      "Congratulations. You get banana.\n",
      "Oh nuuuuuu.....Farewell, cruel world! (T.T)\n",
      "Congratulations. You get banana.\n",
      "Oh nuuuuuu.....Farewell, cruel world! (T.T)\n"
     ]
    }
   ],
   "source": [
    "# Example 2.3.3 Static Method \n",
    "class Enemy:\n",
    "\n",
    "    loot='potato'\n",
    "\n",
    "    def __init__(self,name,hit_points): \n",
    "        self.name=name                  \n",
    "        self.hp=hit_points              \n",
    "\n",
    "    def __str__(self):                                                      \n",
    "        return 'Enemy({},{})'.format(self.name,self.hp)   \n",
    "\n",
    "    @staticmethod                                                       #Static Method Decorator\n",
    "    def death_cry():                                                    #No self nor cls as parameter\n",
    "        print('Oh nuuuuuu.....Farewell, cruel world! (T.T)')                  \n",
    "    \n",
    "    @classmethod                                                       \n",
    "    def drop_loot(cls):                                                \n",
    "        print('Congratulations. You get {}.'.format(cls.loot))\n",
    "        cls.loot='banana'                                                  \n",
    "  \n",
    "    def get_hit(self):                                              \n",
    "        self.hp=self.hp-1                                                   \n",
    "        if self.hp==0:\n",
    "            self.drop_loot()\n",
    "            self.death_cry()                                            #Note that you still need self.death_cry()\n",
    "            return \n",
    "        print('Still strong with {} HP left!'.format(self.hp))         \n",
    "   \n",
    "    \n",
    "x=Enemy('Goomba',3)\n",
    "x.get_hit()\n",
    "x.get_hit()\n",
    "x.get_hit()\n",
    "\n",
    "y=Enemy('Goomba',2)\n",
    "y.get_hit()\n",
    "y.get_hit()\n",
    "\n",
    "z=Enemy('Goomba',1)\n",
    "z.get_hit()"
   ]
  },
  {
   "cell_type": "markdown",
   "metadata": {},
   "source": [
    "### Assignment 1"
   ]
  },
  {
   "cell_type": "markdown",
   "metadata": {},
   "source": [
    "### a)\n",
    "\n",
    "Create a class `Person` which contains 2 properties, `_name` and `_age`. \n",
    "* Implement its initializer method which initialize `_name` and `_age`.\n",
    "* Implement its `__str__()` method which return string in the format of `\"Person: name={_name}, age={_age}\"`\n",
    "* Define a class variable `MIN_ADULT_AGE` with value `18`. \n",
    "* Implement an instance method `is_adult()` which returns `True` if the age is equal or above `MIN_ADULT_AGE`, else returns `False`.\n",
    "\n",
    "**Sample Output:**\n",
    "```\n",
    "Person: name=Alan, age=20\n",
    "Is adult: True\n",
    "```"
   ]
  },
  {
   "cell_type": "code",
   "execution_count": null,
   "metadata": {},
   "outputs": [
    {
     "name": "stdout",
     "output_type": "stream",
     "text": [
      "Person: name=Alan, age=20\n",
      "Is adult: True\n"
     ]
    }
   ],
   "source": [
    "class Person:\n",
    "    pass\n",
    "    #YOUR CODE HERE\n",
    "\n",
    "# TEST\n",
    "p = Person('Alan', 20)\n",
    "print(p)\n",
    "print('Is adult:', p.is_adult())"
   ]
  },
  {
   "cell_type": "markdown",
   "metadata": {},
   "source": [
    "### b) \n",
    "\n",
    "Create a class `Shape` which contains following attributes:\n",
    "* Define a class variable `PI` with value `3.14`.\n",
    "* Define a class method `area_circle()` which takes in a `radius` value and returns area of the circle.\n",
    "* Define a static method `area_rectangle()` which takes in `width` and `length` values, and returns area of the rectangle. \n",
    "\n",
    "**Sample Output:**\n",
    "```\n",
    "Area of Circle: 12.56\n",
    "Area of Rectangle: 8\n",
    "```"
   ]
  },
  {
   "cell_type": "code",
   "execution_count": null,
   "metadata": {},
   "outputs": [
    {
     "name": "stdout",
     "output_type": "stream",
     "text": [
      "Area of Rectangle: 8\n",
      "Area of Circle: 12.56\n"
     ]
    }
   ],
   "source": [
    "class Shape:\n",
    "    pass\n",
    "    #YOUR CODE HERE\n",
    "\n",
    "# TEST\n",
    "print('Area of Rectangle:', Shape.area_rectangle(2,4))\n",
    "print('Area of Circle:', Shape.area_circle(2))"
   ]
  },
  {
   "cell_type": "markdown",
   "metadata": {},
   "source": [
    "## 9.3 Unified Modeling Language (UML) Class Diagrams\n",
    "\n",
    "A class diagram is a table that is used to represent classes and it is broken down to 3 partitions:\n",
    "- Class Name appears in the first partition and is the only mandatory information\n",
    "- Class Attributes are located in the 2nd partition and types of the attribute is shown after the colon\n",
    "- Class Methods are shown in the 3rd partition. Return type of method parameters are shown after colon following the parameter name.\n",
    "\n",
    "<center>\n",
    "\n",
    "| CLASS_NAME             |\n",
    "|------------------------|\n",
    "|------------------------|\n",
    "| ATTRIBUTE: TYPE        |\n",
    "|------------------------|\n",
    "| METHOD(ATTRIBUTE: TYPE):TYPE |\n",
    "\n",
    "</center>\n",
    "\n",
    "\n",
    "UML is useful to showcase how classes in the program are related to one another."
   ]
  },
  {
   "cell_type": "markdown",
   "metadata": {},
   "source": [
    "## 9.3. Encapsulation and Information Hiding\n",
    "\n",
    "Recall that a class in Python is a way to group some objects together based on their attributes and methods. This idea of grouping is called **encapsulation**. So, put it in another way, a class encapsulates all the data that is member functions, variables/attributes, etc.\n",
    "\n",
    "<center>\n",
    "<img src=\"images/encapsulation.jpg\" width=\"250\" align=\"center\"/>\n",
    "</center>\n",
    "\n",
    "* Encapsulation is a way to restrict access to object attributes and methods, \n",
    "* Encapsulation is to prevent accidental modification of internal data into possibly sth invalid. see https://www.youtube.com/watch?v=TFLo9m0jFEg\n",
    "* `set_attr` and `get_attr` method in classes\n",
    "* `self.a`, `self._b` and `self.__c`\n",
    "* whenever `__` is used, your data is made private, \n",
    "* single underscore `_` is partially private and only a convention.\n",
    "\n",
    "\n",
    "Class methods have access to all the data in the object.\n",
    "\n",
    "Example of catastrophic modification of code.\n",
    "* Possible idea, student average mark over 2 years of A-levels\n",
    "* average, smallest, largest, largest_count\n",
    "* corruption of original data.\n"
   ]
  },
  {
   "cell_type": "markdown",
   "metadata": {},
   "source": [
    "### 9.3.1 Revisiting Class \n",
    "\n",
    "In Section 9.2, when we reintroduced class, we see that a class acts as a template for objects with a certain attributes and methods. This is a useful implementation of classes. However, there is really nothing preventing us from defining a class without attributes and methods. This is the simplest type of class. To check the instance attributes, we use the `__dict__` method, a special method that every object has. It returns a dictionary containing all the object attributes and its associated values."
   ]
  },
  {
   "cell_type": "code",
   "execution_count": 35,
   "metadata": {},
   "outputs": [
    {
     "name": "stdout",
     "output_type": "stream",
     "text": [
      "<class '__main__.Enemy'>\n",
      "{}\n"
     ]
    }
   ],
   "source": [
    "#Example 3.1.1 Class without attribute nor method\n",
    "class Enemy:\n",
    "    pass\n",
    "\n",
    "x=Enemy()\n",
    "print(Enemy)                 #An instance of Enemy\n",
    "print(x.__dict__)            #Printing out the instance variables of x"
   ]
  },
  {
   "cell_type": "markdown",
   "metadata": {},
   "source": [
    "Note that such objects aren't interesting and seems pretty uselees. In Python, values can assigned to a non-existent instance variable of an object and such instance variable will be created immediately."
   ]
  },
  {
   "cell_type": "code",
   "execution_count": 36,
   "metadata": {},
   "outputs": [
    {
     "name": "stdout",
     "output_type": "stream",
     "text": [
      "{'name': 'Derpy Derp', 'hp': 5}\n"
     ]
    }
   ],
   "source": [
    "#Example 3.1.2 Adding instance attributes\n",
    "x.name='Derpy Derp'         #adding an attribute name to x\n",
    "x.hp=5                      #adding an attribute hp to x\n",
    "print(x.__dict__)           "
   ]
  },
  {
   "cell_type": "markdown",
   "metadata": {},
   "source": [
    "Therefore, we see that Python is very flexible in this regard as we can add attributes to objects on the fly. However, this means that the internal properties of the instances can be modified externally and this situation can be undesirable, e.g. some of the attributes get changed accidentally and causes incorrect behaviour when these attributes need to be used."
   ]
  },
  {
   "cell_type": "markdown",
   "metadata": {},
   "source": [
    "### 9.3.2 Information Hiding\n",
    "\n",
    "All methods and variables in a Python class or object are public, i.e. they can be accessed by users. This is the reason why attributes can be modified externally as shown in the subsection 3.1. \n",
    "\n",
    "- Python has NO access modifier, i.e. like public & protected & private in C# or Java.\n",
    "- It uses a convention with a combination of single underscore `_` and double underscore `__` in the naming to indicate whether a method or attribute is for system use or class-internal use.\n",
    "- Such methods and attributes **should** not be used directly by users of the class. But you can still access them directly, which is useful for debugging purpose.\n",
    "\n",
    "Before we go into the naming convention, we see the implementation first."
   ]
  },
  {
   "cell_type": "code",
   "execution_count": 41,
   "metadata": {},
   "outputs": [
    {
     "name": "stdout",
     "output_type": "stream",
     "text": [
      "Derpy Derp\n",
      "5\n",
      "{'name': 'Derpy Derp', '_hp': 5, '_Enemy__weapon': 'axe'}\n"
     ]
    }
   ],
   "source": [
    "#Example 3.2.1 Information Hiding\n",
    "class Enemy:\n",
    "    def __init__(self,name,hp,weapon):\n",
    "        self.name=name\n",
    "        self._hp=hp                 #starts with single underscore as the instance variable name _hp\n",
    "        self.__weapon=weapon        #starts with double underscore as the instance variable name __weapon\n",
    "\n",
    "x=Enemy('Derpy Derp',5,'axe')\n",
    "print(x.name)           #Attempting to access name\n",
    "print(x._hp)            #Attempting to access hp,  usually we do x.hp\n",
    "#print(x.__weapon)       #Attempting to access weapon\n",
    "print(x.__dict__)"
   ]
  },
  {
   "cell_type": "markdown",
   "metadata": {},
   "source": [
    "### 9.3.2.1 Naming Conventions for Information Hiding\n",
    " \n",
    "The following are the naming convention for the attributes and methods:\n",
    "\n",
    "### a) System Attribute `__attr__`\n",
    "\n",
    "- Attributes with **double-leading and double-trailing underscores** are defined by Python. They are called `magic attributes` or `system attributes`. Such attributes should not be used. \n",
    "- For example, the `__class__`, `__name__` property, the `__init__()` and `__str__()` methods.\n",
    "\n",
    "### b) Class/Module Attribute `_attr`\n",
    "\n",
    "- Attributes with **single-leading underscores** are for internal use in the class or module. \n",
    "- This is just a **convention** which has no effect to Python interpreter. In Example 3.2.1, `x._hp` still returns a value.\n",
    "- **Note:** When a module is imported, method and variable with single-leading-underscore will NOT be imported.\n",
    "\n",
    "### c) Name Mangling Attribute `__attr`\n",
    "\n",
    "- In Example 3.2.1, `x._weapon` causes an `AttributeError`.  \n",
    "- The reasons is that when a class attribute is defined with **double-leading-underscore**, Python interpretor will prefix such attributes with `_classname`, e.g. `__weapon` in class `Enemy` will become `_Enemy__weapon`. \n",
    "- This process of prefixing of `_classname` to the attributes is called **name mangling**."
   ]
  },
  {
   "cell_type": "code",
   "execution_count": 42,
   "metadata": {},
   "outputs": [
    {
     "name": "stdout",
     "output_type": "stream",
     "text": [
      "{'name': 'Derpy Derp', '_hp': 5, '_Enemy__weapon': 'axe'}\n",
      "{'__module__': '__main__', '__init__': <function Enemy.__init__ at 0x0000024E0924A670>, '_death_cry': <function Enemy._death_cry at 0x0000024E0924AC10>, '_Enemy__drop_loot': <function Enemy.__drop_loot at 0x0000024E0924A0D0>, '__dict__': <attribute '__dict__' of 'Enemy' objects>, '__weakref__': <attribute '__weakref__' of 'Enemy' objects>, '__doc__': None}\n"
     ]
    }
   ],
   "source": [
    "#Example 3.2.2 Name Mangling\n",
    "class Enemy:\n",
    "    def __init__(self,name,hp,weapon):\n",
    "        self.name=name\n",
    "        self._hp=hp                \n",
    "        self.__weapon=weapon        #This attribute is going to be name mangled\n",
    "\n",
    "    def _death_cry(self):\n",
    "        pass\n",
    "\n",
    "    def __drop_loot(self):\n",
    "        pass\n",
    "\n",
    "x=Enemy('Derpy Derp',5,'axe')\n",
    "print(x.__dict__)                    #Checking the instance variables of instance x\n",
    "print(Enemy.__dict__)                #Checking the method of object Enemy"
   ]
  },
  {
   "cell_type": "markdown",
   "metadata": {},
   "source": [
    "In conclusion, to hide an attribute from external access, we should use double-leading-underscore to prefix the variable name `__`."
   ]
  },
  {
   "cell_type": "markdown",
   "metadata": {},
   "source": [
    "### 9.3.2.2 Retrieving Information\n",
    "\n",
    "In the previous subsection, we have seen how to shield the outside eyes from peeking into the attributes of the instance. However, there are instances where you would want to allow the instance attribute to be able to be retrieved and modified by an external code. For example, you might want to create a graphical intercace to display the enemy's hp etc.\n",
    "\n",
    "To do this, there are two possible ways to allow this:\n",
    "- `getter` and `setter` method\n",
    "- `@property` decorator and `@attr.setter` decorator"
   ]
  },
  {
   "cell_type": "markdown",
   "metadata": {},
   "source": [
    "### a) `getter` and `setter` method\n",
    "\n",
    "- A `getter` is a method that gets the value of an attribute and similarly, a `setter` is a method that sets the value of a property.\n",
    "- These methods usually come in pair for each attribute, but not necessarily."
   ]
  },
  {
   "cell_type": "code",
   "execution_count": 50,
   "metadata": {},
   "outputs": [
    {
     "name": "stdout",
     "output_type": "stream",
     "text": [
      "1st get_name() call: name of x is Koopa\n",
      "2nd get_name() call: name of x is lel\n",
      "1st get_hp() call: hp of x is 4\n",
      "2nd get_hp() call: hp of x is 5\n"
     ]
    },
    {
     "data": {
      "text/plain": [
       "{'_name': 'lel', '_Enemy__hp': 5, 'name': 'lel'}"
      ]
     },
     "execution_count": 50,
     "metadata": {},
     "output_type": "execute_result"
    }
   ],
   "source": [
    "#Example 3.2.3 getter and setter method approach\n",
    "class Enemy:\n",
    "    \n",
    "    def __init__(self,name,hp,weapon):\n",
    "        self._name=name\n",
    "        self.__hp=hp                  \n",
    "    \n",
    "    def get_name(self):                     #getter for name\n",
    "        return self._name\n",
    "    \n",
    "    def set_name(self,val):                 #setter for name, note that it has another parameter val that is used to set the instance variable _name\n",
    "        self._name=val\n",
    "\n",
    "    def get_hp(self):                       #getter for hp\n",
    "        return self.__hp                    #Research into this\n",
    "\n",
    "    def set_hp(self,val):                   #setter for name, note that it has another parameter val that is used to set the instance variable __hp\n",
    "        self.__hp=val\n",
    "\n",
    "x = Enemy('Koopa',4,'shell')\n",
    "\n",
    "x.name='lel'\n",
    "print('1st get_name() call: name of x is',x.get_name()) #Note that the instance variable doesn't get changed\n",
    "x.set_name('lel')\n",
    "print('2nd get_name() call: name of x is',x.get_name())\n",
    "\n",
    "print('1st get_hp() call: hp of x is',x.get_hp())\n",
    "x.set_hp(5)\n",
    "print('2nd get_hp() call: hp of x is',x.get_hp())\n",
    "\n",
    "x.__dict__"
   ]
  },
  {
   "cell_type": "markdown",
   "metadata": {},
   "source": [
    "### b) `@property` decorator\n",
    "An alternative way is to use `@property` decorator. \n",
    "* The `@property` decorator marks the getter method\n",
    "* The `@attr.setter` decorator marks the setter method for attribute `attr`\n",
    "\n",
    "Using this decorators makes the attribute into a `property` object, which could then be used in a more natural manner.\n",
    "\n",
    "It is common to use `@property` to implement a read-only computed attribute, which doesn't require taking in of parameters, e.g., `name` and `hp` in the `Enemy` class."
   ]
  },
  {
   "cell_type": "code",
   "execution_count": 51,
   "metadata": {},
   "outputs": [
    {
     "name": "stdout",
     "output_type": "stream",
     "text": [
      "1st call: name of x is Koopa\n"
     ]
    }
   ],
   "source": [
    "#Example 3.2.4 @property and @attr.setter approach\n",
    "class Enemy:\n",
    "    \n",
    "    def __init__(self,name,hp,weapon):\n",
    "        self._name=name\n",
    "        self.__hp=hp\n",
    "        self._weapon=weapon                \n",
    "    \n",
    "    @property                           #marks the getter method\n",
    "    def name(self):                     \n",
    "        return self._name\n",
    "    \n",
    "    @name.setter                        #marks the setter method\n",
    "    def name(self,val):                 \n",
    "        self._name=val\n",
    "\n",
    "    @property                           #marks the getter method\n",
    "    def hp(self):                      \n",
    "        return self.__hp\n",
    "\n",
    "    @hp.setter                          #marks the getter method\n",
    "    def hp(self,val):                  \n",
    "        self.__hp=val\n",
    "\n",
    "    @property\n",
    "    def weapon(self):\n",
    "        return self._weapon\n",
    "\n",
    "    @weapon.setter\n",
    "    def weapon(self,val):\n",
    "        self._weapon=val\n",
    "\n",
    "x = Enemy('Koopa',4,'shell')\n",
    "\n",
    "print('1st call: name of x is',x.name) #note the syntax used here that makes it natural x.name instead of x.get_name()\n",
    "x.name='lel'                                      #note the syntax used here that makes it natural x.hp instead of x.hp()\n",
    "print('2nd call: name of x is',x.name)\n",
    "\n",
    "print('1st call: hp of x is',x.hp)\n",
    "x.hp=5\n",
    "print('2nd call: hp of x is',x.hp)\n",
    "\n",
    "print(x._name)\n",
    "print(x._Enemy__hp)\n",
    "print(x.name)\n"
   ]
  },
  {
   "cell_type": "markdown",
   "metadata": {},
   "source": [
    "### Assignment 2\n",
    "\n",
    "Create a class `Celsius` with following attributes:\n",
    "* It contains an instance variable `_value`, which contains its temperature value.\n",
    "* Implement its `__init__()` method which initialize its instance variable `_value`.\n",
    "* implement a property `value` for its variable `_value`. \n",
    "* implement a read-only property `fahrenheit` which returns temperature value in Fahrenheit.\n",
    "    * `Fahrenheit = Celsius * 1.8 + 32`\n",
    "\n",
    "**Sample Output:**\n",
    "```\n",
    "Temperature: 25 Celsius, 77.0 Fahrenheit\n",
    "```"
   ]
  },
  {
   "cell_type": "code",
   "execution_count": null,
   "metadata": {},
   "outputs": [
    {
     "name": "stdout",
     "output_type": "stream",
     "text": [
      "Temperature: 25 Celsius, 77.0 Fahrenheit\n"
     ]
    }
   ],
   "source": [
    "class Celcius:\n",
    "    pass\n",
    "    #YOUR CODE HERE\n",
    "\n",
    "#TEST\n",
    "x=Celcius(25)\n",
    "print(f'Temperature: {x.get_celsius()} Celsius, {x.get_fahrenheit()} Fahrenheit')"
   ]
  },
  {
   "cell_type": "markdown",
   "metadata": {},
   "source": [
    "## 9.3 Unified Modeling Language (UML) Class Diagrams part II\n",
    "\n",
    "<center>\n",
    "\n",
    "| `Complex`                      |\n",
    "|---------------------------------------|\n",
    "|---------------------------------------|\n",
    "|  `real: FLOAT`               |\n",
    "|  `imag: FLOAT`               |\n",
    "|---------------------------------------|\n",
    "|  `constructor(real: FLOAT, imag: FLOAT)`         |\n",
    "|  `Re(): Complex`          |\n",
    "|  `Im(): Complex`            |\n",
    "|  `mod(): FLOAT`            |\n",
    "|  `arg(): FLOAT`            |\n",
    "|---------------------------------------|\n",
    "\n",
    "</center>\n",
    "\n",
    "\n",
    "\n",
    "<center>\n",
    "\n",
    "| `ToDo`                      |\n",
    "|------------------------------------------|\n",
    "|------------------------------------------|\n",
    "|  `category: STRING`               |\n",
    "|  `description: STRING`               |\n",
    "|------------------------------------------|\n",
    "|  `constructor(c : STRING, d : STRING)`         |\n",
    "|  `set_category(s : STRING)`          |\n",
    "|  `set_description(s: STRING)`            |\n",
    "|  `get_category(): STRING`       |\n",
    "|  `get_description(): STRING`  |\n",
    "|  `summary(): STRING` |\n",
    "|------------------------------------------|\n",
    "\n",
    "</center>\n",
    "\n",
    "| `__str__(): STRING`|\tReturns the string representation of the complex number in the form `<real_part>+i*<imaginary_part>`|"
   ]
  },
  {
   "cell_type": "code",
   "execution_count": null,
   "metadata": {},
   "outputs": [],
   "source": []
  },
  {
   "cell_type": "markdown",
   "metadata": {},
   "source": [
    "## 9.4. Inheritance and Polymorphism\n",
    "\n",
    "**Inheritance** is the ability of a class (the derived class) to use the properties and methods of another class (the parent class). This is one of the major benefits of object oriented programming. \n",
    "\n",
    "* **Parent Class** is the class being inherited from, also called **base class**.\n",
    "* **Child class** is the class that inherits from another class, also called **derived class** or a **subclass**\n",
    "\n",
    "**Benefits:**\n",
    "\n",
    "* <u>Reuse Quality Code:</u> Reuse existing code which is already tested.\n",
    "* <u>Improve Code Readability:</u> Program structure is short and concise.\n",
    "* <u>Improve Code Reliability:</u> Avoid code duplication and easier to debug.\n",
    "* <u>Save Time and Effort</u> \n",
    "\n",
    "In video games, some enemies are variants of a simpler version of itself. For example, here are some Hammer Bros variant from Mario Paper. The enemies at the bottom is derived from the base model at the top. The base model represents the Parent class and the variants the Child Class. \n",
    "\n",
    "<center>\n",
    "<img src=\"images/hammer_bros_edited.jpg\" width=\"400\" align=\"center\"/>\n",
    "</center>"
   ]
  },
  {
   "cell_type": "markdown",
   "metadata": {},
   "source": [
    "### Some Basic Syntax\n",
    "\n",
    "* Without specifying parent class, the class inherits from `object` class.\n",
    "* The `__base__` attribute of a class returns its base class.\n",
    "* `issubclass()` function checks whether a class is a subclass of another.\n",
    "* `__class__` is a special Python method of instances of the class used to get the class, \n",
    "* `__name__` is another special Python class method to get the name of the class."
   ]
  },
  {
   "cell_type": "code",
   "execution_count": 55,
   "metadata": {},
   "outputs": [],
   "source": [
    "#Basic Syntax to create a Subclass\n",
    "class Parent:\n",
    "    pass\n",
    "\n",
    "class Child(Parent): #This is the syntax to create a Child class out of Parent class\n",
    "    pass"
   ]
  },
  {
   "cell_type": "code",
   "execution_count": 58,
   "metadata": {},
   "outputs": [
    {
     "data": {
      "text/plain": [
       "'Child'"
      ]
     },
     "execution_count": 58,
     "metadata": {},
     "output_type": "execute_result"
    }
   ],
   "source": [
    "Parent.__base__\n",
    "Child.__base__\n",
    "Child.__name__"
   ]
  },
  {
   "cell_type": "markdown",
   "metadata": {},
   "source": [
    "### 4.1 Inheritance\n",
    "\n",
    "To illustrate how inheritance work, we start by defining a base class `HammerBro`, which has property `base_damage`, `hp` and `damage_mod`. It also has a method `attack_damage()` which calculates the attack damage it can inflict on the player character and `attack()` that prints 'HammerBro attacks for 1 damage.'. We will: \n",
    "* define the class attribute `base_damage`, \n",
    "* Initialize its property `hp` and `damage_mod` in its constructor function, i.e. `__init__()` function,\n",
    "* Implement its `__str__()` function which returns string `HammerBro has 5 HP and wields hammer` on the instantiated object that describes the object,\n",
    "* define the method `attack_damage` and `attack`,"
   ]
  },
  {
   "cell_type": "code",
   "execution_count": 64,
   "metadata": {},
   "outputs": [
    {
     "name": "stdout",
     "output_type": "stream",
     "text": [
      "1\n",
      "5\n",
      "1\n",
      "HammerBro has 5 HP and wields hammer.\n",
      "HammerBro attacks for 1 damage\n"
     ]
    }
   ],
   "source": [
    "#Example 4.1.1 Creation of a Parent Class\n",
    "class HammerBro:\n",
    "\n",
    "    base_damage=1\n",
    "\n",
    "    def __init__(self,hp=5,damage_mod=1):\n",
    "        self._hp=hp\n",
    "        self._damage_mod=damage_mod\n",
    "\n",
    "    @property\n",
    "    def hp(self):\n",
    "        return self._hp\n",
    "\n",
    "    @property\n",
    "    def damage_mod(self):\n",
    "        return self._damage_mod\n",
    "\n",
    "    def __str__(self):\n",
    "        return '{} has {} HP and wields hammer.'.format(self.__class__.__name__,self._hp) #Note the use of __class__.__name__ here to get the name of the class\n",
    "\n",
    "    def attack_damage(self):\n",
    "        return self.base_damage*self.damage_mod\n",
    "\n",
    "    def attack(self):\n",
    "        return print(self.__class__.__name__,'attacks for',self.attack_damage(),'damage')\n",
    "\n",
    "h=HammerBro()\n",
    "print(h.base_damage)        #Class variable base_damage is inherited\n",
    "print(h.hp)                 #Instance variable\n",
    "print(h.damage_mod)         #Instance variable\n",
    "print(h)\n",
    "h.attack()"
   ]
  },
  {
   "cell_type": "markdown",
   "metadata": {},
   "source": [
    "Next, we will define a subclass `IceBro` from `HammerBro`. \n",
    "* Note that without any further coding, `IceBro` class will be  able to access to all attributes in `HammerBro` class."
   ]
  },
  {
   "cell_type": "code",
   "execution_count": 66,
   "metadata": {},
   "outputs": [
    {
     "name": "stdout",
     "output_type": "stream",
     "text": [
      "1\n",
      "5\n",
      "1\n",
      "IceBro has 5 HP and wields hammer.\n",
      "IceBro attacks for 1 damage\n",
      "True\n"
     ]
    }
   ],
   "source": [
    "#Example 4.1.2 Creation of a Child Class / Subclass\n",
    "\n",
    "class IceBro(HammerBro):    #Defining the subclass IceBro of HammerBro\n",
    "    pass\n",
    "        \n",
    "x=IceBro()                  #Creating an IceBro Object and assigning to x\n",
    "print(x.base_damage)        #Class variable base_damage is inherited\n",
    "print(x.hp)                 #Instance variable\n",
    "print(x.damage_mod)         #Instance variable\n",
    "print(x)\n",
    "x.attack()\n",
    "print(issubclass(IceBro,HammerBro)) #Checking if IceBro is a subclass of HammerBro"
   ]
  },
  {
   "cell_type": "markdown",
   "metadata": {},
   "source": [
    "However, note that when we print the object, it says that \"IceBro has 5 HP and wields hammer\". This makes IceBro sad because he uses ice to attack. (T.T)"
   ]
  },
  {
   "cell_type": "markdown",
   "metadata": {},
   "source": [
    "### 9.4.2 Method Overriding\n",
    "\n",
    "To correct and improve the construction of the subclass objects, we should include the different type of weapons that the variants use.\n",
    "This means that we should have an instance variable `weapon` to store the type of the weapon, \n",
    "Thus, when we are initializing the instance, we need to include this `weapon`.\n",
    "Consequently, we need to define a new `__init__` function for the subclass,\n",
    "\n",
    "This ability of a class to change the implementation of a method provided by one of its ancestors is called **method overriding**."
   ]
  },
  {
   "cell_type": "code",
   "execution_count": 67,
   "metadata": {},
   "outputs": [
    {
     "name": "stdout",
     "output_type": "stream",
     "text": [
      "VariantBro has 5 HP and wields ice.\n",
      "VariantBro has 7 HP and wields fire.\n",
      "VariantBro has 10 HP and wields bone.\n",
      "VariantBro has 5 HP and wields boomerang.\n",
      "VariantBro attacks for 2.2 damage\n",
      "VariantBro attacks for 3.0 damage\n",
      "VariantBro attacks for 1.6 damage\n",
      "VariantBro attacks for 2 damage\n",
      "HammerBro attacks for 1 damage\n"
     ]
    }
   ],
   "source": [
    "#Example 4.2.1 Method Overriding\n",
    "\n",
    "class VariantBro(HammerBro):    #Defining the subclass VariantBro of HammerBro\n",
    "    \n",
    "    base_damage=2               #We are overriding the base_damage in HammerBro\n",
    "    \n",
    "    def __init__(self,weapon,hp=5,damage_mod=1): #We override the __init__ \n",
    "        self._hp=hp\n",
    "        self._damage_mod=damage_mod\n",
    "        self._weapon=weapon\n",
    "\n",
    "    @property                   #VariantBro can have more methods than HammerBro\n",
    "    def weapon(self):\n",
    "        return self._weapon\n",
    "\n",
    "    def __str__(self):          #Override __str__ from HammerBro\n",
    "        return '{} has {} HP and wields {}.'.format(self.__class__.__name__,self._hp,self._weapon)\n",
    "        \n",
    "ice=VariantBro(damage_mod=1.1,weapon='ice')             #Creating an VariantBro Object to represent Ice Bro      \n",
    "fire=VariantBro(hp=7,damage_mod=1.5,weapon='fire')      #Creating an VariantBro Object to represent Fire Bro\n",
    "bone=VariantBro(hp=10,weapon='bone',damage_mod=0.8)     #Creating an VariantBro Object to represent Dry Bones Bro\n",
    "boom=VariantBro(weapon='boomerang')                     #Creating an VariantBro Object to represent Boomerang Bro\n",
    "print(ice)\n",
    "print(fire)\n",
    "print(bone)\n",
    "print(boom)\n",
    "ice.attack()    \n",
    "fire.attack()\n",
    "bone.attack()\n",
    "boom.attack()\n",
    "\n",
    "x=HammerBro()\n",
    "x.attack()"
   ]
  },
  {
   "cell_type": "markdown",
   "metadata": {},
   "source": [
    "Note that after implementation, the call initializer `VariantBro` expects 3 positional argument `weapon`, `hp`, `damage_mod`,  instead of just the first two. "
   ]
  },
  {
   "cell_type": "markdown",
   "metadata": {},
   "source": [
    "### 9.4.2.1 The `super()` method\n",
    "\n",
    "As mentioned in in the previous subsection, the `VariantBro.__init__` method overrides the `HammerBro.__init__` method.\n",
    "\n",
    "However, in `VariantBro.__init__` method, the first two lines are actually just a repeat of the `HammerBro.__init__` method. \n",
    "\n",
    "This example illustrates that sometimes accessing the parent version of overriden attribute(s) could be useful.\n",
    "\n",
    "The `super()` returns object of parent class when called inside a subclass."
   ]
  },
  {
   "cell_type": "code",
   "execution_count": 155,
   "metadata": {},
   "outputs": [
    {
     "name": "stdout",
     "output_type": "stream",
     "text": [
      "VariantBro has 5 HP and wields ice.\n",
      "VariantBro attacks for 2.2 damage.\n"
     ]
    }
   ],
   "source": [
    "#Example 4.2.2 The super() method\n",
    "class VariantBro(HammerBro):    \n",
    "    \n",
    "    base_damage=2               \n",
    "    \n",
    "    def __init__(self,weapon,hp=5,damage_mod=1): #We override the __init__ \n",
    "        super().__init__(hp,damage_mod)          #We use super() to access the __init__ in HammerBro\n",
    "        self._weapon=weapon\n",
    "\n",
    "    @property                   \n",
    "    def weapon(self):\n",
    "        return self._weapon\n",
    "\n",
    "    def __str__(self):          \n",
    "        return '{} has {} HP and wields {}.'.format(self.__class__.__name__,self._hp,self._weapon)\n",
    "        \n",
    "ice=VariantBro(damage_mod=1.1,weapon='ice') \n",
    "print(ice)\n",
    "ice.attack()    "
   ]
  },
  {
   "cell_type": "markdown",
   "metadata": {},
   "source": [
    "### 9.4.3 Polymorphism\n",
    "\n",
    "The ability of a method to exhibit different behaviours depending on the object on which the method is invoked is termed **polymorphism**. In Example 9.44.2.1 above, the methods `__init__` and `__str__` from the `VariantBro` subclass has overriden the methods with similar name in the parent class `HammerBro`.\n",
    "\n",
    "Another example of polymorphism that you might have encounter before is given in the code block below."
   ]
  },
  {
   "cell_type": "code",
   "execution_count": 71,
   "metadata": {},
   "outputs": [
    {
     "name": "stdout",
     "output_type": "stream",
     "text": [
      "3\n",
      "PythonProgramming\n"
     ]
    }
   ],
   "source": [
    "#Example 4.3.1 Polymorphism\n",
    "num1 = 1\n",
    "num2 = 2\n",
    "# print(num1+num2)\n",
    "print(num1.__add__(num2))\n",
    "\n",
    "num1 = \"Python\"\n",
    "num2 = \"Programming\"\n",
    "# print(num1+\" \"+num2)\n",
    "print(num1.__add__(num2))"
   ]
  },
  {
   "cell_type": "markdown",
   "metadata": {},
   "source": [
    "Here, we can see that a single operator `+` has been used to carry out different operations for distinct data types. This is one of the most simple occurrences of polymorphism in Python."
   ]
  },
  {
   "cell_type": "markdown",
   "metadata": {},
   "source": [
    "### Assignment 3"
   ]
  },
  {
   "cell_type": "markdown",
   "metadata": {},
   "source": [
    "Create a class `Employee` which has a variable, `_name`. \n",
    "* Implement its initializer method which initialize `_name`.\n",
    "\n",
    "Create another class `SalaryEmployee` whose payroll is by monthly salary. It has instance variables `_name`, `_salary`.\n",
    "* Extend `SalaryEmployee` from `Employee`. \n",
    "* Implement its initializer method to initialize both `_name` and `_salary`.\n",
    "* Implement an instance method `get_payroll()` which returns its `_salary` value.\n",
    "\n",
    "Create another class `CommissionEmployee` whose payroll is by salary+commission. It has instance variables `_name`, `_salary` and `_commission`.\n",
    "* Extend `CommissionEmployee` from `SalaryEmployee`.\n",
    "* Implement its initializer method to initialize `_name`, `_salary` and `_commission`.\n",
    "    * Make use of `__init__()` method in parent class.\n",
    "* Implement an instance method `complete_project()` which will increase `_commission` by 100.\n",
    "* Implement an instance method `get_payroll()` which returns `_salary + _commission`.\n",
    "    * Make use of `get_payroll()` method in parent class.\n",
    "\n",
    "\n",
    "**Sample Output:**\n",
    "```\n",
    "Payroll: 1200\n",
    "```"
   ]
  },
  {
   "cell_type": "code",
   "execution_count": null,
   "metadata": {},
   "outputs": [],
   "source": [
    "# YOUR CODE HERE\n",
    "\n",
    "# TEST\n",
    "ce = CommissionEmployee('Alan', 1000, 100)\n",
    "ce.complete_project()\n",
    "\n",
    "print('Payroll:', ce.get_payroll())"
   ]
  },
  {
   "cell_type": "code",
   "execution_count": 4,
   "metadata": {},
   "outputs": [
    {
     "data": {
      "text/plain": [
       "2"
      ]
     },
     "execution_count": 4,
     "metadata": {},
     "output_type": "execute_result"
    }
   ],
   "source": [
    "class Point:\n",
    "    def __init__(self,x,y):\n",
    "        self.x=x\n",
    "        self.y=y\n",
    "\n",
    "a=Point(1,5)\n",
    "a.x=2\n",
    "a.x"
   ]
  },
  {
   "cell_type": "code",
   "execution_count": null,
   "metadata": {},
   "outputs": [],
   "source": []
  }
 ],
 "metadata": {
  "kernelspec": {
   "display_name": "Python 3",
   "language": "python",
   "name": "python3"
  },
  "language_info": {
   "codemirror_mode": {
    "name": "ipython",
    "version": 3
   },
   "file_extension": ".py",
   "mimetype": "text/x-python",
   "name": "python",
   "nbconvert_exporter": "python",
   "pygments_lexer": "ipython3",
   "version": "3.11.3"
  },
  "orig_nbformat": 2
 },
 "nbformat": 4,
 "nbformat_minor": 2
}
