{
 "cells": [
  {
   "cell_type": "markdown",
   "metadata": {},
   "source": [
    "# Learning Objectives\n",
    "\n",
    "- [] Placeholder 1"
   ]
  },
  {
   "source": [
    "# 3.5 Mutability \n",
    "\n",
    "## 3.5.1 Variable Assignment in Python\n",
    "\n",
    "In Python, a variable is a symbolic name that is a reference or pointer to an object, it is not the object itself. For example, consider the following code.\n",
    "\n",
    ">```\n",
    ">x=10\n",
    ">```\n",
    "\n",
    "First the integer object `10` is created in the memory and then, the variable `x` is assigned to point to that object. \n",
    "\n",
    "### 3.5.1.1 `id` function\n",
    "\n",
    "The built-in Python function `id` returns an object’s integer identifier, i.e. the object's location in the memory. Syntax is\n",
    "\n",
    ">```\n",
    ">id(your_object)\n",
    ">```\n",
    "\n",
    "#### Example 1\n",
    "\n",
    "Assign the values `0` and `1` to the variables `x` and `y` respectively. Afterwards, using the `id` built-in function, print out their integer identifiers."
   ],
   "cell_type": "markdown",
   "metadata": {}
  },
  {
   "cell_type": "code",
   "execution_count": null,
   "metadata": {},
   "outputs": [],
   "source": [
    "x=0\n",
    "y=1\n",
    "print(id(x))\n",
    "print(id(y))"
   ]
  },
  {
   "source": [
    "## 3.5.2 Mutable Objects\n",
    "\n",
    "A **mutable** object means that an object of this type can be modified in the memory after it is created. On the other hand, **immutable** object can't.\n",
    "\n",
    "#### Example 2\n",
    "\n",
    "Consider the following codes:"
   ],
   "cell_type": "markdown",
   "metadata": {}
  },
  {
   "cell_type": "code",
   "execution_count": null,
   "metadata": {},
   "outputs": [],
   "source": [
    "a = [\"apples\", \"bananas\", \"oranges\"]\n",
    "print(id(a))\n",
    "a[0]='berries'\n",
    "print(a)\n",
    "print(id(a))"
   ]
  },
  {
   "cell_type": "code",
   "execution_count": null,
   "metadata": {},
   "outputs": [],
   "source": [
    "a = (\"apples\", \"bananas\", \"oranges\")\n",
    "print(id(a))\n",
    "a = (\"berries\", \"bananas\", \"oranges\")\n",
    "print(a)\n",
    "print(id(a))"
   ]
  },
  {
   "source": [
    "## 3.5.3 Deep and Shallow Copy"
   ],
   "cell_type": "markdown",
   "metadata": {}
  }
 ],
 "metadata": {
  "kernelspec": {
   "name": "python3",
   "display_name": "Python 3.9.1 64-bit",
   "metadata": {
    "interpreter": {
     "hash": "dcacb0086e9a4f4eabd41c33bf4faac5ea0a3337ed3f5eff0680afa930572c04"
    }
   }
  },
  "language_info": {
   "codemirror_mode": {
    "name": "ipython",
    "version": 3
   },
   "file_extension": ".py",
   "mimetype": "text/x-python",
   "name": "python",
   "nbconvert_exporter": "python",
   "pygments_lexer": "ipython3",
   "version": "3.9.1-final"
  },
  "orig_nbformat": 2
 },
 "nbformat": 4,
 "nbformat_minor": 2
}