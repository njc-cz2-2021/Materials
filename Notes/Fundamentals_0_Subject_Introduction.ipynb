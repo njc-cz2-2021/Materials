{
 "nbformat": 4,
 "nbformat_minor": 2,
 "metadata": {
  "language_info": {
   "name": "python",
   "codemirror_mode": {
    "name": "ipython",
    "version": 3
   },
   "version": "3.8.3-final"
  },
  "orig_nbformat": 2,
  "file_extension": ".py",
  "mimetype": "text/x-python",
  "name": "python",
  "npconvert_exporter": "python",
  "pygments_lexer": "ipython3",
  "version": 3,
  "kernelspec": {
   "name": "python3",
   "display_name": "Python 3.8.3 64-bit (conda)",
   "metadata": {
    "interpreter": {
     "hash": "1d8a5bbb0756dea561c5110081a5788c97ee82690e858540714922886ca24d79"
    }
   }
  }
 },
 "cells": [
  {
   "source": [
    "# 0 Subject Introduction\n",
    "\n",
    "## 0.1 Problem Solving\n",
    "\n",
    "With both typical and computational problem solving, the following steps are performed:\n",
    "\n",
    "1. Identify the problem\n",
    "2. Structure the problem - i.e., analyse and understand the problem\n",
    "3. Look for possible solutions\n",
    "4. Make a decision\n",
    "5. Implement the solution\n",
    "6. Monitor and/or seek feedback\n",
    "\n",
    "Do note that each step should be revisited as greater insights into the problem are gleaned.\n",
    "\n",
    "Computational thinking primarily encompasses several primary concepts, which suggests how we should address problem solving from a computational perspective:\n",
    "\n",
    "<center><img src=\"https://www.wcpss.net/cms/lib/NC01911451/Centricity/Domain/17003/Computational%20Thinking.PNG\" alt='https://www.wcpss.net/cms/lib/NC01911451/Centricity/Domain/17003/Computational%20Thinking.PNG' style='width:40%; height:auto'></center>\n",
    "\n"
   ],
   "cell_type": "markdown",
   "metadata": {}
  },
  {
   "source": [
    "## 0.2 Programs and Programming Languages\n",
    "\n",
    ">A **program** is the actual expression of an algorithm in a specific programming language. It allows the computer to execute the problem solution through a sequence of instructions.\n",
    "\n",
    "Essentially, an algorithm is generally produced in the design phase of a problem solution, while a program that expresses the algorithm is produced in the programming stage. A program is also made up of lines of code that can be categorized into either an **expression** or a **statement**. \n",
    "\n",
    ">An **expression** is a syntactic entity in a programming language that may be evaluated to determine its value.\n",
    "\n",
    ">A **statement**, on the other hand, is a syntactic entity, which has no value (merely an instruction.)\n",
    "\n",
    "Example:\n",
    ">```python\n",
    ">answers = 1+1:                # '1+1' is an expression\n",
    ">if answers == 2:\n",
    ">\tprint('Good Outlook')       # print('Good Outlook') is a statement.\n",
    ">```\n",
    "\n",
    "There are typically 3 basic statements:\n",
    "\n",
    "1. Input statements\n",
    "2. Output statements\n",
    "3. Assignment statements\n",
    "\n",
    "In general, input and output (I/O) allows the communication between an information processing system (such as a computer) and an external entity (such as a human).\n",
    "\n",
    "Input is information supplied to a computer or program.\n",
    "\n",
    "Output is information provided by a computer or program.\n",
    "\n",
    "Assignment statements will be elaborated further in the later section.\n",
    "\n",
    ">```python\n",
    ">x = input(\"Enter a positive integer value for x: \") #example of input statement. Note that the user input is assigned to the variable x\n",
    ">print(x) #print statement to display the output\n",
    ">```\n",
    "\n",
    "The most basic statement, and typically the first code you write when learning a programming language, is the output statement, which outputs certain data - e.g., printing `“hello world”`. There is typically also an input statement that will request input from the user.\n",
    "\n",
    "### 0.2.1 `print()` function\n",
    "\n",
    "The `print(YOUR_SPECIFIED_MESSAGE)` function prints `YOUR_SPECIFIED_MESSAGE` to the screen, or other standard output device.\n",
    "\n",
    "> It's demo time.\n",
    "\n",
    "### 0.2.2 `input()` function\n",
    "\n",
    "The `input(YOUR_MESSAGE_HERE)` function allows user input, where `YOUR_MESSAGE_HERE` is a `str` object. Variable assigned is also of `str` type. \n",
    "\n",
    "> It's demo time. Talk about type casting.\n",
    "\n",
    "### 0.2.3 Formatting output with `.format()` method or `f-string`\n",
    "\n",
    "> It's demo time. "
   ],
   "cell_type": "markdown",
   "metadata": {}
  },
  {
   "cell_type": "code",
   "execution_count": null,
   "metadata": {},
   "outputs": [],
   "source": [
    "a = int(input(\"Enter a value for a:\"))\n",
    "print( f\"My marks are {a+b} and {b**2}\")"
   ]
  },
  {
   "source": [
    "## Exercise 0.1\n",
    "What is the output of the following:\n",
    "\n",
    "1. `print(5 == 5.0)`\n",
    "2. `print(float(1/2))`\n",
    "3. `print(float(1)/2)`\n",
    "4. `print(5 == \"5\")`\n",
    "5. `print(\"sdf\" != \"sdf\")`\n",
    "6. `print(True and (False or not True))`\n",
    "7. `print(str(53) + str(True))`\n",
    "8. code \n",
    "    >```python\n",
    "    >a = 20 \n",
    "    >print(str(15 - (a - 15)) + \", \", end = \" \")\n",
    "    >a = 10 \n",
    "    >print(15 - (a - 15))\n",
    "    >```"
   ],
   "cell_type": "markdown",
   "metadata": {}
  },
  {
   "source": [
    "## Exercise 0.2\n",
    "The goal of this programming exercise is simply to get you more comfortable with using IDLE, and to begin using simple elements of Python. Standard elements of a program include the ability to print out results (using the `print()` function), the ability to read input from a user at the console (e.g., using the `input()` function), and the ability to store values in a variable, so that the program can access that value as needed.\n",
    "\n",
    "The problem:\n",
    "\n",
    "- Ask the user to enter his/her last name.\n",
    "- Ask the user to enter his/her first name.\n",
    "- Print out the users last and first names in that order.\n",
    "\n",
    "Example interaction between the program and the user. (note: words on the 2nd and 4th line are from the computer, based on the program, while the words on 3rd and 5th line ('Daren', 'Ler' respectively) are a user's input):\n",
    ">```python\n",
    ">>>>\n",
    ">Enter your last name:\n",
    ">Daren\n",
    ">Enter your first name:\n",
    ">Ler\n",
    ">Ler #output\n",
    ">Daren #output\n",
    ">>>>"
   ],
   "cell_type": "markdown",
   "metadata": {}
  },
  {
   "source": [
    "## Additional Practice Questions\n",
    "**[Introduction to Electrical Engineering and Computer Science I: Types, Values, Expressions; Variables and Binding](https://ocw.mit.edu/courses/electrical-engineering-and-computer-science/6-01sc-introduction-to-electrical-engineering-and-computer-science-i-spring-2011/python-tutorial/part-i/)**<br>\n",
    "**[Introduction to Electrical Engineering and Computer Science I: Using if, else, and while](https://ocw.mit.edu/courses/electrical-engineering-and-computer-science/6-01sc-introduction-to-electrical-engineering-and-computer-science-i-spring-2011/python-tutorial/part-3/)**"
   ],
   "cell_type": "markdown",
   "metadata": {}
  }
 ]
}