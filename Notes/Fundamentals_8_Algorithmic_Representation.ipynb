{
 "cells": [
  {
   "cell_type": "markdown",
   "metadata": {},
   "source": [
    "# Learning Objectives\n",
    "\n",
    "- [ ] 1.1.1 Use appropriate techniques or tools such as pseudo-code and flowchart to show program flow. \n",
    "- [ ] 1.1.2 Use standard flowchart symbols. \n",
    "- [ ] 1.1.3 Use a combination of various control structures. \n",
    "- [ ] 1.1.4 Use decision tables to explore the actions for combinations of different input conditions. Note: up to three conditions \n",
    "- [ ] 1.1.5 Use modular design to decompose a problem into smaller problems. \n",
    "\n",
    "\n",
    "# References\n",
    "\n",
    "- Cambridge International AS & A Level Computer Science Pseudocode Guide for Teachers https://www.alevelcsonline.cf/resources/9608_PSEUDOCODE_GUIDE.pdf"
   ]
  },
  {
   "source": [
    "# 8 Algorithmic Representation\n",
    "\n",
    "Recall that an algorithm is a set of instructions that enables the user to solve a problem, or even inform the user that the problem has no solution.\n",
    "\n",
    "## 8.0 Modular Design\n",
    "\n",
    "When a piece of software needs to be produced, the problem to be solved is likely to be complex. For example, it is unlikely to be as straightforward as a\n",
    "mathematical formula, such as the calculation of the perimeter of a rectangle. An algorithm like that is easy for a human being to think about. However, most\n",
    "useful problems involve such complex algorithms that it is not possible to consider them as a whole. For this reason, problems are normally divided up into\n",
    "a number of smaller problems. Each of the smaller problems is solved separately. The individual solutions are combined to give a solution to the whole problem.\n",
    "\n",
    "This methodology for the design of solution to a problem by successively breaking stages of the problem into more detailed steps such that the sub-tasks may be\n",
    "implemented as program modules is called a **modular approach** or **top-down design**.\n",
    "\n",
    "Some advantages of modular approach include:\n",
    "- More than one person can be engaged on solving parts of the same problem simultaneously.\n",
    "- The person producing a module is likely to make fewer mistakes.\n",
    "- Modules can be used in more than one project and are stored in software or program libraries.\n",
    "\n",
    "We have actually encountered this idea multiple times so far. Here's a few example below."
   ],
   "cell_type": "markdown",
   "metadata": {}
  },
  {
   "source": [
    "### Example 8.1 (Exercise 8.7)\n",
    "\n",
    "Each line in the file at: http://itu.dk/people/pagh/sad12/primes1000000.txt represents a prime number below 1,000,000.\n",
    " \n",
    "Write a function that uses the above file to test if a given positive integer below 1,000,000 is a prime number. If the given numbers exceeds 1,000,000, then utilise a separate function to calculate if it is a prime. "
   ],
   "cell_type": "markdown",
   "metadata": {}
  },
  {
   "source": [
    "## Example 8.2 (Exercise 5.2) \n",
    "\n",
    "Given that $\\mathbf{a}=2\\mathbf{i}+\\mathbf{j}+\\mathbf{k}$ and $\\mathbf{b}=-4\\mathbf{i}+3\\mathbf{j}$, find the following:\n",
    "\n",
    "1. $\\mathbf{a-2b}$, \n",
    "2. $\\left|\\mathbf{a}\\right|$,\n",
    "3. $\\hat{\\mathbf{b}}$.\n",
    "4. $\\left|3\\mathbf{a}\\right|+\\left|2\\mathbf{b}\\right|$,\n",
    "5. $\\left|3\\mathbf{a}+2\\mathbf{b}\\right|$."
   ],
   "cell_type": "markdown",
   "metadata": {}
  },
  {
   "source": [
    "## 8.1 Flowchart\n",
    "\n",
    "A flowchart is a type of diagram that represents a workflow or process. A flowchart can also be defined as a diagrammatic representation of an algorithm, a step-by-step approach to solving a task.\n",
    "\n",
    "The flowchart shows the steps as boxes of various kinds, and their order by connecting the boxes with arrows. This diagrammatic representation illustrates a solution model to a given problem. Flowcharts are used in analyzing, designing, documenting or managing a process or program in various fields. Program flowcharts use the symbols shown below.\n",
    "\n",
    "<center>\n",
    "<img src=\"./resources/algorithmic-representation-1.png\"><br>\n",
    "</center>"
   ],
   "cell_type": "markdown",
   "metadata": {}
  },
  {
   "source": [
    "Consider the following Python program:"
   ],
   "cell_type": "markdown",
   "metadata": {}
  },
  {
   "cell_type": "code",
   "execution_count": null,
   "metadata": {},
   "outputs": [],
   "source": [
    "n=int(input())\n",
    "\n",
    "while n<=0:\n",
    "    n=int(input())\n",
    "\n",
    "total=0\n",
    "count=0\n",
    "\n",
    "number=int(input())\n",
    "\n",
    "total=total+number\n",
    "count=count+1\n",
    "\n",
    "while count<n:\n",
    "    number=int(input())\n",
    "\n",
    "    total=total+number\n",
    "    count=count+1    \n",
    "\n",
    "print(total/count)"
   ]
  },
  {
   "source": [
    "One of the flowchart representation of it is given below:\n",
    "\n",
    "<center>\n",
    "<img src=\"./resources/algorithmic-representation-2.png\"><br>\n",
    "</center>"
   ],
   "cell_type": "markdown",
   "metadata": {}
  },
  {
   "source": [
    "### Exercise 8.3\n",
    "\n",
    "Draw a program flowchart to solve the following problem:\n",
    "The program inputs the value of an integer, $n$, and outputs the values of $n$ and $n!$ (“factorial $n$”) where:\n",
    "$n! = 1 \\times 2 \\times 3 \\times 4 \\times . . . \\times n$.\n",
    "For example, $5! = 1 \\times 2 \\times 3 \\times 4 \\times 5 = 120$."
   ],
   "cell_type": "markdown",
   "metadata": {}
  },
  {
   "source": [
    "## 8.2 Pseudocode\n",
    "\n",
    "In computer science, pseudocode is a plain language description of the steps in an algorithm or another system. Pseudocode often uses structural conventions of a normal programming language, but is intended for human reading rather than machine reading. Pseudocode is a halfway house between written English and the program code for the problem. The thinking is that, once the pseudocode is written, a programmer using any high-level language should be able to write the program code from the pseudocode algorithm design.\n",
    "\n",
    "In A-Level, pseudocode is presented in a monospaced (fixed-width) font such as `Courier New`. \n",
    "\n",
    "### 8.2.1 Keywords\n",
    "Keywords are in uppercase, e.g. `IF`, `REPEAT`, `PROCEDURE` are some keywords.\n",
    "\n",
    "Identifiers are in mixed case (sometimes referred to as camelCase or Pascal case) with uppercase letters indicating the beginning of new words, for example `NumberOfPlayers`.\n",
    "\n",
    "Meta-variables – symbols in the pseudocode that should be substituted by other symbols are enclosed in angled brackets `< >`.\n",
    "\n",
    "### 8.2.2 Comment\n",
    "Comments are preceded by two forward slashes `//` . The comment continues until the end of the line. For multi-line comments, each line is preceded by `//`."
   ],
   "cell_type": "markdown",
   "metadata": {}
  },
  {
   "cell_type": "code",
   "execution_count": null,
   "metadata": {},
   "outputs": [],
   "source": [
    "// This is an example\n",
    "// of keywords, and comments in pseudocode\n",
    "WHILE <condition> DO\n",
    "    <statements>\n",
    "ENDWHILE"
   ]
  },
  {
   "source": [
    "### 8.2.3 Type Names\n",
    "- `INTEGER` : A whole number\n",
    "- `REAL` : A number capable of containing a fractional part\n",
    "- `CHAR` : A single character\n",
    "- `STRING` : A sequence of zero or more characters\n",
    "- `BOOLEAN`: The logical values `TRUE` and `FALSE`\n",
    "- `DATE`: A valid calendar date. Normally in `dd/mm/yyyy` format.\n",
    "\n",
    "### 8.2.4 Variable and Constants Declarations\n",
    "It is good practice to declare variables explicitly in pseudocode. Keywords should never be used as variables. Identifiers (the names to represent our data items) should be considered case insensitive, for example, `Countdown` and `CountDown` should not be used as separate variables. Variable declaration are made as follows:\n",
    "\n",
    "> `DECLARE <identifier> : <data type>`\n",
    "\n",
    "It is also a good practice to use constants if this makes the pseudocode more readable.Constants are declared by stating the identifier and the literal value in the following format: \n",
    "\n",
    "> `CONSTANT <identifier> = <value>`"
   ],
   "cell_type": "markdown",
   "metadata": {}
  },
  {
   "cell_type": "code",
   "execution_count": null,
   "metadata": {},
   "outputs": [],
   "source": [
    "//The following are examples of variable and constant declaration\n",
    "\n",
    "DECLARE Counter : INTEGER\n",
    "CONSTANT HourlyRate = 6.50"
   ]
  },
  {
   "source": [
    "Arrays are considered to be fixed-length structures of elements of identical data type, accessible by consecutive index (subscript) numbers. It is good practice to explicitly state what the lower bound of the array (i.e. the index of the first element) is because this defaults to either `0` or `1` in different systems. Generally, a lower bound of `1` will be used.\n",
    "\n",
    "Square brackets are used to indicate the array indices.\n",
    "\n",
    "One-dimensional and two-dimensional arrays are declared as follows (where `l`, `l1`, `l2` are lower bounds and `u`, `u1`, `u2` are upper bounds):\n",
    ">`DECLARE <identifier> : ARRAY[<l>:<u>] OF <data type>`<br>\n",
    ">`DECLARE <identifier> : ARRAY[<l1>:<u1>,<l2>:<u2>] OF <data type>`\n"
   ],
   "cell_type": "markdown",
   "metadata": {}
  },
  {
   "cell_type": "code",
   "execution_count": null,
   "metadata": {},
   "outputs": [],
   "source": [
    "DECLARE StudentNames : ARRAY[1:30] OF STRING\n",
    "DECLARE NoughtsAndCrosses : ARRAY[1:3,1:3] OF CHAR"
   ]
  },
  {
   "source": [
    "### 8.2.5 Assignments\n",
    "\n",
    "The assignment operator is `←` and assignments should be made in the following format:\n",
    "> `<identifier> ← <value>`"
   ],
   "cell_type": "markdown",
   "metadata": {}
  },
  {
   "cell_type": "code",
   "execution_count": null,
   "metadata": {},
   "outputs": [],
   "source": [
    "//Example\n",
    "Counter ← 0\n",
    "Counter ← Counter + 1\n",
    "TotalToPay ← NumberOfHours * HourlyRate\n",
    "StudentNames[1] ← \"Ali\"\n",
    "NoughtsAndCrosses[2,3] ← ꞌXꞌ"
   ]
  },
  {
   "source": [
    "A statement should not, however, refer to a group of array elements individually. For example, the following construction should **NOT** be used.\n",
    "> StudentNames \\[1 TO 30\\] ←  \"\""
   ],
   "cell_type": "markdown",
   "metadata": {}
  },
  {
   "source": [
    "### 8.2.6 Input and Output\n",
    "Values are input using the `INPUT` command as follows:\n",
    "> `INPUT <identifier>`\n",
    "\n",
    "The identifier should be a variable (that may be an individual element of a data structure such as an array, or a custom data type).\n",
    "Values are output using the `OUTPUT` command as follows:\n",
    "\n",
    "> `OUTPUT <value(s)>`\n",
    "\n",
    "Several values, separated by commas, can be output using the same command."
   ],
   "cell_type": "markdown",
   "metadata": {}
  },
  {
   "cell_type": "code",
   "execution_count": null,
   "metadata": {},
   "outputs": [],
   "source": [
    "INPUT Answer\n",
    "OUTPUT Score\n",
    "OUTPUT \"You have \", Lives, \" lives left\""
   ]
  },
  {
   "source": [
    "### 8.2.7 Operators\n",
    "\n",
    "Standard arithmetic operator symbols are used:\n",
    "- `+` Addition\n",
    "- `-` Subtraction\n",
    "- `*` Multiplication\n",
    "- `/` Division\n",
    "Care should be taken with the division operation: the resulting value should be of data type `REAL`, even if the operands are integers.\n",
    "The integer division operators `MOD` for remainder and `DIV` for quotient can be used.\n",
    "\n",
    "The following symbols are used for relational operators (also known as comparison operators):\n",
    "- `>` Greater than\n",
    "- `<` Less than\n",
    "- `>=` Greater than or equal to\n",
    "- `<=` Less than or equal to\n",
    "- `=` Equal to\n",
    "- `<>` Not equal to\n",
    "- `AND`\n",
    "- `OR`\n",
    "- `NOT`\n",
    "\n",
    "The result of these operations is always of data type `BOOLEAN`.In complex expressions it is advisable to use parentheses to make the order of operations explicit"
   ],
   "cell_type": "markdown",
   "metadata": {}
  },
  {
   "source": [
    "### 8.2.8 Random Number Generation\n",
    "\n",
    "The following functions are recommended:\n",
    "- `RANDOMBETWEEN(min,max)` : generates a random integer between the integers `min` and `max`.\n",
    "- `RND()` : generates a random real number between 0 and 1. "
   ],
   "cell_type": "markdown",
   "metadata": {}
  },
  {
   "source": [
    "### 8.2.9 Random Number Generation\n",
    "\n",
    "`IF` statements may or may not have an `ELSE` clause.\n",
    "`IF` statements without and with an else clause are written as follows:"
   ],
   "cell_type": "markdown",
   "metadata": {}
  },
  {
   "cell_type": "code",
   "execution_count": null,
   "metadata": {},
   "outputs": [],
   "source": [
    "//Without else clause\n",
    "IF <condition>\n",
    " THEN\n",
    " <statements>\n",
    "ENDIF\n",
    "\n",
    "//With else clause\n",
    "IF <condition>\n",
    " THEN\n",
    " <statements>\n",
    " ELSE\n",
    " <statements>\n",
    "ENDIF\n"
   ]
  },
  {
   "source": [
    "When `IF` statements are nested, the nesting should continue the indentation of two spaces. In particular, run-on `THEN IF` and `ELSE IF` lines should be avoided"
   ],
   "cell_type": "markdown",
   "metadata": {}
  },
  {
   "source": [
    "### Exercise 8.4\n",
    "\n",
    "Study the following pseudocode.\n",
    "\n",
    "1. Describe what is a possible problem that this code is trying to solve.\n",
    "2. Translate the pseudocode into a Python code."
   ],
   "cell_type": "markdown",
   "metadata": {}
  },
  {
   "cell_type": "code",
   "execution_count": null,
   "metadata": {},
   "outputs": [],
   "source": [
    "INPUT Mark\n",
    "\n",
    "IF Mark < 40\n",
    "    THEN\n",
    "        Grade ← \"FAIL\"\n",
    "ENDIF\n",
    "\n",
    "IF Mark >= 40 AND Mark < 60\n",
    "    THEN\n",
    "        Grade ← \"PASS\"\n",
    "ENDIF\n",
    "\n",
    "IF Mark >= 60 AND Mark < 80\n",
    "    THEN\n",
    "        Grade ← \"CREDIT\"\n",
    "ENDIF\n",
    "\n",
    "IF Mark >= 80\n",
    "    THEN\n",
    "        Grade ← \"DISTINCTION\"\n",
    "ENDIF\n",
    "\n",
    "OUTPUT Grade"
   ]
  },
  {
   "cell_type": "code",
   "execution_count": null,
   "metadata": {},
   "outputs": [],
   "source": [
    "#Your Python code here"
   ]
  },
  {
   "source": [
    "### 8.2.10 Iteration\n",
    "\n",
    "#### 8.2.10.1 For Loops\n",
    "For loops are written as follows:"
   ],
   "cell_type": "markdown",
   "metadata": {}
  },
  {
   "cell_type": "code",
   "execution_count": null,
   "metadata": {},
   "outputs": [],
   "source": [
    "FOR <identifier> ← <value1> TO <value2>\n",
    " <statements>\n",
    "ENDFOR\n",
    "\n",
    "//example\n",
    "FOR Column = 1 TO 10\n",
    "RowTotal ← RowTotal + Amount[Row,Column]\n",
    "ENDFOR Column"
   ]
  },
  {
   "source": [
    "Note that: \n",
    "\n",
    "1. It is good practice to repeat the identifier after ENDFOR, particularly with nested FOR loops.\n",
    "2. the identifier **must** be a variable of data type `INTEGER`, and the values should be expressions that evaluate to integers."
   ],
   "cell_type": "markdown",
   "metadata": {}
  },
  {
   "source": [
    "#### 8.2.10.2 While Loops\n",
    "While loops are written as follows:"
   ],
   "cell_type": "markdown",
   "metadata": {}
  },
  {
   "cell_type": "code",
   "execution_count": null,
   "metadata": {},
   "outputs": [],
   "source": [
    "WHILE <condition> DO\n",
    "    <statements>\n",
    "ENDWHILE\n",
    "\n",
    "//example\n",
    "WHILE Number > 9 DO\n",
    "    Number ← Number – 9\n",
    "ENDWHILE"
   ]
  },
  {
   "source": [
    "### Exercise 8.5\n",
    "\n",
    "Write two pseudocodes to a program that solve the following problem:\n",
    "The program inputs the value of an integer, $n$, and outputs the values of $n$ and $n!$ (“factorial $n$”) where:\n",
    "$n! = 1 \\times 2 \\times 3 \\times 4 \\times . . . \\times n$.\n",
    "For example, $5! = 1 \\times 2 \\times 3 \\times 4 \\times 5 = 120$.\n",
    "\n",
    "One of the pseudo code uses the for loop and the other one the while loop. Implement the code in Python."
   ],
   "cell_type": "markdown",
   "metadata": {}
  },
  {
   "cell_type": "code",
   "execution_count": null,
   "metadata": {},
   "outputs": [],
   "source": [
    "#Your Pseudocode goes here"
   ]
  },
  {
   "cell_type": "code",
   "execution_count": null,
   "metadata": {},
   "outputs": [],
   "source": [
    "#Your Python code goes here"
   ]
  },
  {
   "source": [
    "#### 8.2.11 Procedures and Functions Definitions and Calls\n",
    "\n",
    "Recall that procedure and functions differ in the way that function returns a value."
   ],
   "cell_type": "markdown",
   "metadata": {}
  },
  {
   "cell_type": "code",
   "execution_count": null,
   "metadata": {},
   "outputs": [],
   "source": [
    "//Procedure without parameters\n",
    "PROCEDURE <identifier>\n",
    "    <statements>\n",
    "ENDPROCEDURE\n",
    "\n",
    "//Procedure with parameters\n",
    "PROCEDURE <identifier>(<param1>:<datatype>,<param2>:<datatype>...)\n",
    "    <statements>\n",
    "ENDPROCEDURE\n",
    "\n",
    "//Function with parameters\n",
    "FUNCTION <identifier> RETURNS <data type>\n",
    "    <statements>\n",
    "ENDFUNCTION\n",
    "\n",
    "//Function without parameters\n",
    "FUNCTION <identifier>(<param1>:<datatype>,<param2>:<datatype>...) RETURNS <data type>\n",
    "    <statements>\n",
    "ENDFUNCTION"
   ]
  },
  {
   "source": [
    "To call functions or procedures, we use the following"
   ],
   "cell_type": "markdown",
   "metadata": {}
  },
  {
   "cell_type": "code",
   "execution_count": null,
   "metadata": {},
   "outputs": [],
   "source": [
    "// Procedure or Function without parameters\n",
    "CALL <identifier>\n",
    "\n",
    "//Procedure with parameters\n",
    "CALL <identifier>(Value1,Value2...)"
   ]
  },
  {
   "cell_type": "code",
   "execution_count": null,
   "metadata": {},
   "outputs": [],
   "source": [
    "//Procedure Example\n",
    "PROCEDURE DefaultSquare\n",
    "    CALL Square(100)\n",
    "ENDPROCEDURE\n",
    "\n",
    "PROCEDURE Square(Size : integer)\n",
    "    FOR Side = 1 TO 4\n",
    "        MoveForward Size\n",
    "        Turn 90\n",
    "    ENDFOR\n",
    "ENDPROCEDURE\n",
    "\n",
    "IF Size = Default\n",
    "    THEN\n",
    "        CALL DefaultSquare\n",
    "    ELSE\n",
    "        CALL Square(Size)\n",
    "ENDIF\n",
    "\n",
    "\n",
    "//Function Example\n",
    "FUNCTION Max(Number1:INTEGER, Number2:INTEGER) RETURNS INTEGER\n",
    "IF Number1 > Number2\n",
    "    THEN\n",
    "        RETURN Number1\n",
    "    ELSE\n",
    "        RETURN Number2\n",
    "ENDIF\n",
    "ENDFUNCTION\n",
    "\n",
    "OUTPUT \"Penalty Fine = \", Max(10,Distance*2)"
   ]
  },
  {
   "source": [
    "### Exercise 8.6\n",
    "\n",
    "Write a pseudocode to a function that solve the following problem:\n",
    "The function takes in a single parameter $n$, which is an integer, and outputs the values of $n!$ (“factorial $n$”) where:\n",
    "$n! = 1 \\times 2 \\times 3 \\times 4 \\times . . . \\times n$.\n",
    "For example, $5! = 1 \\times 2 \\times 3 \\times 4 \\times 5 = 120$."
   ],
   "cell_type": "markdown",
   "metadata": {}
  },
  {
   "source": [
    "## 8.3 Trace Table and Dry Run Testing\n",
    "\n",
    "A **trace table** is a technique used to test an algorithm and predict step by step how the computer will run the algorithm. It can be used to understand or predict what an algorithm is doing and to identify potential logic errors (when the program compiles but does not produce the expected output).\n",
    "\n",
    "Using a trace table to test an algorithm is called **dry run testing**.\n",
    "\n",
    "Consider the following examples."
   ],
   "cell_type": "markdown",
   "metadata": {}
  },
  {
   "cell_type": "code",
   "execution_count": null,
   "metadata": {},
   "outputs": [],
   "source": [
    "DECLARE Number : INTEGER\n",
    "DECLARE i : INTEGER\n",
    "\n",
    "Number ←3\n",
    "\n",
    "OUTPUT Number\n",
    "\n",
    "FOR i ← 1 TO 3\n",
    "    Number ← Number + 5\n",
    "    OUTPUT Number\n",
    "ENDFOR\n",
    "\n",
    "OUTPUT \"?\""
   ]
  },
  {
   "source": [
    "The trace table for the pseudocode above is:\n",
    "\n",
    ">```\n",
    ">| Line | Number | i | OUTPUT |\n",
    ">|------|--------|---|--------|\n",
    ">| 1    |        |   |        |\n",
    ">| 2    |        |   |        |\n",
    ">| 3    |        |   |        |\n",
    ">| 4    |        |   |        |\n",
    ">|      |        |   |        |\n",
    ">|      |        |   |        |\n",
    ">|      |        |   |        |\n",
    ">|      |        |   |        |\n",
    ">|      |        |   |        |\n",
    ">|      |        |   |        |\n",
    ">|      |        |   |        |\n",
    ">|      |        |   |        |\n",
    ">```"
   ],
   "cell_type": "markdown",
   "metadata": {}
  },
  {
   "source": [
    "In the event that a recursive function is traced, instead of line number, we keep track on the function call.\n",
    "\n",
    "Consider the following example."
   ],
   "cell_type": "markdown",
   "metadata": {}
  },
  {
   "cell_type": "code",
   "execution_count": null,
   "metadata": {},
   "outputs": [],
   "source": [
    "FUNCTION Mystery(n: INTEGER)\n",
    "    IF n = 0\n",
    "        RETURN 1\n",
    "    ELSE\n",
    "        RETURN 2 * Mystery (n-1)"
   ]
  },
  {
   "source": [
    "When function `Mystery` is called with `n = 5`, i.e the instruction is `OUTPUT Mystery(5)`. The trace table for the function call above looks like:\n",
    "\n",
    ">```\n",
    ">| Function Call | n | OUTPUT |\n",
    ">|---------------|---|--------|\n",
    ">| 1             |   |        |\n",
    ">|               |   |        |\n",
    ">|               |   |        |\n",
    ">|               |   |        |\n",
    ">|               |   |        |\n",
    ">|               |   |        |\n",
    ">|               |   |        |\n",
    ">|               |   |        |\n",
    ">|               |   |        |\n",
    ">|               |   |        |\n",
    ">|               |   |        |\n",
    ">|               |   |        |\n",
    ">```"
   ],
   "cell_type": "markdown",
   "metadata": {}
  },
  {
   "source": [
    "# 8.4 Decision Table\n",
    "\n",
    "Decision tables are a concise visual representation for specifying which actions to perform depending on given conditions. They are algorithms whose output is a set of actions. The table is divided into 2 sections, **Conditions** and **Actions**. \n",
    "\n",
    "<center>\n",
    "<img src=\"./resources/algorithmic-representation-3.png\"><br>\n",
    "</center>"
   ],
   "cell_type": "markdown",
   "metadata": {}
  },
  {
   "source": [
    "### Example\n",
    "\n",
    "Consider a dialogue box which will ask the user to upload photo with certain conditions like:\n",
    "\n",
    "- You can upload only '.jpg' format image\n",
    "- file size less than 32kb\n",
    "- resolution 137*177.\n",
    "\n",
    "If any of the conditions fails the system will throw corresponding error message stating the issue and if all conditions are met photo will be updated successfully. "
   ],
   "cell_type": "markdown",
   "metadata": {}
  },
  {
   "cell_type": "code",
   "execution_count": null,
   "metadata": {},
   "outputs": [],
   "source": [
    "check_format(): #only .jpg format image accepted\n",
    "check_size: #<32kb\n",
    "check_resolution(): #137*177 only\n",
    "\n"
   ]
  }
 ],
 "metadata": {
  "kernelspec": {
   "name": "python392jvsc74a57bd04fce611334bc080f5106af4957378decbb3fa5ba52c9bc2fa39ba9ae396411fc",
   "display_name": "Python 3.9.2 64-bit"
  },
  "language_info": {
   "name": "python",
   "version": "3.9.2"
  },
  "metadata": {
   "interpreter": {
    "hash": "4fce611334bc080f5106af4957378decbb3fa5ba52c9bc2fa39ba9ae396411fc"
   }
  },
  "orig_nbformat": 2
 },
 "nbformat": 4,
 "nbformat_minor": 2
}