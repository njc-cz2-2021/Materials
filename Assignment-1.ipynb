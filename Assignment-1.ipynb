{
 "cells": [
  {
   "cell_type": "markdown",
   "metadata": {},
   "source": [
    "# Assignment 1.1\n",
    "\n",
    "Printing out multiplication tables. \n",
    " \n",
    "Your program should request in integer input, between 1 and 12 (inclusive), from the user, and then output the multiplication table for that output (calculating the 1st to 12th multiple of that input number). \n",
    " \n",
    "The problem: \n",
    "- Request an integer input from the user (between 1 and 12 inclusive).  Let us denote this input as i. \n",
    "- Print out the products of `i*k`, such that `k=1, …, 12`. \n",
    " \n",
    "Example interaction: \n",
    "\n",
    ">Please input an integer between 1 and 12 (inclusive):<br>\n",
    ">7<br>\n",
    ">Multiples of 7:<br>\n",
    ">7<br>\n",
    ">14<br>\n",
    ">21<br>\n",
    ">28<br>\n",
    ">35<br>\n",
    ">42<br>\n",
    ">49<br>\n",
    ">56<br>\n",
    ">63<br>\n",
    ">70<br>\n",
    ">77<br>\n",
    ">84\n",
    "\n",
    "\n"
   ]
  },
  {
   "cell_type": "code",
   "execution_count": 1,
   "metadata": {},
   "outputs": [
    {
     "name": "stdout",
     "output_type": "stream",
     "text": [
      "Please input an integer between 1 and 12(inclusive): 7\n",
      "Multiples of 7\n",
      "7\n",
      "14\n",
      "21\n",
      "28\n",
      "35\n",
      "42\n",
      "49\n",
      "56\n",
      "63\n",
      "70\n",
      "77\n",
      "84\n"
     ]
    }
   ],
   "source": [
    "n = input(\"Please input an integer between 1 and 12(inclusive): \")\n",
    "print(\"Multiples of {}:\".format(n))\n",
    "for i in range(1,13):\n",
    "    print(i*int(n))"
   ]
  },
  {
   "cell_type": "markdown",
   "metadata": {},
   "source": [
    "# Assignment 1.2\n",
    "\n",
    "Your program should simulate the calculation of the change that a vending machine must return. The vending machine only sells drinks that cost $1.20 and $0.80. The machine only accepts 10-cent, 20cent, 50-cent, and 1-dollar coins. It must return the least possible number of coins. \n",
    " \n",
    "The problem: \n",
    "- The vending machine only sells drinks that either cost \\$0.80 or \\$1.20 \n",
    "- The vending machine may only accept 10-cent, 20-cent, 50-cent, and 1-dollar coins \n",
    "- The vending machine has an unlimited supply of the coins it accepts \n",
    "- There is no limit on the amount of money a person can insert before making a purchase (and then receiving change). However, we assume that the person has already inserted all the money that he or she wants to, and has already chosen the drink to purchase. \n",
    "\n",
    "Your program must ask for 5 inputs:\n",
    "-The amount of 10-cent coins that the user has inserted.\n",
    "-The amount of 20-cent coins that the user has inserted.\n",
    "-The amount of 50-cent coins that the user has inserted.\n",
    "-The amount of 1-dollar coins that the user has inserted.\n",
    "-The choice of a \\$0.80 or \\$1.20 drink (note, you should expect that the value of all the coins inserted must be greater than the cost of the drink selected). \n",
    "\n",
    "Calculate and print the number each type of coin to return as change such that the total number of coins returned by the machine is the least possible. \n",
    "\n",
    ">Enter the number of lO-cent coins inserted:<br>\n",
    ">5<br>\n",
    ">Enter the number of 2O-cent coins inserted:<br>\n",
    ">5<br>\n",
    ">Enter the number of 5O-cent coins inserted:<br>\n",
    ">1<br>\n",
    ">Enter the number of l—dollar coins inserted:<br>\n",
    ">3<br>\n",
    ">Please enter either the price of the drink, i.e., 0.3 or 1.2:<br>\n",
    ">1.2<br>\n",
    ">Total inserted: 55.0<br>\n",
    ">The machine returns a total of $3.8, in the form of:<br>\n",
    ">3 x l—dollar coin(s)<br>\n",
    ">1 x 50-cent coin(s)<br>\n",
    ">l x 20-cent coin(s)<br>\n",
    ">1 x lO-cent coin(s)<br>\n"
   ]
  },
  {
   "cell_type": "code",
   "execution_count": 9,
   "metadata": {},
   "outputs": [
    {
     "name": "stdout",
     "output_type": "stream",
     "text": [
      "The machine returns a total of $3.8, in the form of: \n",
      "1-dollar coin(s): 3\n",
      "50-cent coin(s): 1\n",
      "20-cent coin(s): 1\n",
      "10-cent coin(s): 0\n"
     ]
    }
   ],
   "source": [
    "c_10 = int(input(\"Enter the number of 10-cent coins inserted: \"))\n",
    "c_20 = int(input(\"Enter the number of 20-cent coins inserted: \"))\n",
    "c_50 = int(input(\"Enter the number of 50-cent coins inserted: \"))\n",
    "c_1d = int(input(\"Enter the number of 1-dollar coins inserted: \"))\n",
    "drink = float(input(\"Enter the price of the drink ($0.80 or $1.20): $\"))\n",
    "\n",
    "#assume total value > drink cost\n",
    "change = c_10*0.1 + c_20*0.2 + c_50*0.5 + c_1d - drink\n",
    "\n",
    "print(\"The machine returns a total of ${}, in the form of: \".format(change))\n",
    "coins = [0,0,0,0]\n",
    "value = [1,0.5,0.2,0.1]\n",
    "#float issue\n",
    "\n",
    "for i in range(len(coins)):\n",
    "    coins[i] += change//value[i]\n",
    "    change = change%value[i]\n",
    "\n",
    "coins = [int(x) for x in coins]\n",
    "print(\"1-dollar coin(s): {}\".format(coins[0]))\n",
    "print(\"50-cent coin(s): {}\".format(coins[1]))\n",
    "print(\"20-cent coin(s): {}\".format(coins[2]))\n",
    "print(\"10-cent coin(s): {}\".format(coins[3]))"
   ]
  },
  {
   "cell_type": "markdown",
   "metadata": {},
   "source": [
    "# Assignment 3 [The Invention of Chess ](https://www.chess.com/blog/introuble2/the-invention-of-chess-in-legend)\n",
    "\n",
    "Some Indian scholars have alleged that when Jūshīr daughter of Balhīt became queen, a rebel rebelled against her. Being an intelligent young woman, she sent one of her sons -she had four children- but the rebel killed her son.\n",
    "\n",
    "This distressed the people of her kingdom. Fearing to tell her the news, they gathered before one of their wise men -he was named Qaflān- a man of wisdom, cleverness, and good judgment—and they told him what had happened. He said, “Give me three days.” They did so, and he went apart to think. Then he said to one of his pupils, “Bring me a carpenter and wood of two different colors, white and black.” They brought a skilled carpenter and wood of two different colors, white and black. The wise man drew the figure of a chess board and commanded the carpenter, and he made it. Then he said to him, “Bring me a tanned hide.” He commanded him to draw sixty-four squares on it; he did so, and it was set aside. Then (the wise man and his pupil) played against each other until they understood the game and became proficient in it. Then he said to his pupil, “This is a war without loss of lives.” Then the people of the kingdom came to him, and he brought it out to them. When they saw it, they knew that it was a bit of wisdom that no one could arrive at. He began to play against his pupil, and the latter would suffer checkmate or defeat of his king.\n",
    "\n",
    "The queen was given a report about Qaflān, and she summoned him and commanded him to show her his wisdom. He produced his pupil with the chessboard and set it up between the pupil and himself. The two played, and one defeated the other [and said,] “Checkmate!” Taking notice and realizing what he meant, she said to Qaflān, “Has my son been killed?” “You have said it,” he said. She said to her chamberlain, “Let the people in, that they may offer me condolence.”...\n",
    "\n",
    "After this Jushir asked Qaflan about his payment, where he requested for wheat grains to be placed on the each of the squares on the chessboard. The first square will have 1 grain and in every successive every successive squares the amount of grains is double from the amount in the previous square. If Jushir does indeed grant Qaflan his payment, how much wheat will Qaflan receive?"
   ]
  },
  {
   "cell_type": "code",
   "execution_count": 10,
   "metadata": {},
   "outputs": [
    {
     "name": "stdout",
     "output_type": "stream",
     "text": [
      "70368744177663\n"
     ]
    }
   ],
   "source": [
    "total_grains = 0\n",
    "grains = 1\n",
    "for i in range(46):\n",
    "    total_grains += grains\n",
    "    grains *= 2\n",
    "print(total_grains)"
   ]
  }
 ],
 "metadata": {
  "kernelspec": {
   "display_name": "Python 3",
   "language": "python",
   "name": "python3"
  },
  "language_info": {
   "codemirror_mode": {
    "name": "ipython",
    "version": 3
   },
   "file_extension": ".py",
   "mimetype": "text/x-python",
   "name": "python",
   "nbconvert_exporter": "python",
   "pygments_lexer": "ipython3",
   "version": "3.8.2"
  }
 },
 "nbformat": 4,
 "nbformat_minor": 2
}
