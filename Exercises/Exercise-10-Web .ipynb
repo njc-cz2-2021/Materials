{
 "cells": [
  {
   "cell_type": "markdown",
   "metadata": {},
   "source": [
    "# Exercise 10\n",
    "\n",
    "Related Notes:\n",
    "- Web_7_HTML_And_CSS"
   ]
  },
  {
   "cell_type": "markdown",
   "metadata": {},
   "source": [
    "## Exercise 10.0\r\n",
    "\r\n",
    "1. Describe the hierarchical structure of a html document.\r\n",
    "\r\n",
    "2. What do the terms markup and markdown means in the context of web formatting content?\r\n",
    "\r\n",
    "3. What information or instruction do you put in the `<head>` element of a html document and how are they used?\r\n",
    "\r\n",
    "4. How are the following HTML terms related?\r\n",
    "    - element\r\n",
    "    - tag\r\n",
    "    - attribute\r\n"
   ]
  },
  {
   "cell_type": "markdown",
   "metadata": {},
   "source": [
    "## Exercise 10.1\n",
    "\n",
    "Using the developer tools from Chrome, examine the source of a web page from a news website or a post from a social media website. Attempt to edit the web page to create a fake news."
   ]
  },
  {
   "cell_type": "markdown",
   "metadata": {},
   "source": [
    "## Exercise 10.2\n",
    "\n",
    "A. Using an editor of your choice, create a static web page named `index.html`.\n",
    "    -\tCreate the boiler-plate html structure.\n",
    "    -\tInclude the following html elements in the `index.html`. Use any relevant attributes as necessary:\n",
    "\n",
    ">| Type           | Elements                             | Attributes |\n",
    ">|----------------|--------------------------------------|------------|\n",
    ">| Common         |                                      | `id`, `class`  |\n",
    ">| Required       | `<html>`,`<head>`,`<title>`,`<body>`         |            |\n",
    ">| Metadata       | `<link>`                               | `rel`, `href`  |\n",
    ">| Structure      | `<h1>`,`<h2>`,`<h3>`,`<p>`,`<div>`,`<span>`,`<hr>` |            |\n",
    ">| Text and Media | `<b>`,`<i>`                              |            |\n",
    ">|                | `<a>`                                  | `href`       |\n",
    ">|                | `<img>`                                  | `src`, `alt`       |\n",
    "\n",
    "B. To render characters used for markup, eg `<`, `>`, `&`, `“`,  use the following:\n",
    "\n",
    ">| Character | `&`     | `<`    | `>`    | `\"`      |\n",
    ">|-----------|-------|------|------|--------|\n",
    ">| Reference | `&amp;` | `&lt;` | `&gt;` | `&quot;` |\n",
    "\n",
    "Try rendering the following contents in the html page:\n",
    "\"To display a hyper link, use `<a href=\"products.html\">` Products </>\"\n"
   ]
  },
  {
   "cell_type": "markdown",
   "metadata": {},
   "source": [
    "## Exercise 10.3\n",
    "\n",
    "Using the appropriate html elements, create a web page named `products.html` to structure and organise the contents of a products catalogue. The catalogues should contain at least 3 products. Each product will have\n",
    "- name, \n",
    "- description\n",
    "- price \n",
    "- image\n",
    "\n",
    "**NOTE: Your html content should be indented appropriately such that they are easily readable. It need not follow the strict rules in Python.**\n"
   ]
  },
  {
   "cell_type": "markdown",
   "metadata": {},
   "source": [
    "## Exercise 10.4\r\n",
    "\r\n",
    "The information in the CSV file, `./resources/log_ex8.csv`, are to be displayed in a web browser.\r\n",
    "\r\n",
    "For each record the web page the should include the:\r\n",
    "\r\n",
    "- Parse %\r\n",
    "- Name\r\n",
    "- Amount\r\n",
    "- Ilvl %\r\n",
    "- DPS\r\n",
    "\r\n",
    "Save the webpage as `EXERCISE10_4.html`."
   ]
  },
  {
   "cell_type": "markdown",
   "metadata": {},
   "source": [
    "## Exercise 10.5 Box model concept\n",
    "\n",
    "<center>\n",
    "<img src=\"./img/web-1.png\"><br>\n",
    "(Box Model Concept)\n",
    "</center>\n",
    "\n",
    "A. Go to the folder `web_stuff` and study the `html` and `css` code.\n",
    "\n",
    "B. Align the text of the inner `div` element such that the text is evenly distributed between the margins as follows:\n",
    "\n",
    "<center>\n",
    "<img src=\"./img/web-2.png\"><br>\n",
    "</center>\n",
    " \n",
    "C. Adjust the padding properties of the inner div elements by changing its value from `0px` to `50px` and observe the changes immediately. What do you observe?\n",
    "\n",
    "D. Remove the `padding-bottom` property and use only on the `padding` property to set the inner `div` padding to `20px` all round (top, bottom, left and right) \n",
    "E. Change the paddings of the `container` div element with the following settings:\n",
    "    -\ttop and bottom: `1em`\n",
    "    -\tleft and right: `4em`\n",
    "\n",
    "F. Change the width of the `container` div element such that it occupies 20% of the width of the browser and align at the centre.\n",
    "\n",
    "G. Create another div element block inside the `container` div element such that:\n",
    "    - all the styling and content are identical to the inner `div` element except for the background colour which is changed to white.\n",
    "    - separated from the first inner `div` element by `20px`.\n",
    "    Your layout should look like this:\n",
    "\n",
    "<center>\n",
    "<img src=\"./img/web-3.png\"><br>\n",
    "</center>\n",
    "\n"
   ]
  },
  {
   "cell_type": "markdown",
   "metadata": {},
   "source": [
    "## Exercise 10.6\n",
    "\n",
    "The key to an effective presentation on a web site is not to use any fancy graphics or visual effects but to have a good layout to provide **visual clarity** so that information can easily be communicated. These can be done by making use of the box model to set appropriate margins, border and paddings.\n",
    "\n",
    "Using the `products.html` document that you have created in the previous exercise. Add an external `css` file and define the styling and layout for the products contents in the `html` file. The 3 products’ information (text and graphics) should be displayed such that they are aligned to the centre of browser. The image must be displayed in the right proportion(maintain its aspect ratio) to the text and not be distorted. Your layout should be similar (need not be exact) to this:\n",
    "\n",
    "<center>\n",
    "<img src=\"./img/web-4.png\"><br>\n",
    "</center>"
   ]
  },
  {
   "cell_type": "markdown",
   "metadata": {},
   "source": [
    "## Exercise 10.7\n",
    "\n",
    "Spruce up the page you created in Exercise 10.4."
   ]
  },
  {
   "cell_type": "code",
   "execution_count": 1,
   "metadata": {},
   "outputs": [
    {
     "name": "stdout",
     "output_type": "stream",
     "text": [
      "b'Hellow World'\n"
     ]
    }
   ],
   "source": [
    "print(b'Hellow World')"
   ]
  },
  {
   "cell_type": "code",
   "execution_count": null,
   "metadata": {},
   "outputs": [],
   "source": []
  }
 ],
 "metadata": {
  "kernelspec": {
   "display_name": "Python 3.7.6 64-bit ('base': conda)",
   "name": "python37464bitbasecondae802c8b5a0d74528aa1d856311a88e21"
  },
  "language_info": {
   "name": "python",
   "version": ""
  },
  "metadata": {
   "interpreter": {
    "hash": "9855bcb2db2fc1adb021fa4ac9c7dfbb81452ef889b3ef5659154f2722c9fc88"
   }
  },
  "orig_nbformat": 2
 },
 "nbformat": 4,
 "nbformat_minor": 2
}