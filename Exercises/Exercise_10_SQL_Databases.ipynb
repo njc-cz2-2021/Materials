{
 "cells": [
  {
   "attachments": {},
   "cell_type": "markdown",
   "metadata": {},
   "source": [
    "# Exercise 10\n",
    "\n",
    "Related Notes:\n",
    "- Chapter_10_SQL-Databases\n",
    "\n",
    "[![Open In Colab](https://colab.research.google.com/assets/colab-badge.svg)](https://colab.research.google.com/github/njc-cz2-2021/Materials/blob/main/Exercises/Exercise_10_SQL_Databases.ipynb) "
   ]
  },
  {
   "cell_type": "markdown",
   "metadata": {},
   "source": [
    "## Exercise 10.1 2019/A Level/P2/Q2 H2 Computing\n",
    "A bakery bakes bread and cakes to sell in its own shop and to other shops throughout a city. Its drivers visit every shop each day, delivering that day’s order and collecting the order for the next day. \n",
    "\n",
    "Order forms are pre-printed with the name of each shop and every item that the bakery bakes. \n",
    "\n",
    "The manager of each shop writes onto the form the quantity of each item required. \n",
    "\n",
    "When the drivers return to the bakery, the data from the order forms are collated to give the bakers the total of each item to bake. \n",
    "\n",
    "Copies of the order forms are made and used as delivery notes for the next day’s deliveries. The accounts department use the original order forms to prepare a weekly invoice for each shop.\n",
    "\n",
    "The bakery wants the shops to submit their orders online. \n",
    "\n",
    "A program is needed to determine the number of each item needed and produce the weekly invoice for each shop.\n",
    "\n",
    "The new program will use a relational database with three tables: Product, Shop and Order. \n",
    "\n",
    "Each product has a description. price. and a unique product ID number. \n",
    "\n",
    "Each shop has a name. an address, telephone number. manager's name, and a unique shop ID number. \n",
    "\n",
    "Each order has a product ID, a quantity, a shop ID and a date for delivery. \n",
    "\n",
    "<ol type=\"a\">\n",
    "<li> Draw an Entity-Relationship (E-R) diagram showing the three tables and the relationships between them.\n",
    "<div style=\"text-align: right\">[5]</div></li>\n",
    "<br>\n",
    "<li> \n",
    "A table description can be expressed as:\n",
    "\n",
    "$$\\text{TableName}\\left(\\underline{\\text{Attribute1}},\\text{ Attribute2, Attribute3, }\\dots \\right )$$\n",
    "    \n",
    "The primary key is indicated by underlining one or more attributes.\n",
    "    \n",
    "Write table descriptions for the three tables.\n",
    "   \n",
    "<div style=\"text-align: right\">[4]</div>\n",
    "</li>\n",
    "The bakery can change the price of an item at any time. Validation ensures that the new price is within specified limits and is more likely to be correct.\n",
    "<br><br>\n",
    "<li><ol type=\"i\"> \n",
    "    <li> Explain why this could still result in incorrect weekly invoices, assuming that the new price input is correct. <br></li> \n",
    "    <div style=\"text-align: right\">[2]</div>\n",
    "    <li> Describe changes to the database <b>and</b> draw a modified E-R diagram to ensure correct invoices are created. <br></li>\n",
    "</li>     \n",
    "        <div style=\"text-align: right\">[4]</div>"
   ]
  },
  {
   "cell_type": "markdown",
   "metadata": {},
   "source": [
    "#YOUR_ANSWER_HERE\n"
   ]
  },
  {
   "cell_type": "markdown",
   "metadata": {},
   "source": [
    "## Exercise 10.2 2017/A Level/P2/Q6 H2 Computing\n",
    "A computer company has several offices throughout the country, each with several salespersons. A record of the sales made by each salesperson has been set up using a relational database.\n",
    "There is a minimum amount of $150 for each sale.\n",
    "\n",
    "The following tables hold the data.\n",
    "\n",
    "$\\text{CUSTOMER (\\underline{\\text{CustomerID}}, CustomerName, CustomerEmail, CustomerTelephone)}$<br>\n",
    "$\\text{OFFICE (\\underline{\\text{OfficeID}}, Address, Telephone)}$<br>\n",
    "$\\text{SALE (\\underline{\\text{CustomerID*}}, \\underline{\\text{SalesPersonID*}}, SaleDate, Amount)}$<br>\n",
    "$\\text{SALESPERSON (\\underline{\\text{SalesPersonID}}, SalespersonName, OfficeID*)}$\n",
    "\n",
    "Note: underline indicates primary key. An asterisk (*) indicates a foreign key.\n",
    "\n",
    "- (a) Draw an Entity-Relationship (E-R) diagram to represent the data model. \n",
    "    <div style=\"text-align: right\">[3]</div>\n",
    "- (b) The following is a section of the data dictionary for the data model. It has three missing entries labelled **A**, **B** and **C**.\n",
    "    <center>\n",
    "\n",
    "    | Table | Field  | Data type| Validation\n",
    "    |-|-|-|-|\n",
    "    | `CUSTOMER` |`CustomerID` | Integer| Unique\n",
    "    |`SALE`| `CustomerID`|Integer| **A**\n",
    "    |`SALE`| `Saledate`| Date |\n",
    "    |`SALE`| `Amount`| **B**| **C**\n",
    "    \n",
    "    </center>\n",
    "\n",
    "    State a suitable entry for A, B and C. \n",
    "    <div style=\"text-align: right\">[3]</div>\n",
    "- (c) There is an address field in this database.\n",
    "    Explain why storing the address as a single field is not good database design. \n",
    "    <div style=\"text-align: right\">[3]</div>\n",
    "Each month, a report is produced to show the sales for each salesperson. The following is a report for salesperson, B Chin.\n",
    "\n",
    "<center>\n",
    "<img src=\"img/database-bchin.png\" width=\"600\" align=\"center\"/>\n",
    "</center>\n",
    "\n",
    "- (d) (i) To produce the report, the database uses the SaleDate and Amount fields in the SALE table.\n",
    "    Name four other fields that the database uses to produce this report. \n",
    "    <div style=\"text-align: right\">[4]</div>\n",
    "- (d) (ii) State two features of a relational database management system which would be used to calculate and display the total for this salesperson. \n",
    "    <div style=\"text-align: right\">[2]</div>"
   ]
  },
  {
   "cell_type": "code",
   "execution_count": null,
   "metadata": {},
   "outputs": [],
   "source": [
    "#YOUR_ANSWER_HERE"
   ]
  },
  {
   "cell_type": "markdown",
   "metadata": {},
   "source": [
    "## Exercise 10.3\n",
    "Open the file `poly.db` found under the `resources` folder.\n",
    "It contains information from Temasek Polytechnic Full-Time Enrolment Figures Breakdown, Annual dataset accessed on 23 March 2018 from Temasek Polytechnic which is made available under the terms of the Singapore Open Data Licence version 1.0 (http://www.data.gov.sg)\n",
    "The database provides the enrolment in different polytechnic courses in Temasek Polytechnic (TP) by year and gender.\n",
    "\n",
    "Try to give the SQL statement to generate the following.\n",
    "\n",
    "1.\tList the courses in TP that has more than 250 males in 2017.\n",
    "2.\tList the courses in TP that has no more than 50 females in 2016.\n",
    "3.\tList out all fields in the table for courses not in School of Informatics & IT in 2016.\n",
    "4.\tList the largest number of female(s) in a course in 2017.\n",
    "5.\tList the smallest number of male(s) in a course in 2016.\n",
    "6.\tRename the all diplomas called ‘Diploma in Cyber & Digital Security’ to ‘Diploma in Cyber and Digital Security’.\n",
    "7.\tUpdate the table to add 5 students to each gender and each course in School of Design in 2017."
   ]
  },
  {
   "cell_type": "code",
   "execution_count": 1,
   "metadata": {},
   "outputs": [],
   "source": [
    "#YOUR_ANSWER_HERE"
   ]
  },
  {
   "cell_type": "markdown",
   "metadata": {},
   "source": [
    "## Exercise 10.4\n",
    "Repeat Exercise 10.2 using the `sqlite3` module in Python."
   ]
  },
  {
   "cell_type": "code",
   "execution_count": null,
   "metadata": {},
   "outputs": [],
   "source": [
    "#YOUR_ANSWER_HERE"
   ]
  },
  {
   "cell_type": "markdown",
   "metadata": {},
   "source": [
    "## Exercise 10.5  2020/A Level/P2/Q4 H2 Computing (Modified)\n",
    "A school has used a text file to store data collected about people who work at the school and students who attend the school. People who have a teaching role at the school are referred to as 'staff'. The school decides to transfer this information into a database.\n",
    "\n",
    "A web page will then be used to summarise the data. Different information will be visible on the web page, depending on the type of person displayed.\n",
    "\n",
    "### Task 1\n",
    "\n",
    "Create an SQL file called `TASK4_1_<your name>_<center number>_<index number>.sql` to show the SQL code to create database `school.db` with the single table, `People`.\n",
    "\n",
    "The table will have the following fields of the given SQLite types:\n",
    "- `PersonID` - primary key, an auto-incremented integer\n",
    "- `FullName` - the full name of the person, text\n",
    "- `DateOfBirth` - the person's date of birth, text\n",
    "- `ScreenName` - the person's screen name, text\n",
    "- `IsAdult` - a Boolean using 0 for False and 1 for True, integer.\n",
    "\n",
    "Save your SQL code as\n",
    "\n",
    "`TASK4_1_<your name>_<center number>_<index number>.sql`     \n",
    "<div style=\"text-align: right\">[4]</div>"
   ]
  },
  {
   "cell_type": "code",
   "execution_count": null,
   "metadata": {},
   "outputs": [],
   "source": [
    "#YOUR_ANSWER_HERE"
   ]
  },
  {
   "cell_type": "markdown",
   "metadata": {},
   "source": [
    "### Task  2\n",
    "\n",
    "The school wants to use the Python programming language and object-oriented programming to help publish the database content on a web page.\n",
    "\n",
    "The class `Person` will store the following data:\n",
    "- `full_name` - stored as a string\n",
    "- `date_of_birth` - initiliased with a string with the format YYYY-MM–DD\n",
    "\n",
    "The class has two methods defined on it:\n",
    "- `is_adult()` - returns a Boolean value to indicate whether the person is an adult or not. It:\n",
    "    - subtracts the year of the `date_of_birth` from the year of today's date\n",
    "    – returns True if the result is greater than 18, otherwise returns False.\n",
    "\n",
    "- `screen_name()` - returns a string which creates an identifier to be used as a screen name, which should be construted as follows:\n",
    "    – the full name with all spaces and punctuation removed\n",
    "    – followed by the two-digit month of their birth\n",
    "    – then the two-digit day of their birth.\n",
    "\n",
    "For example, John Tan, born on the $1^{\\text{st}}$ of June 2000 (`“2000-06-01”`), would have the screen name `“JohnTan0601”`\n",
    "\n",
    "Save your program code as\n",
    "\n",
    "`TASK4_2_<your name>_<centre number>_<index number>.py`     \n",
    "<div style=\"text-align: right\">[7]</div>"
   ]
  },
  {
   "cell_type": "code",
   "execution_count": null,
   "metadata": {},
   "outputs": [],
   "source": [
    "#YOUR_ANSWER_HERE"
   ]
  },
  {
   "cell_type": "markdown",
   "metadata": {},
   "source": [
    "The `Staff` class inherits from `Person`, such that:\n",
    "- `screen_name()` should be the name followed by `“Staff”`\n",
    "- `is_adult()` always returns True.\n",
    "\n",
    "The `Student` class inherits from `Person`, such that the `is_adult()` method always returns False.\n",
    "\n",
    "Add your program code to\n",
    "\n",
    "`TASK4_2_<your name>_<centre number>_<index number>.py`     \n",
    "<div style=\"text-align: right\">[4]</div>\n",
    "\n",
    "The text file, `people.txt`, contains data items for a number of people. Each data item is separated by a comma, with each person's data on a new line as follows:\n",
    "- full name\n",
    "- date of birth in the form YYYY-MM-DD\n",
    "- a string indicating whether the person is `“Staff”`, `“Student”` or `“Person”`.\n",
    "\n",
    "Write program code to read in the information from the text file, `people.txt`, creating instance of the appropriate class for each person (either `Staff`, `Student` or `Person`).     \n",
    "<div style=\"text-align: right\">[4]</div>\n",
    "\n",
    "Write program code to insert all information from the file into the `school.db` database.\n",
    "\n",
    "Run the program.\n",
    "\n",
    "Add your program code to\n",
    "\n",
    "`TASK4_2_<your name>_<centre number>_<index number>.py`    \n",
    "<div style=\"text-align: right\">[8]</div>"
   ]
  },
  {
   "cell_type": "code",
   "execution_count": null,
   "metadata": {},
   "outputs": [],
   "source": [
    "#YOUR_CODE_HERE"
   ]
  },
  {
   "cell_type": "markdown",
   "metadata": {},
   "source": [
    "## Exercise 10.6  2021/A Level/P2/Q4 H2 Computing\n",
    "\n",
    "A competition has three qualifying rounds. Competitors could score up to 100 points in each round. Each competitor has a unique ID number. The competitor's ID. name. and the scores for\n",
    "each round are held in a database `Task4.db`, provided with this question.\n",
    "\n",
    "There are two tables:\n",
    "- `competitor (<u>id</u>, name)`\n",
    "- `scores (<u>id</u>, <u>round</u>, score)`\n",
    "\n",
    "Not every competitor competed in all three rounds. but they did all compete in round 1.\n",
    "\n",
    "### Task 4.1\n",
    "Write a Python program and the necessary files to create a web application. The web application offers the following menu options:\n",
    "Round 1 Scores\n",
    "Round 2 Scores\n",
    "Round 3 Scores\n",
    "Mean Scores\n",
    "Qualifiers\n",
    "\n",
    "Save your program code as\n",
    "`Task4_l_<your name>_<centre number>_<index_number>.py`\n",
    "\n",
    "With any additional files/subfolders as needed in a folder named\n",
    "`Task4_l_<your name>_<centre number>_<index_number>`\n",
    "\n",
    "Run the web application and save the output of the program as\n",
    "`Task4_l_<your name>_<centre number>_<index_number>.html` \n",
    "<div style=\"text-align: right\">[3]</div>"
   ]
  },
  {
   "cell_type": "code",
   "execution_count": null,
   "metadata": {},
   "outputs": [],
   "source": [
    "##YOUR ANSWER HERE"
   ]
  },
  {
   "cell_type": "markdown",
   "metadata": {},
   "source": [
    "## Task 4.2\n",
    "\n",
    "Write an SQL query that. for a given round number. shows:\n",
    "\n",
    "- competitor names and their scores for that particular round\n",
    "- only those who had a score for that round _\n",
    "- the scores sorted in descending order.\n",
    "\n",
    "The results of the query should be shown on a web page in a table that:\n",
    "\n",
    "- lists the name of each competitor and their score\n",
    "- has the results shown in descending order of the competitor's score.\n",
    "\n",
    "The resulting web page for each round should be accessed from the corresponding menu option from Task 4.1.\n",
    "\n",
    "Save all your SQL code as\n",
    "\n",
    "`Task4_2<your name>_<centre number>_<index_number>.sql`\n",
    "\n",
    "With any additional files/subfolders as needed in a folder named\n",
    "\n",
    "`Task4_2_<your name>_<centre number>_<index_number>`\n",
    "<div style=\"text-align: right\">[6]</div>\n",
    "\n",
    "Run the web application and save the output of the program as\n",
    "\n",
    "`Task4_2_<your name>_<centre number>_<index_number>_1.html`\n",
    "\n",
    "`Task4_2_<your name>_<centre number>_<index_number>_2.html`\n",
    "\n",
    "`Task4_2_<your neme>_<centre number>_<index_number>_3.html` \n",
    "\n",
    "<div style=\"text-align: right\">[2]</div>"
   ]
  },
  {
   "cell_type": "code",
   "execution_count": null,
   "metadata": {},
   "outputs": [],
   "source": [
    "## YOUR ANSWER HERE"
   ]
  },
  {
   "cell_type": "markdown",
   "metadata": {},
   "source": [
    "## Task 4.3\n",
    "\n",
    "Write a SQL query that shows:\n",
    "\n",
    "- competitor name\n",
    "- the mean score for each competitor, based on the number of rounds in which they competed.\n",
    "\n",
    "The query's results should be shown on a web page in a table that:\n",
    "\n",
    "- lists the name of each competitor and their mean score (to 2 decimal places)\n",
    "- has the results shown in ascending alphabetical order of the competitor's name.\n",
    "\n",
    "The resulting web page should be accessed from the corresponding menu option from Task 4.1.\n",
    "\n",
    "Save your SQL code as\n",
    "\n",
    "`Task4_3_<your name >_<centre nu:nbe:>_<index_number>.sql`\n",
    "\n",
    "With any additional files/subfolders as needed in a folder named\n",
    "\n",
    "`Task4_3_<your name>_<cent re number>_<index_numbwer>` \n",
    "<div style=\"text-align: right\">[6]</div>\n",
    "\n",
    "Run the web application and save the output of the program as\n",
    "\n",
    "`Task4_3_<your name>_<centre number>_<index_number>.html>`\n",
    "<div style=\"text-align: right\">[2]</div>"
   ]
  },
  {
   "cell_type": "code",
   "execution_count": null,
   "metadata": {},
   "outputs": [],
   "source": [
    "## YOUR ANSWER HERE"
   ]
  },
  {
   "cell_type": "markdown",
   "metadata": {},
   "source": [
    "## Task 4.4\n",
    "\n",
    "In order to qualify for the final of the competition. competitors need to score over 250. in total, in the first three rounds.\n",
    "\n",
    "Write a SQL query that shows:\n",
    "\n",
    "- competitor's name\n",
    "- their total score\n",
    "- whether that competitor has qualified for the final.\n",
    "\n",
    "The results of the query should be shown on a web page in a table that:\n",
    "\n",
    "- lists the names of the competitors. their scores and whether they qualified\n",
    "- has the results shown in descending order of the competitor's score.\n",
    "\n",
    "The resulting web page should be accessed from the corresponding menu option from Task 4.1.\n",
    "\n",
    "Save your SQL code as\n",
    "\n",
    "`Task4_4_<your name>_<centre number>_<index_number>.sql`\n",
    "\n",
    "With any additional files/subfolders as needed in a folder named\n",
    "\n",
    "`Task4_4_<your name>_<centre number>_< index_number>` \n",
    "<div style=\"text-align: right\">[6]</div>\n",
    "\n",
    "Run the web application and save the output of the program as\n",
    "\n",
    "`Task4_4_<ycur name>_<centre number>_<index_number>.html` \n",
    "<div style=\"text-align: right\">[2]</div>"
   ]
  },
  {
   "cell_type": "code",
   "execution_count": null,
   "metadata": {},
   "outputs": [],
   "source": [
    "##YOUR ANSWER HERE"
   ]
  }
 ],
 "metadata": {
  "kernelspec": {
   "display_name": "Python 3",
   "language": "python",
   "name": "python3"
  },
  "language_info": {
   "codemirror_mode": {
    "name": "ipython",
    "version": 3
   },
   "file_extension": ".py",
   "mimetype": "text/x-python",
   "name": "python",
   "nbconvert_exporter": "python",
   "pygments_lexer": "ipython3",
   "version": "3.10.2"
  },
  "orig_nbformat": 2,
  "vscode": {
   "interpreter": {
    "hash": "a42ccb73e7d9bfdf27e036f1d2b8b681e55fc0743cc5586bc2474d4a60f4b886"
   }
  }
 },
 "nbformat": 4,
 "nbformat_minor": 2
}
