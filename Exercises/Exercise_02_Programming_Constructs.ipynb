{
 "cells": [
  {
   "attachments": {},
   "cell_type": "markdown",
   "metadata": {},
   "source": [
    "# Exercise 2\n",
    "\n",
    "Related Notes:\n",
    "- Chapter_01_Data_Types\n",
    "- Chapter_02_Programming_Constructs\n",
    "\n",
    "[![Open In Colab](https://colab.research.google.com/assets/colab-badge.svg)](https://colab.research.google.com/github/njc-cz2-2021/Materials/blob/main/Exercises/Exercise-02-Programming_Constructs.ipynb)"
   ]
  },
  {
   "cell_type": "markdown",
   "metadata": {},
   "source": [
    "# Exercise 2.1 Unit Converter\n",
    " \n",
    "Write a program that helps the user to convert a given quantity from one unit of (distance, area or volume) measurement to another. \n",
    " \n",
    "The problem: \n",
    "-\tRequest a quantity from the user. \n",
    "-\tHave the user specify if the quantity is a `length`, `area` or `volume`. \n",
    "-\tHave the user select the base unit of measurement from the following list: \n",
    "    - `mm`, \n",
    "    - `cm`, \n",
    "    - `m`, or \n",
    "    - `km`. \n",
    "-\tThen have the user select the desired base unit of measurement that the given quantity should be converted to. \n",
    "-\tPrint out converted quantity (including the new unit of measurement). \n",
    " \n",
    "Example interaction: \n",
    "\n",
    ">``` text\n",
    ">Input a quantity: 10 \n",
    ">Select either length, area or volume: area \n",
    ">Select the base unit of measurement (mm, cm, m, km) : m \n",
    ">Select which base unit of measurement to convert to (mm, cm, m, km) : cm \n",
    ">10 m^2 = 100000 cm^2 \n",
    ">```"
   ]
  },
  {
   "cell_type": "code",
   "execution_count": null,
   "metadata": {},
   "outputs": [],
   "source": [
    "def unitconverter():\n",
    "  try:\n",
    "    quantity = int(input(\"Input a quantity: \"))\n",
    "    selectmeasurement = input(\"Select either length, area or volume: \")\n",
    "    measurements = [\"length\", \"area\", \"volume\"]\n",
    "    if selectmeasurement in measurements:\n",
    "      x = 10**(measurements.index(selectmeasurement) + 1)\n",
    "      units = {\"mm\": -3, \"cm\": -2, \"m\": 0, \"km\": 3}\n",
    "      selectbase = input(\"Select the base unit of measurement (mm, cm, m, km): \")\n",
    "      if selectbase in units:\n",
    "        selectconv = input(\"Select the base unit of measurement to convert to (mm, cm, m, km): \")\n",
    "        if selectconv in units:\n",
    "          multiplier = x**(units[selectbase] - units[selectconv])\n",
    "          convq = quantity*multiplier\n",
    "        else:\n",
    "          return(\"Invalid\")\n",
    "      else:\n",
    "        return(\"Invalid\")\n",
    "    else:\n",
    "      return(\"Invalid\")\n",
    "    return(f\"{quantity} {selectbase}^{measurements.index(selectmeasurement)+1} = {convq} {selectconv}^{measurements.index(selectmeasurement)+1}\")\n",
    "  except:\n",
    "    return(\"Invalid\")\n",
    "\n",
    "unitconverter()"
   ]
  },
  {
   "cell_type": "markdown",
   "metadata": {},
   "source": [
    "# Exercise 2.2\n",
    "\n",
    "In mathematics, an **arithmetic sequence** is a sequence of real numbers \n",
    "$$u_1,u_2,\\cdots, u_n$$\n",
    "such that the difference between two consecutive terms is constant, i.e. $u_{n+1}-u_n=d$ for some constant $d\\in \\mathbb{R}$, called the **common difference** and $n\\geq 1$.\n",
    "\n",
    "For example, the sequence $2,5,8,11,14,\\dots$ is an arithmetic sequence with first term $2$ and common difference $3$.\n",
    "\n",
    "Write a program to generate the first $n$ terms of an arithmetic sequence with a user defined first term $a$ and common difference $d$.\n",
    "\n",
    "The problem: \n",
    "- Request a numeric input from the user to be used as the first term.  Let us denote this input as `first_term`.\n",
    "- Request a numeric input from the user to be used as the common difference.  Let us denote this input as `common_difference`.\n",
    "- Request an integer input from the user for the number of terms.  Let us denote this input as `number_of_terms`.\n",
    "- Print out the sequence up to the $n$th term.\n",
    "\n",
    "Example interaction: \n",
    "\n",
    ">``` text\n",
    ">Please input the first term in the arithmetic sequence:\n",
    ">2\n",
    ">Please input the common difference:\n",
    ">3\n",
    ">Please input the number of terms:\n",
    ">5\n",
    ">The first 5 terms of the arithmetic sequence are:\n",
    ">2\n",
    ">5\n",
    ">8\n",
    ">11\n",
    ">14\n",
    ">```"
   ]
  },
  {
   "cell_type": "code",
   "execution_count": null,
   "metadata": {},
   "outputs": [],
   "source": [
    "def arithseq():\n",
    "    first = int(input(\"Please input first term in arithmetic sequence: \"))\n",
    "    diff = int(input(\"Please input common difference: \"))\n",
    "    no = int(input(\"Please input no. of terms: \"))\n",
    "    num = 1\n",
    "    terms = [first]\n",
    "    while num < no:\n",
    "      nextterm = terms[-1] + diff\n",
    "      terms.append(nextterm)\n",
    "      num += 1\n",
    "    for x in terms:\n",
    "      print(x)\n",
    "\n",
    "arithseq()"
   ]
  },
  {
   "cell_type": "markdown",
   "metadata": {},
   "source": [
    "# Exercise 2.3\n",
    "\n",
    "Given an arithmetic sequence with first term $a$ and common difference $d$.\n",
    "\n",
    "Write a program that:\n",
    "- Request a numeric input from the user to be used as the first term.  Let us denote this input as `first_term`.\n",
    "- Request a numeric input from the user to be used as the common difference.  Let us denote this input as `common_difference`.\n",
    "- Request an integer input from the user for the index for the term in the sequence.  Let us denote this input as `n`.\n",
    "- Print out the $n$th term in the sequence.\n",
    "- Print out the sum of the first $n$ terms in the sequence.\n",
    "\n",
    "Example interaction: \n",
    "\n",
    ">```text\n",
    ">Please input the first term in the arithmetic sequence:\n",
    ">2\n",
    ">Please input the common difference:\n",
    ">3\n",
    ">Please input the index :\n",
    ">5\n",
    ">The 5th term in the sequence is:\n",
    ">14\n",
    ">The sum of the first 5 terms in the sequence is:\n",
    ">40\n",
    ">```"
   ]
  },
  {
   "cell_type": "code",
   "execution_count": null,
   "metadata": {},
   "outputs": [],
   "source": [
    "def arithseq():\n",
    "    first = int(input(\"Please input first term in arithmetic sequence: \"))\n",
    "    diff = int(input(\"Please input common difference: \"))\n",
    "    no = int(input(\"Please input no. of terms: \"))\n",
    "    num = 1\n",
    "    terms = [first]\n",
    "    while num < no:\n",
    "      nextterm = terms[-1] + diff\n",
    "      terms.append(nextterm)\n",
    "      num += 1\n",
    "    print(f\"The No. {no} term in the sequence is: {terms[-1]}\")\n",
    "    print(f\"The sum of the first {no} terms in the sequence is: {sum(terms)}\")\n",
    "\n",
    "arithseq()"
   ]
  },
  {
   "cell_type": "markdown",
   "metadata": {},
   "source": [
    "# Exercise 2.4\n",
    "\n",
    "An arithmetic sequence $u_1, u_2, u_3, \\cdots$ is defined by $u_r=3r-1$ for $r\\in \\mathbb{Z}^{+}$. Find the least value of $n$ such that $u_3+u_6+u_9+\\cdots+u_n$ exceeds $1700$, where $n$ is a multiple of 3. "
   ]
  },
  {
   "cell_type": "code",
   "execution_count": null,
   "metadata": {},
   "outputs": [],
   "source": [
    "terms = [8]\n",
    "while sum(terms) <= 1700:\n",
    "  nextterm = terms[-1] + 9\n",
    "  terms.append(nextterm)\n",
    "n = 3*(terms.index(terms[-1])+1)\n",
    "print(f\"Least value of n = {n}\")\n",
    "print(terms)"
   ]
  },
  {
   "cell_type": "markdown",
   "metadata": {},
   "source": [
    "# Exercise 2.5 2012/GCE A-Level/P2/Q4(i) H2 Mathematics\n",
    "\n",
    "On 1 January 2001 Mrs $A$ put \\$100 into a bank account, and on the first day of each subsequent month she put in \\$10 more than in the previous month. Thus on 1 February she put \\$110 into the account and on 1 March she put \\$120 into the account, and so on. The account pays no interest.\n",
    "\n",
    "On what date did the value of Mrs $A$'s account first become greater than $5000?"
   ]
  },
  {
   "cell_type": "code",
   "execution_count": null,
   "metadata": {},
   "outputs": [],
   "source": [
    "initamt = 100\n",
    "months = 0\n",
    "while initamt <= 5000:\n",
    "  initamt += (100 + 10*(months + 1))\n",
    "  months += 1\n",
    "print(months)"
   ]
  },
  {
   "cell_type": "markdown",
   "metadata": {},
   "source": [
    "## Exercise 2.6 Power\n",
    " \n",
    "Write a program that prints out the first $m$ numbers that can be written as a positive integer taken to the power $n$. \n",
    "\n",
    "Example interaction: \n",
    "\n",
    ">``` text\n",
    ">Input the number of terms, m: 5 \n",
    ">Input the n-th power: 3 \n",
    ">1\n",
    ">8\n",
    ">27\n",
    ">64\n",
    ">125\n",
    ">```"
   ]
  },
  {
   "cell_type": "code",
   "execution_count": null,
   "metadata": {},
   "outputs": [],
   "source": [
    "def power():\n",
    "  m = int(input(\"Input the number of terms, m: \"))\n",
    "  n = int(input(\"Input the nth power: \"))\n",
    "  x = 1\n",
    "  terms = []\n",
    "  while x <= m:\n",
    "    terms.append(x**n)\n",
    "    x += 1\n",
    "  for y in terms:\n",
    "    print(y)\n",
    "\n",
    "power()"
   ]
  },
  {
   "cell_type": "markdown",
   "metadata": {},
   "source": [
    "## Exercise 2.7 Guess The Secret Number\n",
    " \n",
    "Write a program that stores a secret integer in a variable. The user has to guess the secret integer, the program should loop until they get it right.\n",
    "\n",
    "The problem: \n",
    "-   Decide on a secret integer between 1 and 100 inclusive yourself.\n",
    "-\tRequest an integer from the user. \n",
    "-\tif the user inputted a value that is too high, print 'Your number is too high. Try again.' and the program loops\n",
    "-   if the user inputted a value that is too low, print 'Your number is too low. Try again.' and the program loops\n",
    "-   if the user inputted a value that is the same as the secret integer, print 'Congratulations. You guessed correctly.' and the program ends.\n",
    "\n",
    "Example interaction: \n",
    "\n",
    ">``` text\n",
    ">#Secret number is 31\n",
    ">Input a quantity: 37 \n",
    ">Your number is too high. Try again. \n",
    ">Input a quantity: 25 \n",
    ">Your number is too low. Try again.\n",
    ">Input a quantity: 31 \n",
    ">Congratulations. You guessed correctly.\n",
    ">```"
   ]
  },
  {
   "cell_type": "code",
   "execution_count": 1,
   "metadata": {},
   "outputs": [
    {
     "name": "stdout",
     "output_type": "stream",
     "text": [
      "Your number is too low. Try again.\n",
      "Your number is too low. Try again.\n",
      "Your number is too low. Try again.\n",
      "Your number is too low. Try again.\n",
      "Your number is too high. Try again.\n",
      "Your number is too low. Try again.\n",
      "Your number is too low. Try again.\n",
      "Congratulations. You guessed correctly.\n"
     ]
    }
   ],
   "source": [
    "def secretno():\n",
    "  import random\n",
    "  secret = random.randint(1,100)\n",
    "  while True:\n",
    "    try:\n",
    "      guess = int(input(\"Input a quantity: \"))\n",
    "      if guess == secret:\n",
    "        print(\"Congratulations. You guessed correctly.\")\n",
    "        break\n",
    "      elif guess < secret:\n",
    "        print(\"Your number is too low. Try again.\")\n",
    "      elif guess > secret:\n",
    "        print(\"Your number is too high. Try again.\")\n",
    "    except:\n",
    "      print(\"Invalid\")\n",
    "\n",
    "secretno()"
   ]
  },
  {
   "cell_type": "markdown",
   "metadata": {},
   "source": [
    "## Exercise 2.8\n",
    "\n",
    "In mathematics, a **geometric sequence** is a sequence of real numbers \n",
    "$$u_1,u_2,\\cdots, u_n$$\n",
    "such that the ratio between two consecutive terms is constant, i.e. $\\frac{u_{n+1}}{u_n}=r$ for some constant $r\\in \\mathbb{R}\\backslash \\{0,1\\}$, called the **common ratio** and $n\\geq 1$.\n",
    "\n",
    "For example, the sequence $2,6,18,54,162,\\dots$ is an geometric sequence with first term $2$ and common ratio $3$.\n",
    "\n",
    "Write a program to generate the first $n$ terms of an geometric sequence with a user defined first term $a$ and common ratio $r$.\n",
    "\n",
    "The problem: \n",
    "- Request a numeric input from the user to be used as the first term.  Let us denote this input as `first_term`.\n",
    "- Request a numeric input from the user to be used as the common difference.  Let us denote this input as `common_ratio`.\n",
    "- Request an integer input from the user for the number of terms.  Let us denote this input as `number_of_terms`.\n",
    "- Print out the sequence up to the $n$th term.\n",
    "\n",
    "Example interaction: \n",
    "\n",
    ">```text\n",
    ">Please input the first term in the geometric sequence:\n",
    ">2\n",
    ">Please input the common ratio:\n",
    ">3\n",
    ">Please input the number of terms:\n",
    ">5\n",
    ">The first 5 terms of the geometric sequence are:\n",
    ">2\n",
    ">6\n",
    ">18\n",
    ">54\n",
    ">162\n",
    ">```"
   ]
  },
  {
   "cell_type": "code",
   "execution_count": 2,
   "metadata": {},
   "outputs": [
    {
     "name": "stdout",
     "output_type": "stream",
     "text": [
      "2\n",
      "6\n",
      "18\n",
      "54\n",
      "162\n"
     ]
    }
   ],
   "source": [
    "def geoseq():\n",
    "    first = int(input(\"Please input first term in geometric sequence: \"))\n",
    "    diff = int(input(\"Please input common ratio: \"))\n",
    "    no = int(input(\"Please input no. of terms: \"))\n",
    "    num = 1\n",
    "    terms = [first]\n",
    "    while num < no:\n",
    "      nextterm = terms[-1]*diff\n",
    "      terms.append(nextterm)\n",
    "      num += 1\n",
    "    for x in terms:\n",
    "      print(x)\n",
    "\n",
    "geoseq()"
   ]
  },
  {
   "cell_type": "markdown",
   "metadata": {},
   "source": [
    "## Exercise 2.9\n",
    "\n",
    "Given a geometric sequence with first term $a$ and common ratio $r$.\n",
    "\n",
    "Write a program that:\n",
    "- Request a numeric input from the user to be used as the first term.  Let us denote this input as `first_term`.\n",
    "- Request a numeric input from the user to be used as the common difference.  Let us denote this input as `common_ratio`.\n",
    "- Request an integer input from the user for the index for the term in the sequence.  Let us denote this input as `n`.\n",
    "- Print out the $n$th term in the sequence.\n",
    "- Print out the sum of the first $n$ terms in the sequence.\n",
    "\n",
    "Example interaction: \n",
    "\n",
    ">```text\n",
    ">Please input the first term in the geometric sequence:\n",
    ">2\n",
    ">Please input the common ratio:\n",
    ">3\n",
    ">Please input the index :\n",
    ">5\n",
    ">The 5th term in the sequence is:\n",
    ">162\n",
    ">The sum of the first 5 terms in the sequence is:\n",
    ">242\n",
    ">```"
   ]
  },
  {
   "cell_type": "code",
   "execution_count": 8,
   "metadata": {},
   "outputs": [
    {
     "name": "stdout",
     "output_type": "stream",
     "text": [
      "The No. 5 term in the sequence is: 162\n",
      "The sum of the first 5 terms in the sequence is: 242\n"
     ]
    }
   ],
   "source": [
    "def geoseq2(x):\n",
    "    first = int(input(\"Please input first term in geometriic sequence: \"))\n",
    "    diff = x\n",
    "    no = int(input(\"Please input no. of terms: \"))\n",
    "    num = 1\n",
    "    terms = [first]\n",
    "    while num < no:\n",
    "      nextterm = terms[-1]*diff\n",
    "      terms.append(nextterm)\n",
    "      num += 1\n",
    "    print(f\"The No. {no} term in the sequence is: {terms[-1]}\")\n",
    "    print(f\"The sum of the first {no} terms in the sequence is: {sum(terms)}\")\n",
    "\n",
    "geoseq2(int(input(\"Input common ratio: \")))"
   ]
  },
  {
   "cell_type": "markdown",
   "metadata": {},
   "source": [
    "## Exercise 2.10\n",
    "\n",
    "Given a geometric sequence with first term $1$ and common ratio $r$. Find the sum of the first 100 terms of the sequence if:\n",
    "- $r=2$ \n",
    "- $r=\\frac{1}{2}$ \n",
    "- $r=-3$ \n",
    "- $r=-\\frac{5}{6}$ \n",
    "- $r=4.1$\n",
    "- $r=0.7$\n",
    "\n",
    "What can you conclude about the relationship between the common ratio of the geometric sequence with the sum of the first $n$ terms of the geometric sequence as $n$ grows larger and larger? i.e., as $n\\rightarrow \\infty$. You might want to try with more values of $r$."
   ]
  },
  {
   "cell_type": "code",
   "execution_count": 9,
   "metadata": {},
   "outputs": [
    {
     "name": "stdout",
     "output_type": "stream",
     "text": [
      "The No. 100 term in the sequence is: 633825300114114700748351602688\n",
      "The sum of the first 100 terms in the sequence is: 1267650600228229401496703205375\n",
      "None\n",
      "The No. 100 term in the sequence is: 1.5777218104420236e-30\n",
      "The sum of the first 100 terms in the sequence is: 2.0\n",
      "None\n",
      "The No. 100 term in the sequence is: -171792506910670443678820376588540424234035840667\n",
      "The sum of the first 100 terms in the sequence is: -128844380183002832759115282441405318175526880500\n",
      "None\n",
      "The No. 100 term in the sequence is: -1.4489608166896465e-08\n",
      "The sum of the first 100 terms in the sequence is: 0.5454545388683599\n",
      "None\n",
      "The No. 100 term in the sequence is: 4.630222011855163e+60\n",
      "The sum of the first 100 terms in the sequence is: 6.1238420156794096e+60\n",
      "None\n",
      "The No. 100 term in the sequence is: 4.620680728035338e-16\n",
      "The sum of the first 100 terms in the sequence is: 3.3333333333333317\n",
      "None\n"
     ]
    }
   ],
   "source": [
    "print(geoseq2(2))\n",
    "print(geoseq2(0.5))\n",
    "print(geoseq2(-3))\n",
    "print(geoseq2(-5/6))\n",
    "print(geoseq2(4.1))\n",
    "print(geoseq2(0.7))"
   ]
  },
  {
   "cell_type": "markdown",
   "metadata": {},
   "source": [
    "## Exercise 2.11 2019/NJC Tutorial/APGP/QB8 H2 Mathematics (Modified)\n",
    "\n",
    "An athlete is considering two plans for a training program.\n",
    "\n",
    "Plan I: Run 2000 m on day 1, 2400 m on day 2, and on each successive day increase the distance run by 400 m.\n",
    "\n",
    "Plan II: Run 2000 m on day 1, 2200 m on day 2, and on each successive day multiply the distance run by a constant factor $\\frac{11}{10}$.\n",
    "\n",
    "- **(a)** For Plan I, find the least value of $n$ for which the total distance run on days 1 to $n$, inclusive, exceeds 200 000 m.\n",
    "\n",
    "- **(b)** For Plan II, find the least value of N for which the distance run on day $N$ exceeds 16 000.\n",
    "\n",
    "- **(c)** Assume that athlete $A$ decided to go with Plan I and another athlete $B$ decided to with Plan II, when will athlete $B$'s total distance run first exceeds athlete $A$'s total distance run? "
   ]
  },
  {
   "cell_type": "code",
   "execution_count": 19,
   "metadata": {},
   "outputs": [
    {
     "name": "stdout",
     "output_type": "stream",
     "text": [
      "28\n",
      "23\n",
      "21\n"
     ]
    }
   ],
   "source": [
    "# (a)\n",
    "totaldist = 0\n",
    "days = 0\n",
    "while totaldist <= 200000:\n",
    "    totaldist += 2000 + 400*(days)\n",
    "    days += 1\n",
    "print(days)\n",
    "\n",
    "# (b)\n",
    "dist = 0\n",
    "days = 0\n",
    "while dist <= 16000:\n",
    "    dist = 2000*((11/10)**(days))\n",
    "    days += 1\n",
    "print(days)\n",
    "\n",
    "# (c)\n",
    "totaldistA = 0\n",
    "totaldistB = 0\n",
    "days = 0\n",
    "while totaldistB <= totaldistA:\n",
    "    totaldistA += 2000 + 400*(days)\n",
    "    totaldistB += 2000*((11/10)**(days))\n",
    "    days += 1\n",
    "print(days)"
   ]
  }
 ],
 "metadata": {
  "kernelspec": {
   "display_name": "Python 3",
   "language": "python",
   "name": "python3"
  },
  "language_info": {
   "codemirror_mode": {
    "name": "ipython",
    "version": 3
   },
   "file_extension": ".py",
   "mimetype": "text/x-python",
   "name": "python",
   "nbconvert_exporter": "python",
   "pygments_lexer": "ipython3",
   "version": "3.12.1"
  },
  "orig_nbformat": 2,
  "vscode": {
   "interpreter": {
    "hash": "a42ccb73e7d9bfdf27e036f1d2b8b681e55fc0743cc5586bc2474d4a60f4b886"
   }
  }
 },
 "nbformat": 4,
 "nbformat_minor": 2
}
