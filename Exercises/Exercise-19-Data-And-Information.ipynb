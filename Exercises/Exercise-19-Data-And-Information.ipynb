{
 "cells": [
  {
   "cell_type": "markdown",
   "source": [
    "# Exercise 19\r\n",
    "\r\n",
    "Notes:\r\n",
    "- Fundamentals_13-Data_And_Information"
   ],
   "metadata": {}
  },
  {
   "cell_type": "markdown",
   "source": [
    "## Exercise 18.1 2016/A Level/P1/Q4 H2 Computing\r\n",
    "\r\n",
    "Numbers in Computing are often represented in hexadecimal form.\r\n",
    "A program is required to convert a hexadecimal number into a denary number and vice versa.\r\n",
    "\r\n",
    "## Task 1\r\n",
    "Write program code with the following specification:\r\n",
    "- Input a hexadecimal number as a string\r\n",
    "- Validate the input\r\n",
    "- Calculate the denary value of each hexadecimal digit (write this code as a function)\r\n",
    "- Calculate the denary value of the hexadecimal number input\r\n",
    "- Output the denary value.\r\n",
    "\r\n",
    "## Evidence \r\n",
    "Your program code. \r\n",
    "<div style=\"text-align: right\">[10]</div>"
   ],
   "metadata": {}
  },
  {
   "cell_type": "code",
   "execution_count": null,
   "source": [
    "#YOUR_ANSWER_HERE"
   ],
   "outputs": [],
   "metadata": {}
  },
  {
   "cell_type": "markdown",
   "source": [
    "### Task 2\r\n",
    "Draw up a list of three suitable test cases. Complete a table with the following headings:\r\n",
    "\r\n",
    "<center>\r\n",
    "\r\n",
    "| Hexadecimal | Purpose of the test | Expected Output | \r\n",
    "|-|-|-|\r\n",
    "| |||\r\n",
    "| |||\r\n",
    "| |||\r\n",
    "\r\n",
    "</center>\r\n",
    "\r\n",
    "Provide screenshot evidence for your testing.\r\n",
    "\r\n",
    "### Evidence \r\n",
    "The completed table.\r\n",
    "Screenshots for each test data run. \r\n",
    "<div style=\"text-align: right\">[5]</div>\r\n"
   ],
   "metadata": {}
  },
  {
   "cell_type": "code",
   "execution_count": null,
   "source": [
    "#YOUR_ANSWER_HERE"
   ],
   "outputs": [],
   "metadata": {}
  },
  {
   "cell_type": "markdown",
   "source": [
    "### Task 3\r\n",
    "Write additional code to convert a denary number into a hexadecimal number. ,\r\n",
    "\r\n",
    "### Evidence\r\n",
    "Your program code. \r\n",
    "<div style=\"text-align: right\">[10]</div>"
   ],
   "metadata": {}
  },
  {
   "cell_type": "code",
   "execution_count": null,
   "source": [
    "#YOUR_ANSWER_HERE"
   ],
   "outputs": [],
   "metadata": {}
  },
  {
   "cell_type": "markdown",
   "source": [
    "## Exercise 18.2 2019/A Level/P1/Q2 H2 Computing\r\n",
    "\r\n",
    "Characters are numerically encoded using ASCII codes.\r\n",
    "- 'A' has the denary value 65; ‘B' has the denary value 66 and so on.\r\n",
    "- 'a' has the denary value 97; 'b' has the denary value 98 and so on.\r\n",
    "\r\n",
    "The ROT-13 encoding function replaces a letter with the letter that is 13 positions after it in the alphabet. Characters that are not letters remain unchanged. \r\n",
    "\r\n",
    "The function wraps around from the end of the alphabet back to the beginning. The case of the coded letter should match the case of the original letter.\r\n",
    "For example:\r\n",
    "- 'A' is replaced with 'N'; 'a' is replaced with 'n'\r\n",
    "- 'B' is replaced with 'O'; 'b' is replaced with 'o' \r\n",
    "- 'Z' is replaced with 'M'; 'z' is replaced with 'm'\r\n",
    "\r\n",
    "### Task 1\r\n",
    "Write program code that:\r\n",
    "- reads a string of characters as input\r\n",
    "- encodes the string in ROT-13 form\r\n",
    "- outputs the encoded string.\r\n",
    "\r\n",
    "Run the program **three** times with the inputs:\r\n",
    "\r\n",
    ">```\r\n",
    ">This is a word.\r\n",
    ">ALL &&&& CAPITALS\r\n",
    ">UpperCamelCasel2()\r\n",
    ">```\r\n",
    "\r\n",
    "### Evidence \r\n",
    "Your program code.\r\n",
    "Screenshots of your program outputs.\r\n",
    "<div style=\"text-align: right\">[9]</div>"
   ],
   "metadata": {}
  },
  {
   "cell_type": "code",
   "execution_count": null,
   "source": [
    "#YOUR_ANSWER_HERE"
   ],
   "outputs": [],
   "metadata": {}
  },
  {
   "cell_type": "markdown",
   "source": [
    "### Task 2.2\r\n",
    "A string is encoded using ROT-13. The resulting string is then encoded using ROT-13. The output of the second encoding should be identical to the original string.\r\n",
    "\r\n",
    "Amend your program code to apply ROT-13 twice, in the method described. Show that the resulting string is identical to the original string.\r\n",
    "\r\n",
    "### Evidence 4\r\n",
    "Your program code. '\r\n",
    "Screenshot of the output from **one** of the given inputs.\r\n",
    "<div style=\"text-align: right\">[3]</div>"
   ],
   "metadata": {}
  },
  {
   "cell_type": "code",
   "execution_count": null,
   "source": [
    "#YOUR_ANSWER_HERE"
   ],
   "outputs": [],
   "metadata": {}
  }
 ],
 "metadata": {
  "interpreter": {
   "hash": "dcacb0086e9a4f4eabd41c33bf4faac5ea0a3337ed3f5eff0680afa930572c04"
  },
  "kernelspec": {
   "display_name": "Python 3.9.1 64-bit",
   "name": "python3"
  },
  "language_info": {
   "name": "python",
   "version": ""
  },
  "orig_nbformat": 2
 },
 "nbformat": 4,
 "nbformat_minor": 2
}