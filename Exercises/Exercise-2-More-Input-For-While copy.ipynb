{
 "metadata": {
  "language_info": {
   "codemirror_mode": {
    "name": "ipython",
    "version": 3
   },
   "file_extension": ".py",
   "mimetype": "text/x-python",
   "name": "python",
   "nbconvert_exporter": "python",
   "pygments_lexer": "ipython3",
   "version": "3.8.3-final"
  },
  "orig_nbformat": 2,
  "kernelspec": {
   "name": "python3",
   "display_name": "Python 3.8.3 64-bit (conda)",
   "metadata": {
    "interpreter": {
     "hash": "1d8a5bbb0756dea561c5110081a5788c97ee82690e858540714922886ca24d79"
    }
   }
  }
 },
 "nbformat": 4,
 "nbformat_minor": 2,
 "cells": [
  {
   "source": [
    "# Exercise 2\n",
    "\n",
    "Related Notes:\n",
    "- Fundamentals_1_Data_Types\n",
    "- Fundamentals_2_Programming_Constructs"
   ],
   "cell_type": "markdown",
   "metadata": {}
  },
  {
   "source": [
    "## Exercise 2.1 Guess The Secret Number\n",
    " \n",
    "Write a program that prints out the first $m$ numbers that can be written as an integer taken to the power $n$. \n",
    "\n",
    "Example interaction: \n",
    "\n",
    ">Input the number of terms, m: 5 <br>\n",
    ">Input the n-th power: 3 <br>\n",
    ">1<br>\n",
    ">8<br>\n",
    ">27<br>\n",
    ">64<br>\n",
    ">125<br>"
   ],
   "cell_type": "markdown",
   "metadata": {}
  },
  {
   "source": [
    "## Exercise 2.2 Guess The Secret Number\n",
    " \n",
    "Write a program that stores a secret integer in a variable. The user has to guess the secret integer, the program should loop until they get it right.\n",
    "\n",
    "The problem: \n",
    "-   Decide on a secret integer between 1 and 100 inclusive yourself.\n",
    "-\tRequest an integer from the user. \n",
    "-\tif the user inputted a value that is too high, print 'Your number is too high. Try again.' and the program loops\n",
    "-   if the user inputted a value that is too low, print 'Your number is too low. Try again.' and the program loops\n",
    "-   if the user inputted a value that is the same as the secret integer, print 'Congratulations. You guessed correctly.' and the program ends.\n",
    "\n",
    "Example interaction: \n",
    "\n",
    ">#Secret number is 31\n",
    ">Input a quantity: 37 <br>\n",
    ">Your number is too high. Try again. <br>\n",
    ">Input a quantity: 25 <br>\n",
    ">Your number is too low. Try again.\n",
    ">Input a quantity: 31 <br>\n",
    ">Congratulations. You guessed correctly."
   ],
   "cell_type": "markdown",
   "metadata": {}
  },
  {
   "source": [
    "## Exercise 1.3\n",
    "\n",
    "In mathematics, a **geometric sequence** is a sequence of real numbers \n",
    "$$u_1,u_2,\\cdots, u_n$$\n",
    "such that the ratio between two consecutive terms is constant, i.e. $\\frac{u_{n+1}}{u_n}=r$ for some constant $r\\in \\mathbb{R}\\backslash \\{0,1\\}$, called the **common ratio** and $n\\geq 1$.\n",
    "\n",
    "For example, the sequence $2,6,18,54,162,\\dots$ is an arithmetic sequence with first term $2$ and common ratio $3$.\n",
    "\n",
    "Write a program to generate the first $n$ terms of an arithmetic sequence with a user defined first term $a$ and common ratio $r$.\n",
    "\n",
    "The problem: \n",
    "- Request a numeric input from the user to be used as the first term.  Let us denote this input as `first_term`.\n",
    "- Request a numeric input from the user to be used as the common difference.  Let us denote this input as `common_ratio`.\n",
    "- Request an integer input from the user for the number of terms.  Let us denote this input as `number_of_terms`.\n",
    "- Print out the sequence up to the $n$th term.\n",
    "\n",
    "Example interaction: \n",
    "\n",
    ">Please input the first term in the geometric sequence:<br>\n",
    ">2<br>\n",
    ">Please input the common ratio:<br>\n",
    ">3<br>\n",
    ">Please input the number of terms:<br>\n",
    ">5<br>\n",
    ">The first 5 terms of the geometric sequence are:<br>\n",
    ">2<br>\n",
    ">6<br>\n",
    ">18<br>\n",
    ">54<br>\n",
    ">162<br>"
   ],
   "cell_type": "markdown",
   "metadata": {}
  },
  {
   "source": [
    "## Exercise 1.4\n",
    "\n",
    "Given a geometric sequence with first term $a$ and common ratio $r$.\n",
    "\n",
    "Write a program that:\n",
    "- Request a numeric input from the user to be used as the first term.  Let us denote this input as `first_term`.\n",
    "- Request a numeric input from the user to be used as the common difference.  Let us denote this input as `common_ratio`.\n",
    "- Request an integer input from the user for the index for the term in the sequence.  Let us denote this input as `n`.\n",
    "- Print out the $n$th term in the sequence.\n",
    "- Print out the sum of the first $n$ terms in the sequence.\n",
    "\n",
    "Example interaction: \n",
    "\n",
    ">Please input the first term in the geometric sequence:<br>\n",
    ">2<br>\n",
    ">Please input the common ratio:<br>\n",
    ">3<br>\n",
    ">Please input the index :<br>\n",
    ">5<br>\n",
    ">The 5th term in the sequence is:<br>\n",
    ">162<br>\n",
    ">The sum of the first 5 terms in the sequence is:<br>\n",
    ">242<br>"
   ],
   "cell_type": "markdown",
   "metadata": {}
  },
  {
   "source": [
    "## Exercise 1.5\n",
    "\n",
    "Given a geometric sequence with first term $1$ and common ratio $r$. Find the sum of the first 100 terms of the sequence if:\n",
    "- $r=2$ \n",
    "- $r=\\frac{1}{2}$ \n",
    "- $r=-3$ \n",
    "- $r=-\\frac{5}{6}$ \n",
    "- $r=4.1$\n",
    "- $r=0.7$\n",
    "\n",
    "What can you conclude about the relationship between the common ratio of the geometric sequence with the sum of the first $n$ terms of the geometric sequence as $n$ grows larger and larger? i.e., as $n\\rightarrow \\infty$. You might want to try with more values of $r$."
   ],
   "cell_type": "markdown",
   "metadata": {}
  },
  {
   "source": [
    "## Exercise 1.6 2019/NJC Tutorial/APGP/QB8 H2 Mathematics (Modified)\n",
    "\n",
    "An athlete is considering two plans for a training program.\n",
    "\n",
    "- Plan I: Run 2000 m on day 1, 2400 m on day 2, and on each successive day increase the distance run by 400 m.\n",
    "\n",
    "- Plan II: Run 2000 m on day 1, 2200 m on day 2, and on each successive day multiply the distance run by a constant factor $\\frac{11}{10}$.\n",
    "\n",
    "(a) For Plan I, find the least value of $n$ for which the total distance run on days 1 to $n$, inclusive, exceeds 200 000 m.\n",
    "\n",
    "(b) For Plan II, find the least value of N for which the distance run on day $N$ exceeds 16 000.\n",
    "\n",
    "(c) Assume that athlete $A$ decided to go with Plan I and another athlete $B$ decided to with Plan II, when will athlete $B$'s total distance run first exceeds athlete $A$'s total distance run? "
   ],
   "cell_type": "markdown",
   "metadata": {}
  }
 ]
}