{
 "cells": [
  {
   "cell_type": "markdown",
   "metadata": {},
   "source": [
    "# Exercise 8\n",
    "\n",
    "Related Notes:\n",
    "- Fundamentals_5 File IO"
   ]
  },
  {
   "cell_type": "markdown",
   "metadata": {},
   "source": [
    "## Exercise 8.1\n",
    "\n",
    "Write following list `s` into a text file `q1.txt` with each item occupying 1 line.\n",
    "\n",
    ">```python\n",
    ">s = [chr(i) + '.txt' for i in range(ord('A'), ord('F'))]\n",
    ">```\n",
    "\n",
    "Use following command in Jupyter Notebook to open `q1.txt` to verify the content in the file.\n",
    "\n",
    ">`!notepad q1.txt`"
   ]
  },
  {
   "cell_type": "code",
   "execution_count": null,
   "metadata": {},
   "outputs": [],
   "source": [
    "#YOUR_CODE_HERE\n",
    "\n",
    "s = [chr(i) + '.txt\\n' for i in range(ord('A'), ord('F'))]\n",
    "with open('q1.txt', 'w') as f:\n",
    "    f.writelines(s)\n",
    "    \n",
    "!notepad q1.txt"
   ]
  },
  {
   "cell_type": "markdown",
   "metadata": {},
   "source": [
    "## Exercise 8.2\n",
    "\n",
    "For each line of text in `q1.txt`, generate an empty text file and name the file using that line of text. If file already exists, remove it before generate new file. \n",
    "\n",
    "Use following code to check if a file exists.\n",
    "\n",
    ">```python\n",
    ">import os\n",
    ">if os.path.exists(file_path): pass\n",
    ">```\n",
    "\n",
    "Use following command in Jupyter Notebook to confirm that you have generated all files.\n",
    "\n",
    ">```bash\n",
    ">!ls *.txt\n",
    ">```"
   ]
  },
  {
   "cell_type": "code",
   "execution_count": 1,
   "metadata": {},
   "outputs": [
    {
     "name": "stdout",
     "output_type": "stream",
     "text": [
      "A.txt\n",
      "B.txt\n",
      "C.txt\n",
      "D.txt\n",
      "E.txt\n"
     ]
    }
   ],
   "source": [
    "#YOUR_CODE_HERE\n",
    "with open('q1.txt','r') as f:\n",
    "    txtlist = f.readlines()\n",
    "    for i in txtlist:\n",
    "        i = i.strip('\\n')\n",
    "        open(i,\"w\")\n",
    "        print(i)"
   ]
  },
  {
   "cell_type": "markdown",
   "metadata": {},
   "source": [
    "## Exercise 8.3\n",
    "\n",
    "Write code to generate all the positive integers up to $n$ that are perfect squares and save them in a text file called `PERFECT_SQUARES.TXT`. Note that each line within the file should contain one integer, and the last character within the file should be an end line character."
   ]
  },
  {
   "cell_type": "code",
   "execution_count": 10,
   "metadata": {},
   "outputs": [],
   "source": [
    "#YOUR_CODE_HERE\n",
    "\n",
    "import math\n",
    "\n",
    "def gen_squares(n):\n",
    "    with open(\"PERFECT_SQUARES.txt\", \"w\") as f:\n",
    "        for i in range(1, n+1):\n",
    "            if math.sqrt(i).is_integer(): # i is a perfect square\n",
    "                f.write(str(i)+\"\\n\")\n",
    "\n",
    "gen_squares(100)"
   ]
  },
  {
   "cell_type": "markdown",
   "metadata": {},
   "source": [
    "## Exercise 8.4\n",
    "\n",
    "Write code to generate all the positive integers from $n + 1$ to $n + m$, and then append them to the file used in question 1. (Note, do not overwrite the perfect squares from Question 1.) "
   ]
  },
  {
   "cell_type": "code",
   "execution_count": 13,
   "metadata": {},
   "outputs": [
    {
     "name": "stdout",
     "output_type": "stream",
     "text": [
      "m: 10\n",
      "n: 100\n"
     ]
    }
   ],
   "source": [
    "#YOUR_CODE_HERE\n",
    "m = int(input(\"m: \"))\n",
    "n = int(input(\"n: \"))\n",
    "with open(\"./PERFECT_SQUARE.txt\",\"a+\") as f:\n",
    "    for i in range(n+2,n+m+1):\n",
    "        f.write(str(i)+\"\\n\")"
   ]
  },
  {
   "cell_type": "markdown",
   "metadata": {},
   "source": [
    "## Exercise 8.5\n",
    "\n",
    "A log of a certain boss fight from a certain game is stored inside the file `log_ex8.csv` under the folder `resources`. The csv file contains the following header.\n",
    "\n",
    "- `'Parse%'`  refers to the performance of the character relative to all other players in the world,\n",
    "- `'Name'` refers to the name of the character in the game,\n",
    "- `'Amount'`  refers to the amount of damage\n",
    "- `'iLvL'`  refers to the quality of the equipment the character is using,\n",
    "- `'iLvL%'` refers to the performance of the player relative to players with similar quality of equipment,\n",
    "- `'Active Time'` refers to the percentage of time spend by the character doing damage during the fight.\n",
    "- `'DPS'` refers to the amount of damage done per second in the fight.\n",
    "\n",
    "Your task is to:\n",
    "\n",
    "- Store the contents of the csv file into a list `records` where each element in the list is itself a list where the elements correspond to the `Parse%`,`Name`,`Amount`,`iLvL`,`iLvL%`,`Active Time`,`DPS` values for each line in the csv file.\n",
    "- Create an empty list called `player_name`.\n",
    "- iterate over each element of `records` appending the player names to `player_name`.\n",
    "- Print each name in `player_name` in alphabetical order."
   ]
  },
  {
   "cell_type": "code",
   "execution_count": 3,
   "metadata": {},
   "outputs": [
    {
     "name": "stdout",
     "output_type": "stream",
     "text": [
      "['Angers', 'Anothervc', 'Avey', 'Biraprie', 'Chrisfumi', 'Chrissinger', 'Darkietank', 'Dewgie', 'Ericlock', 'Exolaris', 'Fyrebird', 'Gamheals', 'Gdook', 'Haloxd', 'Jari', 'Keipra', 'Kieu', 'Knoxvegas', 'Kolhito', 'Lymos', 'Makotoase', 'Masachi', 'Masakins', 'NÃ³mi', 'Ovy', 'Paeldryth', 'Pappaslop', 'Plastral', 'Revtide', 'Spooknspell', 'Stormblast', 'Synesthetix', 'WÃ´es']\n"
     ]
    }
   ],
   "source": [
    "#YOUR_CODE_HERE\n",
    "import csv\n",
    "f = open(\"./resources/log_ex8.csv\")\n",
    "# using csv\n",
    "reader = csv.reader(f)\n",
    "data = [row for row in reader]\n",
    "data = data[1:]\n",
    "player_name = []\n",
    "for i in range(len(data)):\n",
    "    player_name.append(data[i][1])\n",
    "print(sorted(player_name))"
   ]
  },
  {
   "cell_type": "markdown",
   "metadata": {},
   "source": [
    "## Exercise 8.6\n",
    "\n",
    "Download the file: https://archive.ics.uci.edu/ml/machine-learning-databases/iris/iris.data\n",
    "\n",
    "Write code to read and store the contents of this comma separated file within a 2D List, $L$, such that $L[i]$ corresponds to the sample entry on the $i$-th line of the file, and $L[i][j]$ corresponds to the $j$-th value of the $i$-th entry.\n",
    "Print the contents of the 2D List to verify that you have stored the contents correctly.\n"
   ]
  },
  {
   "cell_type": "code",
   "execution_count": 4,
   "metadata": {},
   "outputs": [
    {
     "ename": "FileNotFoundError",
     "evalue": "[Errno 2] No such file or directory: 'iris.data'",
     "output_type": "error",
     "traceback": [
      "\u001b[1;31m---------------------------------------------------------------------------\u001b[0m",
      "\u001b[1;31mFileNotFoundError\u001b[0m                         Traceback (most recent call last)",
      "\u001b[1;32m<ipython-input-4-953c774be4b1>\u001b[0m in \u001b[0;36m<module>\u001b[1;34m\u001b[0m\n\u001b[0;32m      1\u001b[0m \u001b[1;31m#YOUR_CODE_HERE\u001b[0m\u001b[1;33m\u001b[0m\u001b[1;33m\u001b[0m\u001b[1;33m\u001b[0m\u001b[0m\n\u001b[0;32m      2\u001b[0m \u001b[1;32mimport\u001b[0m \u001b[0mcsv\u001b[0m\u001b[1;33m\u001b[0m\u001b[1;33m\u001b[0m\u001b[0m\n\u001b[1;32m----> 3\u001b[1;33m \u001b[1;32mwith\u001b[0m \u001b[0mopen\u001b[0m\u001b[1;33m(\u001b[0m\u001b[1;34m'iris.data'\u001b[0m\u001b[1;33m)\u001b[0m \u001b[1;32mas\u001b[0m \u001b[0mf\u001b[0m\u001b[1;33m:\u001b[0m\u001b[1;33m\u001b[0m\u001b[1;33m\u001b[0m\u001b[0m\n\u001b[0m\u001b[0;32m      4\u001b[0m     \u001b[0mL\u001b[0m \u001b[1;33m=\u001b[0m \u001b[1;33m[\u001b[0m\u001b[0mrow\u001b[0m \u001b[1;32mfor\u001b[0m \u001b[0mrow\u001b[0m \u001b[1;32min\u001b[0m \u001b[0mcsv\u001b[0m\u001b[1;33m.\u001b[0m\u001b[0mreader\u001b[0m\u001b[1;33m(\u001b[0m\u001b[0mf\u001b[0m\u001b[1;33m)\u001b[0m\u001b[1;33m]\u001b[0m\u001b[1;33m\u001b[0m\u001b[1;33m\u001b[0m\u001b[0m\n\u001b[0;32m      5\u001b[0m \u001b[0mprint\u001b[0m\u001b[1;33m(\u001b[0m\u001b[0mL\u001b[0m\u001b[1;33m)\u001b[0m\u001b[1;33m\u001b[0m\u001b[1;33m\u001b[0m\u001b[0m\n",
      "\u001b[1;31mFileNotFoundError\u001b[0m: [Errno 2] No such file or directory: 'iris.data'"
     ]
    }
   ],
   "source": [
    "#YOUR_CODE_HERE\n",
    "import csv\n",
    "with open('iris.data') as f:\n",
    "    L = [row for row in csv.reader(f)]\n",
    "print(L)"
   ]
  },
  {
   "cell_type": "markdown",
   "metadata": {},
   "source": [
    "## Exercise 8.7\n",
    "\n",
    "Each line in the file at: http://itu.dk/people/pagh/sad12/primes1000000.txt represents a prime number below 1,000,000.\n",
    " \n",
    "Write a function that uses the above file to test if a given positive integer below 1,000,000 is a prime number. If the given numbers exceeds 1,000,000, then utilise a separate function to calculate if it is a prime. "
   ]
  },
  {
   "cell_type": "code",
   "execution_count": 7,
   "metadata": {},
   "outputs": [
    {
     "name": "stdout",
     "output_type": "stream",
     "text": [
      "False\n",
      "True\n"
     ]
    }
   ],
   "source": [
    "#YOUR_CODE_HERE\n",
    "def primeCheck(a):\n",
    "    if a > 1000000:\n",
    "        flag = True\n",
    "        for i in range(2, a - 1):\n",
    "            if a % i == 0:\n",
    "                flag = False\n",
    "            if not flag:\n",
    "                break\n",
    "        return flag\n",
    "\n",
    "    else:\n",
    "        with open(\"primes1000000.txt\", \"r\") as f:\n",
    "            x = f.readlines()\n",
    "        x = [int(i.strip(\" \\n\")) for i in x]\n",
    "        if a in x:\n",
    "            return True\n",
    "        else: \n",
    "            return False\n",
    "print(primeCheck(9))\n",
    "print(primeCheck(15485863))"
   ]
  },
  {
   "cell_type": "markdown",
   "metadata": {},
   "source": [
    "## Exercise 8.8\n",
    "\n",
    "A mathematical equation $y=f(x)$ can be visualized on a cartesian plane as the set of all the points $(x,y)$ where $y=f(x)$. Write a code that \n",
    "\n",
    "1. generates 100 points that satisfy the equation $y=x^2$ for $-10\\leq x\\leq 10$ (for simplicity, take the uniform spacing for the $x$-values of the points),and\n",
    "2. saves them into a text file named `ex8_8.txt`. Each line in the file is of the form $(x,y)$, \n",
    "3. load the points from `ex8_8.txt` and using the module `matplotlib`, show the plot.\n"
   ]
  },
  {
   "cell_type": "code",
   "execution_count": 8,
   "metadata": {},
   "outputs": [
    {
     "data": {
      "text/plain": [
       "Text(0, 0.5, 'y values')"
      ]
     },
     "execution_count": 8,
     "metadata": {},
     "output_type": "execute_result"
    },
    {
     "data": {
      "image/png": "[encoded data removed]",
      "text/plain": [
       "<Figure size 432x288 with 1 Axes>"
      ]
     },
     "metadata": {
      "needs_background": "light"
     },
     "output_type": "display_data"
    }
   ],
   "source": [
    "import matplotlib.pyplot \n",
    "xvalues = []\n",
    "yvalues = []\n",
    "\n",
    "with open(\"ex8_8.txt\",\"w\") as f:\n",
    "    x = -10\n",
    "    for i in range(100):\n",
    "        y = x**2\n",
    "        coords = (x,y)\n",
    "        f.write(str(coords) + \"\\n\")\n",
    "        x += 0.2\n",
    "with open(\"ex8_8.txt\",\"r\") as g:\n",
    "    totalcoords = g.readlines()\n",
    "    totalcoords = [i.strip() for i in totalcoords]\n",
    "    totalcoords = [i.strip(\"()\") for i in totalcoords]\n",
    "    for i in totalcoords:\n",
    "        xpoint = float(i.split(\",\")[0])\n",
    "        ypoint = float(i.split(\",\")[1])\n",
    "        xvalues.append(xpoint)\n",
    "        yvalues.append(ypoint)\n",
    "        \n",
    "matplotlib.pyplot.plot(xvalues,yvalues,\"r-\")\n",
    "matplotlib.pyplot.xlabel(\"x values\")\n",
    "matplotlib.pyplot.ylabel(\"y values\")"
   ]
  },
  {
   "cell_type": "markdown",
   "metadata": {},
   "source": [
    "## Exercise 8.9\n",
    "\n",
    "A text file, `NOI_24_RESULT.txt` contains the results of the medallist recipients for the 24th National Olympiad in Informatics.\n",
    "\n",
    "Write a code to:\n",
    "\n",
    "- read the data from the text file,\n",
    "- store the school name and medal counts in a Python dictionary `medal_count` where the school name is the key and the associated value is a tuple of the form `(GOLD, SILVER, BRONZE)`,\n",
    "- print out the top 5 school with the highest number of medals won, regardless of the medal type. "
   ]
  },
  {
   "cell_type": "code",
   "execution_count": 9,
   "metadata": {},
   "outputs": [
    {
     "name": "stdout",
     "output_type": "stream",
     "text": [
      "NUS High School Of Mathematics And Science 10\n",
      "Raffles Institution 10\n",
      "Hwa Chong Institution 10\n",
      "United World College South East Asia Dover Campus 8\n",
      "Anglo-Chinese School Independent 5\n"
     ]
    }
   ],
   "source": [
    "import csv\n",
    "\n",
    "with open(\"NOI_24_RESULT.csv\", \"r\") as f:\n",
    "    reader = csv.reader(f)\n",
    "    contents = [i[-1].strip() for i in reader if i != []]\n",
    "\n",
    "gold_ind = contents.index(\"Gold\")\n",
    "silver_ind = contents.index(\"Silver\")\n",
    "bronze_ind = contents.index(\"Bronze\")\n",
    "gold = contents[gold_ind + 1:silver_ind]\n",
    "silver = contents[silver_ind + 1:bronze_ind]\n",
    "bronze = contents[bronze_ind + 1:]\n",
    "medal_count = {}\n",
    "tot_medals = {}\n",
    "\n",
    "for i in gold + silver + bronze:\n",
    "    if i not in medal_count:\n",
    "        medal_count[i] = (gold.count(i), silver.count(i), bronze.count(i))\n",
    "        tot_medals[i] = sum(medal_count[i])\n",
    "\n",
    "for i in sorted(list(tot_medals.items()), key=lambda x: x[1], reverse=True)[:5]:\n",
    "    print(i[0], i[1])"
   ]
  },
  {
   "cell_type": "markdown",
   "metadata": {},
   "source": [
    "## Exercise 8.10\n",
    "\n",
    "A text file, `MARKET_PRICES.TXT`, contains the in-game prices for 6 items, Widowbloom, Rising Glory, Marrowroot, Vigil's Torch, Nighshade and Spectral Flask of Power from 1 December 2020 to 3 March 2021. Each line contains tab-delimited data that shows the date and the prices (in copper coins) of the 6 items.\n",
    "\n",
    "Each line is in the format:\n",
    "\n",
    "    `YYYY-MM-DD\\tWIDOWBLOOM\\tRISING_GLORY\\t\\MARROWROOT\\tVIGILS_TORCH\\tNIGHTSHADE\\tSPECTRAL_FLASK_OF_POWER\\n`\n",
    "\n",
    "- The date is of the form `YYYY-MM-DD`, for example, `2020-12-03` is 3rd December, 2020.\n",
    "- WIDOWBLOOM, RISING_GLORY, MARROWROOT, VIGILS_TORCH, NIGHTSHADE, SPECTRAL_FLASK_OF_POWER are all integers.\n",
    "- `\\t` represents the tab character\n",
    "- `\\n` represents the newline character\n",
    "\n",
    "The text file is stored in ascending order of date and time.\n",
    "\n",
    "### Task 1 \n",
    "\n",
    "Write a program to:\n",
    "\n",
    "- read the price data from the text file,\n",
    "- for each of the 6 items:\n",
    "    - find the highest price and print this value,\n",
    "    - find the lowest price and print this value.\n",
    "\n",
    "### Task 2\n",
    "\n",
    "Suppose you want to play the market by buying and selling the 6 items above, one way to decide on items to invest in is by using the mean and variance of the daily rate of returns of the items. The latter is used to quantify the risk of holding such item.\n",
    "\n",
    "For an item $j$, \n",
    "- the **daily rate of return** of day $i$ to $i+1$, denoted as $r_i$ is defined to be $$r_i=\\frac{p_{i+1}}{p_i},$$ where $p_{i+1}$ and $p_i$ are prices of the item on day $i+1$ and day $i$ respectively,\n",
    "- the mean of the daily rate of returns, denoted as $\\overline{r}$, is just $\\frac{\\sum r_i}{n}$, where $n$ is the number of daily rate of returns recorded,\n",
    "- the variance of the daily rate of returns is $$\\frac{\\sum{(r_i-\\overline{r})^2}}{n},$$ where $\\overline{r}$ is the mean of the daily rate of returns and again $n$ is the number of daily returns recorded.\n",
    "\n",
    "Write a program to:\n",
    "\n",
    "- for each of the 6 items:\n",
    "    - find the mean of the daily rate of return,\n",
    "    - find the variance of the daily rate of return."
   ]
  },
  {
   "cell_type": "code",
   "execution_count": 17,
   "metadata": {},
   "outputs": [
    {
     "name": "stdout",
     "output_type": "stream",
     "text": [
      "max and min value of flask is 7679 2000\n",
      "max and min value of marrowroot is 8677 2402\n",
      "max and min value of risingglory is 10086 1720\n",
      "max and min value of vigilstorch is 17227 3214\n",
      "max and min value of nightshade is 206537 62927\n",
      "max and min value of widow is 14031 3214\n",
      "Mean of the daily return of flask is 0.01686730182118712\n",
      "Variance of the daily rate of return of flask is 0.03619999248276219 \n",
      "\n",
      "Mean of the daily return of marrowroot is 0.005044440183475773\n",
      "Variance of the daily rate of return of marrowroot is 0.03562764658071407 \n",
      "\n",
      "Mean of the daily return of risingglory is 0.0029710559563444127\n",
      "Variance of the daily rate of return of risingglory is 0.027762880221427966 \n",
      "\n",
      "Mean of the daily return of vigilstorch is -0.00591999274014976\n",
      "Variance of the daily rate of return of vigilstorch is 0.01759827976182958 \n",
      "\n",
      "Mean of the daily return of nightshade is -0.007741258889054319\n",
      "Variance of the daily rate of return of nightshade is 0.004586176455299764 \n",
      "\n",
      "Mean of the daily return of widow is -0.0010376444950615956\n",
      "Variance of the daily rate of return of widow is 0.02283701672008388 \n",
      "\n"
     ]
    }
   ],
   "source": [
    "#\n",
    "import csv\n",
    "\n",
    "#Task 1\n",
    "price = {\n",
    "    \"flask\":[],\n",
    "    \"marrowroot\":[],\n",
    "    \"risingglory\":[],\n",
    "    \"vigilstorch\":[],\n",
    "    \"nightshade\":[],\n",
    "    'widow':[]\n",
    "}\n",
    "\n",
    "with open('./resources/MARKET_PRICES.TXT') as f:\n",
    "    elements = csv.reader(f, delimiter = '\\t')\n",
    "    data = [row for row in elements][1:]\n",
    "for i in data:\n",
    "    for u in range(len(i)-1):\n",
    "        price[list(price.keys())[u-1]].append(int(i[u+1]))\n",
    "for i in price:\n",
    "    print(\"max and min value of\",i,\"is\",max(price[i]),min(price[i]))\n",
    "\n",
    "#Task 2\n",
    "for i in price:\n",
    "\n",
    "    total = 0\n",
    "    total_variance = 0\n",
    "    for u in range(len(price[i])-1):\n",
    "        total += (((price[i][u+1]-price[i][u])/price[i][u])/(len(price[i])-1))\n",
    "    for x in range(len(price[i])-1):\n",
    "        total_variance += ((((price[i][x+1]-price[i][x])/price[i][x])-total)**2)/(len(price[i])-1)\n",
    "    print('Mean of the daily return of',i,'is',total)\n",
    "    print('Variance of the daily rate of return of',i,'is',total_variance,'\\n')"
   ]
  },
  {
   "cell_type": "code",
   "execution_count": null,
   "metadata": {},
   "outputs": [],
   "source": []
  }
 ],
 "metadata": {
  "kernelspec": {
   "display_name": "Python 3",
   "language": "python",
   "name": "python3"
  },
  "language_info": {
   "codemirror_mode": {
    "name": "ipython",
    "version": 3
   },
   "file_extension": ".py",
   "mimetype": "text/x-python",
   "name": "python",
   "nbconvert_exporter": "python",
   "pygments_lexer": "ipython3",
   "version": "3.7.6"
  }
 },
 "nbformat": 4,
 "nbformat_minor": 2
}
