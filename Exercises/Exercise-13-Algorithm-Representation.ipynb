{
 "cells": [
  {
   "cell_type": "markdown",
   "metadata": {},
   "source": [
    "# Exercise 13\n",
    "\n",
    "Related Notes:\n",
    "- Fundamentals_8_Algorithmic_Representation"
   ]
  },
  {
   "cell_type": "markdown",
   "metadata": {},
   "source": [
    "## Exercise 13.1\n",
    "\n",
    "The following algorithm inputs two integer numbers and outputs all the integers from the first number to the last number.\n",
    ">```\n",
    "> INPUT FirstNumber\n",
    "> INPUT LastNumber\n",
    "> FOR Number ← FirstNumber TO SecondNumber\n",
    ">   OUTPUT Number\n",
    ">   ENDFOR Number\n",
    ">```\n",
    "\n",
    "1. Rewrite this algorithm in pseudocode using \n",
    "    - a `WHILE-ENDWHILE` loop,\n",
    "    - a `REPEAT-UNTIL` loop,\n",
    "2. Implement your pseudocode in Python."
   ]
  },
  {
   "cell_type": "code",
   "execution_count": null,
   "metadata": {},
   "outputs": [],
   "source": [
    "#YOUR ANSWER HERE"
   ]
  },
  {
   "source": [
    "## Exercise 13.2\n",
    "\n",
    "An algorithm is required to ask the user to input a number.\n",
    "If the number is zero, stop.\n",
    "If the number is positive, output the number.\n",
    "If the number is negative, square the number, and output the square and square root of the answer.\n",
    "\n",
    "1. Write the algorithm in pseudocode.\n",
    "2. Draw the flowchart of the algorithm.\n",
    "3. Implement the algorithm in Python."
   ],
   "cell_type": "markdown",
   "metadata": {}
  },
  {
   "cell_type": "code",
   "execution_count": null,
   "metadata": {},
   "outputs": [],
   "source": [
    "#YOUR ANSWER HERE"
   ]
  },
  {
   "source": [
    "## Exercise 13.3\n",
    "\n",
    "Study the following algorithm.\n",
    "\n",
    ">```\n",
    ">FUNCTION Mystery(m, n)\n",
    ">   r ← m – INT(m / n) * n\n",
    ">   IF r = 0\n",
    ">   THEN\n",
    ">       RETURN n\n",
    ">   ELSE\n",
    ">       RETURN Mystery(n, r)\n",
    ">   ENDIF\n",
    ">ENDFUNCTION\n",
    ">```\n",
    "\n",
    "`INT(Number)` returns the integer part of the parameter, `Number`. For example, `INT(4.2)` returns `4` and `INT(5.8)` returns 5.\n",
    "The function `Mystery` is called with\n",
    "\n",
    "> CALL Mystery(69,12)\n",
    "\n",
    "1. Produce a diagram that traces each step of the algorithm and the function calls. \n",
    "2. Implement the algorithm in Python."
   ],
   "cell_type": "markdown",
   "metadata": {}
  },
  {
   "cell_type": "code",
   "execution_count": null,
   "metadata": {},
   "outputs": [],
   "source": [
    "#YOUR ANSWER HERE"
   ]
  },
  {
   "source": [
    "## Exercise 13.4 2019/A Level/P1/Q5 H2 Computing (Modified)\n",
    "\n",
    "The function `z` takes three integer parameters, `low`, `high`, `seek` and returns an integer value. It operates on the values in the elements of the array `A`."
   ],
   "cell_type": "markdown",
   "metadata": {}
  },
  {
   "cell_type": "code",
   "execution_count": null,
   "metadata": {},
   "outputs": [],
   "source": [
    "FUNCTION Z(low, high, seek, A) RETURNS INTEGER\n",
    "    IF low > high THEN\n",
    "        RETURN -1\n",
    "    ENDIF\n",
    "    mid ← low + INT((high-low)/2)\n",
    "    IF seek = A[mid] THEN\n",
    "        RETURN mid\n",
    "    ELSE    \n",
    "        IF seek < A[mid] THEN\n",
    "            RETURN Z(low, mid-1, seek, A)\n",
    "        ELSE\n",
    "            RETURN Z(mid+1, high, seek, A)\n",
    "        ENDIF\n",
    "    ENDIF\n",
    "ENDFUNCTION"
   ]
  },
  {
   "source": [
    "1. State what lines `10` and `12` tell you about the function.\n",
    "2. State the purpose for the `RETURN` statements in lines `03` and `07` of function z.\n",
    "\n",
    "The values in each of the eight elements of the array `A` are:\n",
    ">```\n",
    ">| Element | 0  | 1 | 2  | 3  | 4  | 5   | 6   | 7   |\n",
    ">|---------|----|---|----|----|----|-----|-----|-----|\n",
    ">| Value   | -3 | 8 | 14 | 15 | 96 | 101 | 412 | 500 |\n",
    ">```\n",
    "\n",
    "3. Copy and then complete the trace table for the instruction:\n",
    "> OUTPUT Z(0, 7, 103, A)\n",
    ">```\n",
    ">| Function call | low | high | seek | mid | A[mid] | OUTPUT |\n",
    ">|---------------|-----|------|------|-----|--------|--------|\n",
    ">| 1             | 0   | 7    | 103  |     |        |        |\n",
    ">|               |     |      |      |     |        |        |\n",
    ">|               |     |      |      |     |        |        |\n",
    ">|               |     |      |      |     |        |        |\n",
    ">|               |     |      |      |     |        |        |\n",
    ">|               |     |      |      |     |        |        |\n",
    ">```\n",
    "\n",
    "4. Function `z` can return **two** different types of value. Explain what these represent."
   ],
   "cell_type": "markdown",
   "metadata": {}
  },
  {
   "source": [
    "## Exercise 13.5 2018/A Level/P1/Q2 H2 Computing\n",
    "\n",
    "The following algorithm calculates the average mark for a group of students."
   ],
   "cell_type": "markdown",
   "metadata": {}
  },
  {
   "cell_type": "code",
   "execution_count": null,
   "metadata": {},
   "outputs": [],
   "source": [
    "FOR Counter ← 1 TO NumberOfStudents\n",
    "    Total ← 0\n",
    "    INPUT Mark\n",
    "    Total ← Total + Mark\n",
    "ENDFOR\n",
    "AVERAGE ← Total / NumberOfStudents\n",
    "OUTPUT Average"
   ]
  },
  {
   "source": [
    "1. There is an error in this algorithm causing an incorrect result. Describe the error and explain the chage required to correct this error. \n",
    "2. State the name of this type of error.\n",
    "3. The lowest mark in the exam is 0 and the highest is 100. Give an example from each of the appropriate test cases which could be used to test the algorithm.\n",
    "4. Name and describe a suitable technique that could be used to manually identify errors in the algorithm."
   ],
   "cell_type": "markdown",
   "metadata": {}
  },
  {
   "cell_type": "code",
   "execution_count": null,
   "metadata": {},
   "outputs": [],
   "source": [
    "#YOUR ANSWER HERE"
   ]
  },
  {
   "source": [
    "## Exercise 13.6 2018/NJC Prelim/P1/Q3 H2 Computing\n",
    "\n",
    "The following is a recursive function"
   ],
   "cell_type": "markdown",
   "metadata": {}
  },
  {
   "cell_type": "code",
   "execution_count": null,
   "metadata": {},
   "outputs": [],
   "source": [
    "FUNCTION f(INTEGER a, INTEGER b)\n",
    "    IF b = 0 THEN\n",
    "        RETURN 1\n",
    "    ELSE IF b = 1 THEN\n",
    "        RETURN a\n",
    "    ENDIF\n",
    "    x ← f(a, b DIV 2)\n",
    "    IF (b MOD 2) = 0 THEN\n",
    "        RETURN x * x\n",
    "    ELSE\n",
    "        RETURN x * a * x\n",
    "    ENDIF\n",
    "ENDFUNCTION"
   ]
  },
  {
   "source": [
    "1.\tUsing the above function as an example, define recursion.\n",
    "2.\tPerform a dry-run of the above function using the call f(3, 4). Show the resultant \ttrace tree.\n",
    "3.\tState the purpose of the specified function.\n",
    "4.\tIdentify one flaw in the above algorithm, and explain how this flaw may be addressed.\n",
    "5.\tDraw a flowchart depicting an iterative version of the specified function."
   ],
   "cell_type": "markdown",
   "metadata": {}
  },
  {
   "cell_type": "code",
   "execution_count": null,
   "metadata": {},
   "outputs": [],
   "source": [
    "#YOUR CODE HERE"
   ]
  }
 ],
 "metadata": {
  "kernelspec": {
   "display_name": "Python 3",
   "language": "python",
   "name": "python3"
  },
  "language_info": {
   "codemirror_mode": {
    "name": "ipython",
    "version": 3
   },
   "file_extension": ".py",
   "mimetype": "text/x-python",
   "name": "python",
   "nbconvert_exporter": "python",
   "pygments_lexer": "ipython3",
   "version": "3.7.6"
  }
 },
 "nbformat": 4,
 "nbformat_minor": 2
}