{
 "cells": [
  {
   "cell_type": "markdown",
   "metadata": {},
   "source": [
    "# Exercise 16\r\n",
    "\r\n",
    "Notes:\r\n",
    "- Fundamentals_10-SQL-Databases"
   ]
  },
  {
   "cell_type": "markdown",
   "metadata": {},
   "source": [
    "## Exercise 16.1 2019/A Level/P2/Q2 H2 Computing\r\n",
    "A bakery bakes bread and cakes to sell in its own shop and to other shops throughout a city. Its drivers visit every shop each day, delivering that day’s order and collecting the order for the next day. \r\n",
    "Order forms are pre-printed with the name of each shop and every item that the bakery bakes. The manager of each shop writes onto the form the quantity of each item required. When the drivers return to the bakery. the data from the order forms are collated to give the bakers the total of each item to bake. \r\n",
    "Copies of the order forms are made and used as delivery notes for the next day’s deliveries. The accounts department use the original order forms to prepare a weekly invoice for each shop.\r\n",
    "\r\n",
    "The bakery wants the shops to submit their orders online. \r\n",
    "\r\n",
    "A program is needed to determine the number of each item needed and produce the weekly invoice for each shop.\r\n",
    "\r\n",
    "The new program will use a relational database with three tables: Product, Shop and Order. \r\n",
    "\r\n",
    "Each product has a description. price. and a unique product ID number. \r\n",
    "\r\n",
    "Each shop has a name. an address, telephone number. manager's name, and a unique shop iD number. \r\n",
    "\r\n",
    "Each order has a product lD, a quantity, a shop ID and a date for delivery. \r\n",
    "\r\n",
    "1. Draw an Entity-Relationship (E-R) diagram showing the three tables and the relationships between them.\r\n",
    "<div style=\"text-align: right\">[5]</div>\r\n",
    "\r\n",
    "2. A table description can be expressed as: <br>\r\n",
    "<br>\r\n",
    "    $\\text{TableName}\\left(\\underline{\\text{Attribute1}},\\text{ Attribute2, Attribute3, }\\dots \\right )$ <br>\r\n",
    "    <br>\r\n",
    "    The primary key is indicated by underlining one or more attributes. <br>\r\n",
    "    <br>\r\n",
    "    Write table descriptions for the three tables.     \r\n",
    "<div style=\"text-align: right\">[4]</div>\r\n",
    "\r\n",
    "The bakery can change the price of an item at any time. Validation ensures that the new price is within specified limits and is more likely to be correct.\r\n",
    "\r\n",
    "3. i. Explain why this could still result in incorrect weekly invoices, assuming that the new price input is correct. <br>  \r\n",
    "    <div style=\"text-align: right\">[2]</div>\r\n",
    "    ii. Describe changes to the database and draw a modified E-R diagram to ensure correct invoices are created. <br>     \r\n",
    "        <div style=\"text-align: right\">[4]</div>"
   ]
  },
  {
   "cell_type": "code",
   "execution_count": null,
   "metadata": {},
   "outputs": [],
   "source": [
    "#YOUR_ANSWER_HERE"
   ]
  },
  {
   "cell_type": "markdown",
   "metadata": {},
   "source": [
    "## Exercise 16.2 2017/A Level/P2/Q6 H2 Computing\r\n",
    "A computer company has several offices throughout the country, each with several salespersons. A record of the sales made by each salesperson has been set up using a relational database.\r\n",
    "There is a minimum amount of $150 for each sale.\r\n",
    "\r\n",
    "The following tables hold the data.\r\n",
    "\r\n",
    "$\\text{CUSTOMER (\\underline{\\text{CustomerID}}, CustomerName, CustomerEmail, CustomerTelephone)}$<br>\r\n",
    "$\\text{OFFICE (\\underline{\\text{OfficeID}}, Address, Telephone)}$<br>\r\n",
    "$\\text{SALE (\\underline{\\text{CustomerID*}}, \\underline{\\text{SalesPersonID*}}, SaleDate, Amount)}$<br>\r\n",
    "$\\text{SALESPERSON (\\underline{\\text{SalesPersonID}}, SalespersonName, OfficeID*)}$\r\n",
    "\r\n",
    "Note: underline indicates primary key. An asterisk (*) indicates a foreign key.\r\n",
    "\r\n",
    "- (a) Draw an Entity-Relationship (E-R) diagram to represent the data model. \r\n",
    "    <div style=\"text-align: right\">[3]</div>\r\n",
    "- (b) The following is a section of the data dictionary for the data model. It has three missing entries labelled **A**, **B** and **C**.\r\n",
    "    <center>\r\n",
    "\r\n",
    "    | Table | Field  | Data type| Validation\r\n",
    "    |-|-|-|-|\r\n",
    "    | `CUSTOMER` |`CustomerID` | Integer| Unique\r\n",
    "    |`SALE`| `CustomerID`|Integer| **A**\r\n",
    "    |`SALE`| `Saledate`| Date |\r\n",
    "    |`SALE`| `Amount`| **B**| **C**\r\n",
    "    \r\n",
    "    </center>\r\n",
    "\r\n",
    "    State a suitable entry for A, B and C. \r\n",
    "    <div style=\"text-align: right\">[3]</div>\r\n",
    "- (c) There is an address field in this database.\r\n",
    "    Explain why storing the address as a single field is not good database design. \r\n",
    "    <div style=\"text-align: right\">[3]</div>\r\n",
    "Each month, a report is produced to show the sales for each salesperson. The following is a report for salesperson, B Chin.\r\n",
    "\r\n",
    "<center>\r\n",
    "<img src=\"img/database-bchin.png\" width=\"600\" align=\"center\"/>\r\n",
    "</center>\r\n",
    "\r\n",
    "- (d) (i) To produce the report, the database uses the SaleDate and Amount fields in the SALE table.\r\n",
    "    Name four other fields that the database uses to produce this report. \r\n",
    "    <div style=\"text-align: right\">[4]</div>\r\n",
    "- (d) (ii) State two features of a relational database management system which would be used to calculate and display the total for this salesperson. \r\n",
    "    <div style=\"text-align: right\">[2]</div>"
   ]
  },
  {
   "cell_type": "code",
   "execution_count": null,
   "metadata": {},
   "outputs": [],
   "source": [
    "#YOUR_ANSWER_HERE"
   ]
  },
  {
   "cell_type": "markdown",
   "metadata": {},
   "source": [
    "## Exercise 16.3\r\n",
    "Open the file `poly.db` found under the `resources` folder.\r\n",
    "It contains information from Temasek Polytechnic Full-Time Enrolment Figures Breakdown, Annual dataset accessed on 23 March 2018 from Temasek Polytechnic which is made available under the terms of the Singapore Open Data Licence version 1.0 (http://www.data.gov.sg)\r\n",
    "The database provides the enrolment in different polytechnic courses in Temasek Polytechnic (TP) by year and gender.\r\n",
    "\r\n",
    "Try to give the SQL statement to generate the following.\r\n",
    "\r\n",
    "1.\tList the courses in TP that has more than 250 males in 2017.\r\n",
    "2.\tList the courses in TP that has no more than 50 females in 2016.\r\n",
    "3.\tList out all fields in the table for courses not in School of Informatics & IT in 2016.\r\n",
    "4.\tList the largest number of female(s) in a course in 2017.\r\n",
    "5.\tList the smallest number of male(s) in a course in 2016.\r\n",
    "6.\tRename the all diplomas called ‘Diploma in Cyber & Digital Security’ to ‘Diploma in Cyber and Digital Security’.\r\n",
    "7.\tUpdate the table to add 5 students to each gender and each course in School of Design in 2017."
   ]
  },
  {
   "cell_type": "code",
   "execution_count": null,
   "metadata": {},
   "outputs": [],
   "source": [
    "#YOUR_ANSWER_HERE\r\n",
    "1. SELECT course_name FROM enrolment WHERE gender='Male' AND count>250\r\n",
    "2. SELECT course_name FROM enrolment WHERE gender='Female' AND count<=50\r\n",
    "3. SELECT * FROM enrolment WHERE school IS NOT 'School of Informatics & IT' AND year=2016\r\n",
    "4. SELECT max(count) FROM enrolment WHERE year = 2017 AND gender='Female'\r\n",
    "5. SELECT min(count) FROM enrolment WHERE year=2016 AND gender='Male'\r\n",
    "6. UPDATE enrolment SET course_name = 'Diploma in Cyber and Digital Security' WHERE course_name = 'Diploma in Cyber & Digital Security'\r\n",
    "7. UPDATE enrolment SET count = count+5 WHERE year=2017 and school='School of Design'"
   ]
  },
  {
   "cell_type": "markdown",
   "metadata": {},
   "source": [
    "## Exercise 16.4\r\n",
    "Repeat Exercise 18.2 using the `sqlite3` module in Python."
   ]
  },
  {
   "cell_type": "code",
   "execution_count": null,
   "metadata": {},
   "outputs": [],
   "source": [
    "#YOUR_ANSWER_HERE"
   ]
  },
  {
   "cell_type": "markdown",
   "metadata": {},
   "source": [
    "## Exercise 16.5  2020/A Level/P2/Q4 H2 Computing (Modified)\r\n",
    "A school has usd a text file to store data collected about people who work at the school and students who attend the school. People who have a teaching role at the school are referred to as 'staff'. The school decides to transfer this information into a database.\r\n",
    "\r\n",
    "A web page will then be used to summarise the data. Different information will be visible on the web page, depending on the type of person displayed.\r\n",
    "\r\n",
    "### Task 1\r\n",
    "\r\n",
    "Create an SQL file called `TASK4_1_<your name>_<center number>_<index number>.sql` to show the SQL code to create database `school.db` with the single table, `People`.\r\n",
    "\r\n",
    "The table will have the following fields of the given SQLite types:\r\n",
    "- `PersonID` - primary key, an auto-incremented integer\r\n",
    "- `FullName` - the full name of the person, text\r\n",
    "- `DateOfBirth` - the person's date of birth, text\r\n",
    "- `ScreenName` - the person's screen name, text\r\n",
    "- `IsAdult` - a Boolean using 0 for False and 1 for True, integer.\r\n",
    "\r\n",
    "Save your SQL code as\r\n",
    "\r\n",
    "`TASK4_1_<your name>_<center number>_<index number>.sql`     \r\n",
    "<div style=\"text-align: right\">[4]</div>"
   ]
  },
  {
   "cell_type": "code",
   "execution_count": null,
   "metadata": {},
   "outputs": [],
   "source": [
    "#YOUR_ANSWER_HERE"
   ]
  },
  {
   "cell_type": "markdown",
   "metadata": {},
   "source": [
    "### Task  2\r\n",
    "\r\n",
    "The school wants to use the Python programming language and object-oriented programming to help publish the database content on a web page.\r\n",
    "\r\n",
    "The class `Person` will store the following data:\r\n",
    "- `full_name` - stored as a string\r\n",
    "- `date_of_birth` - initiliased with a string with the format YYYY-MM–DD\r\n",
    "\r\n",
    "The class has two methods defined on it:\r\n",
    "- `is_adult()` - returns a Boolean value to indicate whether the person is an adult or not. It:\r\n",
    "    - subtracts the year of the `date_of_birth` from the year of today's date\r\n",
    "    – returns True if the result is greater than 18, otherwise returns False.\r\n",
    "\r\n",
    "- `screen_name()` - returns a string which creates an identifier to be used as a screen name, which should be construted as follows:\r\n",
    "    – the full name with all spaces and punctuation removed\r\n",
    "    – followed by the two-digit month of their birth\r\n",
    "    – then the two-digit day of their birth.\r\n",
    "\r\n",
    "For example, John Tan, born on the $1^{\\text{st}}$ of June 2000 (`“2000-06-01”`), would have the screen name `“JohnTan0601”`\r\n",
    "\r\n",
    "Save your program code as\r\n",
    "\r\n",
    "`TASK4_2_<your name>_<centre number>_<index number>.py`     \r\n",
    "<div style=\"text-align: right\">[7]</div>"
   ]
  },
  {
   "cell_type": "code",
   "execution_count": null,
   "metadata": {},
   "outputs": [],
   "source": [
    "#YOUR_ANSWER_HERE"
   ]
  },
  {
   "cell_type": "markdown",
   "metadata": {},
   "source": [
    "The `Staff` class inherits from `Person`, such that:\r\n",
    "- `screen_name()` should be the name followed by `“Staff”`\r\n",
    "- `is_adult()` always returns True.\r\n",
    "\r\n",
    "The `Student` class inherits from `Person`, such that the `is_adult()` method always returns False.\r\n",
    "\r\n",
    "Add your program code to\r\n",
    "\r\n",
    "`TASK4_2_<your name>_<centre number>_<index number>.py`     \r\n",
    "<div style=\"text-align: right\">[4]</div>\r\n",
    "\r\n",
    "The text file, `people.txt`, contains data items for a number of people. Each data item is separated by a comma, with each person's data on a new line as follows:\r\n",
    "- full name\r\n",
    "- date of birth in the form YYYY-MM-DD\r\n",
    "- a string indicating whether the person is `“Staff”`, `“Student”` or `“Person”`.\r\n",
    "\r\n",
    "Write program code to read in the information from the text file, `people.txt`, creating instance of the appropriate class for each person (either `Staff`, `Student` or `Person`).     \r\n",
    "<div style=\"text-align: right\">[4]</div>\r\n",
    "\r\n",
    "Write program code to insert all information from the file into the `school.db` database.\r\n",
    "\r\n",
    "Run the program.\r\n",
    "\r\n",
    "Add your program code to\r\n",
    "\r\n",
    "`TASK4_2_<your name>_<centre number>_<index number>.py`    \r\n",
    "<div style=\"text-align: right\">[8]</div>"
   ]
  },
  {
   "cell_type": "code",
   "execution_count": null,
   "metadata": {},
   "outputs": [],
   "source": [
    "#YOUR_CODE_HERE"
   ]
  }
 ],
 "metadata": {
  "interpreter": {
   "hash": "dcacb0086e9a4f4eabd41c33bf4faac5ea0a3337ed3f5eff0680afa930572c04"
  },
  "kernelspec": {
   "display_name": "Python 3.9.1 64-bit",
   "name": "python3"
  },
  "language_info": {
   "name": "python",
   "version": ""
  },
  "orig_nbformat": 2
 },
 "nbformat": 4,
 "nbformat_minor": 2
}