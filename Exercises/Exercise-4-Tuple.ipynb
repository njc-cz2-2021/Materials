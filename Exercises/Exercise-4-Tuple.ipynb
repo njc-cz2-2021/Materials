{
 "metadata": {
  "language_info": {
   "codemirror_mode": {
    "name": "ipython",
    "version": 3
   },
   "file_extension": ".py",
   "mimetype": "text/x-python",
   "name": "python",
   "nbconvert_exporter": "python",
   "pygments_lexer": "ipython3",
   "version": "3.9.1-final"
  },
  "orig_nbformat": 2,
  "kernelspec": {
   "name": "python3",
   "display_name": "Python 3.9.1 64-bit",
   "metadata": {
    "interpreter": {
     "hash": "dcacb0086e9a4f4eabd41c33bf4faac5ea0a3337ed3f5eff0680afa930572c04"
    }
   }
  }
 },
 "nbformat": 4,
 "nbformat_minor": 2,
 "cells": [
  {
   "source": [
    "# Exercise 4\n",
    "\n",
    "Related Notes:\n",
    "- Fundamentals_1_Data_Types\n",
    "- Fundamentals_3_Data_Structures"
   ],
   "cell_type": "markdown",
   "metadata": {}
  },
  {
   "source": [
    "## Exercise 4.1 Value Swapping\n",
    "\n",
    "Write a program that:\n",
    "- Ask user to input 3 integer values, `x`, `y` and `z` one by one.\n",
    "- Print out `x`, `y` and `z` value before swapping\n",
    "- Write an one-line statement to swap values so that `x` will hold value of `y`, `y` will hold value of `z`, and `z` will hold value of x after running the statement.\n",
    "- Print out `x`, `y` and `z` value after swapping.\n",
    "\n",
    "Example interaction: \n",
    "\n",
    ">Enter the value for x: 10<br>\n",
    ">Enter the value for y: 20<br>\n",
    ">Enter the value for z: 30<br>\n",
    ">Before swapping, x = 10, y = 20, z = 30<br>\n",
    ">After swapping, x = 20, y = 30, z = 10<br>"
   ],
   "cell_type": "markdown",
   "metadata": {}
  },
  {
   "source": [
    "## Exercise 4.2 Dots in a Square\n",
    "\n",
    "In Python, we can generate random values between -1 and 1 by:\n",
    "\n",
    "-importing the `random` module, and then\n",
    "- using `random.uniform(-1,1)` method.\n",
    "\n",
    "Write a program that:\n",
    "\n",
    "0. set `n` to be 100\n",
    "1. creates a list called `coordinates` which contain `n` tuples with 2 elements each where each element in the tuple is a randomly generated real number between -1 and 1 inclusive, i.e. each element in `coordinates` is of the following form `(element_1,element_2)`. This list represents 100 random points in the cartesian plane ($xy$-plane) where the $x$-coordinates and $y$-coordinates are between -1 and 1 inclusive.\n",
    "2. print out the number of the generated random points (i.e., elements in `coordinates`) that has a distance of at most 1 unit away from the origin $O$. Recall that the distance $d$ from origin to a point $\\left(x,y\\right)$ is $d=\\sqrt{x^2+y^2}$. You can use the method `math.sqrt(your_number)` to find the square root of a number.\n",
    "3. print out also `frac`, the fraction of the number of such points out of $n$ points.\n",
    "4. print out `frac*4`.\n",
    "5. repeat steps 1-5 above with `n` set to be 1000, 10000, 100000. \n",
    "\n",
    "What can you observe about the values of `frac*4` as the `n` increases?\n",
    "\n",
    "Example interaction: \n",
    "\n",
    ">#Assume collection=\\[(1,0.7),(0.5,0.5),(-1,-1)\\]<br>\n",
    ">Number of points that has a distance of at most 1 unit away from the origin: 1<br>\n",
    ">Fraction of such numbers : 0.3333333<br>\n",
    ">4*frac : 1.333333332<br>"
   ],
   "cell_type": "markdown",
   "metadata": {}
  },
  {
   "cell_type": "code",
   "execution_count": null,
   "metadata": {},
   "outputs": [],
   "source": [
    "#DO NOT DELETE THE FOLLOWING IMPORT\n",
    "import random\n",
    "import math\n",
    "\n",
    "#TESTING THE METHODS UNIFORM AND SQRT\n",
    "print(random.uniform(-1,1))\n",
    "print(math.sqrt(2))"
   ]
  },
  {
   "source": [
    "## Exercise 4.3 3D Vector Operations\n",
    "\n",
    "In mathematics, a real valued 3-dimensional vector is a collection of 3 values $\\left(\\begin{array}{c}\n",
    "a_{1}\\\\\n",
    "a_{2}\\\\\n",
    "a_{3}\n",
    "\\end{array}\\right)$, where $a_1,a_2,a_3 \\in \\mathbb{R}$.\n",
    "\n",
    "Binary operation between vectors differs from operation between numbers and some of such operations are defined as such:\n",
    "- addition $+$, which operates between 2 vectors and returns a vector, $\\left(\\begin{array}{c}\n",
    "a_{1}\\\\\n",
    "a_{2}\\\\\n",
    "a_{3}\n",
    "\\end{array}\\right)+\\left(\\begin{array}{c}\n",
    "b_{1}\\\\\n",
    "b_{2}\\\\\n",
    "b_{3}\n",
    "\\end{array}\\right)=\\left(\\begin{array}{c}\n",
    "a_{1}+b_{1}\\\\\n",
    "a_{2}+b_{2}\\\\\n",
    "a_{3}+b_{3}\n",
    "\\end{array}\\right)$,\n",
    "- dot product $\\cdot$, which operates between 2 vector and returns a real number, $\\left(\\begin{array}{c}\n",
    "a_{1}\\\\\n",
    "a_{2}\\\\\n",
    "a_{3}\n",
    "\\end{array}\\right)\\cdot\\left(\\begin{array}{c}\n",
    "b_{1}\\\\\n",
    "b_{2}\\\\\n",
    "b_{3}\n",
    "\\end{array}\\right)=a_{1}b_{1}+a_{2}b_{2}+a_{3}b_{3}$,\n",
    "- cross product $\\times$, which operates between 2 vectors and returns yet another vector, $\\left(\\begin{array}{c}\n",
    "a_{1}\\\\\n",
    "a_{2}\\\\\n",
    "a_{3}\n",
    "\\end{array}\\right)\\times\\left(\\begin{array}{c}\n",
    "b_{1}\\\\\n",
    "b_{2}\\\\\n",
    "b_{3}\n",
    "\\end{array}\\right)=\\left(\\begin{array}{c}\n",
    "a_{2}b_{3}-a_{3}b_{2}\\\\\n",
    "-\\left(a_{1}b_{3}-a_{3}b_{1}\\right)\\\\\n",
    "a_{1}b_{2}-a_{2}b_{1}\n",
    "\\end{array}\\right)$.\n",
    "\n",
    "Write a program that:\n",
    "- Ask user to input 6 float values `x1`, `y1`, `z1`, `x2`, `y2`, `z2`\n",
    "- Stores the 6 values above in a list called `vectors` that contained the tuples `(x1,y1,z1)` and `(x2,y2,z2)`. We will use each of these tuples to represent a 3-dimensional vector.\n",
    "- Print out the list `vectors`.\n",
    "- Implement the 3 vector operations defined above and print out the result. Refer to the example interaction below for the format.\n",
    "\n",
    "Example interaction: \n",
    "\n",
    ">Enter the value for x1: 1<br>\n",
    ">Enter the value for y1: 2<br>\n",
    ">Enter the value for z1: 3<br>\n",
    ">Enter the value for x2: 4<br>\n",
    ">Enter the value for y2: 5<br>\n",
    ">Enter the value for z2: 6<br>\n",
    ">vectors : \\[(1,2,3),(4,5,6)\\]<br>\n",
    ">addition : (1,2,3)+(4,5,6) = (5,7,9)<br>\n",
    ">dot product : (1,2,3).(4,5,6) = 32<br>\n",
    ">cross product : (1,2,3)x(4,5,6) = (-3,6,-3)\n"
   ],
   "cell_type": "markdown",
   "metadata": {}
  },
  {
   "cell_type": "code",
   "execution_count": null,
   "metadata": {},
   "outputs": [],
   "source": [
    "#YOUR CODE HERE"
   ]
  }
 ]
}