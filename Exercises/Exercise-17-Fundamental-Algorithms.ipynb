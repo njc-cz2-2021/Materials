{
 "cells": [
  {
   "cell_type": "markdown",
   "source": [
    "# Exercise 17\r\n",
    "\r\n",
    "Notes:\r\n",
    "- Fundamentals_10-Fundamental_Algorithms"
   ],
   "metadata": {}
  },
  {
   "cell_type": "markdown",
   "source": [
    "## Exercise 17.1\r\n",
    "\r\n",
    "Write the function `linearSearch1`, which takes in 2 parameters:\r\n",
    "\r\n",
    "1. a list of integers, `L`, \r\n",
    "2. a target integer, `t`. \r\n",
    "\r\n",
    "This function will return the index of any instance of `t` in `L`. If `t` does not exist in `L`, then the function will return `-1`. Your implementation should be based on the linear search algorithm."
   ],
   "metadata": {}
  },
  {
   "cell_type": "code",
   "execution_count": 3,
   "source": [
    "#YOUR_CODE_HERE"
   ],
   "outputs": [],
   "metadata": {}
  },
  {
   "cell_type": "markdown",
   "source": [
    "## Exercise 17.2\r\n",
    "\r\n",
    "Write the function `binarySearch1`, which takes in 2 parameters:\r\n",
    "\r\n",
    "1. a list of integers, `L`, which is sorted in ascending order  and \r\n",
    "2. a target integer, `t`. \r\n",
    "\r\n",
    "This function will return the index of any instance of `t` in `L`. If `t` does not exist in `L`, then the function will return `-1`. Your implementation should be based on the binary search algorithm."
   ],
   "metadata": {}
  },
  {
   "cell_type": "code",
   "execution_count": null,
   "source": [
    "#YOUR_CODE_HERE"
   ],
   "outputs": [],
   "metadata": {}
  },
  {
   "cell_type": "markdown",
   "source": [
    "## Exercise 17.3\r\n",
    "\r\n",
    "Write the function `binarySearch2`, which takes in 2 parameters: \r\n",
    "\r\n",
    "1. a list of integers, `L`, sorted in descending order, and \r\n",
    "2.  a target integer, `t`. \r\n",
    "\r\n",
    "This function will return the index of any instance of `t` in `L`. If `t` does not exist in `L`, then the function will return `-1`. Your implementation should be based on the binary search algorithm.\r\n"
   ],
   "metadata": {}
  },
  {
   "cell_type": "code",
   "execution_count": null,
   "source": [
    "#YOUR_CODE_HERE"
   ],
   "outputs": [],
   "metadata": {}
  },
  {
   "cell_type": "markdown",
   "source": [
    "## Exercise 17.4\r\n",
    "\r\n",
    "Write the function `linearSearch2`, which takes in 2 parameters: \r\n",
    "\r\n",
    "1. a list of integers, `L`, and \r\n",
    "2. a target integer, `t`. \r\n",
    "\r\n",
    "This function will return the index of any instance in `L` that is **just greater** than `t`.\r\n",
    "\r\n",
    "We define an element `t'` in `L` is “just greater” than `t` if `t'` is greater than `t`, but less than (or equals) to any other element in `L` that is greater than `t`. If such any element does not exist in `L`, then the function will return `-1`. Your implementation should be based on the linear search algorithm."
   ],
   "metadata": {}
  },
  {
   "cell_type": "code",
   "execution_count": 12,
   "source": [
    "#YOUR_CODE_HERE"
   ],
   "outputs": [],
   "metadata": {}
  },
  {
   "cell_type": "markdown",
   "source": [
    "## Exercise 17.5\r\n",
    "\r\n",
    "Write the function `linearSearch3`, which takes in 2 parameters: \r\n",
    "\r\n",
    "1. a list of integers, `L`, and \r\n",
    "2. a target integer, `t`. \r\n",
    "\r\n",
    "This function will return the index of any instance in `L` that is **just less** than `t`.\r\n",
    "\r\n",
    "We define an element `t'` in `L` is “just less” than `t` if `t'` is less than `t`, but greater than (or equals) to any other element in `L` that is greater than `t`. If such any element does not exist in `L`, then the function will return `-1`. Your implementation should be based on the linear search algorithm."
   ],
   "metadata": {}
  },
  {
   "cell_type": "code",
   "execution_count": null,
   "source": [
    "#YOUR_CODE_HERE"
   ],
   "outputs": [],
   "metadata": {}
  },
  {
   "cell_type": "markdown",
   "source": [
    "## Exercise 17.6\r\n",
    "\r\n",
    "The text file `DATA.TXT` contains student test scores. Each line of the file scores the results of a single student, and has the following format:\r\n",
    "\r\n",
    ">```python\r\n",
    "><student name>,<test score 1>,<test score 2>,<test score 3>,<test score 4>\r\n",
    ">```\t\r\n",
    "\r\n",
    "Here, <student name> is a string of letters, and each <test score i> corresponds to an integer.\r\n",
    "\r\n",
    "The maximum values for the test scores are as follows.\r\n",
    "- Test score 1 and 2: 50\r\n",
    "- Test score 3 and 4: 100\r\n",
    "\t\t\r\n",
    "The overall score for each student may be calculated by using the following weights:\r\n",
    "- Test score 1: 10%\r\n",
    "- Test score 2: 15%\r\n",
    "- Test score 3: 25%\r\n",
    "- Test score 4: 50%\r\n",
    "\r\n",
    "Write a script that will perform the following.\r\n",
    "\r\n",
    "1. Repeatedly ask the user if they wish to perform a search. If they reply no, the script terminates, else the script continues.\r\n",
    "\r\n",
    "2.  Asks the user to input one of the following search categories:\r\n",
    "\t- Overall score\r\n",
    "\t- Test score 1\r\n",
    "\t- Test score 2\r\n",
    "\t- Test score 3\r\n",
    "\t- Test score 4\r\n",
    "\r\n",
    "3. Asks the user to input a search parameter (i.e., the score that they wish to search for).\r\n",
    "\r\n",
    "4. Prints ALL the names of students that satisfy the search criteria. Note that you must implement an augmented version of linear search to perform this functionality. \r\n",
    "\r\n",
    "5. The script should then continue to the main loop in 1.\r\n",
    "\r\n",
    "Your implementation must include all necessary exception handling.\r\n"
   ],
   "metadata": {}
  },
  {
   "cell_type": "code",
   "execution_count": null,
   "source": [
    "#YOUR_CODE_HERE"
   ],
   "outputs": [],
   "metadata": {}
  },
  {
   "cell_type": "markdown",
   "source": [
    "## Exercise 17.7\r\n",
    "\r\n",
    "Design an appropriate set of test cases to test if an implementation of a sorting algorithm (that sorts a list of integers). (Note, you should recall the 3 categories of test cases, and implement sufficient test cases for each.)"
   ],
   "metadata": {}
  },
  {
   "cell_type": "code",
   "execution_count": null,
   "source": [
    "#YOUR_CODE_HERE"
   ],
   "outputs": [],
   "metadata": {}
  },
  {
   "cell_type": "markdown",
   "source": [
    "## Exercise 17.8\r\n",
    "\r\n",
    "Given a list of floating point values, `L`. Write the code to output:\r\n",
    "- The Minimum Value\r\n",
    "- The First Quartile Value\r\n",
    "- The Median Value\r\n",
    "- The Third Quartile Value\r\n",
    "- The Maximum Value\r\n",
    "\r\n",
    "You must implement the Quicksort algorithm to perform the necessary sorting.\r\n"
   ],
   "metadata": {}
  },
  {
   "cell_type": "code",
   "execution_count": null,
   "source": [
    "#YOUR_CODE_HERE"
   ],
   "outputs": [],
   "metadata": {}
  },
  {
   "cell_type": "markdown",
   "source": [
    "## Exercise 17.9 2015/A Level/P1/Q1 H2 Computing\r\n",
    "\r\n",
    "The file `ADMISSIONS—DATA.TXT` contains the daily total admissions to a theme park over a period of 50 days.\r\n",
    "\r\n",
    "The task is to read the numbers from the file and display a sorted list.\r\n",
    "\r\n",
    "You will program two different sort algorithms:\r\n",
    "\r\n",
    "- A bubble sort.\r\n",
    "- Either a quick sort or an insertion sort but not both.\r\n",
    "\r\n",
    "### Task 1\r\n",
    "Write code for a procedure to display a menu with the following options:\r\n",
    "\r\n",
    ">```python\r\n",
    ">1. Read file data\r\n",
    ">2. Bubble sort\r\n",
    ">3. Quick sort / Insertion sort\r\n",
    ">4. End\r\n",
    ">```\r\n",
    "\r\n",
    "### Task 2\r\n",
    "Write the program code for a procedure to implement menu option 1.\r\n",
    "\r\n",
    "#### Evidence 1\r\n",
    "- The program code for the menu.\r\n",
    "- Program code for menu option 1.\r\n",
    "\r\n",
    "<div style=\"text-align: right\">[5]</div>\r\n",
    "\r\n",
    "Options 2 and 3 will sort and display the sorted data.\r\n",
    "\r\n",
    "The algorithm for a bubble sort is given in file `BUBBLE.TXT`.\r\n",
    "Write program code as a procedure to implement the bubble sort.\r\n",
    "\r\n",
    "#### Evidence 2\r\n",
    "\r\n",
    ". The bubble sort code procedure.\r\n",
    "<div style=\"text-align: right\">[1]</div>\r\n",
    "\r\n",
    "Write program code as a procedure to implement the quick sort or the insertion sort.\r\n",
    "\r\n",
    "#### Evidence 3\r\n",
    "\r\n",
    "- Indicate the sort method used.\r\n",
    "- The program for the sort method used.\r\n",
    "\r\n",
    "<div style=\"text-align: right\">[4]</div>\r\n"
   ],
   "metadata": {}
  },
  {
   "cell_type": "code",
   "execution_count": null,
   "source": [
    "#YOUR_CODE_HERE"
   ],
   "outputs": [],
   "metadata": {}
  },
  {
   "cell_type": "markdown",
   "source": [
    "### Task 3\n",
    "Additional code is to be written for each sort procedure. The sort methods will count and display the number of comparisons made in completing the sort process. This will provide an indicator of the efficiency of each algorithm.\n",
    "\n",
    "Write the additional code to count and display the number of comparisons made for each sort method.\n",
    "\n",
    "#### Evidence 4\n",
    "- The output from menu option 2. \n",
    "<div style=\"text-align: right\">[2]</div>\n",
    "\n",
    "#### Evidence 5\n",
    "- The output from menu option 3. \n",
    "<div style=\"text-align: right\">[2]</div>"
   ],
   "metadata": {}
  },
  {
   "cell_type": "code",
   "execution_count": null,
   "source": [
    "#YOUR_CODE_HERE"
   ],
   "outputs": [],
   "metadata": {}
  },
  {
   "cell_type": "markdown",
   "source": [
    "## Exercise 17.10 2018/A Level/P1/Q2 H2 Computing\r\n",
    "\r\n",
    "The following algorithm is an implementation of a quick sort that operates on an array `Scores`. \r\n",
    "\r\n",
    "This algorithm assumes that the first element of an array is the zeroth element. This means that `Scores[0]` is the first element in the array.\r\n",
    "\r\n",
    "This pseudocode is available in the file `QUICKSORT.TXT`\r\n",
    "\r\n",
    ">```\r\n",
    ">FUNCTION QuickSort(Scores)\r\n",
    ">    QuickSortHelper(Scores, 0, LENGTH(Scores) — 1)\r\n",
    ">    RETURN Scores\r\n",
    ">ENDFUNCTION\r\n",
    ">\r\n",
    ">FUNCTION QuickSortHelper(Scores, First, Last)\r\n",
    ">    IF First < Last\r\n",
    ">        THEN \r\n",
    ">            SplitPoint ← PartitioniScores, First, Last)\r\n",
    ">            QuickSortHelper(Scores, First, SplitPoint — 1)\r\n",
    ">            QuickSortHelper(Scores, SplitPoint + 1, Last)\r\n",
    ">    ENDIF\r\n",
    ">    RETURN Scores\r\n",
    ">ENDFUNCTION\r\n",
    ">\r\n",
    ">FUNCTION Partition(Scores, First, Last)\r\n",
    ">    PivotValue ← Scores[First]\r\n",
    ">    LeftMark ← First + 1\r\n",
    ">    RightMark ← Last\r\n",
    ">    Done ← FALSE\r\n",
    ">    WHILE (Done = FALSE)\r\n",
    ">        WHILE LeftMark <= RightMark AND Scores[LeftMark] <= PivotValue\r\n",
    ">            LeftMark ← LeftMark + 1\r\n",
    ">        ENDWHILE\r\n",
    ">            WHILE ScoresiRightMark] >= PivotValue AND RightMark >= LeftMark\r\n",
    ">            RightMark ← RightMark — 1\r\n",
    ">        ENDWHILE\r\n",
    ">        IF RightMark < LeftMark\r\n",
    ">            THEN\r\n",
    ">                Done ← TRUE\r\n",
    ">        ELSE\r\n",
    ">            Temp ← Scores[LeftMark]\r\n",
    ">            Scores[LeftMark] ← Scores[RightMark]\r\n",
    ">            ScoresIRightMark] ← Temp\r\n",
    ">        ENDIF\r\n",
    ">    ENDWHILE\r\n",
    ">\r\n",
    ">    ##<swap Scores[First] with Scores[RightMark]>##\r\n",
    ">    \r\n",
    ">    RETURN RightMark\r\n",
    ">ENDFUNCTION\r\n",
    ">```\r\n",
    "\r\n",
    "### Task 1\r\n",
    "Write program code to implement this algorithm. Ensure that you add the missing code to complete the algorithm. The area of missing code is highlighted as:\r\n",
    "\r\n",
    ">```\r\n",
    "> ##<swap Scores [First] with Scores [RightMark]>##\r\n",
    ">```\r\n",
    "\r\n",
    "Copy the sample data available in the `SCORES.TXT` file. Paste this into your programming code to set up the data to be sorted.\r\n",
    "\r\n",
    "#### Evidence 4\r\n",
    "Your program code. \r\n",
    "\r\n",
    "<div style=\"text-align: right\">[12]</div>"
   ],
   "metadata": {}
  },
  {
   "cell_type": "code",
   "execution_count": null,
   "source": [
    "#YOUR_CODE_HERE"
   ],
   "outputs": [],
   "metadata": {}
  },
  {
   "cell_type": "markdown",
   "source": [
    "### Task 2\n",
    "Add a function to your code to output `Scores`. Call this function before and after the operation of the quick sort so that the unsorted and sorted data is displayed.\n",
    "\n",
    "#### Evidence 5\n",
    "Your program code. \n",
    "\n",
    "<div style=\"text-align: right\">[2]</div>\n",
    "\n",
    "#### Evidence 6\n",
    "Screenshot showing the unsorted and sorted Scores data. \n",
    "\n",
    "<div style=\"text-align: right\">[1]</div>"
   ],
   "metadata": {}
  },
  {
   "cell_type": "code",
   "execution_count": null,
   "source": [
    "#YOUR_CODE_HERE"
   ],
   "outputs": [],
   "metadata": {}
  }
 ],
 "metadata": {
  "interpreter": {
   "hash": "dcacb0086e9a4f4eabd41c33bf4faac5ea0a3337ed3f5eff0680afa930572c04"
  },
  "kernelspec": {
   "display_name": "Python 3.9.1 64-bit",
   "name": "python3"
  },
  "language_info": {
   "name": "python",
   "version": ""
  },
  "orig_nbformat": 2
 },
 "nbformat": 4,
 "nbformat_minor": 2
}