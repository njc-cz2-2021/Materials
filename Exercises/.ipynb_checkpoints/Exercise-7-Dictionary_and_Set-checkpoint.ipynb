{
 "cells": [
  {
   "cell_type": "markdown",
   "metadata": {},
   "source": [
    "# Exercise 7\n",
    "\n",
    "Related Notes:\n",
    "- Fundamentals_3 Data Structures\n",
    "- Fundamentals_4 Functions\n",
    "\n",
    "For questions 7.1, 7.2 and 7.6, you are to implement both :\n",
    "- an **iterative version**, and \n",
    "- a **recursive version** \n",
    "of the function specified.\n",
    "\n",
    "Please decide on your own function name.\n"
   ]
  },
  {
   "cell_type": "markdown",
   "metadata": {},
   "source": [
    "## Exercise 7.1\n",
    "\n",
    "Write a function that takes in a positive integer, $n$, and returns `True` if $n$ is a prime number and `False` if it's not.\n",
    "\n",
    "**Example Interaction**\n",
    ">```\n",
    ">your_function(7)\n",
    ">True\n",
    ">your_function(9)\n",
    ">False\n",
    ">```"
   ]
  },
  {
   "cell_type": "code",
   "execution_count": null,
   "metadata": {},
   "outputs": [],
   "source": [
    "#YOUR CODE HERE"
   ]
  },
  {
   "cell_type": "markdown",
   "metadata": {},
   "source": [
    "## Exercise 7.2\n",
    "\n",
    "Write a function that takes in a positive integer $n$, and prints outs the digits in English word form. For example, when given as input: `3214`, the function should print: `three two one four` in one line.\n",
    "\n",
    "**Example Interaction**\n",
    ">```\n",
    ">your_function(3214)\n",
    ">three two one four\n",
    ">```"
   ]
  },
  {
   "cell_type": "code",
   "execution_count": null,
   "metadata": {},
   "outputs": [],
   "source": [
    "#YOUR CODE HERE"
   ]
  },
  {
   "cell_type": "markdown",
   "metadata": {},
   "source": [
    "## Exercise 7.3\n",
    "\n",
    "There are 5 usernames with their respective password. \n",
    "* user1: password1\n",
    "* user2: password2\n",
    "* user3: password3\n",
    "\n",
    "Implement a script such that:\n",
    "\n",
    "1. Use a suitable data structure to store usernames and passwords,\n",
    "2. User enters username and password\n",
    "3. Check user username and password\n",
    "    * If username does not exists, print \"User not found\"\n",
    "    * if username exists, but password doesn't match, print \"Wrong password\"\n",
    "    * If both username and password match, print \"You are in\"\n",
    "\n",
    "\n",
    "**Example Interaction**\n",
    ">```\n",
    ">Enter username: user10\n",
    ">Enter password: pass10\n",
    ">User not found\n",
    ">\n",
    ">Enter username: user1\n",
    ">Enter password: pass1\n",
    ">Wrong password\n",
    ">\n",
    ">Enter username: user1\n",
    ">Enter password: password1\n",
    ">You are in\n",
    ">```"
   ]
  },
  {
   "cell_type": "code",
   "execution_count": null,
   "metadata": {},
   "outputs": [],
   "source": [
    "#YOUR CODE HERE"
   ]
  },
  {
   "cell_type": "markdown",
   "metadata": {},
   "source": [
    "## Exercise 7.4\n",
    "\n",
    "The winning number of Toto this week is `7, 20, 29, 41, 47, 49`. Implement a script to help user check result. \n",
    "* Define a function `match_count(win_nums, your_nums)` which returns the number of matched numbers. It takes in 2 lists as parameters, `win_nums` and `your_num`. The `winning_nums` contains winnning numbers, and `your_nums` contains number enters by user.\n",
    "* Ask user to input a list of numbers separated by space ` `.\n",
    "\n",
    "You probably need to use the `str.split()` method for this question. Use `help(str.split)` or search online. \n",
    "\n",
    "**Example Interaction**\n",
    ">```\n",
    ">Enter your Toto numbers separated by space: \n",
    ">1 7 20 29 41 47 49 50\n",
    ">Count of matched numbers:  6\n",
    ">```"
   ]
  },
  {
   "cell_type": "code",
   "execution_count": null,
   "metadata": {},
   "outputs": [],
   "source": [
    "#YOUR CODE HERE"
   ]
  },
  {
   "cell_type": "markdown",
   "metadata": {},
   "source": [
    "## Exercise 7.5 Greatest Common Divisor\n",
    "\n",
    "Let $a$ be an integer. A **divisor** of $a$, also called a **factor** of $a$ is an integer $r$ such that there exists an integer $m$ such that $mr=a$. For example, if $a=20$, then $2$ and $5$ are both divisors of $a$ as $2\\times 10=20$ and $5 \\times 4=20$.\n",
    "\n",
    "Write a function that takes in a positive integer $n$, and return a list of all positive integers that is the divisor of $n$.\n",
    "\n",
    "**Example Interaction**\n",
    ">```\n",
    ">your_function(20)\n",
    ">[1,2,4,5,10,20]\n",
    ">```\n",
    "\n",
    "Let $a$ and $b$ be positive integers. A **common divisor** of $a$ and $b$ is a positive integer $r$ such that there exists positive integers $m_1,m_2$ such that $a=m_1*r$ and $b=m_2*r$. The highest of such integer is called the **greatest of common divisor of $a$ and $b$**, denoted as $\\gcd(a,b)$.\n",
    "\n",
    "Using the function you have defined previously, Write a function `gcd` that takes in 2 positive integer $a$ and $b$, and return the greatest common divisor of $a$ and $b$. \n",
    "\n",
    "**Example Interaction**\n",
    ">```\n",
    ">gcd(4,10)\n",
    ">2\n",
    ">```"
   ]
  },
  {
   "cell_type": "code",
   "execution_count": null,
   "metadata": {},
   "outputs": [],
   "source": [
    "#YOUR CODE HERE"
   ]
  },
  {
   "cell_type": "markdown",
   "metadata": {},
   "source": [
    "## Exercise 7.6 Euclidean Algorithm\n",
    "\n",
    "A more efficient method to compute the greatest common divisor of two integers $a$ and $b$ is by using the Euclidean algorithm. It is based on the principle that the greatest common divisor of two numbers does not change if the larger number is replaced by its difference with the smaller number. For example,\n",
    "\n",
    "$$\n",
    "\\begin{align*}\n",
    "\\gcd(252,105)&=21\\\\ \n",
    "&=\\gcd(252-2(105)=42,105)\\\\\n",
    "&=\\gcd(42,105-2(42)=21)\\\\\n",
    "&=\\gcd(42,21)\n",
    "\\end{align*}\n",
    "$$\n",
    "\n",
    "In particular, assume $a>b$, then by Division Algorithm, there exists $q\\in \\mathbb{Z}$ such that $a=qb+r$, where $0\\leq r<b$. Then, \n",
    "$$\n",
    "\\begin{align*}\n",
    "\\gcd(a,b)&=\\gcd(a-qb,b)\\\\\n",
    "&=\\gcd(r,b).\n",
    "\\end{align*}\n",
    "$$\n",
    "\n",
    "Write a function that takes in 2 positive integer $a$ and $b$, and return the greatest common divisor of $a$ and $b$.\n",
    "\n",
    "**Example Interaction**\n",
    ">```\n",
    ">your_function(4,10)\n",
    ">2\n",
    ">```"
   ]
  },
  {
   "cell_type": "code",
   "execution_count": null,
   "metadata": {},
   "outputs": [],
   "source": [
    "#YOUR CODE HERE"
   ]
  },
  {
   "cell_type": "markdown",
   "metadata": {},
   "source": [
    "## Exercise 7.7\n",
    "Write a function that takes in a list of positive integers, $N$, and returns the greatest common divisor (i.e., the highest common factor) of all integers in $N$."
   ]
  },
  {
   "cell_type": "code",
   "execution_count": null,
   "metadata": {},
   "outputs": [],
   "source": [
    "#YOUR CODE HERE"
   ]
  }
 ],
 "metadata": {
  "kernelspec": {
   "display_name": "Python 3",
   "language": "python",
   "name": "python3"
  },
  "language_info": {
   "codemirror_mode": {
    "name": "ipython",
    "version": 3
   },
   "file_extension": ".py",
   "mimetype": "text/x-python",
   "name": "python",
   "nbconvert_exporter": "python",
   "pygments_lexer": "ipython3",
   "version": "3.7.6"
  }
 },
 "nbformat": 4,
 "nbformat_minor": 2
}
