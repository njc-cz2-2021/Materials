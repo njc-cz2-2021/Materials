{
 "cells": [
  {
   "cell_type": "markdown",
   "metadata": {},
   "source": [
    "# Exercise 9\n",
    "\n",
    "Related Notes:\n",
    "- Fundamentals_6 Program Testing and Data Validation"
   ]
  },
  {
   "cell_type": "markdown",
   "metadata": {},
   "source": [
    "## Exercise 9.1\n",
    "\n",
    "Consider the code in the code cell below.\n",
    "\n",
    "Clearly, there is a bug in this code. Identify the bug and then use a `try-except` statement to “fix” the code so that it works as intended. (Note that you may not utilise `else` or `finally` in the `try-except` statement.)."
   ]
  },
  {
   "cell_type": "code",
   "execution_count": null,
   "metadata": {},
   "outputs": [],
   "source": [
    "numbers = [x for x in range(1000)]\n",
    "i = 0\n",
    "while True:\n",
    "    print(str(numbers[i]))\n",
    "\ti += 1"
   ]
  },
  {
   "cell_type": "code",
   "execution_count": 3,
   "metadata": {},
   "outputs": [],
   "source": [
    "#YOUR_CODE_HERE"
   ]
  },
  {
   "cell_type": "markdown",
   "metadata": {},
   "source": [
    "## Exercise 9.2\n",
    "\n",
    "Consider the code in the code cell below.\n",
    "\n",
    "Once again, there is a problem with this code. Use the `try-except` statement to ensure the code does not cause a runtime error. (Note: you may not change the way name is generated or used.)"
   ]
  },
  {
   "cell_type": "code",
   "execution_count": null,
   "metadata": {},
   "outputs": [],
   "source": [
    "from random import randint\n",
    "name = \"\"\n",
    "for i in range(100):\n",
    "\tname = name + str(randint(0, 9))\n",
    "\tname = name + \".txt\"\n",
    "\tfileHandle = open(name)\n",
    "\tdata = f.read()\n",
    "\tprint(data)\n",
    "\tf.close()"
   ]
  },
  {
   "cell_type": "code",
   "execution_count": null,
   "metadata": {},
   "outputs": [],
   "source": [
    "#YOUR_CODE_HERE"
   ]
  },
  {
   "cell_type": "markdown",
   "metadata": {},
   "source": [
    "## Exercise 9.3\n",
    "\n",
    "Write code that continually asks for rational number input from the user (until the string `exit` is inputTED). \n",
    "\n",
    "For each value entered, (if it is not the string `exit`) utilise exception handling to verify that the inputs are indeed rational numbers before saving them to the file called `RATIONALS.TXT`. (Note that your code should open, write, and close the file with each entry. Also comment why this may be a more prudent course of action.)\n",
    "\n"
   ]
  },
  {
   "cell_type": "code",
   "execution_count": null,
   "metadata": {},
   "outputs": [],
   "source": [
    "#YOUR_CODE_HERE"
   ]
  },
  {
   "cell_type": "markdown",
   "metadata": {},
   "source": [
    "## Exercise 9.4\n",
    "\n",
    "The file `WORDS.TXT` under the folder `resources` contains a list of single word computing terms used in a textbook.\n",
    "\t\n",
    "Each entry has the following format:\n",
    ">```python\n",
    "><computing term>\n",
    "><number>\n",
    ">```\n",
    "\n",
    "One of the file entries (in both files) is:\n",
    ">```python\n",
    ">program\t\n",
    ">52\n",
    ">```\n",
    "\t\n",
    "This means that after a complete scan of the textbook the word `program` was found 52 times.\n",
    "\t\n",
    "By utilising the `try-except` statement, write program code to find and output the term with the highest number of occurrences.\n",
    "\n"
   ]
  },
  {
   "cell_type": "code",
   "execution_count": 12,
   "metadata": {},
   "outputs": [],
   "source": [
    "#YOUR_CODE_HERE"
   ]
  }
 ],
 "metadata": {
  "kernelspec": {
   "display_name": "Python 3",
   "language": "python",
   "name": "python3"
  },
  "language_info": {
   "codemirror_mode": {
    "name": "ipython",
    "version": 3
   },
   "file_extension": ".py",
   "mimetype": "text/x-python",
   "name": "python",
   "nbconvert_exporter": "python",
   "pygments_lexer": "ipython3",
   "version": "3.7.6"
  }
 },
 "nbformat": 4,
 "nbformat_minor": 2
}
