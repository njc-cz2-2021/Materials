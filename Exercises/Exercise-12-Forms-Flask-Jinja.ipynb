{
 "cells": [
  {
   "cell_type": "markdown",
   "metadata": {},
   "source": [
    "# Exercise 12\n",
    "\n",
    "Related Notes:\n",
    "- Web_7_HTML_And_CSS"
   ]
  },
  {
   "source": [
    "## Exercise 12.1\n",
    "\n",
    "<center>\n",
    "<img src=\"./img/web-form-1.png\"><br>\n",
    "</center>\n",
    "\n",
    "1. Create the html elements for the form shown in the figure above, using the following elements\n",
    "- 1 `form` container\n",
    "- 3 `labels`\n",
    "- 3 `input` elements of type `text`\n",
    "- 1 `input` element of type `submit`\n",
    "\n",
    "    Name your file `form1.html`.\n",
    "\n",
    "2. Use external CSS to create a layout such that the form elements are centralised and a rounded-border is used to group the elements visually. You can either use the `table` element to create the grid layout or the flexbox method. Name your CSS file `form1.css`."
   ],
   "cell_type": "markdown",
   "metadata": {}
  },
  {
   "source": [
    "## Exercise 12.2\n",
    "\n",
    "Create the form shown below, which will be used to enter product information for your web app.\n",
    "- Use the `textarea` element for Product Description. This allows user to enter multi-line text.\n",
    "- Use `input type=\"file\"` for the Product image. The product image is an image file that you can select from your local device to be uploaded to the web app.\n",
    "- For the submit button, instead of using an `input` element of `type=\"submit\"` , use a `button` element instead of type=\"submit\" so that you can change the text of the button.\n",
    "\n",
    "<center>\n",
    "<img src=\"./img/web-form-2.png\"><br>\n",
    "</center>"
   ],
   "cell_type": "markdown",
   "metadata": {}
  },
  {
   "source": [
    "## Exercise 12.3\n",
    "\n",
    "1.\tMake a new *folder* to house your Flask project. Let’s call it `WebForm1`, which is our first project.\n",
    "\n",
    "2.\tInside `WebForm1`, add a new *file*. Call it `server.py`.\n",
    "\n",
    "3.\tAdd two subfolders under `WebForm1` called `templates` and `static`.\n",
    ">```\n",
    ">WebForm1\n",
    ">| server.py\n",
    ">└─templates\n",
    ">└─static\n",
    ">\n",
    ">```\n",
    "4.\tCopy your `form1.html` ( or whatever name you use) to the `templates` folder. (`form1.html` was created from the previous question, 12.1)\n",
    "\n",
    "5.\tCopy your `form1.css` (or whatever name you use) to the `static` folder\n",
    ">```\n",
    ">WebForm1\n",
    ">| server.py\n",
    ">└─templates\n",
    ">|  |form1.html\n",
    ">└─static\n",
    ">   |form1.css\n",
    ">``` \n",
    "\n",
    "6.\tModify your `form1.html` so that \n",
    "    - the external stylesheet path can be reference from the new location that you copy it to.\n",
    "    - the form is submitted to the URL `/submit` and use the `POST` method to submit the form. \n",
    "\n",
    "7.\tIn the `server.py` file enter the following code:\n"
   ],
   "cell_type": "markdown",
   "metadata": {}
  },
  {
   "cell_type": "code",
   "execution_count": null,
   "metadata": {},
   "outputs": [],
   "source": [
    "from flask import Flask\n",
    "from flask import render_template\n",
    "from flask import request\n",
    "\n",
    "app=Flask(__name__)\n",
    "\n",
    "@app.route(\"/\") #decorator function\n",
    "def root():\n",
    "    return render_template(\"form1.html\")\n",
    "\n",
    "@app.route(\"/submit\",methods=[\"POST\"])\n",
    "def calculate():\n",
    "    output= 'Hello Worlds'\n",
    "    return output.render\n",
    "\n",
    "app.run()"
   ]
  },
  {
   "source": [
    "8.\tRun the python program. (from IDLE, VS Code or Jupyter Notebook)\n",
    "\n",
    "9.\tOpen the Chrome web browser and access the Web Application via the URL http://localhost:5000\n",
    "\n",
    "10.\tEnter data for the Name, Email and Password and submit the form.\n",
    "\n",
    "11.\tYou should see \"Hello World\" being displayed in the browser.\n",
    "\n",
    "12.\tModify the code so that the message \"Hello, `<name>`. Your email address is `<email>`\" is displayed instead, where `<name>` is the name and `<email>` is the email that you entered in step 9.\n",
    "\n",
    "**NOTE:\n",
    "When a form is posted to the web app, you will be able to access the data from the form using the a dictionary object via `request.form`. The keys are the values that you defined for the name attributes of the input element.*"
   ],
   "cell_type": "markdown",
   "metadata": {}
  },
  {
   "source": [
    "## Exercise 12.4\n",
    "\n",
    "In this exercise, you will create an online grade calculator to calculate the final score from the results of 2 tests taken. \n",
    "- The total marks for each of the test is 100. \n",
    "- Each test has a weight in percentage. The sum of the weightage of both tests must total up to 100%. (No need to implement validation check)\n",
    "- The final score is calculated as follows: \n",
    "> `mark1*weight1 + mark2*weight2`\n",
    "\n",
    "### Part 1: Creating the Web Form\n",
    "\n",
    "1.\tCreate a form for user to input the marks (`mark1`and `mark2`) and weightages (`weight1` and `weight2`) for the tests.\n",
    "2.\tThe form should use the `POST` method to submit the form data to the backend server for processing\n",
    "3.\tThe form should look similar to this:\n",
    "\n",
    "<center>\n",
    "<img src=\"./img/web-form-3.png\"><br>\n",
    "</center>\n",
    "\n",
    "### Part 2: Implement the Flask backend code\n",
    "\n",
    "4.\tImplement the code to perform the calculation of the final score as described above.\n",
    "5.\tThe final score result should be displayed in the browser similar to the following example:\n",
    "\n",
    ">Weight 1: 60.0, Mark 1: 85.0<br>\n",
    ">Weight 2: 40.0, Mark 2: 55.0<br>\n",
    ">**Score: 73.0**\n",
    "\n",
    "### Part 3: Using a jinja template for the results\n",
    "\n",
    "In Part 2, to display the result, we have to write the html code in a python string and then return the string. This will be very tedious when we need to return more complex html code. Instead, we should create a template that contains html code, then have the template fill in the data as necessary!\n",
    "\n",
    "A jinja template file can contain the regular html code and jinja expressions.\n",
    "\n",
    "Jinja expressions are encapsulated within `{{ }}` and contain python-like expressions. **But they are not python code.** \n",
    "\n",
    "6.\tCreate a html file named `results.html` in the `templates` folder.\n",
    "7.\tAdd the following html code inside the `<body>` element\n"
   ],
   "cell_type": "markdown",
   "metadata": {}
  },
  {
   "cell_type": "code",
   "execution_count": null,
   "metadata": {},
   "outputs": [],
   "source": [
    "<body>\n",
    "    <div>\n",
    "        Mark 1:{{form_jinja[\"mark1\"]}}, Weight 1:{{form_jinja['weight1']}}\n",
    "    </div>\n",
    "    <div>\n",
    "        Mark 2:{{form_jinja[\"mark1\"]}}, Weight 2:{{form_jinja['weight1']}}\n",
    "    </div>\n",
    "    <div>\n",
    "        Score: {{score_jinja}}\n",
    "    </div>\n",
    "</body>"
   ]
  },
  {
   "source": [
    "8.\tThe jinja expressions in the code above contain the variables `form_jinja` and `score_jinja`. They are passed to the jinja templates by using the `render_template` function call as follows:"
   ],
   "cell_type": "markdown",
   "metadata": {}
  },
  {
   "cell_type": "code",
   "execution_count": null,
   "metadata": {},
   "outputs": [],
   "source": [
    "w1=float(request.form['weight1'])\n",
    "m1=float(request.form['mark1'])\n",
    "w2=float(request.form['weight2'])\n",
    "m2=float(request.form['mark2'])\n",
    "\n",
    "score = m1*w1+m2*w2\n",
    "\n",
    "return render_template('results.html', form_jinja=request.form, score_jinja=score)"
   ]
  },
  {
   "source": [
    "9.\tThe display should like similar to this:\n",
    "\n",
    "\n",
    ">Mark 1: 85, Weight 1: 60<br>\n",
    ">Mark 2: 55, Weight 2: 40<br>\n",
    ">**Score: 73.0**"
   ],
   "cell_type": "markdown",
   "metadata": {}
  },
  {
   "source": [
    "## Exercise 12.5\n",
    "\n",
    "1.\tMake a new folder to house your Flask project. Let’s call it `ProductsApp`.\n",
    "\n",
    "2.\tAdd two subfolders under `ProductsApp` called `templates` and `static`.\n",
    "\n",
    "3.\tIn `static`, create a folder called `images`.\n",
    " \n",
    "4.\tDownload `products.html` and `products.css` from the folder `resources`.\n",
    "\n",
    "5.\tCopy `products.html` to the `templates` folder.\n",
    "\n",
    "6.\tCopy `products.css` to the `static` folder.\n",
    "\n",
    "7.\tCopy all your image files for products that you used in the previous lab, to the images folder.\n",
    "\n",
    "8.\tCreate a text file named `products.txt`. Each line of text in the file will contain the product name, product description, product price and the name of the product image file name seperated by a comma. Use the list of products tand images you have created previously. You should have at least 4 products in the file.\n",
    ">```html\n",
    ">Example:\n",
    ">\n",
    ">Baby Rockie,Outdoor Backpack,42.00,backpack.png\n",
    ">Zenon EOS6D,SLR Pro Camera,1392.00,camera.png\n",
    ">Zenva glasses,A classical design,342.00,glasses.jpg\n",
    ">Smart Band,4/7 heart rate monitoring,365.00,watch.png\n",
    ">```\n",
    "\n",
    "9.\tCreate a python file named `server.py` under the `ProductsAp`p folder and complete the program as follows:\n",
    "    - Read the contents of `products.txt` into a 2-D list named `products_list` . Each row will contain the details of a product. Example :\n",
    "    >```python\n",
    "    >[[\"Baby Rockie\",\"Outdoor Backpack\",\"42.00\", \"backpack.png\"],\n",
    "    > [\"Zenon EOS6D\",\"Zenon EOS6D\",\"1392.00\",\"camera.png\"],\n",
    "    > :\n",
    "    >]\n",
    "    >```\n",
    "    - Invoke the render_template function as follows\n",
    "        >```python\n",
    "        > render_template(\"products.html\",products=products_list)\n",
    "        >```\n",
    "10.\tModify the `products.html` by adding jinja expressions as follows, fill in the missing code:\n",
    "\n",
    " \n",
    "\n"
   ],
   "cell_type": "markdown",
   "metadata": {}
  },
  {
   "cell_type": "code",
   "execution_count": null,
   "metadata": {},
   "outputs": [],
   "source": [
    "<div class=\"product-list\">\n",
    "    {% for line in products %}\n",
    "    <div class=\"product\">\n",
    "        <div class=\"product-image\">\n",
    "            <image src=HERE_BE_MISSING_CODE>\n",
    "        </div>\n",
    "        <div class=\"product-text\">\n",
    "            <div class=\"product-name\">{{HERE_BE_MISSING_CODE}}</div>\n",
    "            <div class=\"product-description\">{{HERE_BE_MISSING_CODE}}</div>\n",
    "            <div class=\"product-price\">{{HERE_BE_MISSING_CODE}}</div>\n",
    "        </div>\n",
    "    </div>\n",
    "    {% endfor %}"
   ]
  },
  {
   "source": [
    "When Flask parse the code above, for every line in products it will produce a copy of the product container with the jinja expression will be replaced by the values in their respective columns.\n",
    "\n",
    "11.\tTest the your web app. When you add, update or delete the contents of `products.txt`, your web app will render the contents appropiately. The web app now generates dyamic content."
   ],
   "cell_type": "markdown",
   "metadata": {}
  },
  {
   "source": [
    "## Exercise 12.6\n",
    "\n",
    "The objective of this exercise is to create a new product in the product catalogue application by using a web form to enter the product data and upload the product image file.\n",
    "\n",
    "### Task : Complete the add product web form.\n",
    "\n",
    "1.\tDownload `product_frm.html` from `resources` folder.\n",
    "\n",
    "2.\tThe form contains an internal css definitions.\n",
    "\n",
    "3.\tComplete the form as shown in the figure below by adding the appropiate html elements to `product_frm.html`.\n",
    "\n",
    "    <center>\n",
    "    <img src=\"./img/web-form-4.png\"><br>\n",
    "    </center>\n",
    " \n",
    "4.\tFor uploading the product image, use the `<input type=\"file\">` element\n",
    "`<input type=\"file\" id=\"image\" name=\"image\">`. This will allow you to select a file from your computer for upload to the web app.\n",
    "\n",
    "5.\tCreate a view function in `server.py` to render the form. The URL to access the web form is `/product`\n",
    "\n",
    "6.\tTest that you can access the web form from the web browser using a URL. ie http://localhost:5000/product\n",
    "\n",
    "7.\tIn the `product_frm.html`, identify the url that will be used to submit the form to the web app.\n",
    "\n",
    "8.\tIn `server.py`, create a function named `add_product` which will be invoked when the form is submitted.\n",
    "\n",
    "9.\tThe partial code for add_product is:\n"
   ],
   "cell_type": "markdown",
   "metadata": {}
  },
  {
   "cell_type": "code",
   "execution_count": null,
   "metadata": {},
   "outputs": [],
   "source": [
    "def add_product():\n",
    "    image_file_name=\"\"\n",
    "    #open products.txt\n",
    "    pass\n",
    "    #upload image file if the key \"image\" is in the request.files dictionary\n",
    "\n",
    "if \"image\" in request.files:\n",
    "     image_file = request.files[\"image\"]\n",
    "     image_file_name=image_file.filename\n",
    "     image_file.save(\"static/images/\"+image_file_name)\n",
    "\n",
    "    #write new product data to products.txt\n",
    "    pass\n",
    "\n",
    "    #close file handler\n",
    "    pass\n",
    "    return redirect(\"/\")"
   ]
  },
  {
   "source": [
    "10.\tAdd code to \n",
    "    - Open and close file\n",
    "    - Append a line to the `products.txt` file containing the data for the new product\n",
    "\n",
    "11.\tInstead of returning or rendering html content back to the web browser, the last line of the `add_product` function uses the redirect function to instruct the web browser to access the \"/\" URL.\n",
    "\n",
    "12.\tYou should see the new product that you have added, appearing at the landing page of the web app.\n",
    "\n",
    "NOTE: in the line `image_file_name=secure_filename(image_file.filename)`, `image_file` is a `file` object imilar to a python file object and `image_file.save( <SYSTEM_FILE_PATH>)` #ie c:/web/static/"
   ],
   "cell_type": "markdown",
   "metadata": {}
  }
 ],
 "metadata": {
  "kernelspec": {
   "display_name": "Python 3.9.1 64-bit",
   "metadata": {
    "interpreter": {
     "hash": "dcacb0086e9a4f4eabd41c33bf4faac5ea0a3337ed3f5eff0680afa930572c04"
    }
   },
   "name": "python3"
  },
  "language_info": {
   "codemirror_mode": {
    "name": "ipython",
    "version": 3
   },
   "file_extension": ".py",
   "mimetype": "text/x-python",
   "name": "python",
   "nbconvert_exporter": "python",
   "pygments_lexer": "ipython3",
   "version": "3.9.1-final"
  },
  "orig_nbformat": 2
 },
 "nbformat": 4,
 "nbformat_minor": 2
}